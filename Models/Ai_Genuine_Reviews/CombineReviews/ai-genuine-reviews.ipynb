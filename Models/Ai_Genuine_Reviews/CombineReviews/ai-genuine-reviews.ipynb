{
 "cells": [
  {
   "cell_type": "code",
   "execution_count": null,
   "id": "a8ea44fb",
   "metadata": {
    "_cell_guid": "b1076dfc-b9ad-4769-8c92-a6c4dae69d19",
    "_uuid": "8f2839f25d086af736a60e9eeb907d3b93b6e0e5",
    "execution": {
     "iopub.execute_input": "2025-06-18T05:10:54.813238Z",
     "iopub.status.busy": "2025-06-18T05:10:54.812934Z",
     "iopub.status.idle": "2025-06-18T05:14:33.769778Z",
     "shell.execute_reply": "2025-06-18T05:14:33.768774Z"
    },
    "papermill": {
     "duration": 218.968556,
     "end_time": "2025-06-18T05:14:33.778087",
     "exception": false,
     "start_time": "2025-06-18T05:10:54.809531",
     "status": "completed"
    },
    "tags": []
   },
   "outputs": [
    {
     "name": "stdout",
     "output_type": "stream",
     "text": [
      "Saved 99812 total reviews (49906 AI + 49906 genuine) to /kaggle/working/ai_and_matched_complex_genuine.csv\n"
     ]
    }
   ],
   "source": [
    "import os\n",
    "import glob\n",
    "import json\n",
    "import pandas as pd\n",
    "\n",
    "# 1) Input directories\n",
    "ai_dir      = \"C:/Users/indur/OneDrive - University of Westminster/GitHub/FYP_Project/Models/Ai_Genuine_Reviews/CreaetAiReviews/DataSet\"\n",
    "genuine_dir = \"C:/Users/indur/OneDrive - University of Westminster/GitHub/FYP_Project/Models/Review_Score/Dataset\"\n",
    "\n",
    "# 2) Gather file paths\n",
    "ai_files      = glob.glob(os.path.join(ai_dir,      \"*.json*\"))\n",
    "genuine_files = glob.glob(os.path.join(genuine_dir, \"*.json*\"))\n",
    "\n",
    "# 3) Loader for JSON / JSONL with nested \"root\"\n",
    "def robust_load(fp):\n",
    "    with open(fp, \"r\", encoding=\"utf-8\") as f:\n",
    "        txt = f.read().strip()\n",
    "    if not txt:\n",
    "        return []\n",
    "    try:\n",
    "        return json.loads(txt)\n",
    "    except json.JSONDecodeError:\n",
    "        return [json.loads(line) for line in txt.splitlines() if line.strip()]\n",
    "\n",
    "# 4) Load ALL AI reviews\n",
    "ai_records = []\n",
    "for fp in ai_files:\n",
    "    items = robust_load(fp)\n",
    "    if isinstance(items, dict) and \"root\" in items:\n",
    "        items = items[\"root\"] if isinstance(items[\"root\"], list) else [items[\"root\"]]\n",
    "    if isinstance(items, dict):\n",
    "        items = [items]\n",
    "    for rec in items:\n",
    "        text = rec.get(\"review\") or rec.get(\"text\") or \"\"\n",
    "        text = text.strip()\n",
    "        if text:\n",
    "            ai_records.append({\"review\": text, \"source\": \"ai\"})\n",
    "\n",
    "df_ai = pd.DataFrame(ai_records).drop_duplicates(subset=\"review\")\n",
    "\n",
    "# 5) Load genuine USA reviews\n",
    "gen_records = []\n",
    "for fp in genuine_files:\n",
    "    items = robust_load(fp)\n",
    "    if isinstance(items, dict) and \"root\" in items:\n",
    "        items = items[\"root\"] if isinstance(items[\"root\"], list) else [items[\"root\"]]\n",
    "    if isinstance(items, dict):\n",
    "        items = [items]\n",
    "    for rec in items:\n",
    "        text = rec.get(\"text\") or rec.get(\"review\") or \"\"\n",
    "        text = text.strip()\n",
    "        if text:\n",
    "            gen_records.append({\"review\": text, \"source\": \"genuine\"})\n",
    "\n",
    "df_gen = pd.DataFrame(gen_records).drop_duplicates(subset=\"review\")\n",
    "\n",
    "# 6) Filter genuine for “complex” only\n",
    "df_gen[\"words\"]             = df_gen[\"review\"].str.split()\n",
    "df_gen[\"word_count\"]        = df_gen[\"words\"].apply(len)\n",
    "df_gen[\"unique_word_ratio\"] = df_gen[\"words\"].apply(lambda w: len(set(w))/len(w) if w else 0.0)\n",
    "\n",
    "MIN_WORDS = 50\n",
    "MIN_RATIO = 0.5\n",
    "df_gen_complex = df_gen[\n",
    "    (df_gen[\"word_count\"]        >= MIN_WORDS) &\n",
    "    (df_gen[\"unique_word_ratio\"] >  MIN_RATIO)\n",
    "].copy()\n",
    "\n",
    "# 7) Match genuine count to AI count\n",
    "n_ai = len(df_ai)\n",
    "available = len(df_gen_complex)\n",
    "if available < n_ai:\n",
    "    raise ValueError(\n",
    "        f\"Not enough complex genuine reviews ({available}) to match {n_ai} AI reviews.\"\n",
    "    )\n",
    "\n",
    "df_gen_matched = df_gen_complex.sample(n=n_ai, random_state=42)\n",
    "\n",
    "# 8) Combine\n",
    "df_final = pd.concat([df_ai, df_gen_matched], ignore_index=True)\n",
    "df_final = df_final.drop_duplicates(subset=\"review\")  # optional across-source dedupe\n",
    "\n",
    "# 9) Save\n",
    "out_csv = \"C:/Users/indur/OneDrive - University of Westminster/GitHub/FYP_Project/Models/Ai_Genuine_Reviews/CombineReviews/Dataset/ai_and_matched_complex_genuine.csv\"\n",
    "df_final.to_csv(out_csv, index=False)\n",
    "print(f\"Saved {len(df_final)} total reviews ({n_ai} AI + {n_ai/} genuine) to {out_csv}\")\n"
   ]
  }
 ],
 "metadata": {
  "kaggle": {
   "accelerator": "none",
   "dataSources": [
    {
     "datasetId": 7537569,
     "sourceId": 12051430,
     "sourceType": "datasetVersion"
    },
    {
     "datasetId": 7632540,
     "sourceId": 12193785,
     "sourceType": "datasetVersion"
    }
   ],
   "dockerImageVersionId": 31040,
   "isGpuEnabled": false,
   "isInternetEnabled": true,
   "language": "python",
   "sourceType": "notebook"
  },
  "kernelspec": {
   "display_name": "Python 3",
   "language": "python",
   "name": "python3"
  },
  "language_info": {
   "codemirror_mode": {
    "name": "ipython",
    "version": 3
   },
   "file_extension": ".py",
   "mimetype": "text/x-python",
   "name": "python",
   "nbconvert_exporter": "python",
   "pygments_lexer": "ipython3",
   "version": "3.11.11"
  },
  "papermill": {
   "default_parameters": {},
   "duration": 227.987187,
   "end_time": "2025-06-18T05:14:38.209980",
   "environment_variables": {},
   "exception": null,
   "input_path": "__notebook__.ipynb",
   "output_path": "__notebook__.ipynb",
   "parameters": {},
   "start_time": "2025-06-18T05:10:50.222793",
   "version": "2.6.0"
  }
 },
 "nbformat": 4,
 "nbformat_minor": 5
}
