{
 "cells": [
  {
   "cell_type": "markdown",
   "metadata": {
    "_cell_guid": "e3b58ad2-e251-471a-bf73-39fa222500c0",
    "_uuid": "d3b3c3c6-e0f7-4c89-b92c-1be84e269bb9",
    "collapsed": false,
    "jupyter": {
     "outputs_hidden": false
    },
    "trusted": true
   },
   "source": [
    "# **03 – DistilBERT Final**"
   ]
  },
  {
   "cell_type": "code",
   "execution_count": null,
   "metadata": {
    "_cell_guid": "c74d53f5-b716-4961-a7d8-c7b28d19e74f",
    "_uuid": "f4251a4c-ef63-4b78-9f0f-a333ff92eca6",
    "collapsed": false,
    "execution": {
     "iopub.execute_input": "2025-06-20T03:21:33.142216Z",
     "iopub.status.busy": "2025-06-20T03:21:33.141447Z",
     "iopub.status.idle": "2025-06-20T03:21:36.212883Z",
     "shell.execute_reply": "2025-06-20T03:21:36.211987Z",
     "shell.execute_reply.started": "2025-06-20T03:21:33.142190Z"
    },
    "jupyter": {
     "outputs_hidden": false
    },
    "trusted": true
   },
   "outputs": [],
   "source": [
    "pip install langdetect transformers"
   ]
  },
  {
   "cell_type": "code",
   "execution_count": null,
   "metadata": {
    "_cell_guid": "fe9be3cf-2f43-4e93-881a-426e04460946",
    "_uuid": "76e6246e-5ced-41dd-b90b-e61f8dfdd68e",
    "collapsed": false,
    "execution": {
     "iopub.execute_input": "2025-06-20T03:21:36.214760Z",
     "iopub.status.busy": "2025-06-20T03:21:36.214454Z",
     "iopub.status.idle": "2025-06-20T03:21:36.221774Z",
     "shell.execute_reply": "2025-06-20T03:21:36.221125Z",
     "shell.execute_reply.started": "2025-06-20T03:21:36.214737Z"
    },
    "jupyter": {
     "outputs_hidden": false
    },
    "trusted": true
   },
   "outputs": [],
   "source": [
    "# Imports & reproducibility\n",
    "import os, shutil, gc\n",
    "import numpy as np\n",
    "import torch\n",
    "import joblib\n",
    "\n",
    "from transformers import (\n",
    "    DistilBertForSequenceClassification,\n",
    "    DistilBertTokenizerFast,\n",
    "    Trainer,\n",
    "    TrainingArguments,\n",
    "    EarlyStoppingCallback\n",
    ")\n",
    "from sklearn.metrics import accuracy_score, f1_score, confusion_matrix, ConfusionMatrixDisplay\n",
    "from sklearn.utils import resample\n",
    "from langdetect import DetectorFactory\n",
    "import matplotlib.pyplot as plt\n",
    "\n",
    "# seeds\n",
    "RANDOM_SEED = 42\n",
    "np.random.seed(RANDOM_SEED)\n",
    "torch.manual_seed(RANDOM_SEED)\n",
    "DetectorFactory.seed = RANDOM_SEED"
   ]
  },
  {
   "cell_type": "code",
   "execution_count": null,
   "metadata": {
    "_cell_guid": "2eca7587-6595-43b7-9d96-5f16b2a6518a",
    "_uuid": "6bd3c4f0-d943-4a7c-943e-7a981137f328",
    "collapsed": false,
    "execution": {
     "iopub.execute_input": "2025-06-20T03:21:36.222749Z",
     "iopub.status.busy": "2025-06-20T03:21:36.222523Z",
     "iopub.status.idle": "2025-06-20T03:21:36.242884Z",
     "shell.execute_reply": "2025-06-20T03:21:36.242148Z",
     "shell.execute_reply.started": "2025-06-20T03:21:36.222728Z"
    },
    "jupyter": {
     "outputs_hidden": false
    },
    "trusted": true
   },
   "outputs": [],
   "source": [
    "# Paths & constants\n",
    "NUM_L           = 5\n",
    "BASE            = \"C:/Users/indur/OneDrive - University of Westminster/GitHub/FYP_Project/Models/Review_Score/OutPuts\"\n",
    "TRAIN_P         = f\"{BASE}/train_df.pkl\"\n",
    "VAL_P           = f\"{BASE}/val_df.pkl\"\n",
    "TEST_P          = f\"{BASE}/test_df.pkl\"\n",
    "BEST_CFG_P      = f\"{BASE}/best_bert_cfg.pkl\"\n",
    "BEST_MODEL_DIR  = f\"{BASE}/best_distilbert_model\"\n",
    "TOKENIZER_DIR  = f\"{BASE}/best_distilbert_tokenizer\"\n",
    "FINAL_MODEL_DIR = f\"{BASE}/distilbert_model\"\n",
    "CKPT_DIR        = f\"{BASE}/checkpoints\"\n",
    "\n",
    "os.makedirs(FINAL_MODEL_DIR, exist_ok=True)"
   ]
  },
  {
   "cell_type": "code",
   "execution_count": null,
   "metadata": {
    "_cell_guid": "db4940c0-102b-47c4-8b66-65f34f56616f",
    "_uuid": "66baf7ab-5a8c-43d7-adb1-209d9745d7f1",
    "collapsed": false,
    "execution": {
     "iopub.execute_input": "2025-06-20T03:21:36.244028Z",
     "iopub.status.busy": "2025-06-20T03:21:36.243714Z",
     "iopub.status.idle": "2025-06-20T03:21:36.322377Z",
     "shell.execute_reply": "2025-06-20T03:21:36.321845Z",
     "shell.execute_reply.started": "2025-06-20T03:21:36.244008Z"
    },
    "jupyter": {
     "outputs_hidden": false
    },
    "trusted": true
   },
   "outputs": [],
   "source": [
    "# 1) Load & subsample splits\n",
    "train_df = joblib.load(TRAIN_P)\n",
    "val_df   = joblib.load(VAL_P)\n",
    "test_df  = joblib.load(TEST_P)\n",
    "best_cfg = joblib.load(BEST_CFG_P)\n",
    "\n",
    "train_texts, train_labels = train_df.text.tolist(), train_df.label.tolist()\n",
    "val_texts,   val_labels   = val_df.text.tolist(),   val_df.label.tolist()\n",
    "test_texts,  test_labels  = test_df.text.tolist(),  test_df.label.tolist()"
   ]
  },
  {
   "cell_type": "code",
   "execution_count": null,
   "metadata": {
    "_cell_guid": "d762fda2-1e7f-4cdd-b9a4-c40674c6fbdb",
    "_uuid": "faac7b15-264f-4f05-abf0-056169f2f354",
    "collapsed": false,
    "execution": {
     "iopub.execute_input": "2025-06-20T03:21:36.324255Z",
     "iopub.status.busy": "2025-06-20T03:21:36.324043Z",
     "iopub.status.idle": "2025-06-20T03:21:36.524310Z",
     "shell.execute_reply": "2025-06-20T03:21:36.523751Z",
     "shell.execute_reply.started": "2025-06-20T03:21:36.324239Z"
    },
    "jupyter": {
     "outputs_hidden": false
    },
    "trusted": true
   },
   "outputs": [],
   "source": [
    "# 2) Load model & tokenizer from your saved checkpoint\n",
    "device    = torch.device(\"cuda\" if torch.cuda.is_available() else \"cpu\")\n",
    "model     = DistilBertForSequenceClassification.from_pretrained(BEST_MODEL_DIR).to(device)\n",
    "tokenizer = DistilBertTokenizerFast.from_pretrained(TOKENIZER_DIR)"
   ]
  },
  {
   "cell_type": "code",
   "execution_count": null,
   "metadata": {
    "_cell_guid": "a5e1eeb3-17b6-4d08-aa1f-069f766b94e3",
    "_uuid": "65f11a6c-10fb-47b3-a569-b7508a5376f7",
    "collapsed": false,
    "execution": {
     "iopub.execute_input": "2025-06-20T03:21:36.525324Z",
     "iopub.status.busy": "2025-06-20T03:21:36.525143Z"
    },
    "jupyter": {
     "outputs_hidden": false
    },
    "trusted": true
   },
   "outputs": [],
   "source": [
    "# 3) Tokenize & wrap in Dataset\n",
    "def tokenize_batch(texts, max_length=256):\n",
    "    return tokenizer(\n",
    "        texts,\n",
    "        padding=\"max_length\",\n",
    "        truncation=True,\n",
    "        max_length=max_length,\n",
    "        return_tensors=\"pt\"\n",
    "    )\n",
    "\n",
    "enc_train = tokenize_batch(train_texts)\n",
    "enc_val   = tokenize_batch(val_texts)\n",
    "enc_test  = tokenize_batch(test_texts)\n",
    "\n",
    "class ReviewDataset(torch.utils.data.Dataset):\n",
    "    def __init__(self, encodings, labels):\n",
    "        self.encodings = encodings\n",
    "        self.labels    = labels\n",
    "    def __len__(self):\n",
    "        return len(self.labels)\n",
    "    def __getitem__(self, idx):\n",
    "        item = {k: v[idx] for k, v in self.encodings.items()}\n",
    "        item[\"labels\"] = torch.tensor(self.labels[idx])\n",
    "        return item\n",
    "\n",
    "train_ds = ReviewDataset(enc_train, train_labels)\n",
    "val_ds   = ReviewDataset(enc_val,   val_labels)\n",
    "test_ds  = ReviewDataset(enc_test,  test_labels)"
   ]
  },
  {
   "cell_type": "code",
   "execution_count": null,
   "metadata": {
    "_cell_guid": "b52e1b8d-9ea2-456e-a893-666b287b5556",
    "_uuid": "efc496a6-696d-46ca-bb1e-9f2d3942b77a",
    "collapsed": false,
    "jupyter": {
     "outputs_hidden": false
    },
    "trusted": true
   },
   "outputs": [],
   "source": [
    "# 4) Trainer setup\n",
    "args = TrainingArguments(\n",
    "    output_dir=CKPT_DIR,\n",
    "    save_strategy=\"epoch\",\n",
    "    eval_strategy=\"epoch\",\n",
    "    load_best_model_at_end=True,\n",
    "    metric_for_best_model=\"f1\",\n",
    "    greater_is_better=True,\n",
    "    num_train_epochs=20,\n",
    "    per_device_train_batch_size=16,\n",
    "    per_device_eval_batch_size=32,\n",
    "    learning_rate=best_cfg[\"learning_rate\"],\n",
    "    weight_decay=best_cfg[\"weight_decay\"],\n",
    "    logging_steps=50,\n",
    "    report_to=[]\n",
    ")\n",
    "\n",
    "trainer = Trainer(\n",
    "    model=model,\n",
    "    args=args,\n",
    "    train_dataset=train_ds,\n",
    "    eval_dataset=val_ds,\n",
    "    compute_metrics=lambda p: {\n",
    "        \"accuracy\": accuracy_score(p.label_ids, p.predictions.argmax(-1)),\n",
    "        \"f1\":       f1_score(p.label_ids, p.predictions.argmax(-1), average=\"weighted\")\n",
    "    },\n",
    "    callbacks=[EarlyStoppingCallback(early_stopping_patience=3)]\n",
    ")"
   ]
  },
  {
   "cell_type": "code",
   "execution_count": null,
   "metadata": {
    "_cell_guid": "18ff4244-ea86-4676-abaf-c402df7b15bb",
    "_uuid": "e47d2f4e-b832-4fca-af13-26c4113604da",
    "collapsed": false,
    "jupyter": {
     "outputs_hidden": false
    },
    "trusted": true
   },
   "outputs": [],
   "source": [
    "# 5) Train & save best\n",
    "trainer.train()\n",
    "trainer.save_model(FINAL_MODEL_DIR)\n",
    "tokenizer.save_pretrained(FINAL_MODEL_DIR)"
   ]
  },
  {
   "cell_type": "code",
   "execution_count": null,
   "metadata": {
    "_cell_guid": "b31198d0-ddc1-4079-8fbc-1d570830a299",
    "_uuid": "e700a3d7-3e25-4306-a953-23936573c4db",
    "collapsed": false,
    "jupyter": {
     "outputs_hidden": false
    },
    "trusted": true
   },
   "outputs": [],
   "source": [
    "# 6) Test evaluation\n",
    "pred_out = trainer.predict(test_ds)\n",
    "print(f\"Test Accuracy: {pred_out.metrics['test_accuracy']:.4f}\")\n",
    "print(f\"Test F1-score: {pred_out.metrics['test_f1']:.4f}\")"
   ]
  },
  {
   "cell_type": "code",
   "execution_count": null,
   "metadata": {
    "_cell_guid": "391b1f40-2585-41ca-8e16-8132490adb21",
    "_uuid": "a625b830-cfdd-4b55-8615-64a41bd8680e",
    "collapsed": false,
    "jupyter": {
     "outputs_hidden": false
    },
    "trusted": true
   },
   "outputs": [],
   "source": [
    "# 7) Confusion Matrix\n",
    "y_true = pred_out.label_ids\n",
    "y_pred = pred_out.predictions.argmax(-1)\n",
    "\n",
    "cm = confusion_matrix(y_true, y_pred)\n",
    "disp = ConfusionMatrixDisplay(confusion_matrix=cm)\n",
    "disp.plot()\n",
    "plt.title(\"Test Confusion Matrix\")\n",
    "plt.show()"
   ]
  }
 ],
 "metadata": {
  "kaggle": {
   "accelerator": "nvidiaTeslaT4",
   "dataSources": [],
   "dockerImageVersionId": 31041,
   "isGpuEnabled": true,
   "isInternetEnabled": true,
   "language": "python",
   "sourceType": "notebook"
  },
  "kernelspec": {
   "display_name": "Python 3",
   "language": "python",
   "name": "python3"
  },
  "language_info": {
   "codemirror_mode": {
    "name": "ipython",
    "version": 3
   },
   "file_extension": ".py",
   "mimetype": "text/x-python",
   "name": "python",
   "nbconvert_exporter": "python",
   "pygments_lexer": "ipython3",
   "version": "3.11.11"
  }
 },
 "nbformat": 4,
 "nbformat_minor": 4
}
