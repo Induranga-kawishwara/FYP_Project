{
 "cells": [
  {
   "cell_type": "markdown",
   "metadata": {
    "_cell_guid": "12ae2785-9523-498d-8b06-660eb805619b",
    "_uuid": "cd03923d-5ccc-4e48-8a04-3d3e433a0457",
    "collapsed": false,
    "jupyter": {
     "outputs_hidden": false
    },
    "trusted": true
   },
   "source": [
    "# **Preprocess AI vs Genuine Reviews**"
   ]
  },
  {
   "cell_type": "code",
   "execution_count": null,
   "metadata": {
    "_cell_guid": "3d78be7d-186d-4022-a13b-b6e3883a2da8",
    "_uuid": "72b5f5c2-4bb6-41f6-8fb1-35d5f05f547c",
    "collapsed": false,
    "execution": {
     "iopub.execute_input": "2025-06-20T12:12:39.403339Z",
     "iopub.status.busy": "2025-06-20T12:12:39.403034Z",
     "iopub.status.idle": "2025-06-20T12:12:41.380217Z",
     "shell.execute_reply": "2025-06-20T12:12:41.378787Z",
     "shell.execute_reply.started": "2025-06-20T12:12:39.403311Z"
    },
    "jupyter": {
     "outputs_hidden": false
    },
    "trusted": true
   },
   "outputs": [],
   "source": [
    "import os\n",
    "import re\n",
    "import numpy as np\n",
    "import pandas as pd\n",
    "import nltk\n",
    "\n",
    "from nltk.corpus import stopwords\n",
    "from nltk.tokenize import word_tokenize\n",
    "from sklearn.model_selection import train_test_split"
   ]
  },
  {
   "cell_type": "code",
   "execution_count": null,
   "metadata": {
    "_cell_guid": "88e245e3-00d6-4681-a99b-8202d43d219f",
    "_uuid": "6d594c26-e751-4c44-9688-2aa32fced201",
    "collapsed": false,
    "execution": {
     "iopub.execute_input": "2025-06-20T12:12:41.382296Z",
     "iopub.status.busy": "2025-06-20T12:12:41.381774Z",
     "iopub.status.idle": "2025-06-20T12:12:41.591245Z",
     "shell.execute_reply": "2025-06-20T12:12:41.590312Z",
     "shell.execute_reply.started": "2025-06-20T12:12:41.382263Z"
    },
    "jupyter": {
     "outputs_hidden": false
    },
    "trusted": true
   },
   "outputs": [],
   "source": [
    "# 1. Configuration\n",
    "INPUT_CSV  = \"/kaggle/input/verified-ai-genuine-reviews/filtered_reviews.csv\"\n",
    "OUTPUT_DIR = \"C:/Users/indur/OneDrive - University of Westminster/GitHub/FYP_Project/Models/Ai_Genuine_Reviews/OutPuts\"\n",
    "SEED       = 42\n",
    "TEST_FRAC  = 0.10\n",
    "VAL_FRAC   = 0.10\n",
    "\n",
    "np.random.seed(SEED)\n",
    "nltk.download(\"punkt\")\n",
    "nltk.download(\"stopwords\")\n",
    "STOP = set(stopwords.words(\"english\"))"
   ]
  },
  {
   "cell_type": "code",
   "execution_count": null,
   "metadata": {
    "_cell_guid": "fb8e41c5-9c27-45bb-ac9b-9ce27632f0e8",
    "_uuid": "ac237e3a-f14a-444a-998d-acf2aa40cd73",
    "collapsed": false,
    "execution": {
     "iopub.execute_input": "2025-06-20T12:12:41.592466Z",
     "iopub.status.busy": "2025-06-20T12:12:41.592191Z",
     "iopub.status.idle": "2025-06-20T12:12:41.599539Z",
     "shell.execute_reply": "2025-06-20T12:12:41.598608Z",
     "shell.execute_reply.started": "2025-06-20T12:12:41.592437Z"
    },
    "jupyter": {
     "outputs_hidden": false
    },
    "trusted": true
   },
   "outputs": [],
   "source": [
    "# 2. Text preprocessing\n",
    "def preprocess_text(text: str) -> str:\n",
    "    t = str(text).lower()\n",
    "    t = re.sub(r\"https?://\\S+\", \"\", t)\n",
    "    t = re.sub(r\"<.*?>\", \"\", t)\n",
    "    t = re.sub(r\"[^\\w\\s]\", \" \", t)\n",
    "    t = re.sub(r\"\\s+\", \" \", t).strip()\n",
    "    toks = [w for w in word_tokenize(t) if w not in STOP and len(w) >= 2]\n",
    "    return \" \".join(toks) if toks else \"no_content\"\n",
    "\n",
    "def bounds(s: pd.Series):\n",
    "    q1, q3 = s.quantile([.25, .75])\n",
    "    iqr = q3 - q1\n",
    "    return q1 - 1.5 * iqr, q3 + 1.5 * iqr"
   ]
  },
  {
   "cell_type": "markdown",
   "metadata": {
    "_cell_guid": "dbfece15-88fc-4ab5-9c50-ae20c20e5feb",
    "_uuid": "40238bdd-2820-4e6b-a77f-ea417aa96c87",
    "collapsed": false,
    "jupyter": {
     "outputs_hidden": false
    },
    "trusted": true
   },
   "source": [
    "## 3. Load, Label & Drop Raw Duplicates"
   ]
  },
  {
   "cell_type": "code",
   "execution_count": null,
   "metadata": {
    "_cell_guid": "7990ea12-7ded-4d94-a224-ca068efd2e01",
    "_uuid": "b2f43724-e573-450b-ba41-226e37b698dc",
    "collapsed": false,
    "execution": {
     "iopub.execute_input": "2025-06-20T12:12:41.601966Z",
     "iopub.status.busy": "2025-06-20T12:12:41.601595Z"
    },
    "jupyter": {
     "outputs_hidden": false
    },
    "trusted": true
   },
   "outputs": [],
   "source": [
    "df = pd.read_csv(INPUT_CSV)\n",
    "df[\"label\"] = df[\"source\"].map({\"genuine\": 0, \"ai\": 1})\n",
    "print(f\"Loaded {len(df)} rows\")\n",
    "\n",
    "before = len(df)\n",
    "df.drop_duplicates(subset=\"review\", inplace=True)\n",
    "print(f\"Dropped {before - len(df)} raw duplicates → {len(df)} remain\")"
   ]
  },
  {
   "cell_type": "markdown",
   "metadata": {
    "_cell_guid": "56f3e87b-79b0-4464-9b7b-ac1e4b299e4f",
    "_uuid": "3e716ded-753b-492f-8052-675239c990a1",
    "collapsed": false,
    "jupyter": {
     "outputs_hidden": false
    },
    "trusted": true
   },
   "source": [
    "## 4. Clean Text & Compute Lengths"
   ]
  },
  {
   "cell_type": "code",
   "execution_count": null,
   "metadata": {
    "_cell_guid": "aef45dd2-3cbd-4d01-ae15-a14a3364bcab",
    "_uuid": "cfa74326-3b3b-48ee-82a2-056ece7fcc64",
    "collapsed": false,
    "jupyter": {
     "outputs_hidden": false
    },
    "trusted": true
   },
   "outputs": [],
   "source": [
    "df[\"clean_review\"]  = df[\"review\"].apply(preprocess_text)\n",
    "df[\"review_length\"] = df[\"clean_review\"].str.split().apply(len)"
   ]
  },
  {
   "cell_type": "markdown",
   "metadata": {
    "_cell_guid": "bf12d14f-2571-4147-b115-c0fd8eabb418",
    "_uuid": "7b21f618-ea03-4ca1-8a5e-896f35987dab",
    "collapsed": false,
    "jupyter": {
     "outputs_hidden": false
    },
    "trusted": true
   },
   "source": [
    "## 5. Remove Length Outliers per Class"
   ]
  },
  {
   "cell_type": "code",
   "execution_count": null,
   "metadata": {
    "_cell_guid": "083fa8bc-c327-4583-90fb-b5d7cfa3d3f5",
    "_uuid": "38c02cde-045d-4684-88c1-3ad2a968cec4",
    "collapsed": false,
    "jupyter": {
     "outputs_hidden": false
    },
    "trusted": true
   },
   "outputs": [],
   "source": [
    "for lbl in (0, 1):\n",
    "    low, high = bounds(df.loc[df.label == lbl, \"review_length\"])\n",
    "    before = len(df)\n",
    "    df = df.loc[~((df.label == lbl) &\n",
    "                  ((df.review_length < low) | (df.review_length > high)))]\n",
    "    print(f\"Dropped {before - len(df)} length outliers for label={lbl}\")"
   ]
  },
  {
   "cell_type": "code",
   "execution_count": null,
   "metadata": {
    "_cell_guid": "2f7a9d4f-ce1a-4059-95cc-6bc958c6b27b",
    "_uuid": "f93e668c-14e0-4ef6-8e52-eefe91438f2f",
    "collapsed": false,
    "jupyter": {
     "outputs_hidden": false
    },
    "trusted": true
   },
   "outputs": [],
   "source": [
    "# 6. Drop cleaned-text duplicates\n",
    "before = len(df)\n",
    "df.drop_duplicates(subset=\"clean_review\", inplace=True)\n",
    "print(f\"Dropped {before - len(df)} cleaned-text duplicates → {len(df)} remain\")"
   ]
  },
  {
   "cell_type": "markdown",
   "metadata": {
    "_cell_guid": "34242be0-bc61-4f48-a135-c8d1b231dc00",
    "_uuid": "a971c8a3-fb5b-4f1c-b741-54040d381b0b",
    "collapsed": false,
    "jupyter": {
     "outputs_hidden": false
    },
    "trusted": true
   },
   "source": [
    "## 7. Stratified 80/10/10 Split"
   ]
  },
  {
   "cell_type": "code",
   "execution_count": null,
   "metadata": {
    "_cell_guid": "c1acdb06-0d32-4c6c-add6-2601d06eddd0",
    "_uuid": "775bfb10-3da8-4ab0-ae2f-4e907283e7a8",
    "collapsed": false,
    "jupyter": {
     "outputs_hidden": false
    },
    "trusted": true
   },
   "outputs": [],
   "source": [
    "tv, test_df = train_test_split(\n",
    "    df, test_size=TEST_FRAC, stratify=df.label, random_state=SEED\n",
    ")\n",
    "train_df, val_df = train_test_split(\n",
    "    tv, test_size=VAL_FRAC/(1 - TEST_FRAC),\n",
    "    stratify=tv.label, random_state=SEED\n",
    ")\n",
    "print(f\"Train/Val/Test sizes -> {len(train_df)}/{len(val_df)}/{len(test_df)}\")"
   ]
  },
  {
   "cell_type": "code",
   "execution_count": null,
   "metadata": {
    "_cell_guid": "ad99263b-55bb-4112-ae19-42196b455b0e",
    "_uuid": "a008ac62-00d5-47b9-8474-1c894fce530d",
    "collapsed": false,
    "jupyter": {
     "outputs_hidden": false
    },
    "trusted": true
   },
   "outputs": [],
   "source": [
    "# 8. Save splits\n",
    "os.makedirs(OUTPUT_DIR, exist_ok=True)\n",
    "for name, subset in [(\"train\", train_df), (\"val\", val_df), (\"test\", test_df)]:\n",
    "    path = os.path.join(OUTPUT_DIR, f\"{name}.csv\")\n",
    "    subset.to_csv(path, index=False, columns=[\"clean_review\",\"label\"])\n",
    "    print(f\"path :- {path}\")"
   ]
  }
 ],
 "metadata": {
  "kaggle": {
   "accelerator": "none",
   "dataSources": [
    {
     "datasetId": 7653780,
     "sourceId": 12204256,
     "sourceType": "datasetVersion"
    }
   ],
   "dockerImageVersionId": 31040,
   "isGpuEnabled": false,
   "isInternetEnabled": true,
   "language": "python",
   "sourceType": "notebook"
  },
  "kernelspec": {
   "display_name": "Python 3",
   "language": "python",
   "name": "python3"
  },
  "language_info": {
   "codemirror_mode": {
    "name": "ipython",
    "version": 3
   },
   "file_extension": ".py",
   "mimetype": "text/x-python",
   "name": "python",
   "nbconvert_exporter": "python",
   "pygments_lexer": "ipython3",
   "version": "3.11.11"
  }
 },
 "nbformat": 4,
 "nbformat_minor": 4
}
