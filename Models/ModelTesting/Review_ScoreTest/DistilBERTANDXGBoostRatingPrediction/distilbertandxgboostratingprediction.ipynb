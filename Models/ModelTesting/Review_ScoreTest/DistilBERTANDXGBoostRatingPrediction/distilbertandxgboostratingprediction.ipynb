{
 "cells": [
  {
   "cell_type": "markdown",
   "id": "bd013e54",
   "metadata": {
    "_cell_guid": "51af986b-ca90-4fac-a991-2ccac2339dd7",
    "_uuid": "ed705db4-214f-4f7c-85ed-b18ea665ff56",
    "collapsed": false,
    "jupyter": {
     "outputs_hidden": false
    },
    "papermill": {
     "duration": 0.010558,
     "end_time": "2025-03-21T02:45:29.206250",
     "exception": false,
     "start_time": "2025-03-21T02:45:29.195692",
     "status": "completed"
    },
    "tags": []
   },
   "source": [
    "# 1) Install Required Libraries"
   ]
  },
  {
   "cell_type": "code",
   "execution_count": 1,
   "id": "5cc8907f",
   "metadata": {
    "_cell_guid": "5ac0628b-135f-4e91-b7bc-b1b96cca4831",
    "_uuid": "9cd9c3b1-75f8-4978-8a3f-9e6c9db82068",
    "collapsed": false,
    "execution": {
     "iopub.execute_input": "2025-03-21T02:45:29.227261Z",
     "iopub.status.busy": "2025-03-21T02:45:29.227017Z",
     "iopub.status.idle": "2025-03-21T02:45:33.766488Z",
     "shell.execute_reply": "2025-03-21T02:45:33.765478Z"
    },
    "jupyter": {
     "outputs_hidden": false
    },
    "papermill": {
     "duration": 4.551959,
     "end_time": "2025-03-21T02:45:33.768180",
     "exception": false,
     "start_time": "2025-03-21T02:45:29.216221",
     "status": "completed"
    },
    "tags": []
   },
   "outputs": [
    {
     "name": "stdout",
     "output_type": "stream",
     "text": [
      "Requirement already satisfied: transformers in /usr/local/lib/python3.10/dist-packages (4.47.0)\r\n",
      "Requirement already satisfied: torch in /usr/local/lib/python3.10/dist-packages (2.5.1+cu121)\r\n",
      "Requirement already satisfied: scikit-learn in /usr/local/lib/python3.10/dist-packages (1.2.2)\r\n",
      "Collecting evaluate\r\n",
      "  Downloading evaluate-0.4.3-py3-none-any.whl.metadata (9.2 kB)\r\n",
      "Requirement already satisfied: pandas in /usr/local/lib/python3.10/dist-packages (2.2.3)\r\n",
      "Requirement already satisfied: xgboost in /usr/local/lib/python3.10/dist-packages (2.0.3)\r\n",
      "Requirement already satisfied: joblib in /usr/local/lib/python3.10/dist-packages (1.4.2)\r\n",
      "Requirement already satisfied: tqdm in /usr/local/lib/python3.10/dist-packages (4.67.1)\r\n",
      "Requirement already satisfied: matplotlib in /usr/local/lib/python3.10/dist-packages (3.7.5)\r\n",
      "Requirement already satisfied: seaborn in /usr/local/lib/python3.10/dist-packages (0.12.2)\r\n",
      "Requirement already satisfied: filelock in /usr/local/lib/python3.10/dist-packages (from transformers) (3.17.0)\r\n",
      "Requirement already satisfied: huggingface-hub<1.0,>=0.24.0 in /usr/local/lib/python3.10/dist-packages (from transformers) (0.28.1)\r\n",
      "Requirement already satisfied: numpy>=1.17 in /usr/local/lib/python3.10/dist-packages (from transformers) (1.26.4)\r\n",
      "Requirement already satisfied: packaging>=20.0 in /usr/local/lib/python3.10/dist-packages (from transformers) (24.2)\r\n",
      "Requirement already satisfied: pyyaml>=5.1 in /usr/local/lib/python3.10/dist-packages (from transformers) (6.0.2)\r\n",
      "Requirement already satisfied: regex!=2019.12.17 in /usr/local/lib/python3.10/dist-packages (from transformers) (2024.11.6)\r\n",
      "Requirement already satisfied: requests in /usr/local/lib/python3.10/dist-packages (from transformers) (2.32.3)\r\n",
      "Requirement already satisfied: tokenizers<0.22,>=0.21 in /usr/local/lib/python3.10/dist-packages (from transformers) (0.21.0)\r\n",
      "Requirement already satisfied: safetensors>=0.4.1 in /usr/local/lib/python3.10/dist-packages (from transformers) (0.4.5)\r\n",
      "Requirement already satisfied: typing-extensions>=4.8.0 in /usr/local/lib/python3.10/dist-packages (from torch) (4.12.2)\r\n",
      "Requirement already satisfied: networkx in /usr/local/lib/python3.10/dist-packages (from torch) (3.4.2)\r\n",
      "Requirement already satisfied: jinja2 in /usr/local/lib/python3.10/dist-packages (from torch) (3.1.4)\r\n",
      "Requirement already satisfied: fsspec in /usr/local/lib/python3.10/dist-packages (from torch) (2024.9.0)\r\n",
      "Requirement already satisfied: sympy==1.13.1 in /usr/local/lib/python3.10/dist-packages (from torch) (1.13.1)\r\n",
      "Requirement already satisfied: mpmath<1.4,>=1.1.0 in /usr/local/lib/python3.10/dist-packages (from sympy==1.13.1->torch) (1.3.0)\r\n",
      "Requirement already satisfied: scipy>=1.3.2 in /usr/local/lib/python3.10/dist-packages (from scikit-learn) (1.13.1)\r\n",
      "Requirement already satisfied: threadpoolctl>=2.0.0 in /usr/local/lib/python3.10/dist-packages (from scikit-learn) (3.5.0)\r\n",
      "Requirement already satisfied: datasets>=2.0.0 in /usr/local/lib/python3.10/dist-packages (from evaluate) (3.2.0)\r\n",
      "Requirement already satisfied: dill in /usr/local/lib/python3.10/dist-packages (from evaluate) (0.3.8)\r\n",
      "Requirement already satisfied: xxhash in /usr/local/lib/python3.10/dist-packages (from evaluate) (3.5.0)\r\n",
      "Requirement already satisfied: multiprocess in /usr/local/lib/python3.10/dist-packages (from evaluate) (0.70.16)\r\n",
      "Requirement already satisfied: python-dateutil>=2.8.2 in /usr/local/lib/python3.10/dist-packages (from pandas) (2.9.0.post0)\r\n",
      "Requirement already satisfied: pytz>=2020.1 in /usr/local/lib/python3.10/dist-packages (from pandas) (2025.1)\r\n",
      "Requirement already satisfied: tzdata>=2022.7 in /usr/local/lib/python3.10/dist-packages (from pandas) (2025.1)\r\n",
      "Requirement already satisfied: contourpy>=1.0.1 in /usr/local/lib/python3.10/dist-packages (from matplotlib) (1.3.1)\r\n",
      "Requirement already satisfied: cycler>=0.10 in /usr/local/lib/python3.10/dist-packages (from matplotlib) (0.12.1)\r\n",
      "Requirement already satisfied: fonttools>=4.22.0 in /usr/local/lib/python3.10/dist-packages (from matplotlib) (4.55.3)\r\n",
      "Requirement already satisfied: kiwisolver>=1.0.1 in /usr/local/lib/python3.10/dist-packages (from matplotlib) (1.4.7)\r\n",
      "Requirement already satisfied: pillow>=6.2.0 in /usr/local/lib/python3.10/dist-packages (from matplotlib) (11.0.0)\r\n",
      "Requirement already satisfied: pyparsing>=2.3.1 in /usr/local/lib/python3.10/dist-packages (from matplotlib) (3.2.0)\r\n",
      "Requirement already satisfied: pyarrow>=15.0.0 in /usr/local/lib/python3.10/dist-packages (from datasets>=2.0.0->evaluate) (19.0.0)\r\n",
      "Requirement already satisfied: aiohttp in /usr/local/lib/python3.10/dist-packages (from datasets>=2.0.0->evaluate) (3.11.11)\r\n",
      "Requirement already satisfied: mkl_fft in /usr/local/lib/python3.10/dist-packages (from numpy>=1.17->transformers) (1.3.8)\r\n",
      "Requirement already satisfied: mkl_random in /usr/local/lib/python3.10/dist-packages (from numpy>=1.17->transformers) (1.2.4)\r\n",
      "Requirement already satisfied: mkl_umath in /usr/local/lib/python3.10/dist-packages (from numpy>=1.17->transformers) (0.1.1)\r\n",
      "Requirement already satisfied: mkl in /usr/local/lib/python3.10/dist-packages (from numpy>=1.17->transformers) (2025.0.1)\r\n",
      "Requirement already satisfied: tbb4py in /usr/local/lib/python3.10/dist-packages (from numpy>=1.17->transformers) (2022.0.0)\r\n",
      "Requirement already satisfied: mkl-service in /usr/local/lib/python3.10/dist-packages (from numpy>=1.17->transformers) (2.4.1)\r\n",
      "Requirement already satisfied: six>=1.5 in /usr/local/lib/python3.10/dist-packages (from python-dateutil>=2.8.2->pandas) (1.17.0)\r\n",
      "Requirement already satisfied: charset-normalizer<4,>=2 in /usr/local/lib/python3.10/dist-packages (from requests->transformers) (3.4.1)\r\n",
      "Requirement already satisfied: idna<4,>=2.5 in /usr/local/lib/python3.10/dist-packages (from requests->transformers) (3.10)\r\n",
      "Requirement already satisfied: urllib3<3,>=1.21.1 in /usr/local/lib/python3.10/dist-packages (from requests->transformers) (2.3.0)\r\n",
      "Requirement already satisfied: certifi>=2017.4.17 in /usr/local/lib/python3.10/dist-packages (from requests->transformers) (2025.1.31)\r\n",
      "Requirement already satisfied: MarkupSafe>=2.0 in /usr/local/lib/python3.10/dist-packages (from jinja2->torch) (3.0.2)\r\n",
      "Requirement already satisfied: aiohappyeyeballs>=2.3.0 in /usr/local/lib/python3.10/dist-packages (from aiohttp->datasets>=2.0.0->evaluate) (2.4.4)\r\n",
      "Requirement already satisfied: aiosignal>=1.1.2 in /usr/local/lib/python3.10/dist-packages (from aiohttp->datasets>=2.0.0->evaluate) (1.3.2)\r\n",
      "Requirement already satisfied: async-timeout<6.0,>=4.0 in /usr/local/lib/python3.10/dist-packages (from aiohttp->datasets>=2.0.0->evaluate) (5.0.1)\r\n",
      "Requirement already satisfied: attrs>=17.3.0 in /usr/local/lib/python3.10/dist-packages (from aiohttp->datasets>=2.0.0->evaluate) (25.1.0)\r\n",
      "Requirement already satisfied: frozenlist>=1.1.1 in /usr/local/lib/python3.10/dist-packages (from aiohttp->datasets>=2.0.0->evaluate) (1.5.0)\r\n",
      "Requirement already satisfied: multidict<7.0,>=4.5 in /usr/local/lib/python3.10/dist-packages (from aiohttp->datasets>=2.0.0->evaluate) (6.1.0)\r\n",
      "Requirement already satisfied: propcache>=0.2.0 in /usr/local/lib/python3.10/dist-packages (from aiohttp->datasets>=2.0.0->evaluate) (0.2.1)\r\n",
      "Requirement already satisfied: yarl<2.0,>=1.17.0 in /usr/local/lib/python3.10/dist-packages (from aiohttp->datasets>=2.0.0->evaluate) (1.18.3)\r\n",
      "Requirement already satisfied: intel-openmp>=2024 in /usr/local/lib/python3.10/dist-packages (from mkl->numpy>=1.17->transformers) (2024.2.0)\r\n",
      "Requirement already satisfied: tbb==2022.* in /usr/local/lib/python3.10/dist-packages (from mkl->numpy>=1.17->transformers) (2022.0.0)\r\n",
      "Requirement already satisfied: tcmlib==1.* in /usr/local/lib/python3.10/dist-packages (from tbb==2022.*->mkl->numpy>=1.17->transformers) (1.2.0)\r\n",
      "Requirement already satisfied: intel-cmplr-lib-rt in /usr/local/lib/python3.10/dist-packages (from mkl_umath->numpy>=1.17->transformers) (2024.2.0)\r\n",
      "Requirement already satisfied: intel-cmplr-lib-ur==2024.2.0 in /usr/local/lib/python3.10/dist-packages (from intel-openmp>=2024->mkl->numpy>=1.17->transformers) (2024.2.0)\r\n",
      "Downloading evaluate-0.4.3-py3-none-any.whl (84 kB)\r\n",
      "\u001b[2K   \u001b[90m━━━━━━━━━━━━━━━━━━━━━━━━━━━━━━━━━━━━━━━━\u001b[0m \u001b[32m84.0/84.0 kB\u001b[0m \u001b[31m3.7 MB/s\u001b[0m eta \u001b[36m0:00:00\u001b[0m\r\n",
      "\u001b[?25hInstalling collected packages: evaluate\r\n",
      "Successfully installed evaluate-0.4.3\r\n"
     ]
    }
   ],
   "source": [
    "!pip install transformers torch scikit-learn evaluate pandas xgboost joblib tqdm matplotlib seaborn"
   ]
  },
  {
   "cell_type": "markdown",
   "id": "37bcae01",
   "metadata": {
    "_cell_guid": "58d03465-b335-454b-b8a1-58b943aa8266",
    "_uuid": "708b347e-fd30-4159-89cf-766328a84d6e",
    "collapsed": false,
    "jupyter": {
     "outputs_hidden": false
    },
    "papermill": {
     "duration": 0.010737,
     "end_time": "2025-03-21T02:45:33.789882",
     "exception": false,
     "start_time": "2025-03-21T02:45:33.779145",
     "status": "completed"
    },
    "tags": []
   },
   "source": [
    "# 2) Import Libraries"
   ]
  },
  {
   "cell_type": "code",
   "execution_count": 2,
   "id": "c89c1f9d",
   "metadata": {
    "_cell_guid": "af7ca76c-129e-44d6-9b70-986de0c6403f",
    "_uuid": "bcaf4e9f-4eb0-4bcf-845f-433fa56ed2c7",
    "collapsed": false,
    "execution": {
     "iopub.execute_input": "2025-03-21T02:45:33.812549Z",
     "iopub.status.busy": "2025-03-21T02:45:33.812300Z",
     "iopub.status.idle": "2025-03-21T02:45:58.374012Z",
     "shell.execute_reply": "2025-03-21T02:45:58.373109Z"
    },
    "jupyter": {
     "outputs_hidden": false
    },
    "papermill": {
     "duration": 24.57522,
     "end_time": "2025-03-21T02:45:58.375300",
     "exception": false,
     "start_time": "2025-03-21T02:45:33.800080",
     "status": "completed"
    },
    "tags": []
   },
   "outputs": [
    {
     "name": "stdout",
     "output_type": "stream",
     "text": [
      "Using device: cuda\n"
     ]
    }
   ],
   "source": [
    "import os\n",
    "import numpy as np\n",
    "import pandas as pd\n",
    "import torch\n",
    "import joblib\n",
    "import matplotlib.pyplot as plt\n",
    "import seaborn as sns\n",
    "from tqdm import tqdm\n",
    "\n",
    "from transformers import DistilBertTokenizer, DistilBertForSequenceClassification, Trainer, TrainingArguments\n",
    "from torch.utils.data import Dataset\n",
    "from sklearn.model_selection import train_test_split\n",
    "from sklearn.metrics import accuracy_score, f1_score\n",
    "from xgboost import XGBClassifier, plot_importance\n",
    "from sklearn.feature_extraction.text import TfidfVectorizer\n",
    "\n",
    "device = torch.device(\"cuda\" if torch.cuda.is_available() else \"cpu\")\n",
    "print(\"Using device:\", device)"
   ]
  },
  {
   "cell_type": "markdown",
   "id": "b17403d7",
   "metadata": {
    "_cell_guid": "45aede5a-74c8-4679-8eff-f877c2203b88",
    "_uuid": "5a15d517-b181-48e4-a6e6-be66b9a3d845",
    "collapsed": false,
    "jupyter": {
     "outputs_hidden": false
    },
    "papermill": {
     "duration": 0.010047,
     "end_time": "2025-03-21T02:45:58.396377",
     "exception": false,
     "start_time": "2025-03-21T02:45:58.386330",
     "status": "completed"
    },
    "tags": []
   },
   "source": [
    "# 3) Configuration & Paths\n",
    "\n",
    "Adjust file paths and hyperparameters as needed."
   ]
  },
  {
   "cell_type": "code",
   "execution_count": 3,
   "id": "b29c45ec",
   "metadata": {
    "_cell_guid": "cdfca5d5-40a3-4c98-b17d-97d8b253137e",
    "_uuid": "50f1e08b-b7f7-4ca4-baea-9211e814ebab",
    "collapsed": false,
    "execution": {
     "iopub.execute_input": "2025-03-21T02:45:58.419124Z",
     "iopub.status.busy": "2025-03-21T02:45:58.418295Z",
     "iopub.status.idle": "2025-03-21T02:45:58.423744Z",
     "shell.execute_reply": "2025-03-21T02:45:58.422875Z"
    },
    "jupyter": {
     "outputs_hidden": false
    },
    "papermill": {
     "duration": 0.018058,
     "end_time": "2025-03-21T02:45:58.425004",
     "exception": false,
     "start_time": "2025-03-21T02:45:58.406946",
     "status": "completed"
    },
    "tags": []
   },
   "outputs": [
    {
     "name": "stdout",
     "output_type": "stream",
     "text": [
      "✅ Dataset: /kaggle/input/balanced-yelp-100000/balanced_yelp_100000.json\n"
     ]
    }
   ],
   "source": [
    "use_sample_data = True\n",
    "sample_file_path = \"/kaggle/input/balanced-yelp-100000/balanced_yelp_100000.json\"\n",
    "real_file_path = \"/kaggle/input/yelp-dataset/yelp_academic_dataset_review.json\"\n",
    "file_path = sample_file_path if use_sample_data else real_file_path\n",
    "\n",
    "print(f\"✅ Dataset: {file_path}\")\n",
    "\n",
    "distilbert_save_path = \"/kaggle/working/distilbert_model\"  # where we save the DistilBERT weights\n",
    "tfidf_vectorizer_path = \"/kaggle/working/tfidf_vectorizer.pkl\"\n",
    "xgb_model_path = \"/kaggle/working/xgb_hybrid.pkl\"\n",
    "\n",
    "# For DistilBERT training\n",
    "num_labels = 5  \n",
    "num_train_epochs = 3\n",
    "test_size = 0.2\n",
    "random_seed = 42"
   ]
  },
  {
   "cell_type": "markdown",
   "id": "f5c69bf7",
   "metadata": {
    "_cell_guid": "9f05b892-d7c8-4f14-a721-81d72c722f2b",
    "_uuid": "75f8fbae-5acf-4f26-a734-dd47c7935419",
    "collapsed": false,
    "jupyter": {
     "outputs_hidden": false
    },
    "papermill": {
     "duration": 0.010041,
     "end_time": "2025-03-21T02:45:58.445584",
     "exception": false,
     "start_time": "2025-03-21T02:45:58.435543",
     "status": "completed"
    },
    "tags": []
   },
   "source": [
    "# 4) Load Data\n",
    "\n",
    "We assume the Yelp data with columns \"text\" and \"stars\".\n",
    "We'll convert stars to 0-based indexing so that DistilBertForSequenceClassification(num_labels=5) matches."
   ]
  },
  {
   "cell_type": "code",
   "execution_count": 4,
   "id": "0d9bd5e0",
   "metadata": {
    "_cell_guid": "1539db5d-9033-46a7-b40d-44593596b1e6",
    "_uuid": "f71b1b2a-9733-42ee-b38c-c9fca2f5067c",
    "collapsed": false,
    "execution": {
     "iopub.execute_input": "2025-03-21T02:45:58.467153Z",
     "iopub.status.busy": "2025-03-21T02:45:58.466938Z",
     "iopub.status.idle": "2025-03-21T02:45:59.636034Z",
     "shell.execute_reply": "2025-03-21T02:45:59.635073Z"
    },
    "jupyter": {
     "outputs_hidden": false
    },
    "papermill": {
     "duration": 1.181704,
     "end_time": "2025-03-21T02:45:59.637453",
     "exception": false,
     "start_time": "2025-03-21T02:45:58.455749",
     "status": "completed"
    },
    "tags": []
   },
   "outputs": [
    {
     "name": "stdout",
     "output_type": "stream",
     "text": [
      "Data shape: (100000, 2)\n",
      "                                                text  stars\n",
      "0  I went in today and tried the make your own Sa...      3\n",
      "1  This place overall probably one of the best ch...      4\n",
      "2  Looked for a recommended place as we were trav...      0\n",
      "3  Excellent meal! We shared a very nice size por...      3\n",
      "4  Good service, excellent food and presentation....      4\n"
     ]
    }
   ],
   "source": [
    "df_full = pd.read_json(file_path, lines=True)\n",
    "df_full = df_full[['text', 'stars']].dropna()\n",
    "df_full['stars'] = df_full['stars'].astype(int) - 1  # [1..5] => [0..4]\n",
    "\n",
    "print(\"Data shape:\", df_full.shape)\n",
    "print(df_full.head())"
   ]
  },
  {
   "cell_type": "markdown",
   "id": "88da55ff",
   "metadata": {
    "_cell_guid": "ed0ed0ba-5af0-40c8-aee2-fae133a4daec",
    "_uuid": "b2cd22b9-5442-4bea-b9d1-dcce7d7c1335",
    "collapsed": false,
    "jupyter": {
     "outputs_hidden": false
    },
    "papermill": {
     "duration": 0.010334,
     "end_time": "2025-03-21T02:45:59.658794",
     "exception": false,
     "start_time": "2025-03-21T02:45:59.648460",
     "status": "completed"
    },
    "tags": []
   },
   "source": [
    "# 5) Single Train/Test Split\n",
    "\n",
    "This split is used for BOTH DistilBERT and XGBoost."
   ]
  },
  {
   "cell_type": "code",
   "execution_count": 5,
   "id": "f698bf7c",
   "metadata": {
    "_cell_guid": "c5eaf139-ace8-41d7-a59a-702446f54318",
    "_uuid": "fde0d6b2-6b0f-474e-bfce-7cc6e3639e8f",
    "collapsed": false,
    "execution": {
     "iopub.execute_input": "2025-03-21T02:45:59.680356Z",
     "iopub.status.busy": "2025-03-21T02:45:59.680101Z",
     "iopub.status.idle": "2025-03-21T02:45:59.714562Z",
     "shell.execute_reply": "2025-03-21T02:45:59.713800Z"
    },
    "jupyter": {
     "outputs_hidden": false
    },
    "papermill": {
     "duration": 0.046714,
     "end_time": "2025-03-21T02:45:59.715805",
     "exception": false,
     "start_time": "2025-03-21T02:45:59.669091",
     "status": "completed"
    },
    "tags": []
   },
   "outputs": [
    {
     "name": "stdout",
     "output_type": "stream",
     "text": [
      "Train size: 80000, Test size: 20000\n"
     ]
    }
   ],
   "source": [
    "train_texts, test_texts, train_labels, test_labels = train_test_split(\n",
    "    df_full['text'].tolist(), \n",
    "    df_full['stars'].tolist(),\n",
    "    test_size=test_size,\n",
    "    random_state=random_seed,\n",
    "    shuffle=True\n",
    ")\n",
    "\n",
    "print(f\"Train size: {len(train_texts)}, Test size: {len(test_texts)}\")"
   ]
  },
  {
   "cell_type": "markdown",
   "id": "eaf8a469",
   "metadata": {
    "_cell_guid": "b45a8550-6550-451f-a3f5-435fc3fd3009",
    "_uuid": "df4253ca-a370-444b-a20c-189fe72b11ca",
    "collapsed": false,
    "jupyter": {
     "outputs_hidden": false
    },
    "papermill": {
     "duration": 0.010372,
     "end_time": "2025-03-21T02:45:59.736972",
     "exception": false,
     "start_time": "2025-03-21T02:45:59.726600",
     "status": "completed"
    },
    "tags": []
   },
   "source": [
    "# 6) DistilBERT Training\n",
    "\n",
    "We'll fine-tune DistilBERT on the training portion. We'll evaluate on the test portion."
   ]
  },
  {
   "cell_type": "code",
   "execution_count": 6,
   "id": "55ac5539",
   "metadata": {
    "_cell_guid": "8dd86b17-4d11-45d4-92ac-2ba9dabc45a6",
    "_uuid": "cd4417e2-e791-43a6-b187-10ab24886037",
    "collapsed": false,
    "execution": {
     "iopub.execute_input": "2025-03-21T02:45:59.759973Z",
     "iopub.status.busy": "2025-03-21T02:45:59.759716Z",
     "iopub.status.idle": "2025-03-21T03:46:02.914835Z",
     "shell.execute_reply": "2025-03-21T03:46:02.914010Z"
    },
    "jupyter": {
     "outputs_hidden": false
    },
    "papermill": {
     "duration": 3603.168057,
     "end_time": "2025-03-21T03:46:02.916134",
     "exception": false,
     "start_time": "2025-03-21T02:45:59.748077",
     "status": "completed"
    },
    "tags": []
   },
   "outputs": [
    {
     "data": {
      "application/vnd.jupyter.widget-view+json": {
       "model_id": "6a8994091b8745fda79a0882b88691a9",
       "version_major": 2,
       "version_minor": 0
      },
      "text/plain": [
       "tokenizer_config.json:   0%|          | 0.00/48.0 [00:00<?, ?B/s]"
      ]
     },
     "metadata": {},
     "output_type": "display_data"
    },
    {
     "data": {
      "application/vnd.jupyter.widget-view+json": {
       "model_id": "971f232214da456897fcc99ab65ee28c",
       "version_major": 2,
       "version_minor": 0
      },
      "text/plain": [
       "vocab.txt:   0%|          | 0.00/232k [00:00<?, ?B/s]"
      ]
     },
     "metadata": {},
     "output_type": "display_data"
    },
    {
     "data": {
      "application/vnd.jupyter.widget-view+json": {
       "model_id": "4642a026249b41ffb4250dc957b0b8f9",
       "version_major": 2,
       "version_minor": 0
      },
      "text/plain": [
       "tokenizer.json:   0%|          | 0.00/466k [00:00<?, ?B/s]"
      ]
     },
     "metadata": {},
     "output_type": "display_data"
    },
    {
     "data": {
      "application/vnd.jupyter.widget-view+json": {
       "model_id": "82905f68794548c0a4f42b4a6f3215ef",
       "version_major": 2,
       "version_minor": 0
      },
      "text/plain": [
       "config.json:   0%|          | 0.00/483 [00:00<?, ?B/s]"
      ]
     },
     "metadata": {},
     "output_type": "display_data"
    },
    {
     "data": {
      "application/vnd.jupyter.widget-view+json": {
       "model_id": "2ec3b1e93cad46f18b54a90b31e4765b",
       "version_major": 2,
       "version_minor": 0
      },
      "text/plain": [
       "model.safetensors:   0%|          | 0.00/268M [00:00<?, ?B/s]"
      ]
     },
     "metadata": {},
     "output_type": "display_data"
    },
    {
     "name": "stderr",
     "output_type": "stream",
     "text": [
      "Some weights of DistilBertForSequenceClassification were not initialized from the model checkpoint at distilbert-base-uncased and are newly initialized: ['classifier.bias', 'classifier.weight', 'pre_classifier.bias', 'pre_classifier.weight']\n",
      "You should probably TRAIN this model on a down-stream task to be able to use it for predictions and inference.\n",
      "/usr/local/lib/python3.10/dist-packages/torch/nn/parallel/_functions.py:71: UserWarning: Was asked to gather along dimension 0, but all input tensors were scalars; will instead unsqueeze and return a vector.\n",
      "  warnings.warn(\n"
     ]
    },
    {
     "data": {
      "text/html": [
       "\n",
       "    <div>\n",
       "      \n",
       "      <progress value='7500' max='7500' style='width:300px; height:20px; vertical-align: middle;'></progress>\n",
       "      [7500/7500 56:05, Epoch 3/3]\n",
       "    </div>\n",
       "    <table border=\"1\" class=\"dataframe\">\n",
       "  <thead>\n",
       " <tr style=\"text-align: left;\">\n",
       "      <th>Epoch</th>\n",
       "      <th>Training Loss</th>\n",
       "      <th>Validation Loss</th>\n",
       "    </tr>\n",
       "  </thead>\n",
       "  <tbody>\n",
       "    <tr>\n",
       "      <td>1</td>\n",
       "      <td>0.737000</td>\n",
       "      <td>0.690919</td>\n",
       "    </tr>\n",
       "    <tr>\n",
       "      <td>2</td>\n",
       "      <td>0.416500</td>\n",
       "      <td>0.540622</td>\n",
       "    </tr>\n",
       "    <tr>\n",
       "      <td>3</td>\n",
       "      <td>0.305400</td>\n",
       "      <td>0.550905</td>\n",
       "    </tr>\n",
       "  </tbody>\n",
       "</table><p>"
      ],
      "text/plain": [
       "<IPython.core.display.HTML object>"
      ]
     },
     "metadata": {},
     "output_type": "display_data"
    },
    {
     "name": "stderr",
     "output_type": "stream",
     "text": [
      "/usr/local/lib/python3.10/dist-packages/torch/nn/parallel/_functions.py:71: UserWarning: Was asked to gather along dimension 0, but all input tensors were scalars; will instead unsqueeze and return a vector.\n",
      "  warnings.warn(\n",
      "/usr/local/lib/python3.10/dist-packages/torch/nn/parallel/_functions.py:71: UserWarning: Was asked to gather along dimension 0, but all input tensors were scalars; will instead unsqueeze and return a vector.\n",
      "  warnings.warn(\n",
      "/usr/local/lib/python3.10/dist-packages/torch/nn/parallel/_functions.py:71: UserWarning: Was asked to gather along dimension 0, but all input tensors were scalars; will instead unsqueeze and return a vector.\n",
      "  warnings.warn(\n"
     ]
    },
    {
     "name": "stdout",
     "output_type": "stream",
     "text": [
      "DistilBERT fine-tuning complete and saved.\n"
     ]
    }
   ],
   "source": [
    "tokenizer = DistilBertTokenizer.from_pretrained(\"distilbert-base-uncased\")\n",
    "\n",
    "# 6.1: Tokenize\n",
    "train_encodings = tokenizer(train_texts, truncation=True, padding=True, max_length=256)\n",
    "test_encodings = tokenizer(test_texts, truncation=True, padding=True, max_length=256)\n",
    "\n",
    "class ReviewDataset(Dataset):\n",
    "    def __init__(self, encodings, labels):\n",
    "        self.encodings = encodings\n",
    "        self.labels = labels\n",
    "\n",
    "    def __len__(self):\n",
    "        return len(self.labels)\n",
    "\n",
    "    def __getitem__(self, idx):\n",
    "        item = {key: torch.tensor(val[idx]) for key, val in self.encodings.items()}\n",
    "        item[\"labels\"] = torch.tensor(self.labels[idx])\n",
    "        return item\n",
    "\n",
    "train_dataset = ReviewDataset(train_encodings, train_labels)\n",
    "test_dataset = ReviewDataset(test_encodings, test_labels)\n",
    "\n",
    "model = DistilBertForSequenceClassification.from_pretrained(\n",
    "    \"distilbert-base-uncased\",\n",
    "    num_labels=num_labels\n",
    ")\n",
    "\n",
    "training_args = TrainingArguments(\n",
    "    output_dir=distilbert_save_path,\n",
    "    num_train_epochs=num_train_epochs,\n",
    "    per_device_train_batch_size=16,\n",
    "    per_device_eval_batch_size=16,\n",
    "    warmup_steps=500,\n",
    "    weight_decay=0.01,\n",
    "    logging_dir=distilbert_save_path,\n",
    "    logging_steps=10,\n",
    "    eval_strategy=\"epoch\",\n",
    "    save_strategy=\"epoch\",\n",
    "    load_best_model_at_end=True,\n",
    "    report_to=\"none\",\n",
    "    fp16=True\n",
    ")\n",
    "\n",
    "trainer = Trainer(\n",
    "    model=model,\n",
    "    args=training_args,\n",
    "    train_dataset=train_dataset,\n",
    "    eval_dataset=test_dataset\n",
    ")\n",
    "\n",
    "trainer.train()\n",
    "\n",
    "# Save DistilBERT\n",
    "trainer.save_model(distilbert_save_path)\n",
    "tokenizer.save_pretrained(distilbert_save_path)\n",
    "print(\"DistilBERT fine-tuning complete and saved.\")"
   ]
  },
  {
   "cell_type": "markdown",
   "id": "f41eb3cc",
   "metadata": {
    "_cell_guid": "271e7505-52a6-48d5-b1b3-36cf8f19b54e",
    "_uuid": "f27a99c0-32f5-4f24-85b3-31f7bb353195",
    "collapsed": false,
    "jupyter": {
     "outputs_hidden": false
    },
    "papermill": {
     "duration": 0.01273,
     "end_time": "2025-03-21T03:46:02.947967",
     "exception": false,
     "start_time": "2025-03-21T03:46:02.935237",
     "status": "completed"
    },
    "tags": []
   },
   "source": [
    "# 7) Extract DistilBERT Embeddings\n",
    "\n",
    "Instead of final logits (5 dims), we'll take the last hidden state [CLS] embedding (768 dims) \n",
    "for a richer representation. This typically performs better in a hybrid pipeline."
   ]
  },
  {
   "cell_type": "code",
   "execution_count": 7,
   "id": "1d35a313",
   "metadata": {
    "_cell_guid": "47a007e5-1061-4431-8d30-a8ef1556a0c6",
    "_uuid": "f1f7088c-2b71-4124-94df-50a707aecdd5",
    "collapsed": false,
    "execution": {
     "iopub.execute_input": "2025-03-21T03:46:02.987118Z",
     "iopub.status.busy": "2025-03-21T03:46:02.986721Z",
     "iopub.status.idle": "2025-03-21T04:02:44.542595Z",
     "shell.execute_reply": "2025-03-21T04:02:44.541646Z"
    },
    "jupyter": {
     "outputs_hidden": false
    },
    "papermill": {
     "duration": 1001.58696,
     "end_time": "2025-03-21T04:02:44.555454",
     "exception": false,
     "start_time": "2025-03-21T03:46:02.968494",
     "status": "completed"
    },
    "tags": []
   },
   "outputs": [
    {
     "name": "stdout",
     "output_type": "stream",
     "text": [
      "Extracting DistilBERT embeddings for train set...\n",
      "Extracting DistilBERT embeddings for test set...\n",
      "Train embeddings shape: (80000, 768)\n",
      "Test embeddings shape: (20000, 768)\n"
     ]
    }
   ],
   "source": [
    "# Reload the fine-tuned model in \"evaluation\" mode\n",
    "# (We do this to illustrate that you'd typically load from disk.)\n",
    "distilbert_model = DistilBertForSequenceClassification.from_pretrained(distilbert_save_path).to(device)\n",
    "distilbert_model.eval()\n",
    "\n",
    "def get_last_hidden_cls(texts, batch_size=64):\n",
    "    all_embeddings = []\n",
    "\n",
    "    for i in range(0, len(texts), batch_size):\n",
    "        batch_texts = texts[i:i+batch_size]\n",
    "        tokens = tokenizer(batch_texts, truncation=True, padding=True, max_length=256, return_tensors=\"pt\").to(device)\n",
    "\n",
    "        with torch.no_grad():\n",
    "            outputs = distilbert_model(\n",
    "                **tokens,\n",
    "                output_hidden_states=True,  # we want hidden states\n",
    "                return_dict=True\n",
    "            )\n",
    "            # outputs.hidden_states[-1].shape => (batch_size, seq_len, hidden_size=768)\n",
    "            last_hidden = outputs.hidden_states[-1]\n",
    "            cls_embeds = last_hidden[:, 0, :].cpu().numpy()  # (batch_size, 768)\n",
    "        \n",
    "        all_embeddings.append(cls_embeds)\n",
    "\n",
    "    return np.vstack(all_embeddings)  # shape: (N, 768)\n",
    "\n",
    "print(\"Extracting DistilBERT embeddings for train set...\")\n",
    "train_embeddings = get_last_hidden_cls(train_texts)\n",
    "\n",
    "print(\"Extracting DistilBERT embeddings for test set...\")\n",
    "test_embeddings = get_last_hidden_cls(test_texts)\n",
    "\n",
    "print(\"Train embeddings shape:\", train_embeddings.shape)\n",
    "print(\"Test embeddings shape:\", test_embeddings.shape)"
   ]
  },
  {
   "cell_type": "markdown",
   "id": "3b42c2f4",
   "metadata": {
    "_cell_guid": "48925190-9909-49a7-8da0-dff870bb7d91",
    "_uuid": "8b051104-d17e-4874-b55f-97173d690375",
    "collapsed": false,
    "jupyter": {
     "outputs_hidden": false
    },
    "papermill": {
     "duration": 0.011414,
     "end_time": "2025-03-21T04:02:44.578644",
     "exception": false,
     "start_time": "2025-03-21T04:02:44.567230",
     "status": "completed"
    },
    "tags": []
   },
   "source": [
    "# 8) TF-IDF for Train & Test\n",
    "\n",
    "Fit on train texts, transform test texts to ensure no data leakage."
   ]
  },
  {
   "cell_type": "code",
   "execution_count": 8,
   "id": "d9b6b891",
   "metadata": {
    "_cell_guid": "e7026ad3-e96f-4189-98cf-1031fe538ee2",
    "_uuid": "ee0d12d9-676c-4867-954e-dc167582ecbf",
    "collapsed": false,
    "execution": {
     "iopub.execute_input": "2025-03-21T04:02:44.602554Z",
     "iopub.status.busy": "2025-03-21T04:02:44.602301Z",
     "iopub.status.idle": "2025-03-21T04:02:57.602103Z",
     "shell.execute_reply": "2025-03-21T04:02:57.601373Z"
    },
    "jupyter": {
     "outputs_hidden": false
    },
    "papermill": {
     "duration": 13.01322,
     "end_time": "2025-03-21T04:02:57.603355",
     "exception": false,
     "start_time": "2025-03-21T04:02:44.590135",
     "status": "completed"
    },
    "tags": []
   },
   "outputs": [
    {
     "name": "stdout",
     "output_type": "stream",
     "text": [
      "TF-IDF train shape: (80000, 5000)\n",
      "TF-IDF test shape: (20000, 5000)\n",
      "TF-IDF vectorizer saved to /kaggle/working/tfidf_vectorizer.pkl.\n"
     ]
    }
   ],
   "source": [
    "vectorizer = TfidfVectorizer(max_features=5000)\n",
    "X_train_tfidf = vectorizer.fit_transform(train_texts).toarray()\n",
    "X_test_tfidf = vectorizer.transform(test_texts).toarray()\n",
    "\n",
    "print(\"TF-IDF train shape:\", X_train_tfidf.shape)\n",
    "print(\"TF-IDF test shape:\", X_test_tfidf.shape)\n",
    "\n",
    "# Save vectorizer for inference\n",
    "joblib.dump(vectorizer, tfidf_vectorizer_path)\n",
    "print(f\"TF-IDF vectorizer saved to {tfidf_vectorizer_path}.\")"
   ]
  },
  {
   "cell_type": "markdown",
   "id": "88120c04",
   "metadata": {
    "_cell_guid": "ffb8f8f3-0e64-4363-89a2-79fe6e2cd7c9",
    "_uuid": "61d58462-0b32-4552-b074-d87c80c350e7",
    "collapsed": false,
    "jupyter": {
     "outputs_hidden": false
    },
    "papermill": {
     "duration": 0.011794,
     "end_time": "2025-03-21T04:02:57.627512",
     "exception": false,
     "start_time": "2025-03-21T04:02:57.615718",
     "status": "completed"
    },
    "tags": []
   },
   "source": [
    "# 9) Combine DistilBERT + TF-IDF => XGBoost"
   ]
  },
  {
   "cell_type": "code",
   "execution_count": 9,
   "id": "756ce4d5",
   "metadata": {
    "_cell_guid": "6c5d1031-ad14-4b90-b39a-91a1dedee996",
    "_uuid": "9e93aa25-ba4d-4e32-a195-5bb1daaecc6d",
    "collapsed": false,
    "execution": {
     "iopub.execute_input": "2025-03-21T04:02:57.651544Z",
     "iopub.status.busy": "2025-03-21T04:02:57.651284Z",
     "iopub.status.idle": "2025-03-21T04:17:31.650002Z",
     "shell.execute_reply": "2025-03-21T04:17:31.649126Z"
    },
    "jupyter": {
     "outputs_hidden": false
    },
    "papermill": {
     "duration": 874.012224,
     "end_time": "2025-03-21T04:17:31.651377",
     "exception": false,
     "start_time": "2025-03-21T04:02:57.639153",
     "status": "completed"
    },
    "tags": []
   },
   "outputs": [
    {
     "name": "stdout",
     "output_type": "stream",
     "text": [
      "Combined train shape: (80000, 5768)\n",
      "Combined test shape:  (20000, 5768)\n"
     ]
    },
    {
     "name": "stderr",
     "output_type": "stream",
     "text": [
      "/usr/local/lib/python3.10/dist-packages/xgboost/sklearn.py:889: UserWarning: `early_stopping_rounds` in `fit` method is deprecated for better compatibility with scikit-learn, use `early_stopping_rounds` in constructor or`set_params` instead.\n",
      "  warnings.warn(\n"
     ]
    },
    {
     "name": "stdout",
     "output_type": "stream",
     "text": [
      "[0]\tvalidation_0-mlogloss:1.44600\n",
      "[1]\tvalidation_0-mlogloss:1.31843\n",
      "[2]\tvalidation_0-mlogloss:1.21516\n",
      "[3]\tvalidation_0-mlogloss:1.12914\n",
      "[4]\tvalidation_0-mlogloss:1.05636\n",
      "[5]\tvalidation_0-mlogloss:0.99437\n",
      "[6]\tvalidation_0-mlogloss:0.94056\n",
      "[7]\tvalidation_0-mlogloss:0.89414\n",
      "[8]\tvalidation_0-mlogloss:0.85378\n",
      "[9]\tvalidation_0-mlogloss:0.81840\n",
      "[10]\tvalidation_0-mlogloss:0.78753\n",
      "[11]\tvalidation_0-mlogloss:0.76059\n",
      "[12]\tvalidation_0-mlogloss:0.73694\n",
      "[13]\tvalidation_0-mlogloss:0.71612\n",
      "[14]\tvalidation_0-mlogloss:0.69786\n",
      "[15]\tvalidation_0-mlogloss:0.68172\n",
      "[16]\tvalidation_0-mlogloss:0.66756\n",
      "[17]\tvalidation_0-mlogloss:0.65508\n",
      "[18]\tvalidation_0-mlogloss:0.64409\n",
      "[19]\tvalidation_0-mlogloss:0.63451\n",
      "[20]\tvalidation_0-mlogloss:0.62621\n",
      "[21]\tvalidation_0-mlogloss:0.61885\n",
      "[22]\tvalidation_0-mlogloss:0.61237\n",
      "[23]\tvalidation_0-mlogloss:0.60670\n",
      "[24]\tvalidation_0-mlogloss:0.60185\n",
      "[25]\tvalidation_0-mlogloss:0.59750\n",
      "[26]\tvalidation_0-mlogloss:0.59370\n",
      "[27]\tvalidation_0-mlogloss:0.59043\n",
      "[28]\tvalidation_0-mlogloss:0.58745\n",
      "[29]\tvalidation_0-mlogloss:0.58500\n",
      "[30]\tvalidation_0-mlogloss:0.58285\n",
      "[31]\tvalidation_0-mlogloss:0.58103\n",
      "[32]\tvalidation_0-mlogloss:0.57957\n",
      "[33]\tvalidation_0-mlogloss:0.57827\n",
      "[34]\tvalidation_0-mlogloss:0.57703\n",
      "[35]\tvalidation_0-mlogloss:0.57585\n",
      "[36]\tvalidation_0-mlogloss:0.57505\n",
      "[37]\tvalidation_0-mlogloss:0.57427\n",
      "[38]\tvalidation_0-mlogloss:0.57354\n",
      "[39]\tvalidation_0-mlogloss:0.57315\n",
      "[40]\tvalidation_0-mlogloss:0.57267\n",
      "[41]\tvalidation_0-mlogloss:0.57232\n",
      "[42]\tvalidation_0-mlogloss:0.57195\n",
      "[43]\tvalidation_0-mlogloss:0.57154\n",
      "[44]\tvalidation_0-mlogloss:0.57112\n",
      "[45]\tvalidation_0-mlogloss:0.57076\n",
      "[46]\tvalidation_0-mlogloss:0.57056\n",
      "[47]\tvalidation_0-mlogloss:0.57029\n",
      "[48]\tvalidation_0-mlogloss:0.57010\n",
      "[49]\tvalidation_0-mlogloss:0.56987\n",
      "[50]\tvalidation_0-mlogloss:0.56957\n",
      "[51]\tvalidation_0-mlogloss:0.56929\n",
      "[52]\tvalidation_0-mlogloss:0.56924\n",
      "[53]\tvalidation_0-mlogloss:0.56917\n",
      "[54]\tvalidation_0-mlogloss:0.56912\n",
      "[55]\tvalidation_0-mlogloss:0.56903\n",
      "[56]\tvalidation_0-mlogloss:0.56865\n",
      "[57]\tvalidation_0-mlogloss:0.56848\n",
      "[58]\tvalidation_0-mlogloss:0.56835\n",
      "[59]\tvalidation_0-mlogloss:0.56808\n",
      "[60]\tvalidation_0-mlogloss:0.56789\n",
      "[61]\tvalidation_0-mlogloss:0.56758\n",
      "[62]\tvalidation_0-mlogloss:0.56751\n",
      "[63]\tvalidation_0-mlogloss:0.56732\n",
      "[64]\tvalidation_0-mlogloss:0.56706\n",
      "[65]\tvalidation_0-mlogloss:0.56695\n",
      "[66]\tvalidation_0-mlogloss:0.56678\n",
      "[67]\tvalidation_0-mlogloss:0.56656\n",
      "[68]\tvalidation_0-mlogloss:0.56623\n",
      "[69]\tvalidation_0-mlogloss:0.56605\n",
      "[70]\tvalidation_0-mlogloss:0.56586\n",
      "[71]\tvalidation_0-mlogloss:0.56563\n",
      "[72]\tvalidation_0-mlogloss:0.56524\n",
      "[73]\tvalidation_0-mlogloss:0.56508\n",
      "[74]\tvalidation_0-mlogloss:0.56479\n",
      "[75]\tvalidation_0-mlogloss:0.56480\n",
      "[76]\tvalidation_0-mlogloss:0.56463\n",
      "[77]\tvalidation_0-mlogloss:0.56443\n",
      "[78]\tvalidation_0-mlogloss:0.56436\n",
      "[79]\tvalidation_0-mlogloss:0.56407\n",
      "[80]\tvalidation_0-mlogloss:0.56389\n",
      "[81]\tvalidation_0-mlogloss:0.56368\n",
      "[82]\tvalidation_0-mlogloss:0.56354\n",
      "[83]\tvalidation_0-mlogloss:0.56337\n",
      "[84]\tvalidation_0-mlogloss:0.56301\n",
      "[85]\tvalidation_0-mlogloss:0.56291\n",
      "[86]\tvalidation_0-mlogloss:0.56269\n",
      "[87]\tvalidation_0-mlogloss:0.56246\n",
      "[88]\tvalidation_0-mlogloss:0.56217\n",
      "[89]\tvalidation_0-mlogloss:0.56186\n",
      "[90]\tvalidation_0-mlogloss:0.56173\n",
      "[91]\tvalidation_0-mlogloss:0.56157\n",
      "[92]\tvalidation_0-mlogloss:0.56148\n",
      "[93]\tvalidation_0-mlogloss:0.56129\n",
      "[94]\tvalidation_0-mlogloss:0.56123\n",
      "[95]\tvalidation_0-mlogloss:0.56100\n",
      "[96]\tvalidation_0-mlogloss:0.56084\n",
      "[97]\tvalidation_0-mlogloss:0.56082\n",
      "[98]\tvalidation_0-mlogloss:0.56061\n",
      "[99]\tvalidation_0-mlogloss:0.56055\n",
      "\n",
      "🎯 **Hybrid Model Results**\n",
      "Accuracy: 0.8031\n",
      "F1 Score: 0.8023\n",
      "XGBoost hybrid model saved to /kaggle/working/xgb_hybrid.pkl.\n"
     ]
    }
   ],
   "source": [
    "X_train_combined = np.hstack([train_embeddings, X_train_tfidf])  \n",
    "X_test_combined = np.hstack([test_embeddings, X_test_tfidf])\n",
    "\n",
    "print(\"Combined train shape:\", X_train_combined.shape)\n",
    "print(\"Combined test shape: \", X_test_combined.shape)\n",
    "\n",
    "xgb_model = XGBClassifier(\n",
    "    n_estimators=100,\n",
    "    learning_rate=0.1,\n",
    "    max_depth=4,\n",
    "    random_state=random_seed,\n",
    "    use_label_encoder=False\n",
    ")\n",
    "\n",
    "xgb_model.fit(\n",
    "    X_train_combined, \n",
    "    np.array(train_labels),\n",
    "    eval_set=[(X_test_combined, np.array(test_labels))],\n",
    "    early_stopping_rounds=10,\n",
    "    verbose=True\n",
    ")\n",
    "\n",
    "y_pred = xgb_model.predict(X_test_combined)\n",
    "acc = accuracy_score(test_labels, y_pred)\n",
    "f1 = f1_score(test_labels, y_pred, average=\"weighted\")\n",
    "\n",
    "print(\"\\n🎯 **Hybrid Model Results**\")\n",
    "print(f\"Accuracy: {acc:.4f}\")\n",
    "print(f\"F1 Score: {f1:.4f}\")\n",
    "\n",
    "# Save XGBoost\n",
    "joblib.dump(xgb_model, xgb_model_path)\n",
    "print(f\"XGBoost hybrid model saved to {xgb_model_path}.\")"
   ]
  },
  {
   "cell_type": "markdown",
   "id": "5b3ffd05",
   "metadata": {
    "_cell_guid": "0334b997-4cbe-4385-a41f-4650e457a7cc",
    "_uuid": "902bf7cc-edb9-4e26-b02a-cf70bfda5448",
    "collapsed": false,
    "jupyter": {
     "outputs_hidden": false
    },
    "papermill": {
     "duration": 0.016123,
     "end_time": "2025-03-21T04:17:31.684336",
     "exception": false,
     "start_time": "2025-03-21T04:17:31.668213",
     "status": "completed"
    },
    "tags": []
   },
   "source": [
    "# 10) Optional: Plot Training Loss & Feature Importance"
   ]
  },
  {
   "cell_type": "code",
   "execution_count": 10,
   "id": "8e9803f9",
   "metadata": {
    "_cell_guid": "922245e8-ddcf-4607-8ad4-b99f96d2d116",
    "_uuid": "0ea9eb93-9a3e-4fcd-a5ae-b84872c3f11e",
    "collapsed": false,
    "execution": {
     "iopub.execute_input": "2025-03-21T04:17:31.717114Z",
     "iopub.status.busy": "2025-03-21T04:17:31.716843Z",
     "iopub.status.idle": "2025-03-21T04:17:32.190419Z",
     "shell.execute_reply": "2025-03-21T04:17:32.189554Z"
    },
    "jupyter": {
     "outputs_hidden": false
    },
    "papermill": {
     "duration": 0.491586,
     "end_time": "2025-03-21T04:17:32.191788",
     "exception": false,
     "start_time": "2025-03-21T04:17:31.700202",
     "status": "completed"
    },
    "tags": []
   },
   "outputs": [
    {
     "data": {
      "image/png": "[encoded data removed]",
      "text/plain": [
       "<Figure size 640x480 with 1 Axes>"
      ]
     },
     "metadata": {},
     "output_type": "display_data"
    },
    {
     "data": {
      "text/plain": [
       "<Figure size 800x600 with 0 Axes>"
      ]
     },
     "metadata": {},
     "output_type": "display_data"
    },
    {
     "data": {
      "image/png": "[encoded data removed]",
      "text/plain": [
       "<Figure size 640x480 with 1 Axes>"
      ]
     },
     "metadata": {},
     "output_type": "display_data"
    }
   ],
   "source": [
    "# Evals result\n",
    "evals_result = xgb_model.evals_result()\n",
    "epochs = len(evals_result['validation_0']['mlogloss'])\n",
    "plt.plot(range(epochs), evals_result['validation_0']['mlogloss'], label='Test Logloss')\n",
    "plt.axvline(x=xgb_model.best_iteration, color='red', linestyle='--', label=\"Best Iteration\")\n",
    "plt.xlabel('Iteration')\n",
    "plt.ylabel('Logloss')\n",
    "plt.title('XGBoost Logloss Over Iterations')\n",
    "plt.legend()\n",
    "plt.grid(True)\n",
    "plt.show()\n",
    "\n",
    "# Feature importance\n",
    "plt.figure(figsize=(8,6))\n",
    "plot_importance(xgb_model, max_num_features=15)\n",
    "plt.title(\"Top 15 Feature Importances (Hybrid)\")\n",
    "plt.show()"
   ]
  },
  {
   "cell_type": "markdown",
   "id": "32900a29",
   "metadata": {
    "_cell_guid": "7b77f9ac-4f47-428e-bbf1-c357a407bfcf",
    "_uuid": "902ca9f5-ae13-4d97-abbc-97c17173faef",
    "collapsed": false,
    "jupyter": {
     "outputs_hidden": false
    },
    "papermill": {
     "duration": 0.017373,
     "end_time": "2025-03-21T04:17:32.227867",
     "exception": false,
     "start_time": "2025-03-21T04:17:32.210494",
     "status": "completed"
    },
    "tags": []
   },
   "source": [
    "# 11) Final Artifacts\n",
    "We can store model artifacts in a dictionary, or keep them separate."
   ]
  },
  {
   "cell_type": "code",
   "execution_count": 11,
   "id": "edc7c428",
   "metadata": {
    "_cell_guid": "d3dbefc3-9696-43b0-af59-8e92b2ca8839",
    "_uuid": "32ccdc9e-17f8-4c71-a678-5a066891ae07",
    "collapsed": false,
    "execution": {
     "iopub.execute_input": "2025-03-21T04:17:32.263382Z",
     "iopub.status.busy": "2025-03-21T04:17:32.263137Z",
     "iopub.status.idle": "2025-03-21T04:17:32.517424Z",
     "shell.execute_reply": "2025-03-21T04:17:32.516494Z"
    },
    "jupyter": {
     "outputs_hidden": false
    },
    "papermill": {
     "duration": 0.273585,
     "end_time": "2025-03-21T04:17:32.518920",
     "exception": false,
     "start_time": "2025-03-21T04:17:32.245335",
     "status": "completed"
    },
    "tags": []
   },
   "outputs": [
    {
     "name": "stdout",
     "output_type": "stream",
     "text": [
      "✅ Final artifacts saved to /kaggle/working/xgb_hybrid.pkl!\n",
      "\n",
      "Accuracy: 80.31% | F1 Score: 0.8023\n"
     ]
    }
   ],
   "source": [
    "model_artifacts = {\n",
    "    \"xgb_model\": xgb_model,\n",
    "    \"tfidf_vectorizer\": vectorizer,\n",
    "    \"distilbert_path\": distilbert_save_path,  # path to the DistilBERT checkpoint\n",
    "    \"accuracy\": acc,\n",
    "    \"f1_score\": f1,\n",
    "}\n",
    "\n",
    "joblib.dump(model_artifacts, xgb_model_path)\n",
    "print(f\"✅ Final artifacts saved to {xgb_model_path}!\\n\")\n",
    "print(f\"Accuracy: {acc*100:.2f}% | F1 Score: {f1:.4f}\")"
   ]
  }
 ],
 "metadata": {
  "accelerator": "GPU",
  "colab": {
   "authorship_tag": "ABX9TyON8cmZ67q/qdUXPgMU0Wfq",
   "gpuType": "T4",
   "provenance": []
  },
  "kaggle": {
   "accelerator": "nvidiaTeslaT4",
   "dataSources": [
    {
     "datasetId": 10100,
     "sourceId": 3316532,
     "sourceType": "datasetVersion"
    },
    {
     "datasetId": 6633584,
     "sourceId": 10703834,
     "sourceType": "datasetVersion"
    }
   ],
   "dockerImageVersionId": 30887,
   "isGpuEnabled": true,
   "isInternetEnabled": true,
   "language": "python",
   "sourceType": "notebook"
  },
  "kernelspec": {
   "display_name": "Python 3",
   "language": "python",
   "name": "python3"
  },
  "language_info": {
   "codemirror_mode": {
    "name": "ipython",
    "version": 3
   },
   "file_extension": ".py",
   "mimetype": "text/x-python",
   "name": "python",
   "nbconvert_exporter": "python",
   "pygments_lexer": "ipython3",
   "version": "3.10.12"
  },
  "papermill": {
   "default_parameters": {},
   "duration": 5528.927083,
   "end_time": "2025-03-21T04:17:35.563084",
   "environment_variables": {},
   "exception": null,
   "input_path": "__notebook__.ipynb",
   "output_path": "__notebook__.ipynb",
   "parameters": {},
   "start_time": "2025-03-21T02:45:26.636001",
   "version": "2.6.0"
  },
  "widgets": {
   "application/vnd.jupyter.widget-state+json": {
    "state": {
     "01623d10e5154fbaaf9b0916ee123f8d": {
      "model_module": "@jupyter-widgets/base",
      "model_module_version": "2.0.0",
      "model_name": "LayoutModel",
      "state": {
       "_model_module": "@jupyter-widgets/base",
       "_model_module_version": "2.0.0",
       "_model_name": "LayoutModel",
       "_view_count": null,
       "_view_module": "@jupyter-widgets/base",
       "_view_module_version": "2.0.0",
       "_view_name": "LayoutView",
       "align_content": null,
       "align_items": null,
       "align_self": null,
       "border_bottom": null,
       "border_left": null,
       "border_right": null,
       "border_top": null,
       "bottom": null,
       "display": null,
       "flex": null,
       "flex_flow": null,
       "grid_area": null,
       "grid_auto_columns": null,
       "grid_auto_flow": null,
       "grid_auto_rows": null,
       "grid_column": null,
       "grid_gap": null,
       "grid_row": null,
       "grid_template_areas": null,
       "grid_template_columns": null,
       "grid_template_rows": null,
       "height": null,
       "justify_content": null,
       "justify_items": null,
       "left": null,
       "margin": null,
       "max_height": null,
       "max_width": null,
       "min_height": null,
       "min_width": null,
       "object_fit": null,
       "object_position": null,
       "order": null,
       "overflow": null,
       "padding": null,
       "right": null,
       "top": null,
       "visibility": null,
       "width": null
      }
     },
     "01f786fc0ffd419dad63fdfa16d719f7": {
      "model_module": "@jupyter-widgets/base",
      "model_module_version": "2.0.0",
      "model_name": "LayoutModel",
      "state": {
       "_model_module": "@jupyter-widgets/base",
       "_model_module_version": "2.0.0",
       "_model_name": "LayoutModel",
       "_view_count": null,
       "_view_module": "@jupyter-widgets/base",
       "_view_module_version": "2.0.0",
       "_view_name": "LayoutView",
       "align_content": null,
       "align_items": null,
       "align_self": null,
       "border_bottom": null,
       "border_left": null,
       "border_right": null,
       "border_top": null,
       "bottom": null,
       "display": null,
       "flex": null,
       "flex_flow": null,
       "grid_area": null,
       "grid_auto_columns": null,
       "grid_auto_flow": null,
       "grid_auto_rows": null,
       "grid_column": null,
       "grid_gap": null,
       "grid_row": null,
       "grid_template_areas": null,
       "grid_template_columns": null,
       "grid_template_rows": null,
       "height": null,
       "justify_content": null,
       "justify_items": null,
       "left": null,
       "margin": null,
       "max_height": null,
       "max_width": null,
       "min_height": null,
       "min_width": null,
       "object_fit": null,
       "object_position": null,
       "order": null,
       "overflow": null,
       "padding": null,
       "right": null,
       "top": null,
       "visibility": null,
       "width": null
      }
     },
     "09b344b8060944159e56dcfe3d462d47": {
      "model_module": "@jupyter-widgets/controls",
      "model_module_version": "2.0.0",
      "model_name": "HTMLStyleModel",
      "state": {
       "_model_module": "@jupyter-widgets/controls",
       "_model_module_version": "2.0.0",
       "_model_name": "HTMLStyleModel",
       "_view_count": null,
       "_view_module": "@jupyter-widgets/base",
       "_view_module_version": "2.0.0",
       "_view_name": "StyleView",
       "background": null,
       "description_width": "",
       "font_size": null,
       "text_color": null
      }
     },
     "0f8bcc165d94401e86d8d63ef37ba8f0": {
      "model_module": "@jupyter-widgets/base",
      "model_module_version": "2.0.0",
      "model_name": "LayoutModel",
      "state": {
       "_model_module": "@jupyter-widgets/base",
       "_model_module_version": "2.0.0",
       "_model_name": "LayoutModel",
       "_view_count": null,
       "_view_module": "@jupyter-widgets/base",
       "_view_module_version": "2.0.0",
       "_view_name": "LayoutView",
       "align_content": null,
       "align_items": null,
       "align_self": null,
       "border_bottom": null,
       "border_left": null,
       "border_right": null,
       "border_top": null,
       "bottom": null,
       "display": null,
       "flex": null,
       "flex_flow": null,
       "grid_area": null,
       "grid_auto_columns": null,
       "grid_auto_flow": null,
       "grid_auto_rows": null,
       "grid_column": null,
       "grid_gap": null,
       "grid_row": null,
       "grid_template_areas": null,
       "grid_template_columns": null,
       "grid_template_rows": null,
       "height": null,
       "justify_content": null,
       "justify_items": null,
       "left": null,
       "margin": null,
       "max_height": null,
       "max_width": null,
       "min_height": null,
       "min_width": null,
       "object_fit": null,
       "object_position": null,
       "order": null,
       "overflow": null,
       "padding": null,
       "right": null,
       "top": null,
       "visibility": null,
       "width": null
      }
     },
     "1261b61d2bd4499d8eead8d3c4903077": {
      "model_module": "@jupyter-widgets/base",
      "model_module_version": "2.0.0",
      "model_name": "LayoutModel",
      "state": {
       "_model_module": "@jupyter-widgets/base",
       "_model_module_version": "2.0.0",
       "_model_name": "LayoutModel",
       "_view_count": null,
       "_view_module": "@jupyter-widgets/base",
       "_view_module_version": "2.0.0",
       "_view_name": "LayoutView",
       "align_content": null,
       "align_items": null,
       "align_self": null,
       "border_bottom": null,
       "border_left": null,
       "border_right": null,
       "border_top": null,
       "bottom": null,
       "display": null,
       "flex": null,
       "flex_flow": null,
       "grid_area": null,
       "grid_auto_columns": null,
       "grid_auto_flow": null,
       "grid_auto_rows": null,
       "grid_column": null,
       "grid_gap": null,
       "grid_row": null,
       "grid_template_areas": null,
       "grid_template_columns": null,
       "grid_template_rows": null,
       "height": null,
       "justify_content": null,
       "justify_items": null,
       "left": null,
       "margin": null,
       "max_height": null,
       "max_width": null,
       "min_height": null,
       "min_width": null,
       "object_fit": null,
       "object_position": null,
       "order": null,
       "overflow": null,
       "padding": null,
       "right": null,
       "top": null,
       "visibility": null,
       "width": null
      }
     },
     "13f08523adf446458d45762abec6d449": {
      "model_module": "@jupyter-widgets/controls",
      "model_module_version": "2.0.0",
      "model_name": "HTMLStyleModel",
      "state": {
       "_model_module": "@jupyter-widgets/controls",
       "_model_module_version": "2.0.0",
       "_model_name": "HTMLStyleModel",
       "_view_count": null,
       "_view_module": "@jupyter-widgets/base",
       "_view_module_version": "2.0.0",
       "_view_name": "StyleView",
       "background": null,
       "description_width": "",
       "font_size": null,
       "text_color": null
      }
     },
     "15514d1f487849c6a8b69ca9b5935186": {
      "model_module": "@jupyter-widgets/base",
      "model_module_version": "2.0.0",
      "model_name": "LayoutModel",
      "state": {
       "_model_module": "@jupyter-widgets/base",
       "_model_module_version": "2.0.0",
       "_model_name": "LayoutModel",
       "_view_count": null,
       "_view_module": "@jupyter-widgets/base",
       "_view_module_version": "2.0.0",
       "_view_name": "LayoutView",
       "align_content": null,
       "align_items": null,
       "align_self": null,
       "border_bottom": null,
       "border_left": null,
       "border_right": null,
       "border_top": null,
       "bottom": null,
       "display": null,
       "flex": null,
       "flex_flow": null,
       "grid_area": null,
       "grid_auto_columns": null,
       "grid_auto_flow": null,
       "grid_auto_rows": null,
       "grid_column": null,
       "grid_gap": null,
       "grid_row": null,
       "grid_template_areas": null,
       "grid_template_columns": null,
       "grid_template_rows": null,
       "height": null,
       "justify_content": null,
       "justify_items": null,
       "left": null,
       "margin": null,
       "max_height": null,
       "max_width": null,
       "min_height": null,
       "min_width": null,
       "object_fit": null,
       "object_position": null,
       "order": null,
       "overflow": null,
       "padding": null,
       "right": null,
       "top": null,
       "visibility": null,
       "width": null
      }
     },
     "1f226eadbdac40e49ad98c479f7cded9": {
      "model_module": "@jupyter-widgets/controls",
      "model_module_version": "2.0.0",
      "model_name": "HTMLModel",
      "state": {
       "_dom_classes": [],
       "_model_module": "@jupyter-widgets/controls",
       "_model_module_version": "2.0.0",
       "_model_name": "HTMLModel",
       "_view_count": null,
       "_view_module": "@jupyter-widgets/controls",
       "_view_module_version": "2.0.0",
       "_view_name": "HTMLView",
       "description": "",
       "description_allow_html": false,
       "layout": "IPY_MODEL_01623d10e5154fbaaf9b0916ee123f8d",
       "placeholder": "​",
       "style": "IPY_MODEL_13f08523adf446458d45762abec6d449",
       "tabbable": null,
       "tooltip": null,
       "value": " 232k/232k [00:00&lt;00:00, 1.84MB/s]"
      }
     },
     "21e094668eda4fa7af99ed78381e629d": {
      "model_module": "@jupyter-widgets/controls",
      "model_module_version": "2.0.0",
      "model_name": "HTMLModel",
      "state": {
       "_dom_classes": [],
       "_model_module": "@jupyter-widgets/controls",
       "_model_module_version": "2.0.0",
       "_model_name": "HTMLModel",
       "_view_count": null,
       "_view_module": "@jupyter-widgets/controls",
       "_view_module_version": "2.0.0",
       "_view_name": "HTMLView",
       "description": "",
       "description_allow_html": false,
       "layout": "IPY_MODEL_650f189167504c47b8f5929329adb9d6",
       "placeholder": "​",
       "style": "IPY_MODEL_57e72a078f024c8ea28e1ac1b5ea5c7a",
       "tabbable": null,
       "tooltip": null,
       "value": " 483/483 [00:00&lt;00:00, 48.5kB/s]"
      }
     },
     "2321f86553a74b0c97fced2588479a37": {
      "model_module": "@jupyter-widgets/controls",
      "model_module_version": "2.0.0",
      "model_name": "HTMLStyleModel",
      "state": {
       "_model_module": "@jupyter-widgets/controls",
       "_model_module_version": "2.0.0",
       "_model_name": "HTMLStyleModel",
       "_view_count": null,
       "_view_module": "@jupyter-widgets/base",
       "_view_module_version": "2.0.0",
       "_view_name": "StyleView",
       "background": null,
       "description_width": "",
       "font_size": null,
       "text_color": null
      }
     },
     "25d1699c81274851b1fd12baee29b938": {
      "model_module": "@jupyter-widgets/controls",
      "model_module_version": "2.0.0",
      "model_name": "ProgressStyleModel",
      "state": {
       "_model_module": "@jupyter-widgets/controls",
       "_model_module_version": "2.0.0",
       "_model_name": "ProgressStyleModel",
       "_view_count": null,
       "_view_module": "@jupyter-widgets/base",
       "_view_module_version": "2.0.0",
       "_view_name": "StyleView",
       "bar_color": null,
       "description_width": ""
      }
     },
     "2824d10949e9476890b6956b4f508d31": {
      "model_module": "@jupyter-widgets/controls",
      "model_module_version": "2.0.0",
      "model_name": "HTMLModel",
      "state": {
       "_dom_classes": [],
       "_model_module": "@jupyter-widgets/controls",
       "_model_module_version": "2.0.0",
       "_model_name": "HTMLModel",
       "_view_count": null,
       "_view_module": "@jupyter-widgets/controls",
       "_view_module_version": "2.0.0",
       "_view_name": "HTMLView",
       "description": "",
       "description_allow_html": false,
       "layout": "IPY_MODEL_0f8bcc165d94401e86d8d63ef37ba8f0",
       "placeholder": "​",
       "style": "IPY_MODEL_ac4ddd62341f459288dc33d9031de007",
       "tabbable": null,
       "tooltip": null,
       "value": "model.safetensors: 100%"
      }
     },
     "2893963f6e774e318dc3404d919c0940": {
      "model_module": "@jupyter-widgets/base",
      "model_module_version": "2.0.0",
      "model_name": "LayoutModel",
      "state": {
       "_model_module": "@jupyter-widgets/base",
       "_model_module_version": "2.0.0",
       "_model_name": "LayoutModel",
       "_view_count": null,
       "_view_module": "@jupyter-widgets/base",
       "_view_module_version": "2.0.0",
       "_view_name": "LayoutView",
       "align_content": null,
       "align_items": null,
       "align_self": null,
       "border_bottom": null,
       "border_left": null,
       "border_right": null,
       "border_top": null,
       "bottom": null,
       "display": null,
       "flex": null,
       "flex_flow": null,
       "grid_area": null,
       "grid_auto_columns": null,
       "grid_auto_flow": null,
       "grid_auto_rows": null,
       "grid_column": null,
       "grid_gap": null,
       "grid_row": null,
       "grid_template_areas": null,
       "grid_template_columns": null,
       "grid_template_rows": null,
       "height": null,
       "justify_content": null,
       "justify_items": null,
       "left": null,
       "margin": null,
       "max_height": null,
       "max_width": null,
       "min_height": null,
       "min_width": null,
       "object_fit": null,
       "object_position": null,
       "order": null,
       "overflow": null,
       "padding": null,
       "right": null,
       "top": null,
       "visibility": null,
       "width": null
      }
     },
     "2da4cfad8c5e49428fca5f5d20135dc7": {
      "model_module": "@jupyter-widgets/base",
      "model_module_version": "2.0.0",
      "model_name": "LayoutModel",
      "state": {
       "_model_module": "@jupyter-widgets/base",
       "_model_module_version": "2.0.0",
       "_model_name": "LayoutModel",
       "_view_count": null,
       "_view_module": "@jupyter-widgets/base",
       "_view_module_version": "2.0.0",
       "_view_name": "LayoutView",
       "align_content": null,
       "align_items": null,
       "align_self": null,
       "border_bottom": null,
       "border_left": null,
       "border_right": null,
       "border_top": null,
       "bottom": null,
       "display": null,
       "flex": null,
       "flex_flow": null,
       "grid_area": null,
       "grid_auto_columns": null,
       "grid_auto_flow": null,
       "grid_auto_rows": null,
       "grid_column": null,
       "grid_gap": null,
       "grid_row": null,
       "grid_template_areas": null,
       "grid_template_columns": null,
       "grid_template_rows": null,
       "height": null,
       "justify_content": null,
       "justify_items": null,
       "left": null,
       "margin": null,
       "max_height": null,
       "max_width": null,
       "min_height": null,
       "min_width": null,
       "object_fit": null,
       "object_position": null,
       "order": null,
       "overflow": null,
       "padding": null,
       "right": null,
       "top": null,
       "visibility": null,
       "width": null
      }
     },
     "2de1605346744d659a3d1806ba4114f3": {
      "model_module": "@jupyter-widgets/controls",
      "model_module_version": "2.0.0",
      "model_name": "HTMLModel",
      "state": {
       "_dom_classes": [],
       "_model_module": "@jupyter-widgets/controls",
       "_model_module_version": "2.0.0",
       "_model_name": "HTMLModel",
       "_view_count": null,
       "_view_module": "@jupyter-widgets/controls",
       "_view_module_version": "2.0.0",
       "_view_name": "HTMLView",
       "description": "",
       "description_allow_html": false,
       "layout": "IPY_MODEL_2893963f6e774e318dc3404d919c0940",
       "placeholder": "​",
       "style": "IPY_MODEL_5a34b9075ba14c75be6e321bf3c7ef48",
       "tabbable": null,
       "tooltip": null,
       "value": " 268M/268M [00:01&lt;00:00, 229MB/s]"
      }
     },
     "2ec3b1e93cad46f18b54a90b31e4765b": {
      "model_module": "@jupyter-widgets/controls",
      "model_module_version": "2.0.0",
      "model_name": "HBoxModel",
      "state": {
       "_dom_classes": [],
       "_model_module": "@jupyter-widgets/controls",
       "_model_module_version": "2.0.0",
       "_model_name": "HBoxModel",
       "_view_count": null,
       "_view_module": "@jupyter-widgets/controls",
       "_view_module_version": "2.0.0",
       "_view_name": "HBoxView",
       "box_style": "",
       "children": [
        "IPY_MODEL_2824d10949e9476890b6956b4f508d31",
        "IPY_MODEL_977ece0bb5fe44b5aa2b78c92bfd7229",
        "IPY_MODEL_2de1605346744d659a3d1806ba4114f3"
       ],
       "layout": "IPY_MODEL_61c8c1681a4a4cfdbcc74e7478b137a6",
       "tabbable": null,
       "tooltip": null
      }
     },
     "2f00d5afcb4a4c2ab63e2bf3248d327e": {
      "model_module": "@jupyter-widgets/base",
      "model_module_version": "2.0.0",
      "model_name": "LayoutModel",
      "state": {
       "_model_module": "@jupyter-widgets/base",
       "_model_module_version": "2.0.0",
       "_model_name": "LayoutModel",
       "_view_count": null,
       "_view_module": "@jupyter-widgets/base",
       "_view_module_version": "2.0.0",
       "_view_name": "LayoutView",
       "align_content": null,
       "align_items": null,
       "align_self": null,
       "border_bottom": null,
       "border_left": null,
       "border_right": null,
       "border_top": null,
       "bottom": null,
       "display": null,
       "flex": null,
       "flex_flow": null,
       "grid_area": null,
       "grid_auto_columns": null,
       "grid_auto_flow": null,
       "grid_auto_rows": null,
       "grid_column": null,
       "grid_gap": null,
       "grid_row": null,
       "grid_template_areas": null,
       "grid_template_columns": null,
       "grid_template_rows": null,
       "height": null,
       "justify_content": null,
       "justify_items": null,
       "left": null,
       "margin": null,
       "max_height": null,
       "max_width": null,
       "min_height": null,
       "min_width": null,
       "object_fit": null,
       "object_position": null,
       "order": null,
       "overflow": null,
       "padding": null,
       "right": null,
       "top": null,
       "visibility": null,
       "width": null
      }
     },
     "3e6458910838427a9d25078c5242bfe9": {
      "model_module": "@jupyter-widgets/controls",
      "model_module_version": "2.0.0",
      "model_name": "HTMLModel",
      "state": {
       "_dom_classes": [],
       "_model_module": "@jupyter-widgets/controls",
       "_model_module_version": "2.0.0",
       "_model_name": "HTMLModel",
       "_view_count": null,
       "_view_module": "@jupyter-widgets/controls",
       "_view_module_version": "2.0.0",
       "_view_name": "HTMLView",
       "description": "",
       "description_allow_html": false,
       "layout": "IPY_MODEL_74833148c7d342149d43102e3037303f",
       "placeholder": "​",
       "style": "IPY_MODEL_f244a7c5524144ef86d2b7b0aaef576c",
       "tabbable": null,
       "tooltip": null,
       "value": " 466k/466k [00:00&lt;00:00, 3.53MB/s]"
      }
     },
     "4642a026249b41ffb4250dc957b0b8f9": {
      "model_module": "@jupyter-widgets/controls",
      "model_module_version": "2.0.0",
      "model_name": "HBoxModel",
      "state": {
       "_dom_classes": [],
       "_model_module": "@jupyter-widgets/controls",
       "_model_module_version": "2.0.0",
       "_model_name": "HBoxModel",
       "_view_count": null,
       "_view_module": "@jupyter-widgets/controls",
       "_view_module_version": "2.0.0",
       "_view_name": "HBoxView",
       "box_style": "",
       "children": [
        "IPY_MODEL_946188193234422e92b36893cc8866b0",
        "IPY_MODEL_ee1ba83b6a7648b1a9beff98e35722eb",
        "IPY_MODEL_3e6458910838427a9d25078c5242bfe9"
       ],
       "layout": "IPY_MODEL_f1ddbfeb3b794d9987c90831ac02661f",
       "tabbable": null,
       "tooltip": null
      }
     },
     "469624bd4b284b9fa542399ca5e521fa": {
      "model_module": "@jupyter-widgets/controls",
      "model_module_version": "2.0.0",
      "model_name": "FloatProgressModel",
      "state": {
       "_dom_classes": [],
       "_model_module": "@jupyter-widgets/controls",
       "_model_module_version": "2.0.0",
       "_model_name": "FloatProgressModel",
       "_view_count": null,
       "_view_module": "@jupyter-widgets/controls",
       "_view_module_version": "2.0.0",
       "_view_name": "ProgressView",
       "bar_style": "success",
       "description": "",
       "description_allow_html": false,
       "layout": "IPY_MODEL_d625bcc7fc04470992ccb6a62aa234f2",
       "max": 231508.0,
       "min": 0.0,
       "orientation": "horizontal",
       "style": "IPY_MODEL_25d1699c81274851b1fd12baee29b938",
       "tabbable": null,
       "tooltip": null,
       "value": 231508.0
      }
     },
     "5159e723ece847189e509a485c655419": {
      "model_module": "@jupyter-widgets/controls",
      "model_module_version": "2.0.0",
      "model_name": "ProgressStyleModel",
      "state": {
       "_model_module": "@jupyter-widgets/controls",
       "_model_module_version": "2.0.0",
       "_model_name": "ProgressStyleModel",
       "_view_count": null,
       "_view_module": "@jupyter-widgets/base",
       "_view_module_version": "2.0.0",
       "_view_name": "StyleView",
       "bar_color": null,
       "description_width": ""
      }
     },
     "57e72a078f024c8ea28e1ac1b5ea5c7a": {
      "model_module": "@jupyter-widgets/controls",
      "model_module_version": "2.0.0",
      "model_name": "HTMLStyleModel",
      "state": {
       "_model_module": "@jupyter-widgets/controls",
       "_model_module_version": "2.0.0",
       "_model_name": "HTMLStyleModel",
       "_view_count": null,
       "_view_module": "@jupyter-widgets/base",
       "_view_module_version": "2.0.0",
       "_view_name": "StyleView",
       "background": null,
       "description_width": "",
       "font_size": null,
       "text_color": null
      }
     },
     "5a34b9075ba14c75be6e321bf3c7ef48": {
      "model_module": "@jupyter-widgets/controls",
      "model_module_version": "2.0.0",
      "model_name": "HTMLStyleModel",
      "state": {
       "_model_module": "@jupyter-widgets/controls",
       "_model_module_version": "2.0.0",
       "_model_name": "HTMLStyleModel",
       "_view_count": null,
       "_view_module": "@jupyter-widgets/base",
       "_view_module_version": "2.0.0",
       "_view_name": "StyleView",
       "background": null,
       "description_width": "",
       "font_size": null,
       "text_color": null
      }
     },
     "61c8c1681a4a4cfdbcc74e7478b137a6": {
      "model_module": "@jupyter-widgets/base",
      "model_module_version": "2.0.0",
      "model_name": "LayoutModel",
      "state": {
       "_model_module": "@jupyter-widgets/base",
       "_model_module_version": "2.0.0",
       "_model_name": "LayoutModel",
       "_view_count": null,
       "_view_module": "@jupyter-widgets/base",
       "_view_module_version": "2.0.0",
       "_view_name": "LayoutView",
       "align_content": null,
       "align_items": null,
       "align_self": null,
       "border_bottom": null,
       "border_left": null,
       "border_right": null,
       "border_top": null,
       "bottom": null,
       "display": null,
       "flex": null,
       "flex_flow": null,
       "grid_area": null,
       "grid_auto_columns": null,
       "grid_auto_flow": null,
       "grid_auto_rows": null,
       "grid_column": null,
       "grid_gap": null,
       "grid_row": null,
       "grid_template_areas": null,
       "grid_template_columns": null,
       "grid_template_rows": null,
       "height": null,
       "justify_content": null,
       "justify_items": null,
       "left": null,
       "margin": null,
       "max_height": null,
       "max_width": null,
       "min_height": null,
       "min_width": null,
       "object_fit": null,
       "object_position": null,
       "order": null,
       "overflow": null,
       "padding": null,
       "right": null,
       "top": null,
       "visibility": null,
       "width": null
      }
     },
     "650f189167504c47b8f5929329adb9d6": {
      "model_module": "@jupyter-widgets/base",
      "model_module_version": "2.0.0",
      "model_name": "LayoutModel",
      "state": {
       "_model_module": "@jupyter-widgets/base",
       "_model_module_version": "2.0.0",
       "_model_name": "LayoutModel",
       "_view_count": null,
       "_view_module": "@jupyter-widgets/base",
       "_view_module_version": "2.0.0",
       "_view_name": "LayoutView",
       "align_content": null,
       "align_items": null,
       "align_self": null,
       "border_bottom": null,
       "border_left": null,
       "border_right": null,
       "border_top": null,
       "bottom": null,
       "display": null,
       "flex": null,
       "flex_flow": null,
       "grid_area": null,
       "grid_auto_columns": null,
       "grid_auto_flow": null,
       "grid_auto_rows": null,
       "grid_column": null,
       "grid_gap": null,
       "grid_row": null,
       "grid_template_areas": null,
       "grid_template_columns": null,
       "grid_template_rows": null,
       "height": null,
       "justify_content": null,
       "justify_items": null,
       "left": null,
       "margin": null,
       "max_height": null,
       "max_width": null,
       "min_height": null,
       "min_width": null,
       "object_fit": null,
       "object_position": null,
       "order": null,
       "overflow": null,
       "padding": null,
       "right": null,
       "top": null,
       "visibility": null,
       "width": null
      }
     },
     "6a8994091b8745fda79a0882b88691a9": {
      "model_module": "@jupyter-widgets/controls",
      "model_module_version": "2.0.0",
      "model_name": "HBoxModel",
      "state": {
       "_dom_classes": [],
       "_model_module": "@jupyter-widgets/controls",
       "_model_module_version": "2.0.0",
       "_model_name": "HBoxModel",
       "_view_count": null,
       "_view_module": "@jupyter-widgets/controls",
       "_view_module_version": "2.0.0",
       "_view_name": "HBoxView",
       "box_style": "",
       "children": [
        "IPY_MODEL_b67695dabe87494db245d36a9e1ab1f4",
        "IPY_MODEL_9a257b1e35a144d7bdb15f5723aaa299",
        "IPY_MODEL_b86be1744a6349d08838ed8766283060"
       ],
       "layout": "IPY_MODEL_2da4cfad8c5e49428fca5f5d20135dc7",
       "tabbable": null,
       "tooltip": null
      }
     },
     "74833148c7d342149d43102e3037303f": {
      "model_module": "@jupyter-widgets/base",
      "model_module_version": "2.0.0",
      "model_name": "LayoutModel",
      "state": {
       "_model_module": "@jupyter-widgets/base",
       "_model_module_version": "2.0.0",
       "_model_name": "LayoutModel",
       "_view_count": null,
       "_view_module": "@jupyter-widgets/base",
       "_view_module_version": "2.0.0",
       "_view_name": "LayoutView",
       "align_content": null,
       "align_items": null,
       "align_self": null,
       "border_bottom": null,
       "border_left": null,
       "border_right": null,
       "border_top": null,
       "bottom": null,
       "display": null,
       "flex": null,
       "flex_flow": null,
       "grid_area": null,
       "grid_auto_columns": null,
       "grid_auto_flow": null,
       "grid_auto_rows": null,
       "grid_column": null,
       "grid_gap": null,
       "grid_row": null,
       "grid_template_areas": null,
       "grid_template_columns": null,
       "grid_template_rows": null,
       "height": null,
       "justify_content": null,
       "justify_items": null,
       "left": null,
       "margin": null,
       "max_height": null,
       "max_width": null,
       "min_height": null,
       "min_width": null,
       "object_fit": null,
       "object_position": null,
       "order": null,
       "overflow": null,
       "padding": null,
       "right": null,
       "top": null,
       "visibility": null,
       "width": null
      }
     },
     "799316121932452181aabdaae64dfa80": {
      "model_module": "@jupyter-widgets/controls",
      "model_module_version": "2.0.0",
      "model_name": "ProgressStyleModel",
      "state": {
       "_model_module": "@jupyter-widgets/controls",
       "_model_module_version": "2.0.0",
       "_model_name": "ProgressStyleModel",
       "_view_count": null,
       "_view_module": "@jupyter-widgets/base",
       "_view_module_version": "2.0.0",
       "_view_name": "StyleView",
       "bar_color": null,
       "description_width": ""
      }
     },
     "82905f68794548c0a4f42b4a6f3215ef": {
      "model_module": "@jupyter-widgets/controls",
      "model_module_version": "2.0.0",
      "model_name": "HBoxModel",
      "state": {
       "_dom_classes": [],
       "_model_module": "@jupyter-widgets/controls",
       "_model_module_version": "2.0.0",
       "_model_name": "HBoxModel",
       "_view_count": null,
       "_view_module": "@jupyter-widgets/controls",
       "_view_module_version": "2.0.0",
       "_view_name": "HBoxView",
       "box_style": "",
       "children": [
        "IPY_MODEL_dc4782d7acfe4784a7a730275399cda9",
        "IPY_MODEL_fcf920054a2c44d98b5f2d44e6c61b48",
        "IPY_MODEL_21e094668eda4fa7af99ed78381e629d"
       ],
       "layout": "IPY_MODEL_c40675ad0aa74ebabbb24c6726f3e23f",
       "tabbable": null,
       "tooltip": null
      }
     },
     "85745170d0d14f76a18f2d2a73e2b94a": {
      "model_module": "@jupyter-widgets/controls",
      "model_module_version": "2.0.0",
      "model_name": "HTMLStyleModel",
      "state": {
       "_model_module": "@jupyter-widgets/controls",
       "_model_module_version": "2.0.0",
       "_model_name": "HTMLStyleModel",
       "_view_count": null,
       "_view_module": "@jupyter-widgets/base",
       "_view_module_version": "2.0.0",
       "_view_name": "StyleView",
       "background": null,
       "description_width": "",
       "font_size": null,
       "text_color": null
      }
     },
     "94391ba6c2364d4c901323c19d0e3a62": {
      "model_module": "@jupyter-widgets/controls",
      "model_module_version": "2.0.0",
      "model_name": "ProgressStyleModel",
      "state": {
       "_model_module": "@jupyter-widgets/controls",
       "_model_module_version": "2.0.0",
       "_model_name": "ProgressStyleModel",
       "_view_count": null,
       "_view_module": "@jupyter-widgets/base",
       "_view_module_version": "2.0.0",
       "_view_name": "StyleView",
       "bar_color": null,
       "description_width": ""
      }
     },
     "946188193234422e92b36893cc8866b0": {
      "model_module": "@jupyter-widgets/controls",
      "model_module_version": "2.0.0",
      "model_name": "HTMLModel",
      "state": {
       "_dom_classes": [],
       "_model_module": "@jupyter-widgets/controls",
       "_model_module_version": "2.0.0",
       "_model_name": "HTMLModel",
       "_view_count": null,
       "_view_module": "@jupyter-widgets/controls",
       "_view_module_version": "2.0.0",
       "_view_name": "HTMLView",
       "description": "",
       "description_allow_html": false,
       "layout": "IPY_MODEL_1261b61d2bd4499d8eead8d3c4903077",
       "placeholder": "​",
       "style": "IPY_MODEL_ca1e8e9165ed43c58c9572419e2f8bab",
       "tabbable": null,
       "tooltip": null,
       "value": "tokenizer.json: 100%"
      }
     },
     "971f232214da456897fcc99ab65ee28c": {
      "model_module": "@jupyter-widgets/controls",
      "model_module_version": "2.0.0",
      "model_name": "HBoxModel",
      "state": {
       "_dom_classes": [],
       "_model_module": "@jupyter-widgets/controls",
       "_model_module_version": "2.0.0",
       "_model_name": "HBoxModel",
       "_view_count": null,
       "_view_module": "@jupyter-widgets/controls",
       "_view_module_version": "2.0.0",
       "_view_name": "HBoxView",
       "box_style": "",
       "children": [
        "IPY_MODEL_9f24b4c0d3e345a988e349502f74969f",
        "IPY_MODEL_469624bd4b284b9fa542399ca5e521fa",
        "IPY_MODEL_1f226eadbdac40e49ad98c479f7cded9"
       ],
       "layout": "IPY_MODEL_cc80ed520f574fd0baafcd3f88bb7539",
       "tabbable": null,
       "tooltip": null
      }
     },
     "977ece0bb5fe44b5aa2b78c92bfd7229": {
      "model_module": "@jupyter-widgets/controls",
      "model_module_version": "2.0.0",
      "model_name": "FloatProgressModel",
      "state": {
       "_dom_classes": [],
       "_model_module": "@jupyter-widgets/controls",
       "_model_module_version": "2.0.0",
       "_model_name": "FloatProgressModel",
       "_view_count": null,
       "_view_module": "@jupyter-widgets/controls",
       "_view_module_version": "2.0.0",
       "_view_name": "ProgressView",
       "bar_style": "success",
       "description": "",
       "description_allow_html": false,
       "layout": "IPY_MODEL_e3f33898a3c34711ac8a3aa0dbbee4cf",
       "max": 267954768.0,
       "min": 0.0,
       "orientation": "horizontal",
       "style": "IPY_MODEL_799316121932452181aabdaae64dfa80",
       "tabbable": null,
       "tooltip": null,
       "value": 267954768.0
      }
     },
     "987754abf5ef49b8b397df06de16878a": {
      "model_module": "@jupyter-widgets/base",
      "model_module_version": "2.0.0",
      "model_name": "LayoutModel",
      "state": {
       "_model_module": "@jupyter-widgets/base",
       "_model_module_version": "2.0.0",
       "_model_name": "LayoutModel",
       "_view_count": null,
       "_view_module": "@jupyter-widgets/base",
       "_view_module_version": "2.0.0",
       "_view_name": "LayoutView",
       "align_content": null,
       "align_items": null,
       "align_self": null,
       "border_bottom": null,
       "border_left": null,
       "border_right": null,
       "border_top": null,
       "bottom": null,
       "display": null,
       "flex": null,
       "flex_flow": null,
       "grid_area": null,
       "grid_auto_columns": null,
       "grid_auto_flow": null,
       "grid_auto_rows": null,
       "grid_column": null,
       "grid_gap": null,
       "grid_row": null,
       "grid_template_areas": null,
       "grid_template_columns": null,
       "grid_template_rows": null,
       "height": null,
       "justify_content": null,
       "justify_items": null,
       "left": null,
       "margin": null,
       "max_height": null,
       "max_width": null,
       "min_height": null,
       "min_width": null,
       "object_fit": null,
       "object_position": null,
       "order": null,
       "overflow": null,
       "padding": null,
       "right": null,
       "top": null,
       "visibility": null,
       "width": null
      }
     },
     "9a257b1e35a144d7bdb15f5723aaa299": {
      "model_module": "@jupyter-widgets/controls",
      "model_module_version": "2.0.0",
      "model_name": "FloatProgressModel",
      "state": {
       "_dom_classes": [],
       "_model_module": "@jupyter-widgets/controls",
       "_model_module_version": "2.0.0",
       "_model_name": "FloatProgressModel",
       "_view_count": null,
       "_view_module": "@jupyter-widgets/controls",
       "_view_module_version": "2.0.0",
       "_view_name": "ProgressView",
       "bar_style": "success",
       "description": "",
       "description_allow_html": false,
       "layout": "IPY_MODEL_987754abf5ef49b8b397df06de16878a",
       "max": 48.0,
       "min": 0.0,
       "orientation": "horizontal",
       "style": "IPY_MODEL_cfb332abb09544968be270c71cf14bf3",
       "tabbable": null,
       "tooltip": null,
       "value": 48.0
      }
     },
     "9a6da18c2b8543d9b07dd76b3ba330be": {
      "model_module": "@jupyter-widgets/base",
      "model_module_version": "2.0.0",
      "model_name": "LayoutModel",
      "state": {
       "_model_module": "@jupyter-widgets/base",
       "_model_module_version": "2.0.0",
       "_model_name": "LayoutModel",
       "_view_count": null,
       "_view_module": "@jupyter-widgets/base",
       "_view_module_version": "2.0.0",
       "_view_name": "LayoutView",
       "align_content": null,
       "align_items": null,
       "align_self": null,
       "border_bottom": null,
       "border_left": null,
       "border_right": null,
       "border_top": null,
       "bottom": null,
       "display": null,
       "flex": null,
       "flex_flow": null,
       "grid_area": null,
       "grid_auto_columns": null,
       "grid_auto_flow": null,
       "grid_auto_rows": null,
       "grid_column": null,
       "grid_gap": null,
       "grid_row": null,
       "grid_template_areas": null,
       "grid_template_columns": null,
       "grid_template_rows": null,
       "height": null,
       "justify_content": null,
       "justify_items": null,
       "left": null,
       "margin": null,
       "max_height": null,
       "max_width": null,
       "min_height": null,
       "min_width": null,
       "object_fit": null,
       "object_position": null,
       "order": null,
       "overflow": null,
       "padding": null,
       "right": null,
       "top": null,
       "visibility": null,
       "width": null
      }
     },
     "9f24b4c0d3e345a988e349502f74969f": {
      "model_module": "@jupyter-widgets/controls",
      "model_module_version": "2.0.0",
      "model_name": "HTMLModel",
      "state": {
       "_dom_classes": [],
       "_model_module": "@jupyter-widgets/controls",
       "_model_module_version": "2.0.0",
       "_model_name": "HTMLModel",
       "_view_count": null,
       "_view_module": "@jupyter-widgets/controls",
       "_view_module_version": "2.0.0",
       "_view_name": "HTMLView",
       "description": "",
       "description_allow_html": false,
       "layout": "IPY_MODEL_15514d1f487849c6a8b69ca9b5935186",
       "placeholder": "​",
       "style": "IPY_MODEL_09b344b8060944159e56dcfe3d462d47",
       "tabbable": null,
       "tooltip": null,
       "value": "vocab.txt: 100%"
      }
     },
     "a8d0a222e75b4046bd39e003664dc7d7": {
      "model_module": "@jupyter-widgets/base",
      "model_module_version": "2.0.0",
      "model_name": "LayoutModel",
      "state": {
       "_model_module": "@jupyter-widgets/base",
       "_model_module_version": "2.0.0",
       "_model_name": "LayoutModel",
       "_view_count": null,
       "_view_module": "@jupyter-widgets/base",
       "_view_module_version": "2.0.0",
       "_view_name": "LayoutView",
       "align_content": null,
       "align_items": null,
       "align_self": null,
       "border_bottom": null,
       "border_left": null,
       "border_right": null,
       "border_top": null,
       "bottom": null,
       "display": null,
       "flex": null,
       "flex_flow": null,
       "grid_area": null,
       "grid_auto_columns": null,
       "grid_auto_flow": null,
       "grid_auto_rows": null,
       "grid_column": null,
       "grid_gap": null,
       "grid_row": null,
       "grid_template_areas": null,
       "grid_template_columns": null,
       "grid_template_rows": null,
       "height": null,
       "justify_content": null,
       "justify_items": null,
       "left": null,
       "margin": null,
       "max_height": null,
       "max_width": null,
       "min_height": null,
       "min_width": null,
       "object_fit": null,
       "object_position": null,
       "order": null,
       "overflow": null,
       "padding": null,
       "right": null,
       "top": null,
       "visibility": null,
       "width": null
      }
     },
     "ac4ddd62341f459288dc33d9031de007": {
      "model_module": "@jupyter-widgets/controls",
      "model_module_version": "2.0.0",
      "model_name": "HTMLStyleModel",
      "state": {
       "_model_module": "@jupyter-widgets/controls",
       "_model_module_version": "2.0.0",
       "_model_name": "HTMLStyleModel",
       "_view_count": null,
       "_view_module": "@jupyter-widgets/base",
       "_view_module_version": "2.0.0",
       "_view_name": "StyleView",
       "background": null,
       "description_width": "",
       "font_size": null,
       "text_color": null
      }
     },
     "b67695dabe87494db245d36a9e1ab1f4": {
      "model_module": "@jupyter-widgets/controls",
      "model_module_version": "2.0.0",
      "model_name": "HTMLModel",
      "state": {
       "_dom_classes": [],
       "_model_module": "@jupyter-widgets/controls",
       "_model_module_version": "2.0.0",
       "_model_name": "HTMLModel",
       "_view_count": null,
       "_view_module": "@jupyter-widgets/controls",
       "_view_module_version": "2.0.0",
       "_view_name": "HTMLView",
       "description": "",
       "description_allow_html": false,
       "layout": "IPY_MODEL_01f786fc0ffd419dad63fdfa16d719f7",
       "placeholder": "​",
       "style": "IPY_MODEL_e4e8d7b337c1478a861767c7efbd0e08",
       "tabbable": null,
       "tooltip": null,
       "value": "tokenizer_config.json: 100%"
      }
     },
     "b86be1744a6349d08838ed8766283060": {
      "model_module": "@jupyter-widgets/controls",
      "model_module_version": "2.0.0",
      "model_name": "HTMLModel",
      "state": {
       "_dom_classes": [],
       "_model_module": "@jupyter-widgets/controls",
       "_model_module_version": "2.0.0",
       "_model_name": "HTMLModel",
       "_view_count": null,
       "_view_module": "@jupyter-widgets/controls",
       "_view_module_version": "2.0.0",
       "_view_name": "HTMLView",
       "description": "",
       "description_allow_html": false,
       "layout": "IPY_MODEL_9a6da18c2b8543d9b07dd76b3ba330be",
       "placeholder": "​",
       "style": "IPY_MODEL_85745170d0d14f76a18f2d2a73e2b94a",
       "tabbable": null,
       "tooltip": null,
       "value": " 48.0/48.0 [00:00&lt;00:00, 4.71kB/s]"
      }
     },
     "c40675ad0aa74ebabbb24c6726f3e23f": {
      "model_module": "@jupyter-widgets/base",
      "model_module_version": "2.0.0",
      "model_name": "LayoutModel",
      "state": {
       "_model_module": "@jupyter-widgets/base",
       "_model_module_version": "2.0.0",
       "_model_name": "LayoutModel",
       "_view_count": null,
       "_view_module": "@jupyter-widgets/base",
       "_view_module_version": "2.0.0",
       "_view_name": "LayoutView",
       "align_content": null,
       "align_items": null,
       "align_self": null,
       "border_bottom": null,
       "border_left": null,
       "border_right": null,
       "border_top": null,
       "bottom": null,
       "display": null,
       "flex": null,
       "flex_flow": null,
       "grid_area": null,
       "grid_auto_columns": null,
       "grid_auto_flow": null,
       "grid_auto_rows": null,
       "grid_column": null,
       "grid_gap": null,
       "grid_row": null,
       "grid_template_areas": null,
       "grid_template_columns": null,
       "grid_template_rows": null,
       "height": null,
       "justify_content": null,
       "justify_items": null,
       "left": null,
       "margin": null,
       "max_height": null,
       "max_width": null,
       "min_height": null,
       "min_width": null,
       "object_fit": null,
       "object_position": null,
       "order": null,
       "overflow": null,
       "padding": null,
       "right": null,
       "top": null,
       "visibility": null,
       "width": null
      }
     },
     "ca1e8e9165ed43c58c9572419e2f8bab": {
      "model_module": "@jupyter-widgets/controls",
      "model_module_version": "2.0.0",
      "model_name": "HTMLStyleModel",
      "state": {
       "_model_module": "@jupyter-widgets/controls",
       "_model_module_version": "2.0.0",
       "_model_name": "HTMLStyleModel",
       "_view_count": null,
       "_view_module": "@jupyter-widgets/base",
       "_view_module_version": "2.0.0",
       "_view_name": "StyleView",
       "background": null,
       "description_width": "",
       "font_size": null,
       "text_color": null
      }
     },
     "cc80ed520f574fd0baafcd3f88bb7539": {
      "model_module": "@jupyter-widgets/base",
      "model_module_version": "2.0.0",
      "model_name": "LayoutModel",
      "state": {
       "_model_module": "@jupyter-widgets/base",
       "_model_module_version": "2.0.0",
       "_model_name": "LayoutModel",
       "_view_count": null,
       "_view_module": "@jupyter-widgets/base",
       "_view_module_version": "2.0.0",
       "_view_name": "LayoutView",
       "align_content": null,
       "align_items": null,
       "align_self": null,
       "border_bottom": null,
       "border_left": null,
       "border_right": null,
       "border_top": null,
       "bottom": null,
       "display": null,
       "flex": null,
       "flex_flow": null,
       "grid_area": null,
       "grid_auto_columns": null,
       "grid_auto_flow": null,
       "grid_auto_rows": null,
       "grid_column": null,
       "grid_gap": null,
       "grid_row": null,
       "grid_template_areas": null,
       "grid_template_columns": null,
       "grid_template_rows": null,
       "height": null,
       "justify_content": null,
       "justify_items": null,
       "left": null,
       "margin": null,
       "max_height": null,
       "max_width": null,
       "min_height": null,
       "min_width": null,
       "object_fit": null,
       "object_position": null,
       "order": null,
       "overflow": null,
       "padding": null,
       "right": null,
       "top": null,
       "visibility": null,
       "width": null
      }
     },
     "cfb332abb09544968be270c71cf14bf3": {
      "model_module": "@jupyter-widgets/controls",
      "model_module_version": "2.0.0",
      "model_name": "ProgressStyleModel",
      "state": {
       "_model_module": "@jupyter-widgets/controls",
       "_model_module_version": "2.0.0",
       "_model_name": "ProgressStyleModel",
       "_view_count": null,
       "_view_module": "@jupyter-widgets/base",
       "_view_module_version": "2.0.0",
       "_view_name": "StyleView",
       "bar_color": null,
       "description_width": ""
      }
     },
     "d625bcc7fc04470992ccb6a62aa234f2": {
      "model_module": "@jupyter-widgets/base",
      "model_module_version": "2.0.0",
      "model_name": "LayoutModel",
      "state": {
       "_model_module": "@jupyter-widgets/base",
       "_model_module_version": "2.0.0",
       "_model_name": "LayoutModel",
       "_view_count": null,
       "_view_module": "@jupyter-widgets/base",
       "_view_module_version": "2.0.0",
       "_view_name": "LayoutView",
       "align_content": null,
       "align_items": null,
       "align_self": null,
       "border_bottom": null,
       "border_left": null,
       "border_right": null,
       "border_top": null,
       "bottom": null,
       "display": null,
       "flex": null,
       "flex_flow": null,
       "grid_area": null,
       "grid_auto_columns": null,
       "grid_auto_flow": null,
       "grid_auto_rows": null,
       "grid_column": null,
       "grid_gap": null,
       "grid_row": null,
       "grid_template_areas": null,
       "grid_template_columns": null,
       "grid_template_rows": null,
       "height": null,
       "justify_content": null,
       "justify_items": null,
       "left": null,
       "margin": null,
       "max_height": null,
       "max_width": null,
       "min_height": null,
       "min_width": null,
       "object_fit": null,
       "object_position": null,
       "order": null,
       "overflow": null,
       "padding": null,
       "right": null,
       "top": null,
       "visibility": null,
       "width": null
      }
     },
     "dc4782d7acfe4784a7a730275399cda9": {
      "model_module": "@jupyter-widgets/controls",
      "model_module_version": "2.0.0",
      "model_name": "HTMLModel",
      "state": {
       "_dom_classes": [],
       "_model_module": "@jupyter-widgets/controls",
       "_model_module_version": "2.0.0",
       "_model_name": "HTMLModel",
       "_view_count": null,
       "_view_module": "@jupyter-widgets/controls",
       "_view_module_version": "2.0.0",
       "_view_name": "HTMLView",
       "description": "",
       "description_allow_html": false,
       "layout": "IPY_MODEL_ea247d8ae23249c7b80b32d01922cb55",
       "placeholder": "​",
       "style": "IPY_MODEL_2321f86553a74b0c97fced2588479a37",
       "tabbable": null,
       "tooltip": null,
       "value": "config.json: 100%"
      }
     },
     "e3f33898a3c34711ac8a3aa0dbbee4cf": {
      "model_module": "@jupyter-widgets/base",
      "model_module_version": "2.0.0",
      "model_name": "LayoutModel",
      "state": {
       "_model_module": "@jupyter-widgets/base",
       "_model_module_version": "2.0.0",
       "_model_name": "LayoutModel",
       "_view_count": null,
       "_view_module": "@jupyter-widgets/base",
       "_view_module_version": "2.0.0",
       "_view_name": "LayoutView",
       "align_content": null,
       "align_items": null,
       "align_self": null,
       "border_bottom": null,
       "border_left": null,
       "border_right": null,
       "border_top": null,
       "bottom": null,
       "display": null,
       "flex": null,
       "flex_flow": null,
       "grid_area": null,
       "grid_auto_columns": null,
       "grid_auto_flow": null,
       "grid_auto_rows": null,
       "grid_column": null,
       "grid_gap": null,
       "grid_row": null,
       "grid_template_areas": null,
       "grid_template_columns": null,
       "grid_template_rows": null,
       "height": null,
       "justify_content": null,
       "justify_items": null,
       "left": null,
       "margin": null,
       "max_height": null,
       "max_width": null,
       "min_height": null,
       "min_width": null,
       "object_fit": null,
       "object_position": null,
       "order": null,
       "overflow": null,
       "padding": null,
       "right": null,
       "top": null,
       "visibility": null,
       "width": null
      }
     },
     "e4e8d7b337c1478a861767c7efbd0e08": {
      "model_module": "@jupyter-widgets/controls",
      "model_module_version": "2.0.0",
      "model_name": "HTMLStyleModel",
      "state": {
       "_model_module": "@jupyter-widgets/controls",
       "_model_module_version": "2.0.0",
       "_model_name": "HTMLStyleModel",
       "_view_count": null,
       "_view_module": "@jupyter-widgets/base",
       "_view_module_version": "2.0.0",
       "_view_name": "StyleView",
       "background": null,
       "description_width": "",
       "font_size": null,
       "text_color": null
      }
     },
     "ea247d8ae23249c7b80b32d01922cb55": {
      "model_module": "@jupyter-widgets/base",
      "model_module_version": "2.0.0",
      "model_name": "LayoutModel",
      "state": {
       "_model_module": "@jupyter-widgets/base",
       "_model_module_version": "2.0.0",
       "_model_name": "LayoutModel",
       "_view_count": null,
       "_view_module": "@jupyter-widgets/base",
       "_view_module_version": "2.0.0",
       "_view_name": "LayoutView",
       "align_content": null,
       "align_items": null,
       "align_self": null,
       "border_bottom": null,
       "border_left": null,
       "border_right": null,
       "border_top": null,
       "bottom": null,
       "display": null,
       "flex": null,
       "flex_flow": null,
       "grid_area": null,
       "grid_auto_columns": null,
       "grid_auto_flow": null,
       "grid_auto_rows": null,
       "grid_column": null,
       "grid_gap": null,
       "grid_row": null,
       "grid_template_areas": null,
       "grid_template_columns": null,
       "grid_template_rows": null,
       "height": null,
       "justify_content": null,
       "justify_items": null,
       "left": null,
       "margin": null,
       "max_height": null,
       "max_width": null,
       "min_height": null,
       "min_width": null,
       "object_fit": null,
       "object_position": null,
       "order": null,
       "overflow": null,
       "padding": null,
       "right": null,
       "top": null,
       "visibility": null,
       "width": null
      }
     },
     "ee1ba83b6a7648b1a9beff98e35722eb": {
      "model_module": "@jupyter-widgets/controls",
      "model_module_version": "2.0.0",
      "model_name": "FloatProgressModel",
      "state": {
       "_dom_classes": [],
       "_model_module": "@jupyter-widgets/controls",
       "_model_module_version": "2.0.0",
       "_model_name": "FloatProgressModel",
       "_view_count": null,
       "_view_module": "@jupyter-widgets/controls",
       "_view_module_version": "2.0.0",
       "_view_name": "ProgressView",
       "bar_style": "success",
       "description": "",
       "description_allow_html": false,
       "layout": "IPY_MODEL_a8d0a222e75b4046bd39e003664dc7d7",
       "max": 466062.0,
       "min": 0.0,
       "orientation": "horizontal",
       "style": "IPY_MODEL_94391ba6c2364d4c901323c19d0e3a62",
       "tabbable": null,
       "tooltip": null,
       "value": 466062.0
      }
     },
     "f1ddbfeb3b794d9987c90831ac02661f": {
      "model_module": "@jupyter-widgets/base",
      "model_module_version": "2.0.0",
      "model_name": "LayoutModel",
      "state": {
       "_model_module": "@jupyter-widgets/base",
       "_model_module_version": "2.0.0",
       "_model_name": "LayoutModel",
       "_view_count": null,
       "_view_module": "@jupyter-widgets/base",
       "_view_module_version": "2.0.0",
       "_view_name": "LayoutView",
       "align_content": null,
       "align_items": null,
       "align_self": null,
       "border_bottom": null,
       "border_left": null,
       "border_right": null,
       "border_top": null,
       "bottom": null,
       "display": null,
       "flex": null,
       "flex_flow": null,
       "grid_area": null,
       "grid_auto_columns": null,
       "grid_auto_flow": null,
       "grid_auto_rows": null,
       "grid_column": null,
       "grid_gap": null,
       "grid_row": null,
       "grid_template_areas": null,
       "grid_template_columns": null,
       "grid_template_rows": null,
       "height": null,
       "justify_content": null,
       "justify_items": null,
       "left": null,
       "margin": null,
       "max_height": null,
       "max_width": null,
       "min_height": null,
       "min_width": null,
       "object_fit": null,
       "object_position": null,
       "order": null,
       "overflow": null,
       "padding": null,
       "right": null,
       "top": null,
       "visibility": null,
       "width": null
      }
     },
     "f244a7c5524144ef86d2b7b0aaef576c": {
      "model_module": "@jupyter-widgets/controls",
      "model_module_version": "2.0.0",
      "model_name": "HTMLStyleModel",
      "state": {
       "_model_module": "@jupyter-widgets/controls",
       "_model_module_version": "2.0.0",
       "_model_name": "HTMLStyleModel",
       "_view_count": null,
       "_view_module": "@jupyter-widgets/base",
       "_view_module_version": "2.0.0",
       "_view_name": "StyleView",
       "background": null,
       "description_width": "",
       "font_size": null,
       "text_color": null
      }
     },
     "fcf920054a2c44d98b5f2d44e6c61b48": {
      "model_module": "@jupyter-widgets/controls",
      "model_module_version": "2.0.0",
      "model_name": "FloatProgressModel",
      "state": {
       "_dom_classes": [],
       "_model_module": "@jupyter-widgets/controls",
       "_model_module_version": "2.0.0",
       "_model_name": "FloatProgressModel",
       "_view_count": null,
       "_view_module": "@jupyter-widgets/controls",
       "_view_module_version": "2.0.0",
       "_view_name": "ProgressView",
       "bar_style": "success",
       "description": "",
       "description_allow_html": false,
       "layout": "IPY_MODEL_2f00d5afcb4a4c2ab63e2bf3248d327e",
       "max": 483.0,
       "min": 0.0,
       "orientation": "horizontal",
       "style": "IPY_MODEL_5159e723ece847189e509a485c655419",
       "tabbable": null,
       "tooltip": null,
       "value": 483.0
      }
     }
    },
    "version_major": 2,
    "version_minor": 0
   }
  }
 },
 "nbformat": 4,
 "nbformat_minor": 5
}
