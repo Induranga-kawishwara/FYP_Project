{
 "cells": [
  {
   "cell_type": "markdown",
   "metadata": {
    "_cell_guid": "d4da37ba-4266-445e-be7a-e4b26b5e664d",
    "_uuid": "f261b293-fcbc-4469-93cc-7da04cc0d4f3",
    "collapsed": false,
    "jupyter": {
     "outputs_hidden": false
    },
    "trusted": true
   },
   "source": [
    "# Final Model Training with Best Hyperparameters"
   ]
  },
  {
   "cell_type": "code",
   "execution_count": null,
   "metadata": {
    "_cell_guid": "ca7ab78c-334e-4f01-b225-933dded13089",
    "_uuid": "9604dd99-4491-436d-9530-b4eb8ec51ac3",
    "collapsed": false,
    "execution": {
     "iopub.execute_input": "2025-06-21T08:12:15.552186Z",
     "iopub.status.busy": "2025-06-21T08:12:15.551474Z",
     "iopub.status.idle": "2025-06-21T08:13:00.613517Z",
     "shell.execute_reply": "2025-06-21T08:13:00.612553Z",
     "shell.execute_reply.started": "2025-06-21T08:12:15.552158Z"
    },
    "jupyter": {
     "outputs_hidden": false
    },
    "trusted": true
   },
   "outputs": [],
   "source": [
    "# 1)Configuration & Data Loading\n",
    "\n",
    "import os\n",
    "import json\n",
    "import numpy as np\n",
    "import pandas as pd\n",
    "import torch\n",
    "import matplotlib.pyplot as plt\n",
    "\n",
    "from transformers import (\n",
    "    DistilBertTokenizerFast,\n",
    "    DistilBertForSequenceClassification,\n",
    "    Trainer,\n",
    "    TrainingArguments,\n",
    "    DataCollatorWithPadding,\n",
    "    EarlyStoppingCallback\n",
    ")\n",
    "from sklearn.metrics import accuracy_score, f1_score, confusion_matrix, ConfusionMatrixDisplay\n",
    "\n",
    "SPLITS_DIR     = \"C:/Users/indur/OneDrive - University of Westminster/GitHub/FYP_Project/Models/Ai_Genuine_Reviews/FinalDataSet\"\n",
    "HPO_OUTPUT_DIR = \"C:/Users/indur/OneDrive - University of Westminster/GitHub/FYP_Project/Models/Ai_Genuine_Reviews/OutPuts\"\n",
    "FINAL_DIR      = \"C:/Users/indur/OneDrive - University of Westminster/GitHub/FYP_Project/Models/Ai_Genuine_Reviews/OutPuts\"\n",
    "SEED           = 42\n",
    "\n",
    "np.random.seed(SEED)\n",
    "torch.manual_seed(SEED)\n",
    "\n",
    "for path in (SPLITS_DIR, HPO_OUTPUT_DIR):\n",
    "    if not os.path.isdir(path):\n",
    "        raise FileNotFoundError(f\"Directory not found: {path}\")\n",
    "\n",
    "os.makedirs(FINAL_DIR, exist_ok=True)\n",
    "\n",
    "train_df = pd.read_csv(os.path.join(SPLITS_DIR, \"train.csv\"))\n",
    "val_df   = pd.read_csv(os.path.join(SPLITS_DIR, \"val.csv\"))\n",
    "test_df  = pd.read_csv(os.path.join(SPLITS_DIR, \"test.csv\"))\n",
    "\n",
    "for df, name in ((train_df, \"train\"), (val_df, \"val\"), (test_df, \"test\")):\n",
    "    for col in (\"clean_review\", \"label\"):\n",
    "        if col not in df.columns:\n",
    "            raise ValueError(f\"{name}.csv missing column: {col}\")\n",
    "    if set(df.label.unique()) - {0,1}:\n",
    "        raise ValueError(f\"{name}.csv contains invalid labels: {df.label.unique()}\")\n",
    "\n",
    "best_params_path = os.path.join(HPO_OUTPUT_DIR, \"best_params.json\")\n",
    "if not os.path.isfile(best_params_path):\n",
    "    raise FileNotFoundError(f\"Missing: {best_params_path}\")\n",
    "best_params = json.load(open(best_params_path))\n",
    "for p in (\"per_device_train_batch_size\",\"learning_rate\",\"weight_decay\"):\n",
    "    if p not in best_params:\n",
    "        raise KeyError(f\"Hyperparameter missing: {p}\")\n",
    "\n",
    "print(\"Loaded best hyperparameters:\", best_params)"
   ]
  },
  {
   "cell_type": "code",
   "execution_count": null,
   "metadata": {
    "_cell_guid": "ead19e27-389d-44e0-bdd0-372dfb099ce8",
    "_uuid": "abf89f6b-c38b-483a-bcad-ce6bd52d7726",
    "collapsed": false,
    "execution": {
     "iopub.execute_input": "2025-06-21T08:13:00.615700Z",
     "iopub.status.busy": "2025-06-21T08:13:00.615347Z",
     "iopub.status.idle": "2025-06-21T08:13:20.803249Z",
     "shell.execute_reply": "2025-06-21T08:13:20.802534Z",
     "shell.execute_reply.started": "2025-06-21T08:13:00.615667Z"
    },
    "jupyter": {
     "outputs_hidden": false
    },
    "trusted": true
   },
   "outputs": [],
   "source": [
    "# 2) Dataset & Tokenization\n",
    "\n",
    "class ReviewDataset(torch.utils.data.Dataset):\n",
    "    def __init__(self, texts, labels, tokenizer, max_length):\n",
    "        enc = tokenizer(\n",
    "            texts.tolist(),\n",
    "            padding=\"max_length\",\n",
    "            truncation=True,\n",
    "            max_length=max_length,\n",
    "            return_tensors=\"pt\"\n",
    "        )\n",
    "        self.input_ids      = enc.input_ids\n",
    "        self.attention_mask = enc.attention_mask\n",
    "        self.labels         = torch.tensor(labels.tolist(), dtype=torch.long)\n",
    "\n",
    "    def __len__(self):\n",
    "        return len(self.labels)\n",
    "\n",
    "    def __getitem__(self, idx):\n",
    "        return {\n",
    "            \"input_ids\":      self.input_ids[idx],\n",
    "            \"attention_mask\": self.attention_mask[idx],\n",
    "            \"labels\":         self.labels[idx],\n",
    "        }\n",
    "\n",
    "tokenizer     = DistilBertTokenizerFast.from_pretrained(\"distilbert-base-uncased\")\n",
    "full_train_ds = ReviewDataset(train_df.clean_review, train_df.label, tokenizer, 256)\n",
    "val_ds        = ReviewDataset(val_df.clean_review,   val_df.label,   tokenizer, 256)\n",
    "test_ds       = ReviewDataset(test_df.clean_review,  test_df.label,  tokenizer, 256)"
   ]
  },
  {
   "cell_type": "code",
   "execution_count": null,
   "metadata": {
    "_cell_guid": "85ea02f1-f1d0-49ed-8e52-5812cebe5ef9",
    "_uuid": "7116bf54-6097-4249-b0e4-934c10fc63a3",
    "collapsed": false,
    "execution": {
     "iopub.execute_input": "2025-06-21T08:13:20.804277Z",
     "iopub.status.busy": "2025-06-21T08:13:20.804060Z",
     "iopub.status.idle": "2025-06-21T08:13:20.809591Z",
     "shell.execute_reply": "2025-06-21T08:13:20.808798Z",
     "shell.execute_reply.started": "2025-06-21T08:13:20.804259Z"
    },
    "jupyter": {
     "outputs_hidden": false
    },
    "trusted": true
   },
   "outputs": [],
   "source": [
    "# 3) Metrics & Model Initialization\n",
    "\n",
    "def compute_metrics(eval_pred):\n",
    "    logits, labels = eval_pred\n",
    "    preds = np.argmax(logits, axis=-1)\n",
    "    return {\n",
    "        \"accuracy\": accuracy_score(labels, preds),\n",
    "        \"f1\":       f1_score(labels, preds)\n",
    "    }\n",
    "\n",
    "def model_init():\n",
    "    return DistilBertForSequenceClassification.from_pretrained(\n",
    "        \"distilbert-base-uncased\",\n",
    "        num_labels=2\n",
    "    )"
   ]
  },
  {
   "cell_type": "code",
   "execution_count": null,
   "metadata": {
    "_cell_guid": "1e22826f-5a14-47aa-a5cf-44af99a29e60",
    "_uuid": "67ea47b4-f724-4a68-b6e1-93ee02500211",
    "collapsed": false,
    "execution": {
     "iopub.execute_input": "2025-06-21T08:13:20.810621Z",
     "iopub.status.busy": "2025-06-21T08:13:20.810400Z",
     "iopub.status.idle": "2025-06-21T08:13:24.339573Z",
     "shell.execute_reply": "2025-06-21T08:13:24.338759Z",
     "shell.execute_reply.started": "2025-06-21T08:13:20.810604Z"
    },
    "jupyter": {
     "outputs_hidden": false
    },
    "trusted": true
   },
   "outputs": [],
   "source": [
    "# 4) Compute steps & TrainingArguments\n",
    "\n",
    "batch_size      = best_params[\"per_device_train_batch_size\"]\n",
    "steps_per_epoch = len(full_train_ds) // batch_size\n",
    "\n",
    "training_args = TrainingArguments(\n",
    "    output_dir=FINAL_DIR,\n",
    "\n",
    "    per_device_train_batch_size=batch_size,\n",
    "    learning_rate=best_params[\"learning_rate\"],\n",
    "    weight_decay=best_params[\"weight_decay\"],\n",
    "    num_train_epochs=20,\n",
    "    warmup_steps=best_params.get(\"warmup_steps\", 0),\n",
    "    fp16=torch.cuda.is_available(),\n",
    "    seed=SEED,\n",
    "    report_to=[],\n",
    "    logging_strategy=\"epoch\",\n",
    "    eval_strategy=\"epoch\",\n",
    "    save_strategy=\"epoch\",\n",
    "    save_total_limit=1,\n",
    "    load_best_model_at_end=True,\n",
    "    metric_for_best_model=\"f1\"\n",
    ")\n",
    "\n",
    "trainer = Trainer(\n",
    "    model_init=model_init,\n",
    "    args=training_args,\n",
    "    train_dataset=full_train_ds,\n",
    "    eval_dataset=val_ds,\n",
    "    tokenizer=tokenizer,\n",
    "    data_collator=DataCollatorWithPadding(tokenizer),\n",
    "    compute_metrics=compute_metrics,\n",
    "    callbacks=[EarlyStoppingCallback(early_stopping_patience=3)]\n",
    ")"
   ]
  },
  {
   "cell_type": "code",
   "execution_count": null,
   "metadata": {
    "_cell_guid": "0bf25b6f-afef-4555-90be-84c4683b8072",
    "_uuid": "ca32c175-e496-4752-9b07-4556c4480fe1",
    "collapsed": false,
    "execution": {
     "iopub.execute_input": "2025-06-21T08:13:24.341891Z",
     "iopub.status.busy": "2025-06-21T08:13:24.341616Z"
    },
    "jupyter": {
     "outputs_hidden": false
    },
    "trusted": true
   },
   "outputs": [],
   "source": [
    "# 5) Train\n",
    "\n",
    "train_output = trainer.train()\n",
    "print(\"Training completed. Metrics:\", train_output.metrics)"
   ]
  },
  {
   "cell_type": "code",
   "execution_count": null,
   "metadata": {
    "_cell_guid": "7378fa1c-8ab0-418f-86c5-3bbd15ed52ba",
    "_uuid": "39b693d7-43c1-4ae2-a604-6ccaf782f6ef",
    "collapsed": false,
    "jupyter": {
     "outputs_hidden": false
    },
    "trusted": true
   },
   "outputs": [],
   "source": [
    "# 6) Final Evaluation on Test Set\n",
    "\n",
    "metrics = trainer.evaluate(test_ds)\n",
    "print(f\"Test -> Acc: {metrics['eval_accuracy']:.4f}, F1: {metrics['eval_f1']:.4f}\")\n",
    "\n",
    "pred_out = trainer.predict(test_ds)\n",
    "labels   = pred_out.label_ids\n",
    "preds    = np.argmax(pred_out.predictions, axis=-1)\n",
    "\n",
    "cm   = confusion_matrix(labels, preds)\n",
    "disp = ConfusionMatrixDisplay(cm, display_labels=[\"genuine\",\"ai\"])\n",
    "disp.plot(xticks_rotation=\"vertical\")\n",
    "plt.title(\"Test Confusion Matrix\")\n",
    "plt.tight_layout()\n",
    "plt.show()"
   ]
  },
  {
   "cell_type": "code",
   "execution_count": null,
   "metadata": {
    "_cell_guid": "fe138cbd-3bfa-4bf7-9d19-70515431bf89",
    "_uuid": "2d2f9beb-1e3f-415e-88c3-7de7d37f4522",
    "collapsed": false,
    "jupyter": {
     "outputs_hidden": false
    },
    "trusted": true
   },
   "outputs": [],
   "source": [
    "# 7) Save Best Model\n",
    "trainer.save_model(FINAL_DIR)\n",
    "print(f\"Saved best model to {FINAL_DIR}\")"
   ]
  }
 ],
 "metadata": {
  "kaggle": {
   "accelerator": "nvidiaTeslaT4",
   "dataSources": [
    {
     "sourceId": 246511070,
     "sourceType": "kernelVersion"
    },
    {
     "sourceId": 246512627,
     "sourceType": "kernelVersion"
    }
   ],
   "dockerImageVersionId": 31041,
   "isGpuEnabled": true,
   "isInternetEnabled": true,
   "language": "python",
   "sourceType": "notebook"
  },
  "kernelspec": {
   "display_name": "Python 3",
   "language": "python",
   "name": "python3"
  },
  "language_info": {
   "codemirror_mode": {
    "name": "ipython",
    "version": 3
   },
   "file_extension": ".py",
   "mimetype": "text/x-python",
   "name": "python",
   "nbconvert_exporter": "python",
   "pygments_lexer": "ipython3",
   "version": "3.11.11"
  }
 },
 "nbformat": 4,
 "nbformat_minor": 4
}
