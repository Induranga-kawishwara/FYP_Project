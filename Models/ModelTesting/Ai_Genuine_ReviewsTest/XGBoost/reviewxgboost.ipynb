{
 "cells": [
  {
   "cell_type": "markdown",
   "id": "cf32cea9",
   "metadata": {
    "_cell_guid": "e626a405-d021-4cab-85c4-332f5554900e",
    "_uuid": "544eacc3-d7a2-4755-9f6f-6bea171162c9",
    "collapsed": false,
    "id": "GU_OpKm_ljuf",
    "jupyter": {
     "outputs_hidden": false
    },
    "papermill": {
     "duration": 0.007046,
     "end_time": "2025-02-28T08:33:41.865111",
     "exception": false,
     "start_time": "2025-02-28T08:33:41.858065",
     "status": "completed"
    },
    "tags": []
   },
   "source": [
    "# **Import Necessary Libraries**"
   ]
  },
  {
   "cell_type": "code",
   "execution_count": null,
   "id": "9351bf37",
   "metadata": {
    "_cell_guid": "afd22bf0-35ed-457d-afda-5f9abfbe36b0",
    "_uuid": "c001aa09-971d-46bd-a62d-ab91c0d55005",
    "collapsed": false,
    "execution": {
     "iopub.execute_input": "2025-02-28T08:33:41.879522Z",
     "iopub.status.busy": "2025-02-28T08:33:41.879068Z",
     "iopub.status.idle": "2025-02-28T08:33:45.916364Z",
     "shell.execute_reply": "2025-02-28T08:33:45.915272Z"
    },
    "id": "import_code",
    "jupyter": {
     "outputs_hidden": false
    },
    "papermill": {
     "duration": 4.046647,
     "end_time": "2025-02-28T08:33:45.918342",
     "exception": false,
     "start_time": "2025-02-28T08:33:41.871695",
     "status": "completed"
    },
    "tags": []
   },
   "outputs": [],
   "source": [
    "import pandas as pd\n",
    "import joblib\n",
    "from textblob import TextBlob\n",
    "from sklearn.model_selection import train_test_split\n",
    "from sklearn.metrics import accuracy_score, classification_report, roc_auc_score\n",
    "import xgboost as xgb\n",
    "from sklearn.preprocessing import StandardScaler\n",
    "import matplotlib.pyplot as plt\n",
    "import seaborn as sns\n",
    "import os"
   ]
  },
  {
   "cell_type": "markdown",
   "id": "21531f15",
   "metadata": {
    "_cell_guid": "e95c1782-6762-493b-87cb-dda0501cdb33",
    "_uuid": "bda249d7-0e78-4ac5-ab61-6fa459ac32f8",
    "collapsed": false,
    "id": "gpu_check_md",
    "jupyter": {
     "outputs_hidden": false
    },
    "papermill": {
     "duration": 0.006801,
     "end_time": "2025-02-28T08:33:45.931776",
     "exception": false,
     "start_time": "2025-02-28T08:33:45.924975",
     "status": "completed"
    },
    "tags": []
   },
   "source": [
    "# **Check GPU Availability**"
   ]
  },
  {
   "cell_type": "code",
   "execution_count": null,
   "id": "76ca6409",
   "metadata": {
    "_cell_guid": "4304e310-07ff-485f-a222-f434b060ea54",
    "_uuid": "1095bf5d-1f54-4f9f-8324-cff84a80c4d4",
    "collapsed": false,
    "execution": {
     "iopub.execute_input": "2025-02-28T08:33:45.945604Z",
     "iopub.status.busy": "2025-02-28T08:33:45.945082Z",
     "iopub.status.idle": "2025-02-28T08:33:45.953539Z",
     "shell.execute_reply": "2025-02-28T08:33:45.952438Z"
    },
    "id": "gpu_check_code",
    "jupyter": {
     "outputs_hidden": false
    },
    "papermill": {
     "duration": 0.016994,
     "end_time": "2025-02-28T08:33:45.955021",
     "exception": false,
     "start_time": "2025-02-28T08:33:45.938027",
     "status": "completed"
    },
    "tags": []
   },
   "outputs": [],
   "source": [
    "import subprocess\n",
    "\n",
    "def is_gpu_available():\n",
    "    try:\n",
    "        # Try to run nvidia-smi to check for GPU presence\n",
    "        result = subprocess.run([\"nvidia-smi\"], stdout=subprocess.PIPE, stderr=subprocess.PIPE)\n",
    "        return result.returncode == 0\n",
    "    except Exception:\n",
    "        return False\n",
    "\n",
    "gpu_available = is_gpu_available()\n",
    "print(\"GPU Available:\", gpu_available)"
   ]
  },
  {
   "cell_type": "markdown",
   "id": "53fd6a11",
   "metadata": {
    "_cell_guid": "e85b081f-c451-4624-b5f1-0851054374a3",
    "_uuid": "a9d7e7cd-1678-402c-9924-57972c3af630",
    "collapsed": false,
    "id": "-ktghbBPgmpX",
    "jupyter": {
     "outputs_hidden": false
    },
    "papermill": {
     "duration": 0.00632,
     "end_time": "2025-02-28T08:33:45.967983",
     "exception": false,
     "start_time": "2025-02-28T08:33:45.961663",
     "status": "completed"
    },
    "tags": []
   },
   "source": [
    "# **Load Dataset**"
   ]
  },
  {
   "cell_type": "code",
   "execution_count": null,
   "id": "473339cd",
   "metadata": {
    "_cell_guid": "46b2965a-6365-4da2-9020-a94bc14c41f8",
    "_uuid": "d7c15565-333b-47e9-8b11-bbdc99e71ebe",
    "collapsed": false,
    "execution": {
     "iopub.execute_input": "2025-02-28T08:33:45.982148Z",
     "iopub.status.busy": "2025-02-28T08:33:45.981764Z",
     "iopub.status.idle": "2025-02-28T08:33:51.942709Z",
     "shell.execute_reply": "2025-02-28T08:33:51.941551Z"
    },
    "id": "load_dataset_code",
    "jupyter": {
     "outputs_hidden": false
    },
    "papermill": {
     "duration": 5.970117,
     "end_time": "2025-02-28T08:33:51.944594",
     "exception": false,
     "start_time": "2025-02-28T08:33:45.974477",
     "status": "completed"
    },
    "tags": []
   },
   "outputs": [],
   "source": [
    "# In Kaggle, data is usually stored in the input folder.\n",
    "file_path = \"C:/Users/indur/OneDrive - University of Westminster/GitHub/FYP_Project/Models/Ai_Genuine_Reviews/FinalDataSet/filtered_reviews.csv\"\n",
    "df = pd.read_csv(file_path)\n",
    "print(f\"Loaded dataset with {len(df)} reviews!\")"
   ]
  },
  {
   "cell_type": "markdown",
   "id": "ff9c4912",
   "metadata": {
    "_cell_guid": "22132630-2821-466b-8c60-db4e187ff98b",
    "_uuid": "26d8b848-0492-47e9-af1e-af10918bfdc7",
    "collapsed": false,
    "id": "clean_data_md",
    "jupyter": {
     "outputs_hidden": false
    },
    "papermill": {
     "duration": 0.006257,
     "end_time": "2025-02-28T08:33:51.957420",
     "exception": false,
     "start_time": "2025-02-28T08:33:51.951163",
     "status": "completed"
    },
    "tags": []
   },
   "source": [
    "# **Clean Data**"
   ]
  },
  {
   "cell_type": "code",
   "execution_count": null,
   "id": "60a631f6",
   "metadata": {
    "_cell_guid": "91df8235-8823-4c73-84fa-fd38fc2d3bc2",
    "_uuid": "fb1ec7c9-55f6-4603-acb1-b68621279251",
    "collapsed": false,
    "execution": {
     "iopub.execute_input": "2025-02-28T08:33:51.971114Z",
     "iopub.status.busy": "2025-02-28T08:33:51.970759Z",
     "iopub.status.idle": "2025-02-28T08:33:52.274393Z",
     "shell.execute_reply": "2025-02-28T08:33:52.273353Z"
    },
    "id": "clean_data_code",
    "jupyter": {
     "outputs_hidden": false
    },
    "papermill": {
     "duration": 0.312378,
     "end_time": "2025-02-28T08:33:52.276014",
     "exception": false,
     "start_time": "2025-02-28T08:33:51.963636",
     "status": "completed"
    },
    "tags": []
   },
   "outputs": [],
   "source": [
    "# Remove extra spaces in column names and drop duplicate reviews.\n",
    "df.columns = df.columns.str.strip()\n",
    "df = df.drop_duplicates(subset=[\"Review\"], keep=\"first\").reset_index(drop=True)\n",
    "print(f\"Dataset size after removing duplicates: {len(df)}\")"
   ]
  },
  {
   "cell_type": "markdown",
   "id": "5df26ff4",
   "metadata": {
    "_cell_guid": "5bbca647-5ae3-4605-b91d-3f246a3943c2",
    "_uuid": "9e17e5e1-16de-46f7-8fbb-45f6c305a4a7",
    "collapsed": false,
    "id": "convert_balance_md",
    "jupyter": {
     "outputs_hidden": false
    },
    "papermill": {
     "duration": 0.005998,
     "end_time": "2025-02-28T08:33:52.288485",
     "exception": false,
     "start_time": "2025-02-28T08:33:52.282487",
     "status": "completed"
    },
    "tags": []
   },
   "source": [
    "# **Convert Labels and Balance Dataset**"
   ]
  },
  {
   "cell_type": "code",
   "execution_count": null,
   "id": "52c2eee4",
   "metadata": {
    "_cell_guid": "2cf79fea-0b6e-494c-84cb-eea77a5ea8c1",
    "_uuid": "255b9930-9142-478b-96da-5198d09ad881",
    "collapsed": false,
    "execution": {
     "iopub.execute_input": "2025-02-28T08:33:52.302340Z",
     "iopub.status.busy": "2025-02-28T08:33:52.301958Z",
     "iopub.status.idle": "2025-02-28T08:33:52.390163Z",
     "shell.execute_reply": "2025-02-28T08:33:52.388959Z"
    },
    "id": "convert_balance_code",
    "jupyter": {
     "outputs_hidden": false
    },
    "papermill": {
     "duration": 0.097364,
     "end_time": "2025-02-28T08:33:52.392026",
     "exception": false,
     "start_time": "2025-02-28T08:33:52.294662",
     "status": "completed"
    },
    "tags": []
   },
   "outputs": [],
   "source": [
    "# Convert labels: fake reviews (-1) become 0, genuine reviews (1) remain 1.\n",
    "df[\"Label\"] = df[\"Label\"].map({-1: 0, 1: 1})\n",
    "\n",
    "# Balance the dataset using undersampling.\n",
    "min_class_count = df[\"Label\"].value_counts().min()\n",
    "df_fake = df[df[\"Label\"] == 0].sample(min_class_count, random_state=42)\n",
    "df_genuine = df[df[\"Label\"] == 1].sample(min_class_count, random_state=42)\n",
    "df_balanced = pd.concat([df_fake, df_genuine]).sample(frac=1, random_state=42).reset_index(drop=True)\n",
    "print(f\"Balanced dataset size: {len(df_balanced)}\")"
   ]
  },
  {
   "cell_type": "markdown",
   "id": "2348a448",
   "metadata": {
    "_cell_guid": "47ec1a97-7d9f-4bd8-a27e-89c1f6b970a1",
    "_uuid": "7414631a-b096-4a72-97b9-bbc1829490ae",
    "collapsed": false,
    "id": "feature_eng_md",
    "jupyter": {
     "outputs_hidden": false
    },
    "papermill": {
     "duration": 0.006128,
     "end_time": "2025-02-28T08:33:52.404980",
     "exception": false,
     "start_time": "2025-02-28T08:33:52.398852",
     "status": "completed"
    },
    "tags": []
   },
   "source": [
    "# **Feature Engineering**"
   ]
  },
  {
   "cell_type": "code",
   "execution_count": null,
   "id": "69ab887b",
   "metadata": {
    "_cell_guid": "01e0b0e3-9e59-4133-a5f8-0d25f4ef7919",
    "_uuid": "c2f24eb8-9e33-4851-980a-117c553f7b51",
    "collapsed": false,
    "execution": {
     "iopub.execute_input": "2025-02-28T08:33:52.418924Z",
     "iopub.status.busy": "2025-02-28T08:33:52.418574Z",
     "iopub.status.idle": "2025-02-28T08:34:48.723749Z",
     "shell.execute_reply": "2025-02-28T08:34:48.722834Z"
    },
    "id": "feature_eng_code",
    "jupyter": {
     "outputs_hidden": false
    },
    "papermill": {
     "duration": 56.314197,
     "end_time": "2025-02-28T08:34:48.725576",
     "exception": false,
     "start_time": "2025-02-28T08:33:52.411379",
     "status": "completed"
    },
    "tags": []
   },
   "outputs": [],
   "source": [
    "# Compute sentiment score using TextBlob.\n",
    "df_balanced[\"sentiment_score\"] = df_balanced[\"Review\"].apply(lambda x: TextBlob(str(x)).sentiment.polarity)\n",
    "\n",
    "# Flag promotional words.\n",
    "df_balanced[\"contains_promo_words\"] = df_balanced[\"Review\"].apply(\n",
    "    lambda x: int(any(word in str(x).lower() for word in [\"best\", \"amazing\", \"awesome\", \"perfect\", \"incredible\", \"must-buy\"]))\n",
    ")\n",
    "\n",
    "# Flag sarcasm words.\n",
    "df_balanced[\"contains_sarcasm_words\"] = df_balanced[\"Review\"].apply(\n",
    "    lambda x: int(any(word in str(x).lower() for word in [\"lmao\", \"lol\", \"smh\", \"yeah right\"]))\n",
    ")\n",
    "\n",
    "# Convert Date to a numeric feature: days since review.\n",
    "df_balanced[\"Date\"] = pd.to_datetime(df_balanced[\"Date\"], errors=\"coerce\")\n",
    "df_balanced[\"days_since_review\"] = (pd.Timestamp.today() - df_balanced[\"Date\"]).dt.days"
   ]
  },
  {
   "cell_type": "markdown",
   "id": "6acefa64",
   "metadata": {
    "_cell_guid": "e490f931-e8ca-44ad-9dd8-cd2206793a93",
    "_uuid": "150ae770-2810-45cc-a770-1609aa0fd1e0",
    "collapsed": false,
    "id": "prepare_md",
    "jupyter": {
     "outputs_hidden": false
    },
    "papermill": {
     "duration": 0.006203,
     "end_time": "2025-02-28T08:34:48.738569",
     "exception": false,
     "start_time": "2025-02-28T08:34:48.732366",
     "status": "completed"
    },
    "tags": []
   },
   "source": [
    "# **Prepare Features and Labels**"
   ]
  },
  {
   "cell_type": "code",
   "execution_count": null,
   "id": "d2f19af8",
   "metadata": {
    "_cell_guid": "ed4f4384-3663-4bca-8c91-6992f970b36d",
    "_uuid": "c8cd4f58-e385-43a7-97fb-36d765eec76b",
    "collapsed": false,
    "execution": {
     "iopub.execute_input": "2025-02-28T08:34:48.753047Z",
     "iopub.status.busy": "2025-02-28T08:34:48.752652Z",
     "iopub.status.idle": "2025-02-28T08:34:48.759826Z",
     "shell.execute_reply": "2025-02-28T08:34:48.758638Z"
    },
    "id": "prepare_code",
    "jupyter": {
     "outputs_hidden": false
    },
    "papermill": {
     "duration": 0.016641,
     "end_time": "2025-02-28T08:34:48.761635",
     "exception": false,
     "start_time": "2025-02-28T08:34:48.744994",
     "status": "completed"
    },
    "tags": []
   },
   "outputs": [],
   "source": [
    "# Drop features that could lead to overfitting.\n",
    "X = df_balanced.drop(columns=[\"User_id\", \"Product_id\", \"Date\", \"Review\", \"Rating\", \"Label\"], errors=\"ignore\")\n",
    "y = df_balanced[\"Label\"]"
   ]
  },
  {
   "cell_type": "markdown",
   "id": "f29ec82e",
   "metadata": {
    "_cell_guid": "39b8e7cf-b082-42cb-9d68-2e7ad8983fb4",
    "_uuid": "a549f502-6cc5-4f97-ae5d-71587aabfe40",
    "collapsed": false,
    "id": "normalize_md",
    "jupyter": {
     "outputs_hidden": false
    },
    "papermill": {
     "duration": 0.006231,
     "end_time": "2025-02-28T08:34:48.774642",
     "exception": false,
     "start_time": "2025-02-28T08:34:48.768411",
     "status": "completed"
    },
    "tags": []
   },
   "source": [
    "# **Normalize Numeric Features**"
   ]
  },
  {
   "cell_type": "code",
   "execution_count": null,
   "id": "ed3a62ba",
   "metadata": {
    "_cell_guid": "93f7c1cd-32c1-42a3-90a7-c1a5f58847cf",
    "_uuid": "c3f4b415-4c34-4276-b190-4b5876baadd2",
    "collapsed": false,
    "execution": {
     "iopub.execute_input": "2025-02-28T08:34:48.789047Z",
     "iopub.status.busy": "2025-02-28T08:34:48.788648Z",
     "iopub.status.idle": "2025-02-28T08:34:48.815974Z",
     "shell.execute_reply": "2025-02-28T08:34:48.814850Z"
    },
    "id": "normalize_code",
    "jupyter": {
     "outputs_hidden": false
    },
    "papermill": {
     "duration": 0.036776,
     "end_time": "2025-02-28T08:34:48.817979",
     "exception": false,
     "start_time": "2025-02-28T08:34:48.781203",
     "status": "completed"
    },
    "tags": []
   },
   "outputs": [],
   "source": [
    "# Scale numeric features to help the model converge.\n",
    "scaler = StandardScaler()\n",
    "X[[\"sentiment_score\", \"days_since_review\"]] = scaler.fit_transform(X[[\"sentiment_score\", \"days_since_review\"]])\n",
    "\n",
    "# Save the scaler for future use.\n",
    "scaler_path = \"/kaggle/working/scaler.pkl\"\n",
    "joblib.dump(scaler, scaler_path)\n",
    "print(f\"Scaler saved at {scaler_path}!\")"
   ]
  },
  {
   "cell_type": "markdown",
   "id": "0356337b",
   "metadata": {
    "_cell_guid": "c8b4350f-abb2-4c9e-917c-10bbf8099d50",
    "_uuid": "bfe78a03-3a1c-498e-a983-a974c788f71c",
    "collapsed": false,
    "id": "split_md",
    "jupyter": {
     "outputs_hidden": false
    },
    "papermill": {
     "duration": 0.006469,
     "end_time": "2025-02-28T08:34:48.831402",
     "exception": false,
     "start_time": "2025-02-28T08:34:48.824933",
     "status": "completed"
    },
    "tags": []
   },
   "source": [
    "# **Train-Test Split**"
   ]
  },
  {
   "cell_type": "code",
   "execution_count": null,
   "id": "4fa7de6c",
   "metadata": {
    "_cell_guid": "12e6228b-854b-46e0-adf1-0364d8b7436e",
    "_uuid": "e883fb24-5150-491a-9d3c-0378c79fe872",
    "collapsed": false,
    "execution": {
     "iopub.execute_input": "2025-02-28T08:34:48.845555Z",
     "iopub.status.busy": "2025-02-28T08:34:48.845160Z",
     "iopub.status.idle": "2025-02-28T08:34:48.884162Z",
     "shell.execute_reply": "2025-02-28T08:34:48.883018Z"
    },
    "id": "split_code",
    "jupyter": {
     "outputs_hidden": false
    },
    "papermill": {
     "duration": 0.048259,
     "end_time": "2025-02-28T08:34:48.886028",
     "exception": false,
     "start_time": "2025-02-28T08:34:48.837769",
     "status": "completed"
    },
    "tags": []
   },
   "outputs": [],
   "source": [
    "X_train, X_test, y_train, y_test = train_test_split(\n",
    "    X, y, test_size=0.2, stratify=y, random_state=42\n",
    ")"
   ]
  },
  {
   "cell_type": "markdown",
   "id": "af9edabf",
   "metadata": {
    "_cell_guid": "aca00293-1b4f-4108-806c-cf9013aa133f",
    "_uuid": "e08c272a-ddad-421e-8e07-4a72599fac3c",
    "collapsed": false,
    "id": "dmatrices_md",
    "jupyter": {
     "outputs_hidden": false
    },
    "papermill": {
     "duration": 0.006431,
     "end_time": "2025-02-28T08:34:48.899272",
     "exception": false,
     "start_time": "2025-02-28T08:34:48.892841",
     "status": "completed"
    },
    "tags": []
   },
   "source": [
    "# **Convert to XGBoost DMatrix**"
   ]
  },
  {
   "cell_type": "code",
   "execution_count": null,
   "id": "185a02b8",
   "metadata": {
    "_cell_guid": "90e71f7b-8dec-401d-af71-c7e131b1a47b",
    "_uuid": "c1539008-b128-4d88-998e-2650eb52abf4",
    "collapsed": false,
    "execution": {
     "iopub.execute_input": "2025-02-28T08:34:48.913783Z",
     "iopub.status.busy": "2025-02-28T08:34:48.913397Z",
     "iopub.status.idle": "2025-02-28T08:34:48.942271Z",
     "shell.execute_reply": "2025-02-28T08:34:48.941437Z"
    },
    "id": "dmatrices_code",
    "jupyter": {
     "outputs_hidden": false
    },
    "papermill": {
     "duration": 0.038611,
     "end_time": "2025-02-28T08:34:48.944406",
     "exception": false,
     "start_time": "2025-02-28T08:34:48.905795",
     "status": "completed"
    },
    "tags": []
   },
   "outputs": [],
   "source": [
    "dtrain = xgb.DMatrix(X_train, label=y_train)\n",
    "dtest = xgb.DMatrix(X_test, label=y_test)"
   ]
  },
  {
   "cell_type": "markdown",
   "id": "d999128a",
   "metadata": {
    "_cell_guid": "1a4c25a6-afb9-45c7-9a48-63cc95567888",
    "_uuid": "fd380e11-0278-4ddf-8729-356293fc6823",
    "collapsed": false,
    "id": "train_model_md",
    "jupyter": {
     "outputs_hidden": false
    },
    "papermill": {
     "duration": 0.007511,
     "end_time": "2025-02-28T08:34:48.960219",
     "exception": false,
     "start_time": "2025-02-28T08:34:48.952708",
     "status": "completed"
    },
    "tags": []
   },
   "source": [
    "# **Train XGBoost Model with Early Stopping**"
   ]
  },
  {
   "cell_type": "code",
   "execution_count": null,
   "id": "0fb03eeb",
   "metadata": {
    "_cell_guid": "5a3dd803-20ed-4d71-ad96-15b0f0a1510c",
    "_uuid": "68a452b5-56ab-4022-a9f7-e4d454213c23",
    "collapsed": false,
    "execution": {
     "iopub.execute_input": "2025-02-28T08:34:48.974578Z",
     "iopub.status.busy": "2025-02-28T08:34:48.974151Z",
     "iopub.status.idle": "2025-02-28T08:34:49.529076Z",
     "shell.execute_reply": "2025-02-28T08:34:49.528236Z"
    },
    "id": "train_model_code",
    "jupyter": {
     "outputs_hidden": false
    },
    "papermill": {
     "duration": 0.564527,
     "end_time": "2025-02-28T08:34:49.531296",
     "exception": false,
     "start_time": "2025-02-28T08:34:48.966769",
     "status": "completed"
    },
    "tags": []
   },
   "outputs": [],
   "source": [
    "# Define common parameters for XGBoost\n",
    "params = {\n",
    "    \"objective\": \"binary:logistic\",\n",
    "    \"eval_metric\": [\"logloss\", \"auc\"],\n",
    "    \"learning_rate\": 0.01,\n",
    "    \"max_depth\": 3,\n",
    "    \"colsample_bytree\": 0.5,\n",
    "    \"subsample\": 0.5,\n",
    "    \"gamma\": 10.0,\n",
    "    \"reg_lambda\": 20,\n",
    "    \"tree_method\": \"hist\"  # Use histogram-based method\n",
    "}\n",
    "\n",
    "# Conditionally add GPU support if available\n",
    "if gpu_available:\n",
    "    print(\"Using GPU for training.\")\n",
    "    params[\"device\"] = \"cuda\"\n",
    "else:\n",
    "    print(\"GPU not available, using CPU.\")\n",
    "\n",
    "evals = [(dtrain, \"train\"), (dtest, \"eval\")]\n",
    "\n",
    "# Train the model with early stopping\n",
    "xgb_model = xgb.train(\n",
    "    params,\n",
    "    dtrain,\n",
    "    num_boost_round=500,\n",
    "    evals=evals,\n",
    "    early_stopping_rounds=20,\n",
    "    verbose_eval=10\n",
    ")\n"
   ]
  },
  {
   "cell_type": "markdown",
   "id": "5861cc84",
   "metadata": {
    "_cell_guid": "e4cd1d17-1b94-48ad-b9f3-be46d6594c74",
    "_uuid": "fed20354-e990-4706-a983-f5e4188c0471",
    "collapsed": false,
    "id": "evaluate_md",
    "jupyter": {
     "outputs_hidden": false
    },
    "papermill": {
     "duration": 0.007136,
     "end_time": "2025-02-28T08:34:49.547654",
     "exception": false,
     "start_time": "2025-02-28T08:34:49.540518",
     "status": "completed"
    },
    "tags": []
   },
   "source": [
    "# **Evaluate Model**"
   ]
  },
  {
   "cell_type": "code",
   "execution_count": null,
   "id": "e9b3728a",
   "metadata": {
    "_cell_guid": "65ac3d02-fcf1-4a62-b4f7-2b6e60af5d50",
    "_uuid": "f1d0a801-b158-416e-a724-0e58c08136d3",
    "collapsed": false,
    "execution": {
     "iopub.execute_input": "2025-02-28T08:34:49.564014Z",
     "iopub.status.busy": "2025-02-28T08:34:49.563626Z",
     "iopub.status.idle": "2025-02-28T08:34:49.620561Z",
     "shell.execute_reply": "2025-02-28T08:34:49.619264Z"
    },
    "id": "evaluate_code",
    "jupyter": {
     "outputs_hidden": false
    },
    "papermill": {
     "duration": 0.067515,
     "end_time": "2025-02-28T08:34:49.622222",
     "exception": false,
     "start_time": "2025-02-28T08:34:49.554707",
     "status": "completed"
    },
    "tags": []
   },
   "outputs": [],
   "source": [
    "# Safely predict using the best iteration if early stopping was triggered.\n",
    "if hasattr(xgb_model, \"best_ntree_limit\"):\n",
    "    y_pred_proba = xgb_model.predict(dtest, ntree_limit=xgb_model.best_ntree_limit)\n",
    "else:\n",
    "    y_pred_proba = xgb_model.predict(dtest)\n",
    "\n",
    "y_pred = (y_pred_proba > 0.5).astype(int)\n",
    "\n",
    "accuracy = accuracy_score(y_test, y_pred)\n",
    "roc_auc = roc_auc_score(y_test, y_pred_proba)\n",
    "print(f\"XGBoost Accuracy: {accuracy * 100:.2f}%\")\n",
    "print(f\"XGBoost ROC-AUC: {roc_auc:.4f}\\n\")\n",
    "print(\"Classification Report:\\n\", classification_report(y_test, y_pred))"
   ]
  },
  {
   "cell_type": "markdown",
   "id": "57302dc6",
   "metadata": {
    "_cell_guid": "4871877e-a545-4a7f-8a73-d06b070c2d13",
    "_uuid": "79e69734-01f3-44c1-9daa-11c9835adf9d",
    "collapsed": false,
    "id": "save_model_md",
    "jupyter": {
     "outputs_hidden": false
    },
    "papermill": {
     "duration": 0.006912,
     "end_time": "2025-02-28T08:34:49.636393",
     "exception": false,
     "start_time": "2025-02-28T08:34:49.629481",
     "status": "completed"
    },
    "tags": []
   },
   "source": [
    "# **Save Model**"
   ]
  },
  {
   "cell_type": "code",
   "execution_count": null,
   "id": "28f127ab",
   "metadata": {
    "_cell_guid": "f2546d85-b2ca-4a7f-bba3-4bba647a15e6",
    "_uuid": "857e57ce-7684-4a03-8cff-f98e56e3c369",
    "collapsed": false,
    "execution": {
     "iopub.execute_input": "2025-02-28T08:34:49.651899Z",
     "iopub.status.busy": "2025-02-28T08:34:49.651509Z",
     "iopub.status.idle": "2025-02-28T08:34:49.660211Z",
     "shell.execute_reply": "2025-02-28T08:34:49.658367Z"
    },
    "id": "save_model_code",
    "jupyter": {
     "outputs_hidden": false
    },
    "papermill": {
     "duration": 0.018578,
     "end_time": "2025-02-28T08:34:49.662019",
     "exception": false,
     "start_time": "2025-02-28T08:34:49.643441",
     "status": "completed"
    },
    "tags": []
   },
   "outputs": [],
   "source": [
    "model_path = \"/kaggle/working/xgboost_fakereview_model.pkl\"\n",
    "joblib.dump(xgb_model, model_path)\n",
    "print(f\"XGBoost Model saved at {model_path}\")"
   ]
  }
 ],
 "metadata": {
  "colab": {
   "authorship_tag": "ABX9TyMZkrx5o5dh6PVLAmz/g8Ha",
   "provenance": []
  },
  "kaggle": {
   "accelerator": "none",
   "dataSources": [
    {
     "datasetId": 302875,
     "sourceId": 618577,
     "sourceType": "datasetVersion"
    },
    {
     "datasetId": 1135527,
     "sourceId": 1904905,
     "sourceType": "datasetVersion"
    }
   ],
   "dockerImageVersionId": 30919,
   "isGpuEnabled": false,
   "isInternetEnabled": true,
   "language": "python",
   "sourceType": "notebook"
  },
  "kernelspec": {
   "display_name": "Python 3",
   "language": "python",
   "name": "python3"
  },
  "language_info": {
   "codemirror_mode": {
    "name": "ipython",
    "version": 3
   },
   "file_extension": ".py",
   "mimetype": "text/x-python",
   "name": "python",
   "nbconvert_exporter": "python",
   "pygments_lexer": "ipython3",
   "version": "3.13.1"
  },
  "papermill": {
   "default_parameters": {},
   "duration": 71.835157,
   "end_time": "2025-02-28T08:34:50.902522",
   "environment_variables": {},
   "exception": null,
   "input_path": "__notebook__.ipynb",
   "output_path": "__notebook__.ipynb",
   "parameters": {},
   "start_time": "2025-02-28T08:33:39.067365",
   "version": "2.6.0"
  }
 },
 "nbformat": 4,
 "nbformat_minor": 5
}
