{
 "cells": [
  {
   "cell_type": "markdown",
   "metadata": {
    "_cell_guid": "63692723-64b8-495e-a5d7-38982b8a622c",
    "_uuid": "cc8896e7-bb73-4fe6-ab5f-3cf04f578598",
    "collapsed": false,
    "jupyter": {
     "outputs_hidden": false
    },
    "trusted": true
   },
   "source": [
    "# **05 – XGBoost Hyperparameter Search**"
   ]
  },
  {
   "cell_type": "code",
   "execution_count": null,
   "metadata": {
    "_cell_guid": "57b8968a-dc34-4938-909f-15f1a59d101b",
    "_uuid": "9d258461-c04b-4f79-8e67-d2085fddf6b0",
    "collapsed": false,
    "execution": {
     "iopub.execute_input": "2025-06-20T05:58:24.909077Z",
     "iopub.status.busy": "2025-06-20T05:58:24.908782Z",
     "iopub.status.idle": "2025-06-20T05:58:28.725388Z",
     "shell.execute_reply": "2025-06-20T05:58:28.724696Z",
     "shell.execute_reply.started": "2025-06-20T05:58:24.909050Z"
    },
    "jupyter": {
     "outputs_hidden": false
    },
    "trusted": true
   },
   "outputs": [],
   "source": [
    "pip install xgboost scikit-learn tqdm"
   ]
  },
  {
   "cell_type": "code",
   "execution_count": null,
   "metadata": {
    "_cell_guid": "e8085ab4-2098-4b7d-bb54-f8960d638c89",
    "_uuid": "af08902a-f99b-44e3-94d4-5add7b594eba",
    "collapsed": false,
    "execution": {
     "iopub.execute_input": "2025-06-20T05:58:28.727048Z",
     "iopub.status.busy": "2025-06-20T05:58:28.726788Z",
     "iopub.status.idle": "2025-06-20T05:58:34.306354Z",
     "shell.execute_reply": "2025-06-20T05:58:34.305594Z",
     "shell.execute_reply.started": "2025-06-20T05:58:28.727011Z"
    },
    "jupyter": {
     "outputs_hidden": false
    },
    "trusted": true
   },
   "outputs": [],
   "source": [
    "import os\n",
    "import gc\n",
    "import numpy as np\n",
    "import joblib\n",
    "import torch\n",
    "\n",
    "from xgboost import XGBClassifier\n",
    "from sklearn.model_selection import ParameterSampler\n",
    "from sklearn.metrics import f1_score\n",
    "from sklearn.utils.class_weight import compute_class_weight\n",
    "from tqdm.auto import tqdm"
   ]
  },
  {
   "cell_type": "code",
   "execution_count": null,
   "metadata": {
    "_cell_guid": "7f934420-3689-4176-8462-d0118e186909",
    "_uuid": "7d936a1d-7ba7-4c0d-93c6-dc7f7cc9f989",
    "collapsed": false,
    "execution": {
     "iopub.execute_input": "2025-06-20T05:58:34.307356Z",
     "iopub.status.busy": "2025-06-20T05:58:34.307043Z",
     "iopub.status.idle": "2025-06-20T05:58:34.311416Z",
     "shell.execute_reply": "2025-06-20T05:58:34.310558Z",
     "shell.execute_reply.started": "2025-06-20T05:58:34.307339Z"
    },
    "jupyter": {
     "outputs_hidden": false
    },
    "trusted": true
   },
   "outputs": [],
   "source": [
    "# Paths\n",
    "BASE    = \"C:/Users/indur/OneDrive - University of Westminster/GitHub/FYP_Project/Models/Review_Score/OutPuts\"\n",
    "XY_P    = f\"{BASE}/Xy_data.pkl\"\n",
    "OUT_P   = os.path.join(BASE, \"best_xgb_params.pkl\")"
   ]
  },
  {
   "cell_type": "code",
   "execution_count": null,
   "metadata": {
    "_cell_guid": "400b55de-bfb2-43db-831d-6ba7a0a0639a",
    "_uuid": "e01b2840-7aa5-4e30-bfaf-427bc34b9b74",
    "collapsed": false,
    "execution": {
     "iopub.execute_input": "2025-06-20T05:58:34.312353Z",
     "iopub.status.busy": "2025-06-20T05:58:34.312080Z",
     "iopub.status.idle": "2025-06-20T05:59:23.112309Z",
     "shell.execute_reply": "2025-06-20T05:59:23.111548Z",
     "shell.execute_reply.started": "2025-06-20T05:58:34.312326Z"
    },
    "jupyter": {
     "outputs_hidden": false
    },
    "trusted": true
   },
   "outputs": [],
   "source": [
    "# 1) Load full train/val/test\n",
    "X_train, y_train, X_val, y_val, X_test, y_test = joblib.load(XY_P)"
   ]
  },
  {
   "cell_type": "code",
   "execution_count": null,
   "metadata": {
    "_cell_guid": "865cfd4d-8642-4b8d-a9c9-7811d8d397b5",
    "_uuid": "dbe0dc43-9105-4147-b0b5-b5b95f6c7749",
    "collapsed": false,
    "execution": {
     "iopub.execute_input": "2025-06-20T05:59:23.114488Z",
     "iopub.status.busy": "2025-06-20T05:59:23.114252Z",
     "iopub.status.idle": "2025-06-20T05:59:23.554328Z",
     "shell.execute_reply": "2025-06-20T05:59:23.553678Z",
     "shell.execute_reply.started": "2025-06-20T05:59:23.114473Z"
    },
    "jupyter": {
     "outputs_hidden": false
    },
    "trusted": true
   },
   "outputs": [],
   "source": [
    "# 2) Subsample train for speed (20% of full train)\n",
    "SUBSAMPLE = 0.2  \n",
    "if SUBSAMPLE < 1.0:\n",
    "    n_sub = int(len(X_train) * SUBSAMPLE)\n",
    "    idx   = np.random.RandomState(42).choice(len(X_train), size=n_sub, replace=False)\n",
    "    X_train_sub, y_train_sub = X_train[idx], y_train[idx]\n",
    "else:\n",
    "    X_train_sub, y_train_sub = X_train, y_train"
   ]
  },
  {
   "cell_type": "code",
   "execution_count": null,
   "metadata": {
    "_cell_guid": "c955d7ae-c456-4fea-b7f8-76cff9b2e7db",
    "_uuid": "18ce65d5-1589-4a17-8870-4279a28010a7",
    "collapsed": false,
    "execution": {
     "iopub.execute_input": "2025-06-20T05:59:23.555204Z",
     "iopub.status.busy": "2025-06-20T05:59:23.554970Z",
     "iopub.status.idle": "2025-06-20T05:59:23.565986Z",
     "shell.execute_reply": "2025-06-20T05:59:23.565442Z",
     "shell.execute_reply.started": "2025-06-20T05:59:23.555186Z"
    },
    "jupyter": {
     "outputs_hidden": false
    },
    "trusted": true
   },
   "outputs": [],
   "source": [
    "# 3) Compute class-weights on the subsampled train\n",
    "cw    = compute_class_weight(\"balanced\", classes=np.unique(y_train_sub), y=y_train_sub)\n",
    "w_sub = np.array([cw[y] for y in y_train_sub])"
   ]
  },
  {
   "cell_type": "code",
   "execution_count": null,
   "metadata": {
    "_cell_guid": "3792e309-fa2e-4ee1-9268-979f9a9914eb",
    "_uuid": "28d43354-5f2c-4d15-9e58-5ccb072d7552",
    "collapsed": false,
    "execution": {
     "iopub.execute_input": "2025-06-20T05:59:23.566967Z",
     "iopub.status.busy": "2025-06-20T05:59:23.566720Z",
     "iopub.status.idle": "2025-06-20T05:59:23.653239Z",
     "shell.execute_reply": "2025-06-20T05:59:23.652573Z",
     "shell.execute_reply.started": "2025-06-20T05:59:23.566949Z"
    },
    "jupyter": {
     "outputs_hidden": false
    },
    "trusted": true
   },
   "outputs": [],
   "source": [
    "# 4) Detect GPU availability\n",
    "use_gpu     = torch.cuda.is_available()\n",
    "tree_method = \"gpu_hist\" if use_gpu else \"hist\"\n",
    "gpu_id      = 0 if use_gpu else None\n",
    "print(f\"{'GPU' if use_gpu else 'CPU'} → tree_method = {tree_method}\")"
   ]
  },
  {
   "cell_type": "code",
   "execution_count": null,
   "metadata": {
    "_cell_guid": "de5447fc-3141-4148-8f92-b11e2751ea43",
    "_uuid": "d95490a5-0ed2-4182-a7d2-d0e4d9a8e7ac",
    "collapsed": false,
    "execution": {
     "iopub.execute_input": "2025-06-20T05:59:23.654937Z",
     "iopub.status.busy": "2025-06-20T05:59:23.654096Z",
     "iopub.status.idle": "2025-06-20T05:59:23.665808Z",
     "shell.execute_reply": "2025-06-20T05:59:23.665224Z",
     "shell.execute_reply.started": "2025-06-20T05:59:23.654907Z"
    },
    "jupyter": {
     "outputs_hidden": false
    },
    "trusted": true
   },
   "outputs": [],
   "source": [
    "# 5) Parameter grid & sampler\n",
    "param_grid = {\n",
    "    \"learning_rate\":    [0.03, 0.05, 0.1],\n",
    "    \"max_depth\":        [3, 5, 7],\n",
    "    \"subsample\":        [0.6, 0.8, 1.0],\n",
    "    \"colsample_bytree\": [0.6, 0.8, 1.0],\n",
    "    \"gamma\":            [0, 0.1, 0.5],\n",
    "    \"min_child_weight\": [1, 3, 5],\n",
    "    \"lambda\":           [1, 5, 10],\n",
    "    \"alpha\":            [0, 1, 5]\n",
    "}\n",
    "sampler     = list(ParameterSampler(param_grid, n_iter=50, random_state=42))\n",
    "best_f      = -np.inf\n",
    "best_params = None"
   ]
  },
  {
   "cell_type": "code",
   "execution_count": null,
   "metadata": {
    "_cell_guid": "0f97801b-1641-4d0f-899f-b9e9657da3b0",
    "_uuid": "22ef103c-a2e5-42e8-9280-e02fbee08de0",
    "collapsed": false,
    "execution": {
     "execution_failed": "2025-06-20T06:02:31.914Z",
     "iopub.execute_input": "2025-06-20T05:59:23.666792Z",
     "iopub.status.busy": "2025-06-20T05:59:23.666584Z"
    },
    "jupyter": {
     "outputs_hidden": false
    },
    "trusted": true
   },
   "outputs": [],
   "source": [
    "# 6) Hyperparameter sweep with progress bar\n",
    "for params in tqdm(sampler, desc=\"XGB HP sweep\", ncols=None):\n",
    "    clf = XGBClassifier(\n",
    "        **params,\n",
    "        objective=\"multi:softprob\",\n",
    "        num_class=5,\n",
    "        seed=42,\n",
    "        use_label_encoder=False,\n",
    "        eval_metric=\"mlogloss\",\n",
    "        tree_method=tree_method,\n",
    "        gpu_id=gpu_id\n",
    "    )\n",
    "    clf.fit(\n",
    "        X_train_sub, y_train_sub,\n",
    "        sample_weight=w_sub,\n",
    "        eval_set=[(X_val, y_val)],\n",
    "        early_stopping_rounds=3,\n",
    "        verbose=False\n",
    "    )\n",
    "    f = f1_score(y_val, clf.predict(X_val), average=\"weighted\")\n",
    "    if f > best_f:\n",
    "        best_f, best_params = f, params.copy()\n",
    "    del clf\n",
    "    gc.collect()\n",
    "\n",
    "print(f\"\\n Best validation F1 = {best_f:.4f}\")\n",
    "print(\"Best params:\", best_params)"
   ]
  },
  {
   "cell_type": "code",
   "execution_count": null,
   "metadata": {
    "_cell_guid": "70af7111-7d28-48b7-aac3-1675808b5fbb",
    "_uuid": "d91a375d-b94c-4b3d-b544-9c059c1fe5d6",
    "collapsed": false,
    "execution": {
     "execution_failed": "2025-06-20T06:02:31.914Z"
    },
    "jupyter": {
     "outputs_hidden": false
    },
    "trusted": true
   },
   "outputs": [],
   "source": [
    "# 7) Persist best parameters\n",
    "joblib.dump(best_params, OUT_P)\n",
    "print(\"Saved best_params to\", OUT_P)"
   ]
  }
 ],
 "metadata": {
  "kaggle": {
   "accelerator": "none",
   "dataSources": [],
   "dockerImageVersionId": 31041,
   "isGpuEnabled": false,
   "isInternetEnabled": true,
   "language": "python",
   "sourceType": "notebook"
  },
  "kernelspec": {
   "display_name": "Python 3",
   "language": "python",
   "name": "python3"
  },
  "language_info": {
   "codemirror_mode": {
    "name": "ipython",
    "version": 3
   },
   "file_extension": ".py",
   "mimetype": "text/x-python",
   "name": "python",
   "nbconvert_exporter": "python",
   "pygments_lexer": "ipython3",
   "version": "3.11.11"
  }
 },
 "nbformat": 4,
 "nbformat_minor": 4
}
