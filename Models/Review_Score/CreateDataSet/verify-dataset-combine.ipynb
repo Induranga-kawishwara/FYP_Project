{
 "cells": [
  {
   "cell_type": "markdown",
   "id": "4ce8fa36",
   "metadata": {
    "_cell_guid": "55609a09-73f4-4950-b3a9-52e0523849c6",
    "_uuid": "684107d3-bb44-481b-ac29-223ecb7734e8",
    "collapsed": false,
    "jupyter": {
     "outputs_hidden": false
    },
    "papermill": {
     "duration": 0.003824,
     "end_time": "2025-06-05T10:00:04.742367",
     "exception": false,
     "start_time": "2025-06-05T10:00:04.738543",
     "status": "completed"
    },
    "tags": []
   },
   "source": [
    "## 1) Install & Import"
   ]
  },
  {
   "cell_type": "code",
   "execution_count": null,
   "id": "47acf31f",
   "metadata": {
    "_cell_guid": "a56bb00c-0cb7-4c80-9639-e52538f64161",
    "_uuid": "cced55be-c4fa-45ef-81ee-644390775e6c",
    "collapsed": false,
    "execution": {
     "iopub.execute_input": "2025-06-05T10:00:04.750666Z",
     "iopub.status.busy": "2025-06-05T10:00:04.750349Z",
     "iopub.status.idle": "2025-06-05T10:00:15.533391Z",
     "shell.execute_reply": "2025-06-05T10:00:15.532338Z"
    },
    "jupyter": {
     "outputs_hidden": false
    },
    "papermill": {
     "duration": 10.788985,
     "end_time": "2025-06-05T10:00:15.535186",
     "exception": false,
     "start_time": "2025-06-05T10:00:04.746201",
     "status": "completed"
    },
    "tags": []
   },
   "outputs": [],
   "source": [
    "%pip install pandas numpy matplotlib --quiet\n",
    "\n",
    "import json\n",
    "import glob\n",
    "import pandas as pd\n",
    "import numpy as np\n",
    "import nltk\n",
    "from nltk.sentiment.vader import SentimentIntensityAnalyzer\n",
    "import matplotlib.pyplot as plt\n",
    "\n",
    "# Download VADER lexicon (only needed once; comment out after the first successful run)\n",
    "nltk.download(\"vader_lexicon\", quiet=True)\n",
    "\n",
    "# For reproducibility\n",
    "RANDOM_SEED = 42\n",
    "np.random.seed(RANDOM_SEED)"
   ]
  },
  {
   "cell_type": "markdown",
   "id": "b8941d1e",
   "metadata": {
    "_cell_guid": "1b23e1ca-4de9-4d02-b1a5-bdf5ee351385",
    "_uuid": "941511d6-93b2-4310-b38e-8792beab6c71",
    "collapsed": false,
    "jupyter": {
     "outputs_hidden": false
    },
    "papermill": {
     "duration": 0.002927,
     "end_time": "2025-06-05T10:00:15.541594",
     "exception": false,
     "start_time": "2025-06-05T10:00:15.538667",
     "status": "completed"
    },
    "tags": []
   },
   "source": [
    "## 2) Load & Flatten Sri Lanka JSONL -> Compute VADER -> Drop “Mismatches”"
   ]
  },
  {
   "cell_type": "code",
   "execution_count": null,
   "id": "ac2bcb40",
   "metadata": {
    "_cell_guid": "a5caceb6-366d-4b2c-9031-a74011019964",
    "_uuid": "680cec41-fb1e-4e70-a034-dcb1e9ddddd2",
    "collapsed": false,
    "execution": {
     "iopub.execute_input": "2025-06-05T10:00:15.550122Z",
     "iopub.status.busy": "2025-06-05T10:00:15.549627Z",
     "iopub.status.idle": "2025-06-05T10:00:24.833443Z",
     "shell.execute_reply": "2025-06-05T10:00:24.831920Z"
    },
    "jupyter": {
     "outputs_hidden": false
    },
    "papermill": {
     "duration": 9.290607,
     "end_time": "2025-06-05T10:00:24.835445",
     "exception": false,
     "start_time": "2025-06-05T10:00:15.544838",
     "status": "completed"
    },
    "tags": []
   },
   "outputs": [],
   "source": [
    "# Initialize VADER analyzer\n",
    "sia = SentimentIntensityAnalyzer()\n",
    "\n",
    "# Load all SL JSONL files and flatten into a DataFrame:\n",
    "sl_files = glob.glob(\"C:\\Users/indur/OneDrive - University of Westminster/GitHub/GoogleMapsReviewsScraper/category_outputs/*.jsonl\")\n",
    "sl_rows = []\n",
    "\n",
    "for fp in sl_files:\n",
    "    with open(fp, \"r\", encoding=\"utf-8\") as f:\n",
    "        for line in f:\n",
    "            if not line.strip():\n",
    "                continue\n",
    "            rec = json.loads(line)\n",
    "            place_name = rec.get(\"name\", \"\")\n",
    "            for rev in rec.get(\"reviews\", []):\n",
    "                text = rev.get(\"text\") or \"\"\n",
    "                if not text.strip():\n",
    "                    continue\n",
    "                # Parse rating (e.g., \"4.0\" → 4.0)\n",
    "                raw_rating = rev.get(\"rating\", \"0\")\n",
    "                try:\n",
    "                    rating = float(str(raw_rating).split()[0])\n",
    "                except:\n",
    "                    continue\n",
    "                sl_rows.append({\n",
    "                    \"source\": \"SL\",\n",
    "                    \"place\":   place_name,\n",
    "                    \"author\":  rev.get(\"author\", \"\"),\n",
    "                    \"date\":    rev.get(\"date\", \"\"),\n",
    "                    \"text\":    text.strip(),\n",
    "                    \"rating\":  rating\n",
    "                })\n",
    "\n",
    "sl_df = pd.DataFrame(sl_rows)\n",
    "print(f\"Sri Lanka reviews loaded (raw): {len(sl_df):,}\")\n",
    "\n",
    "# Compute VADER “compound” score and binary flags for pos/neg/neu\n",
    "sl_df[\"vader_compound\"] = sl_df[\"text\"].astype(str).apply(lambda t: sia.polarity_scores(t)[\"compound\"])\n",
    "sl_df[\"vader_pos\"]      = sl_df[\"vader_compound\"].apply(lambda c: 1 if c >= 0.3 else 0)\n",
    "sl_df[\"vader_neg\"]      = sl_df[\"vader_compound\"].apply(lambda c: 1 if c <= -0.3 else 0)\n",
    "sl_df[\"vader_neu\"]      = sl_df[\"vader_compound\"].apply(lambda c: 1 if (-0.3 < c < 0.3) else 0)\n",
    "\n",
    "# Identify SL “mismatch” reviews:\n",
    "#       – rating -> 4 but VADER says negative (vader_neg == 1)\n",
    "#       – rating -> 2 but VADER says positive (vader_pos == 1)\n",
    "sl_bad = sl_df[\n",
    "    ((sl_df[\"rating\"] >= 4.0) & (sl_df[\"vader_neg\"] == 1)) |\n",
    "    ((sl_df[\"rating\"] <= 2.0) & (sl_df[\"vader_pos\"] == 1))\n",
    "]\n",
    "print(f\"SL mismatches to drop: {len(sl_bad):,}\")\n",
    "\n",
    "# Drop those mismatches → sl_clean\n",
    "sl_clean = sl_df.drop(sl_bad.index).reset_index(drop=True)\n",
    "print(f\"SL reviews after dropping mismatches: {len(sl_clean):,}\")\n",
    "\n",
    "# Display a couple of example SL mismatches\n",
    "if not sl_bad.empty:\n",
    "    print(\"\\nExample SL mismatches:\")\n",
    "    print(\n",
    "        sl_bad.head(2)[[\"rating\", \"vader_compound\", \"text\"]]\n",
    "        .to_string(index=False)\n",
    "    )"
   ]
  },
  {
   "cell_type": "markdown",
   "id": "9bca49de",
   "metadata": {
    "_cell_guid": "145da379-7f29-45ec-baaf-275784019e78",
    "_uuid": "951f4e3d-8e45-4cc1-bf0b-617764039552",
    "collapsed": false,
    "jupyter": {
     "outputs_hidden": false
    },
    "papermill": {
     "duration": 0.003241,
     "end_time": "2025-06-05T10:00:24.842461",
     "exception": false,
     "start_time": "2025-06-05T10:00:24.839220",
     "status": "completed"
    },
    "tags": []
   },
   "source": [
    "## 3) Load & Flatten USA JSON -> Compute VADER -> Drop “Mismatches”"
   ]
  },
  {
   "cell_type": "code",
   "execution_count": null,
   "id": "70ca972a",
   "metadata": {
    "_cell_guid": "f58e1c01-ea33-4b0c-acb2-6b099fed1c67",
    "_uuid": "766c59f0-b182-49f1-af37-5c440f10aacb",
    "collapsed": false,
    "execution": {
     "iopub.execute_input": "2025-06-05T10:00:24.851995Z",
     "iopub.status.busy": "2025-06-05T10:00:24.850730Z",
     "iopub.status.idle": "2025-06-05T10:26:25.810804Z",
     "shell.execute_reply": "2025-06-05T10:26:25.809664Z"
    },
    "jupyter": {
     "outputs_hidden": false
    },
    "papermill": {
     "duration": 1560.966476,
     "end_time": "2025-06-05T10:26:25.812456",
     "exception": false,
     "start_time": "2025-06-05T10:00:24.845980",
     "status": "completed"
    },
    "tags": []
   },
   "outputs": [],
   "source": [
    "# Load the single USA JSON file (Nevada) and flatten into usa_df:\n",
    "usa_path = \"C:/Users/indur/Downloads/Compressed/review-Nevada/review-Nevada.json\"\n",
    "usa_rows = []\n",
    "\n",
    "with open(usa_path, \"r\", encoding=\"utf-8\") as f:\n",
    "    for line in f:\n",
    "        if not line.strip():\n",
    "            continue\n",
    "        rec = json.loads(line)\n",
    "\n",
    "        # Skip if rating is missing or not convertible\n",
    "        raw_rating = rec.get(\"rating\", None)\n",
    "        if raw_rating is None:\n",
    "            continue\n",
    "        try:\n",
    "            rating = float(raw_rating)\n",
    "        except (TypeError, ValueError):\n",
    "            continue\n",
    "\n",
    "        text = rec.get(\"text\") or \"\"\n",
    "        if not text.strip():\n",
    "            continue\n",
    "\n",
    "        usa_rows.append({\n",
    "            \"source\": \"USA\",\n",
    "            \"place\":  rec.get(\"gmap_id\", \"\"),\n",
    "            \"author\": rec.get(\"name\", \"\"),\n",
    "            \"date\":   rec.get(\"time\", \"\"),\n",
    "            \"text\":   text.strip(),\n",
    "            \"rating\": rating\n",
    "        })\n",
    "\n",
    "usa_df = pd.DataFrame(usa_rows)\n",
    "print(f\"USA reviews loaded (raw): {len(usa_df):,}\")\n",
    "\n",
    "# Compute VADER “compound” score and binary flags for pos/neg/neu\n",
    "usa_df[\"vader_compound\"] = usa_df[\"text\"].astype(str).apply(lambda t: sia.polarity_scores(t)[\"compound\"])\n",
    "usa_df[\"vader_pos\"]      = usa_df[\"vader_compound\"].apply(lambda c: 1 if c >= 0.3 else 0)\n",
    "usa_df[\"vader_neg\"]      = usa_df[\"vader_compound\"].apply(lambda c: 1 if c <= -0.3 else 0)\n",
    "usa_df[\"vader_neu\"]      = usa_df[\"vader_compound\"].apply(lambda c: 1 if (-0.3 < c < 0.3) else 0)\n",
    "\n",
    "# Identify USA “mismatch” reviews:\n",
    "#       – rating => 4 but VADER says negative (vader_neg == 1)\n",
    "#       – rating <= 2 but VADER says positive (vader_pos == 1)\n",
    "usa_bad = usa_df[\n",
    "    ((usa_df[\"rating\"] >= 4.0) & (usa_df[\"vader_neg\"] == 1)) |\n",
    "    ((usa_df[\"rating\"] <= 2.0) & (usa_df[\"vader_pos\"] == 1))\n",
    "]\n",
    "print(f\"USA mismatches to drop: {len(usa_bad):,}\")\n",
    "\n",
    "# Drop those mismatches -> usa_clean\n",
    "usa_clean = usa_df.drop(usa_bad.index).reset_index(drop=True)\n",
    "print(f\"USA reviews after dropping mismatches: {len(usa_clean):,}\")\n",
    "\n",
    "# Display a couple of example USA mismatches\n",
    "if not usa_bad.empty:\n",
    "    print(\"\\nExample USA mismatches:\")\n",
    "    print(\n",
    "        usa_bad.head(2)[[\"rating\", \"vader_compound\", \"text\"]]\n",
    "        .to_string(index=False)\n",
    "    )"
   ]
  },
  {
   "cell_type": "markdown",
   "id": "d381a128",
   "metadata": {
    "_cell_guid": "cb98134e-87eb-45d8-b08c-f28e5dd9e346",
    "_uuid": "448b6ef2-92fe-45f5-90ff-da4c083efcc3",
    "collapsed": false,
    "jupyter": {
     "outputs_hidden": false
    },
    "papermill": {
     "duration": 0.003378,
     "end_time": "2025-06-05T10:26:25.819720",
     "exception": false,
     "start_time": "2025-06-05T10:26:25.816342",
     "status": "completed"
    },
    "tags": []
   },
   "source": [
    "## 4) Combine “Clean” SL + USA into a Single DataFrame (Before Balancing)\n"
   ]
  },
  {
   "cell_type": "code",
   "execution_count": null,
   "id": "e817d975",
   "metadata": {
    "_cell_guid": "e319a5d6-43a3-4ecb-875c-666bbc69555d",
    "_uuid": "29b25c16-c0b1-4681-bbf3-c0a0eaaa0fcd",
    "collapsed": false,
    "execution": {
     "iopub.execute_input": "2025-06-05T10:26:25.828521Z",
     "iopub.status.busy": "2025-06-05T10:26:25.828169Z",
     "iopub.status.idle": "2025-06-05T10:26:26.754213Z",
     "shell.execute_reply": "2025-06-05T10:26:26.753123Z"
    },
    "jupyter": {
     "outputs_hidden": false
    },
    "papermill": {
     "duration": 0.93242,
     "end_time": "2025-06-05T10:26:26.755794",
     "exception": false,
     "start_time": "2025-06-05T10:26:25.823374",
     "status": "completed"
    },
    "tags": []
   },
   "outputs": [],
   "source": [
    "# For inspection, build a raw combined (mismatch‐filtered) DataFrame:\n",
    "combined_raw = pd.concat([sl_clean, usa_clean], ignore_index=True)\n",
    "print(f\"Total mismatch‐filtered reviews (SL + USA): {len(combined_raw):,}\")\n",
    "\n",
    "# Show the star distribution before balancing:\n",
    "raw_counts = combined_raw[\"rating\"].value_counts().sort_index()\n",
    "print(\"\\nStar‐level counts before balancing:\")\n",
    "print(raw_counts)"
   ]
  },
  {
   "cell_type": "markdown",
   "id": "91d5bf2a",
   "metadata": {
    "_cell_guid": "40e92704-a038-4695-af26-e12ce43a9c2f",
    "_uuid": "c84398ff-1c15-4278-ad19-f9e67bc7d041",
    "collapsed": false,
    "jupyter": {
     "outputs_hidden": false
    },
    "papermill": {
     "duration": 0.003358,
     "end_time": "2025-06-05T10:26:26.762957",
     "exception": false,
     "start_time": "2025-06-05T10:26:26.759599",
     "status": "completed"
    },
    "tags": []
   },
   "source": [
    "## 5) Balance the Dataset by Star (SL‐priority, then USA) -> `balanced_df`\n"
   ]
  },
  {
   "cell_type": "code",
   "execution_count": null,
   "id": "1dbfa67b",
   "metadata": {
    "_cell_guid": "424a7cf6-2abe-4f0e-aa7f-d5f52c1c92d5",
    "_uuid": "89e7a739-a158-4759-95e1-e4e33e11b379",
    "collapsed": false,
    "execution": {
     "iopub.execute_input": "2025-06-05T10:26:26.771197Z",
     "iopub.status.busy": "2025-06-05T10:26:26.770626Z",
     "iopub.status.idle": "2025-06-05T10:26:27.726201Z",
     "shell.execute_reply": "2025-06-05T10:26:27.724807Z"
    },
    "jupyter": {
     "outputs_hidden": false
    },
    "papermill": {
     "duration": 0.961499,
     "end_time": "2025-06-05T10:26:27.727754",
     "exception": false,
     "start_time": "2025-06-05T10:26:26.766255",
     "status": "completed"
    },
    "tags": []
   },
   "outputs": [],
   "source": [
    "# Set TOTAL_TARGET and compute per‐star target\n",
    "TOTAL_TARGET = 100_000\n",
    "per_star_target = TOTAL_TARGET // 5   # = 20_000\n",
    "print(f\"→ Target: {per_star_target:,} reviews per star (1.0 through 5.0).\")\n",
    "\n",
    "# Check SL_clean and USA_clean counts for each star\n",
    "print(\"\\nSL_clean counts per star:\")\n",
    "print(sl_clean[\"rating\"].value_counts().sort_index())\n",
    "print(\"\\nUSA_clean counts per star:\")\n",
    "print(usa_clean[\"rating\"].value_counts().sort_index())\n",
    "\n",
    "# Build balanced subsets for each star\n",
    "balanced_parts = []\n",
    "\n",
    "for star in [1.0, 2.0, 3.0, 4.0, 5.0]:\n",
    "    # All SL_clean rows of this star\n",
    "    sl_star_df = sl_clean[sl_clean[\"rating\"] == star]\n",
    "    num_sl_available = len(sl_star_df)\n",
    "\n",
    "    if num_sl_available >= per_star_target:\n",
    "        # SL alone suffices -> just subsample\n",
    "        sl_taken = sl_star_df.sample(n=per_star_target, random_state=RANDOM_SEED)\n",
    "        usa_taken = pd.DataFrame(columns=sl_clean.columns)  # zero USA for this star\n",
    "        print(f\"Star={star:.1f}: took {per_star_target:,} from SL (SL had {num_sl_available:,}).\")\n",
    "\n",
    "    else:\n",
    "        # SL has fewer than needed → take all SL, then fill with USA\n",
    "        sl_taken = sl_star_df.copy().reset_index(drop=True)\n",
    "        needed_from_usa = per_star_target - num_sl_available\n",
    "\n",
    "        # Gather USA_clean rows of this star\n",
    "        usa_star_df = usa_clean[usa_clean[\"rating\"] == star]\n",
    "        if len(usa_star_df) < needed_from_usa:\n",
    "            raise ValueError(\n",
    "                f\"Not enough USA_clean reviews of star={star:.1f} to fill {needed_from_usa:,}. \"\n",
    "                f\"USA_clean has only {len(usa_star_df):,}.\"\n",
    "            )\n",
    "        usa_taken = usa_star_df.sample(n=needed_from_usa, random_state=RANDOM_SEED)\n",
    "        print(f\"Star={star:.1f}: took {num_sl_available:,} from SL + {needed_from_usa:,} from USA \"\n",
    "              f\"(SL had only {num_sl_available:,}).\")\n",
    "\n",
    "    # Concatenate SL‐taken + USA‐taken for this star\n",
    "    balanced_parts.append(pd.concat([sl_taken, usa_taken], ignore_index=True))\n",
    "\n",
    "# Concatenate all five star‐level subsets\n",
    "balanced_df = pd.concat(balanced_parts, ignore_index=True)\n",
    "\n",
    "# Shuffle entire DataFrame so stars are interleaved\n",
    "balanced_df = balanced_df.sample(frac=1.0, random_state=RANDOM_SEED).reset_index(drop=True)\n",
    "\n",
    "# Verify final counts\n",
    "balanced_counts = balanced_df[\"rating\"].value_counts().sort_index()\n",
    "print(\"\\nFinal balanced counts per star (should all equal 20 000):\")\n",
    "print(balanced_counts)\n",
    "print(f\"\\nTotal balanced reviews = {len(balanced_df):,} (should be {TOTAL_TARGET:,}).\")"
   ]
  },
  {
   "cell_type": "markdown",
   "id": "e5f91f79",
   "metadata": {
    "_cell_guid": "c93dec06-d5de-45e6-ac5e-4dc94beb2ecd",
    "_uuid": "7de44ed4-b37b-48f7-ab58-096d55218753",
    "collapsed": false,
    "jupyter": {
     "outputs_hidden": false
    },
    "papermill": {
     "duration": 0.003617,
     "end_time": "2025-06-05T10:26:27.735319",
     "exception": false,
     "start_time": "2025-06-05T10:26:27.731702",
     "status": "completed"
    },
    "tags": []
   },
   "source": [
    "## 6) (Optional) Plot “Before vs. After” Star Distributions"
   ]
  },
  {
   "cell_type": "code",
   "execution_count": null,
   "id": "f16a1655",
   "metadata": {
    "_cell_guid": "9d713230-0d70-4110-8eda-53b65a34cbef",
    "_uuid": "9b273acb-40ad-4bde-bf75-1d575f60396c",
    "collapsed": false,
    "execution": {
     "iopub.execute_input": "2025-06-05T10:26:27.744139Z",
     "iopub.status.busy": "2025-06-05T10:26:27.743865Z",
     "iopub.status.idle": "2025-06-05T10:26:28.338389Z",
     "shell.execute_reply": "2025-06-05T10:26:28.337485Z"
    },
    "jupyter": {
     "outputs_hidden": false
    },
    "papermill": {
     "duration": 0.601002,
     "end_time": "2025-06-05T10:26:28.340084",
     "exception": false,
     "start_time": "2025-06-05T10:26:27.739082",
     "status": "completed"
    },
    "tags": []
   },
   "outputs": [],
   "source": [
    "plt.figure(figsize=(10,4))\n",
    "\n",
    "# Before: raw (mismatch‐filtered) SL+USA\n",
    "plt.subplot(1, 2, 1)\n",
    "raw_counts.plot(kind=\"bar\", color=\"skyblue\", alpha=0.7)\n",
    "plt.title(\"Before Balancing (mismatch‐filtered)\")\n",
    "plt.xlabel(\"Star Rating\")\n",
    "plt.ylabel(\"Count\")\n",
    "\n",
    "# After: balanced_df\n",
    "plt.subplot(1, 2, 2)\n",
    "balanced_counts.plot(kind=\"bar\", color=\"orange\", alpha=0.7)\n",
    "plt.title(\"After Balancing (SL‐priority)\")\n",
    "plt.xlabel(\"Star Rating\")\n",
    "plt.ylabel(\"Count\")\n",
    "\n",
    "plt.tight_layout()\n",
    "plt.show()"
   ]
  },
  {
   "cell_type": "markdown",
   "id": "3d240f86",
   "metadata": {
    "_cell_guid": "fdd7f702-06ba-4748-bb77-61a63d33a54f",
    "_uuid": "47b23a8f-d57c-4482-b316-8beaa3794984",
    "collapsed": false,
    "jupyter": {
     "outputs_hidden": false
    },
    "papermill": {
     "duration": 0.004533,
     "end_time": "2025-06-05T10:26:28.349468",
     "exception": false,
     "start_time": "2025-06-05T10:26:28.344935",
     "status": "completed"
    },
    "tags": []
   },
   "source": [
    "## 7) Re‐nest & Save Balanced JSON to Disk"
   ]
  },
  {
   "cell_type": "code",
   "execution_count": null,
   "id": "d17a2196",
   "metadata": {
    "_cell_guid": "553ea7b9-74b5-4f36-a642-4f7256e808bb",
    "_uuid": "de3773ec-0578-4a9e-a071-4b93e58e8424",
    "collapsed": false,
    "execution": {
     "iopub.execute_input": "2025-06-05T10:26:28.360055Z",
     "iopub.status.busy": "2025-06-05T10:26:28.359761Z",
     "iopub.status.idle": "2025-06-05T10:26:40.643500Z",
     "shell.execute_reply": "2025-06-05T10:26:40.642564Z"
    },
    "jupyter": {
     "outputs_hidden": false
    },
    "papermill": {
     "duration": 12.291105,
     "end_time": "2025-06-05T10:26:40.645046",
     "exception": false,
     "start_time": "2025-06-05T10:26:28.353941",
     "status": "completed"
    },
    "tags": []
   },
   "outputs": [],
   "source": [
    "output_balanced = []\n",
    "for place_name, grp in balanced_df.groupby(\"place\"):\n",
    "    output_balanced.append({\n",
    "        \"name\":    place_name,\n",
    "        \"reviews\": [\n",
    "            {\n",
    "                \"source\": row.source,\n",
    "                \"author\": row.author,\n",
    "                \"date\":   row.date,\n",
    "                \"text\":   row.text,\n",
    "                \"rating\": f\"{row.rating} stars\"\n",
    "            }\n",
    "            for row in grp.itertuples()\n",
    "        ]\n",
    "    })\n",
    "\n",
    "with open(\"correct_reviews_balanced.json\", \"w\", encoding=\"utf-8\") as f:\n",
    "    json.dump(output_balanced, f, ensure_ascii=False, indent=2)\n",
    "\n",
    "print(\"Written balanced JSON to `correct_reviews_balanced.json`\")"
   ]
  }
 ],
 "metadata": {
  "kaggle": {
   "accelerator": "none",
   "dataSources": [
    {
     "datasetId": 7537428,
     "sourceId": 12000565,
     "sourceType": "datasetVersion"
    },
    {
     "datasetId": 7537569,
     "sourceId": 12051430,
     "sourceType": "datasetVersion"
    }
   ],
   "dockerImageVersionId": 31040,
   "isGpuEnabled": false,
   "isInternetEnabled": true,
   "language": "python",
   "sourceType": "notebook"
  },
  "kernelspec": {
   "display_name": "Python 3",
   "language": "python",
   "name": "python3"
  },
  "language_info": {
   "codemirror_mode": {
    "name": "ipython",
    "version": 3
   },
   "file_extension": ".py",
   "mimetype": "text/x-python",
   "name": "python",
   "nbconvert_exporter": "python",
   "pygments_lexer": "ipython3",
   "version": "3.10.0"
  },
  "papermill": {
   "default_parameters": {},
   "duration": 1604.373313,
   "end_time": "2025-06-05T10:26:43.873548",
   "environment_variables": {},
   "exception": null,
   "input_path": "__notebook__.ipynb",
   "output_path": "__notebook__.ipynb",
   "parameters": {},
   "start_time": "2025-06-05T09:59:59.500235",
   "version": "2.6.0"
  }
 },
 "nbformat": 4,
 "nbformat_minor": 5
}
