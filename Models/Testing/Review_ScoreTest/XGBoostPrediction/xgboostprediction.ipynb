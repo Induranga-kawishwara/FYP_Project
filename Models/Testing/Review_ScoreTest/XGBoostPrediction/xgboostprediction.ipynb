{
 "cells": [
  {
   "cell_type": "markdown",
   "id": "510067e5",
   "metadata": {
    "_cell_guid": "392e9813-447e-410f-b634-7f4e78558744",
    "_uuid": "545518b0-a028-4fd3-b04b-70d9d3e2a258",
    "collapsed": false,
    "jupyter": {
     "outputs_hidden": false
    },
    "papermill": {
     "duration": 0.005693,
     "end_time": "2025-02-22T07:31:34.269050",
     "exception": false,
     "start_time": "2025-02-22T07:31:34.263357",
     "status": "completed"
    },
    "tags": []
   },
   "source": [
    "# **Install Required Libraries**"
   ]
  },
  {
   "cell_type": "code",
   "execution_count": null,
   "id": "6fc04b1e",
   "metadata": {
    "_cell_guid": "77ec80c5-8648-4916-b054-e9443650b205",
    "_uuid": "9f0a4a4a-d075-4745-ba37-ec3deac47d67",
    "collapsed": false,
    "execution": {
     "iopub.execute_input": "2025-02-22T07:31:34.280399Z",
     "iopub.status.busy": "2025-02-22T07:31:34.279947Z",
     "iopub.status.idle": "2025-02-22T07:31:39.673391Z",
     "shell.execute_reply": "2025-02-22T07:31:39.672315Z"
    },
    "jupyter": {
     "outputs_hidden": false
    },
    "papermill": {
     "duration": 5.400539,
     "end_time": "2025-02-22T07:31:39.674958",
     "exception": false,
     "start_time": "2025-02-22T07:31:34.274419",
     "status": "completed"
    },
    "tags": []
   },
   "outputs": [],
   "source": [
    "%pip install pandas scikit-learn joblib tqdm nltk xgboost matplotlib"
   ]
  },
  {
   "cell_type": "markdown",
   "id": "da05ad29",
   "metadata": {
    "_cell_guid": "c11c953d-0c51-4d1c-a01c-340096f80549",
    "_uuid": "86fe7425-5d8f-4f4d-ad6c-8b4acc9f1ecf",
    "collapsed": false,
    "jupyter": {
     "outputs_hidden": false
    },
    "papermill": {
     "duration": 0.005382,
     "end_time": "2025-02-22T07:31:39.686046",
     "exception": false,
     "start_time": "2025-02-22T07:31:39.680664",
     "status": "completed"
    },
    "tags": []
   },
   "source": [
    "# **Import Libraries**"
   ]
  },
  {
   "cell_type": "code",
   "execution_count": null,
   "id": "c3edc1aa",
   "metadata": {
    "_cell_guid": "d4cbc596-2075-4b1d-b3e1-3aa2e8e0c9d3",
    "_uuid": "90b1a8db-99f0-4183-b3ed-c78a94202e1e",
    "collapsed": false,
    "execution": {
     "iopub.execute_input": "2025-02-22T07:31:39.697569Z",
     "iopub.status.busy": "2025-02-22T07:31:39.697309Z",
     "iopub.status.idle": "2025-02-22T07:31:44.131153Z",
     "shell.execute_reply": "2025-02-22T07:31:44.130413Z"
    },
    "jupyter": {
     "outputs_hidden": false
    },
    "papermill": {
     "duration": 4.441025,
     "end_time": "2025-02-22T07:31:44.132600",
     "exception": false,
     "start_time": "2025-02-22T07:31:39.691575",
     "status": "completed"
    },
    "tags": []
   },
   "outputs": [],
   "source": [
    "import os\n",
    "import re\n",
    "import string\n",
    "import joblib\n",
    "import xgboost as xgb\n",
    "import pandas as pd\n",
    "import numpy as np\n",
    "import nltk\n",
    "import urllib.request\n",
    "import zipfile\n",
    "import matplotlib.pyplot as plt\n",
    "\n",
    "from nltk.corpus import stopwords\n",
    "from nltk.stem import WordNetLemmatizer\n",
    "from sklearn.feature_extraction.text import TfidfVectorizer\n",
    "from sklearn.model_selection import train_test_split\n",
    "from sklearn.metrics import accuracy_score, f1_score, log_loss\n",
    "from xgboost import plot_importance"
   ]
  },
  {
   "cell_type": "markdown",
   "id": "c56481fe",
   "metadata": {
    "_cell_guid": "941ba4f7-0d9f-4588-8d0c-5ac760964057",
    "_uuid": "a625881d-5ce1-4858-9af4-26a581b33832",
    "collapsed": false,
    "jupyter": {
     "outputs_hidden": false
    },
    "papermill": {
     "duration": 0.005113,
     "end_time": "2025-02-22T07:31:44.143346",
     "exception": false,
     "start_time": "2025-02-22T07:31:44.138233",
     "status": "completed"
    },
    "tags": []
   },
   "source": [
    "# **Download and Extract NLTK WordNet**"
   ]
  },
  {
   "cell_type": "code",
   "execution_count": null,
   "id": "256e4698",
   "metadata": {
    "_cell_guid": "0b956eb2-df3c-4e95-8a1d-6959475ea37d",
    "_uuid": "9e569ba7-2b1d-40cb-8633-d7d6188821b6",
    "collapsed": false,
    "execution": {
     "iopub.execute_input": "2025-02-22T07:31:44.154781Z",
     "iopub.status.busy": "2025-02-22T07:31:44.154413Z",
     "iopub.status.idle": "2025-02-22T07:31:46.083362Z",
     "shell.execute_reply": "2025-02-22T07:31:46.082483Z"
    },
    "jupyter": {
     "outputs_hidden": false
    },
    "papermill": {
     "duration": 1.93621,
     "end_time": "2025-02-22T07:31:46.084673",
     "exception": false,
     "start_time": "2025-02-22T07:31:44.148463",
     "status": "completed"
    },
    "tags": []
   },
   "outputs": [],
   "source": [
    "nltk_data_dir = '/root/nltk_data'\n",
    "if not os.path.exists(nltk_data_dir):\n",
    "    os.makedirs(nltk_data_dir)\n",
    "\n",
    "nltk.data.path.append(nltk_data_dir)\n",
    "\n",
    "# Manually download wordnet.zip\n",
    "wordnet_url = \"https://raw.githubusercontent.com/nltk/nltk_data/gh-pages/packages/corpora/wordnet.zip\"\n",
    "wordnet_zip_path = os.path.join(nltk_data_dir, 'wordnet.zip')\n",
    "\n",
    "if not os.path.exists(wordnet_zip_path):\n",
    "    urllib.request.urlretrieve(wordnet_url, wordnet_zip_path)\n",
    "\n",
    "with zipfile.ZipFile(wordnet_zip_path, 'r') as zip_ref:\n",
    "    zip_ref.extractall(os.path.join(nltk_data_dir, 'corpora'))\n",
    "\n",
    "# Download additional NLTK data\n",
    "nltk.download('stopwords', download_dir=nltk_data_dir)\n",
    "nltk.download('omw-1.4', download_dir=nltk_data_dir)\n",
    "\n",
    "# Quick test\n",
    "lemmatizer = WordNetLemmatizer()\n",
    "print(\"WordNet test (lemmatize 'running'):\", lemmatizer.lemmatize(\"running\"))"
   ]
  },
  {
   "cell_type": "markdown",
   "id": "4625afcb",
   "metadata": {
    "_cell_guid": "f672298b-dc6b-409b-a5a3-e7ca11d70947",
    "_uuid": "d63b1705-99bb-4efc-b2f5-5066d187bf0e",
    "collapsed": false,
    "jupyter": {
     "outputs_hidden": false
    },
    "papermill": {
     "duration": 0.004762,
     "end_time": "2025-02-22T07:31:46.095026",
     "exception": false,
     "start_time": "2025-02-22T07:31:46.090264",
     "status": "completed"
    },
    "tags": []
   },
   "source": [
    "# **Define Dataset Paths and Hyperparameters**"
   ]
  },
  {
   "cell_type": "code",
   "execution_count": null,
   "id": "fc01ffd6",
   "metadata": {
    "_cell_guid": "87e2e0fb-6a37-4441-a8dc-30cefd30aa66",
    "_uuid": "2de217d8-48c6-4065-8fbb-3e5d99e9cde4",
    "collapsed": false,
    "execution": {
     "iopub.execute_input": "2025-02-22T07:31:46.105617Z",
     "iopub.status.busy": "2025-02-22T07:31:46.105379Z",
     "iopub.status.idle": "2025-02-22T07:31:46.108893Z",
     "shell.execute_reply": "2025-02-22T07:31:46.108285Z"
    },
    "jupyter": {
     "outputs_hidden": false
    },
    "papermill": {
     "duration": 0.010016,
     "end_time": "2025-02-22T07:31:46.109960",
     "exception": false,
     "start_time": "2025-02-22T07:31:46.099944",
     "status": "completed"
    },
    "tags": []
   },
   "outputs": [],
   "source": [
    "data_path = \"C:/Users/indur/OneDrive - University of Westminster/GitHub/FYP_Project/Models/Review_Score/Dataset/correct_reviews_balanced.json\"\n",
    "\n",
    "Base = \"C:/Users/indur/OneDrive - University of Westminster/GitHub/FYP_Project/Models/Testing/Review_ScoreTest/XGBoostPrediction\"\n",
    "vectorizer_path = f\"{Base}/tfidf_vectorizer.pkl\"\n",
    "best_model_path = f\"{Base}/best_xgboost_model.pkl\"\n",
    "\n",
    "\n",
    "test_size = 0.2\n",
    "early_stopping_rounds = 10\n",
    "num_boost_round = 500"
   ]
  },
  {
   "cell_type": "markdown",
   "id": "82cdb3c3",
   "metadata": {
    "_cell_guid": "e277cd62-1125-4993-b373-61e94d9f8f5b",
    "_uuid": "8fe0de6f-5a37-4d60-b839-3ef017708cdb",
    "collapsed": false,
    "jupyter": {
     "outputs_hidden": false
    },
    "papermill": {
     "duration": 0.004815,
     "end_time": "2025-02-22T07:31:46.119899",
     "exception": false,
     "start_time": "2025-02-22T07:31:46.115084",
     "status": "completed"
    },
    "tags": []
   },
   "source": [
    "# **Detect GPU or CPU for XGBoost**"
   ]
  },
  {
   "cell_type": "code",
   "execution_count": null,
   "id": "b24c4520",
   "metadata": {
    "_cell_guid": "55e316ae-b590-4a65-a83c-78521f6abb77",
    "_uuid": "8af6eda4-11c9-40f5-8ac6-393a1d465716",
    "collapsed": false,
    "execution": {
     "iopub.execute_input": "2025-02-22T07:31:46.130592Z",
     "iopub.status.busy": "2025-02-22T07:31:46.130380Z",
     "iopub.status.idle": "2025-02-22T07:31:46.136696Z",
     "shell.execute_reply": "2025-02-22T07:31:46.135855Z"
    },
    "jupyter": {
     "outputs_hidden": false
    },
    "papermill": {
     "duration": 0.012991,
     "end_time": "2025-02-22T07:31:46.137932",
     "exception": false,
     "start_time": "2025-02-22T07:31:46.124941",
     "status": "completed"
    },
    "tags": []
   },
   "outputs": [],
   "source": [
    "def get_device():\n",
    "    # Attempt to detect a GPU in the XGBoost environment\n",
    "    if xgb.rabit.get_world_size() > 0 and xgb.rabit.get_rank() == 0:\n",
    "        return \"cuda\"\n",
    "    else:\n",
    "        return \"cpu\"\n",
    "\n",
    "DEVICE = get_device()\n",
    "print(f\"XGBoost device set to: {DEVICE}\")"
   ]
  },
  {
   "cell_type": "markdown",
   "id": "11ff8c78",
   "metadata": {
    "_cell_guid": "0f00abb7-8e77-4df1-9f1c-6aeaf820ccb2",
    "_uuid": "f6072649-023e-449e-8dc5-4709a6ae81b2",
    "collapsed": false,
    "jupyter": {
     "outputs_hidden": false
    },
    "papermill": {
     "duration": 0.004851,
     "end_time": "2025-02-22T07:31:46.148170",
     "exception": false,
     "start_time": "2025-02-22T07:31:46.143319",
     "status": "completed"
    },
    "tags": []
   },
   "source": [
    "# **Initialize Text Preprocessing**"
   ]
  },
  {
   "cell_type": "code",
   "execution_count": null,
   "id": "9433e686",
   "metadata": {
    "_cell_guid": "debb5cc1-0cc4-4ad8-8d5a-616313022458",
    "_uuid": "a3bce184-62ef-4791-9429-a184d7a169fa",
    "collapsed": false,
    "execution": {
     "iopub.execute_input": "2025-02-22T07:31:46.159258Z",
     "iopub.status.busy": "2025-02-22T07:31:46.159010Z",
     "iopub.status.idle": "2025-02-22T07:31:46.164823Z",
     "shell.execute_reply": "2025-02-22T07:31:46.164253Z"
    },
    "jupyter": {
     "outputs_hidden": false
    },
    "papermill": {
     "duration": 0.012844,
     "end_time": "2025-02-22T07:31:46.166078",
     "exception": false,
     "start_time": "2025-02-22T07:31:46.153234",
     "status": "completed"
    },
    "tags": []
   },
   "outputs": [],
   "source": [
    "nltk.data.path.append(nltk_data_dir)  # Make sure stopwords are recognized\n",
    "stop_words = set(stopwords.words('english'))\n",
    "lemmatizer = WordNetLemmatizer()\n",
    "\n",
    "def preprocess_text(text):\n",
    "    text = text.lower()\n",
    "    text = re.sub(r'\\d+', '', text)\n",
    "    text = text.translate(str.maketrans('', '', string.punctuation))\n",
    "    words = text.split()\n",
    "    # Keep certain negation words\n",
    "    words = [word for word in words if word not in stop_words or word in [\"not\", \"bad\", \"never\", \"no\"]]\n",
    "    words = [lemmatizer.lemmatize(word) for word in words]\n",
    "    return ' '.join(words)"
   ]
  },
  {
   "cell_type": "markdown",
   "id": "404ec1e8",
   "metadata": {
    "_cell_guid": "720fa22c-66c8-4497-9ac4-b823a8421771",
    "_uuid": "14b37ddb-9abd-41c6-9a8d-383b337838d9",
    "collapsed": false,
    "jupyter": {
     "outputs_hidden": false
    },
    "papermill": {
     "duration": 0.005162,
     "end_time": "2025-02-22T07:31:46.176869",
     "exception": false,
     "start_time": "2025-02-22T07:31:46.171707",
     "status": "completed"
    },
    "tags": []
   },
   "source": [
    "# **Load Entire Dataset**"
   ]
  },
  {
   "cell_type": "code",
   "execution_count": null,
   "id": "66f77bb2",
   "metadata": {
    "_cell_guid": "ccf4909e-40f8-4984-a9ee-c9b609c9f3a7",
    "_uuid": "c3cae3d1-5912-44d7-8f52-2495a0bd2f1c",
    "collapsed": false,
    "execution": {
     "iopub.execute_input": "2025-02-22T07:31:46.188668Z",
     "iopub.status.busy": "2025-02-22T07:31:46.188447Z",
     "iopub.status.idle": "2025-02-22T07:32:08.801042Z",
     "shell.execute_reply": "2025-02-22T07:32:08.800134Z"
    },
    "jupyter": {
     "outputs_hidden": false
    },
    "papermill": {
     "duration": 22.619953,
     "end_time": "2025-02-22T07:32:08.802526",
     "exception": false,
     "start_time": "2025-02-22T07:31:46.182573",
     "status": "completed"
    },
    "tags": []
   },
   "outputs": [],
   "source": [
    "print(f\"Loading Data from: {data_path}\")\n",
    "df = pd.read_json(data_path, lines=True)\n",
    "df = df[['text', 'stars']].dropna(subset=['text'])\n",
    "df['text'] = df['text'].apply(preprocess_text)\n",
    "df['stars'] = df['stars'].astype(int) - 1  # [1..5] → [0..4]\n",
    "print(f\"Dataset loaded with {len(df)} entries.\")"
   ]
  },
  {
   "cell_type": "markdown",
   "id": "22681f63",
   "metadata": {
    "_cell_guid": "00912f78-6ce7-4cc0-98be-a04ea683c358",
    "_uuid": "e1e61780-acda-49ab-8d2f-e29573aab91f",
    "collapsed": false,
    "jupyter": {
     "outputs_hidden": false
    },
    "papermill": {
     "duration": 0.005365,
     "end_time": "2025-02-22T07:32:08.814042",
     "exception": false,
     "start_time": "2025-02-22T07:32:08.808677",
     "status": "completed"
    },
    "tags": []
   },
   "source": [
    "# **Train-Test Split**"
   ]
  },
  {
   "cell_type": "code",
   "execution_count": null,
   "id": "e61e619d",
   "metadata": {
    "_cell_guid": "89f1dd39-ab96-4260-87a9-5044971ce4e8",
    "_uuid": "bb3d2066-97bb-4282-9991-b26ec7ed4994",
    "collapsed": false,
    "execution": {
     "iopub.execute_input": "2025-02-22T07:32:08.825832Z",
     "iopub.status.busy": "2025-02-22T07:32:08.825576Z",
     "iopub.status.idle": "2025-02-22T07:32:08.837603Z",
     "shell.execute_reply": "2025-02-22T07:32:08.836935Z"
    },
    "jupyter": {
     "outputs_hidden": false
    },
    "papermill": {
     "duration": 0.019427,
     "end_time": "2025-02-22T07:32:08.838872",
     "exception": false,
     "start_time": "2025-02-22T07:32:08.819445",
     "status": "completed"
    },
    "tags": []
   },
   "outputs": [],
   "source": [
    "X_train, X_test, y_train, y_test = train_test_split(\n",
    "    df['text'], df['stars'],\n",
    "    test_size=test_size,\n",
    "    random_state=42\n",
    ")"
   ]
  },
  {
   "cell_type": "markdown",
   "id": "9db6ec24",
   "metadata": {
    "_cell_guid": "3c5ad6cb-9a85-4709-9681-8f43292ea3e6",
    "_uuid": "d789771f-1097-4695-999f-f2e9360b3d3e",
    "collapsed": false,
    "jupyter": {
     "outputs_hidden": false
    },
    "papermill": {
     "duration": 0.005258,
     "end_time": "2025-02-22T07:32:08.849577",
     "exception": false,
     "start_time": "2025-02-22T07:32:08.844319",
     "status": "completed"
    },
    "tags": []
   },
   "source": [
    "# **TF-IDF Vectorizer**"
   ]
  },
  {
   "cell_type": "code",
   "execution_count": null,
   "id": "735ccd87",
   "metadata": {
    "_cell_guid": "81f305a3-c122-4123-b862-1379797a1362",
    "_uuid": "e319d267-3f18-4e2e-b23b-ef86327c46e2",
    "collapsed": false,
    "execution": {
     "iopub.execute_input": "2025-02-22T07:32:08.860660Z",
     "iopub.status.busy": "2025-02-22T07:32:08.860443Z",
     "iopub.status.idle": "2025-02-22T07:32:37.434271Z",
     "shell.execute_reply": "2025-02-22T07:32:37.433558Z"
    },
    "jupyter": {
     "outputs_hidden": false
    },
    "papermill": {
     "duration": 28.581094,
     "end_time": "2025-02-22T07:32:37.435955",
     "exception": false,
     "start_time": "2025-02-22T07:32:08.854861",
     "status": "completed"
    },
    "tags": []
   },
   "outputs": [],
   "source": [
    "if os.path.exists(vectorizer_path):\n",
    "    print(\"Loading existing TF-IDF vectorizer...\")\n",
    "    vectorizer = joblib.load(vectorizer_path)\n",
    "    X_train_tfidf = vectorizer.transform(X_train).toarray()\n",
    "else:\n",
    "    vectorizer = TfidfVectorizer(max_features=10000, ngram_range=(1,2))\n",
    "    X_train_tfidf = vectorizer.fit_transform(X_train).toarray()\n",
    "    joblib.dump(vectorizer, vectorizer_path)\n",
    "    print(\"TF-IDF vectorizer fitted and saved.\")\n",
    "\n",
    "X_test_tfidf = vectorizer.transform(X_test).toarray()"
   ]
  },
  {
   "cell_type": "markdown",
   "id": "02944e88",
   "metadata": {
    "_cell_guid": "048a3fcb-597d-4a6d-ba92-011108168c4c",
    "_uuid": "07038010-7c71-4e2f-b3c0-ecc337b45bc2",
    "collapsed": false,
    "jupyter": {
     "outputs_hidden": false
    },
    "papermill": {
     "duration": 0.005283,
     "end_time": "2025-02-22T07:32:37.446986",
     "exception": false,
     "start_time": "2025-02-22T07:32:37.441703",
     "status": "completed"
    },
    "tags": []
   },
   "source": [
    "# **Train XGBoost with Early Stopping**"
   ]
  },
  {
   "cell_type": "code",
   "execution_count": null,
   "id": "0976a39e",
   "metadata": {
    "_cell_guid": "b0b25a29-d4dc-4b92-aadc-9e46ba25b299",
    "_uuid": "4f4bd7b3-9cab-44a9-9b9c-a05be2c1e10b",
    "collapsed": false,
    "execution": {
     "iopub.execute_input": "2025-02-22T07:32:37.458474Z",
     "iopub.status.busy": "2025-02-22T07:32:37.458244Z",
     "iopub.status.idle": "2025-02-22T07:37:14.847847Z",
     "shell.execute_reply": "2025-02-22T07:37:14.846828Z"
    },
    "jupyter": {
     "outputs_hidden": false
    },
    "papermill": {
     "duration": 277.3972,
     "end_time": "2025-02-22T07:37:14.849448",
     "exception": false,
     "start_time": "2025-02-22T07:32:37.452248",
     "status": "completed"
    },
    "tags": []
   },
   "outputs": [],
   "source": [
    "dtrain = xgb.DMatrix(X_train_tfidf, label=y_train)\n",
    "dtest = xgb.DMatrix(X_test_tfidf, label=y_test)\n",
    "\n",
    "evals_result = {}  # to track metrics per iteration\n",
    "\n",
    "xgb_model = xgb.train(\n",
    "    {\n",
    "        'objective': 'multi:softprob',\n",
    "        'num_class': 5,\n",
    "        'eval_metric': 'mlogloss',\n",
    "        'eta': 0.1,\n",
    "        'max_depth': 6,\n",
    "        'subsample': 0.7,\n",
    "        'colsample_bytree': 0.8,\n",
    "        'tree_method': 'hist',  # CPU by default\n",
    "        'device': DEVICE         # GPU if available\n",
    "    },\n",
    "    dtrain,\n",
    "    num_boost_round=num_boost_round,\n",
    "    evals=[(dtest, \"test\")],\n",
    "    evals_result=evals_result,          # store logs here\n",
    "    early_stopping_rounds=early_stopping_rounds,\n",
    "    verbose_eval=10\n",
    ")\n",
    "print(\"XGBoost training complete.\")"
   ]
  },
  {
   "cell_type": "markdown",
   "id": "7e29288b",
   "metadata": {
    "_cell_guid": "3d44e6e2-563f-4c93-8733-6ee3bb4e0301",
    "_uuid": "7658cfaf-6125-416c-982d-b46ef7c93fc9",
    "collapsed": false,
    "jupyter": {
     "outputs_hidden": false
    },
    "papermill": {
     "duration": 0.008255,
     "end_time": "2025-02-22T07:37:14.866425",
     "exception": false,
     "start_time": "2025-02-22T07:37:14.858170",
     "status": "completed"
    },
    "tags": []
   },
   "source": [
    "# **Plot Training Logloss Over Iterations**"
   ]
  },
  {
   "cell_type": "code",
   "execution_count": null,
   "id": "21f3f5fe",
   "metadata": {
    "_cell_guid": "b8ad14dd-a747-4505-9716-b7de6b730abd",
    "_uuid": "7d5e5ed4-21de-445d-9810-7b69d39e587d",
    "collapsed": false,
    "execution": {
     "iopub.execute_input": "2025-02-22T07:37:14.883255Z",
     "iopub.status.busy": "2025-02-22T07:37:14.882956Z",
     "iopub.status.idle": "2025-02-22T07:37:15.197374Z",
     "shell.execute_reply": "2025-02-22T07:37:15.196438Z"
    },
    "jupyter": {
     "outputs_hidden": false
    },
    "papermill": {
     "duration": 0.324363,
     "end_time": "2025-02-22T07:37:15.198883",
     "exception": false,
     "start_time": "2025-02-22T07:37:14.874520",
     "status": "completed"
    },
    "tags": []
   },
   "outputs": [],
   "source": [
    "epochs = len(evals_result['test']['mlogloss'])\n",
    "x_axis = range(0, epochs)\n",
    "\n",
    "plt.figure(figsize=(8, 4))\n",
    "plt.plot(x_axis, evals_result['test']['mlogloss'], label='Test Logloss', color='blue')\n",
    "plt.xlabel('Iteration')\n",
    "plt.ylabel('Logloss')\n",
    "plt.title('XGBoost Logloss Over Iterations')\n",
    "plt.legend()\n",
    "plt.grid(True)\n",
    "plt.show()"
   ]
  },
  {
   "cell_type": "markdown",
   "id": "d42c0702",
   "metadata": {
    "_cell_guid": "b6e1ff5d-100f-4eb9-8601-78a091d697bb",
    "_uuid": "9b42fac2-e557-4c0f-a5eb-3e5304fe95ca",
    "collapsed": false,
    "jupyter": {
     "outputs_hidden": false
    },
    "papermill": {
     "duration": 0.008252,
     "end_time": "2025-02-22T07:37:15.216399",
     "exception": false,
     "start_time": "2025-02-22T07:37:15.208147",
     "status": "completed"
    },
    "tags": []
   },
   "source": [
    "# **Feature Importance Visualization**"
   ]
  },
  {
   "cell_type": "code",
   "execution_count": null,
   "id": "07d35d09",
   "metadata": {
    "_cell_guid": "b9607a09-f58e-4d2f-bdea-19f8aaa505e9",
    "_uuid": "df0c0b0c-8d78-4e4d-baa5-6468b11a8f32",
    "collapsed": false,
    "execution": {
     "iopub.execute_input": "2025-02-22T07:37:15.233687Z",
     "iopub.status.busy": "2025-02-22T07:37:15.233435Z",
     "iopub.status.idle": "2025-02-22T07:37:15.493128Z",
     "shell.execute_reply": "2025-02-22T07:37:15.492318Z"
    },
    "jupyter": {
     "outputs_hidden": false
    },
    "papermill": {
     "duration": 0.270188,
     "end_time": "2025-02-22T07:37:15.494610",
     "exception": false,
     "start_time": "2025-02-22T07:37:15.224422",
     "status": "completed"
    },
    "tags": []
   },
   "outputs": [],
   "source": [
    "plt.figure(figsize=(8, 6))\n",
    "plot_importance(xgb_model, ax=plt.gca(), max_num_features=15, title='Top 15 Feature Importances')\n",
    "plt.show()"
   ]
  },
  {
   "cell_type": "markdown",
   "id": "a53df3b9",
   "metadata": {
    "_cell_guid": "7fbac15b-6b55-4382-ac41-f539eafb743f",
    "_uuid": "6ebcf28c-de59-47b1-a5c2-7fc1ce48fe60",
    "collapsed": false,
    "jupyter": {
     "outputs_hidden": false
    },
    "papermill": {
     "duration": 0.00917,
     "end_time": "2025-02-22T07:37:15.514535",
     "exception": false,
     "start_time": "2025-02-22T07:37:15.505365",
     "status": "completed"
    },
    "tags": []
   },
   "source": [
    "# **Evaluate Final Model**"
   ]
  },
  {
   "cell_type": "code",
   "execution_count": null,
   "id": "c9c1a76e",
   "metadata": {
    "_cell_guid": "96d8aec3-6ad6-493b-9b8c-d2f509762a13",
    "_uuid": "18c206b8-5776-4a05-a76f-477dfd19e221",
    "collapsed": false,
    "execution": {
     "iopub.execute_input": "2025-02-22T07:37:15.534658Z",
     "iopub.status.busy": "2025-02-22T07:37:15.534394Z",
     "iopub.status.idle": "2025-02-22T07:37:15.773955Z",
     "shell.execute_reply": "2025-02-22T07:37:15.773159Z"
    },
    "jupyter": {
     "outputs_hidden": false
    },
    "papermill": {
     "duration": 0.251697,
     "end_time": "2025-02-22T07:37:15.775374",
     "exception": false,
     "start_time": "2025-02-22T07:37:15.523677",
     "status": "completed"
    },
    "tags": []
   },
   "outputs": [],
   "source": [
    "best_iteration = xgb_model.best_iteration\n",
    "y_pred_probs = xgb_model.predict(dtest, iteration_range=(0, best_iteration + 1))\n",
    "y_pred = np.argmax(y_pred_probs, axis=1)\n",
    "\n",
    "accuracy = accuracy_score(y_test, y_pred)\n",
    "f1 = f1_score(y_test, y_pred, average='weighted')\n",
    "loss_val = log_loss(y_test, y_pred_probs)\n",
    "\n",
    "print(f\"\\n Final Evaluation on Test Set \")\n",
    "print(f\"Accuracy: {accuracy * 100:.2f}%\")\n",
    "print(f\"F1-Score: {f1:.4f}\")\n",
    "print(f\"Log Loss: {loss_val:.4f}\")"
   ]
  },
  {
   "cell_type": "markdown",
   "id": "575aed8e",
   "metadata": {
    "_cell_guid": "d461cc50-1f75-48c4-aace-435d177ba499",
    "_uuid": "eecf3eaf-3815-4046-9b3c-41a75c4e387e",
    "collapsed": false,
    "jupyter": {
     "outputs_hidden": false
    },
    "papermill": {
     "duration": 0.009744,
     "end_time": "2025-02-22T07:37:15.796644",
     "exception": false,
     "start_time": "2025-02-22T07:37:15.786900",
     "status": "completed"
    },
    "tags": []
   },
   "source": [
    "# **Save Model and TF-IDF Vectorizer**"
   ]
  },
  {
   "cell_type": "code",
   "execution_count": null,
   "id": "03a0fac5",
   "metadata": {
    "_cell_guid": "bd5d2df6-c2f3-48ca-b44f-b00366490bdd",
    "_uuid": "a32fa11e-a564-447e-bf14-e8d521c17a47",
    "collapsed": false,
    "execution": {
     "iopub.execute_input": "2025-02-22T07:37:15.817296Z",
     "iopub.status.busy": "2025-02-22T07:37:15.816943Z",
     "iopub.status.idle": "2025-02-22T07:37:20.729949Z",
     "shell.execute_reply": "2025-02-22T07:37:20.729112Z"
    },
    "jupyter": {
     "outputs_hidden": false
    },
    "papermill": {
     "duration": 4.925375,
     "end_time": "2025-02-22T07:37:20.731766",
     "exception": false,
     "start_time": "2025-02-22T07:37:15.806391",
     "status": "completed"
    },
    "tags": []
   },
   "outputs": [],
   "source": [
    "model_artifacts = {\n",
    "    'model': xgb_model,\n",
    "    'vectorizer': vectorizer,\n",
    "    'accuracy': accuracy,\n",
    "    'f1_score': f1,\n",
    "    'logloss': loss_val\n",
    "}\n",
    "\n",
    "joblib.dump(model_artifacts, best_model_path)\n",
    "print(f\"Model artifacts saved to {best_model_path}!\")\n"
   ]
  }
 ],
 "metadata": {
  "colab": {
   "authorship_tag": "ABX9TyPZbhgVumylXZ07+kEPi7eX",
   "mount_file_id": "1qOiiWjLOHhCcFp68KFdSCxTywm9MC84L",
   "provenance": []
  },
  "kaggle": {
   "accelerator": "nvidiaTeslaT4",
   "dataSources": [
    {
     "datasetId": 10100,
     "sourceId": 3316532,
     "sourceType": "datasetVersion"
    },
    {
     "datasetId": 6633584,
     "sourceId": 10703834,
     "sourceType": "datasetVersion"
    }
   ],
   "dockerImageVersionId": 30918,
   "isGpuEnabled": true,
   "isInternetEnabled": true,
   "language": "python",
   "sourceType": "notebook"
  },
  "kernelspec": {
   "display_name": "Python 3",
   "language": "python",
   "name": "python3"
  },
  "language_info": {
   "codemirror_mode": {
    "name": "ipython",
    "version": 3
   },
   "file_extension": ".py",
   "mimetype": "text/x-python",
   "name": "python",
   "nbconvert_exporter": "python",
   "pygments_lexer": "ipython3",
   "version": "3.10.12"
  },
  "papermill": {
   "default_parameters": {},
   "duration": 352.366418,
   "end_time": "2025-02-22T07:37:23.165913",
   "environment_variables": {},
   "exception": null,
   "input_path": "__notebook__.ipynb",
   "output_path": "__notebook__.ipynb",
   "parameters": {},
   "start_time": "2025-02-22T07:31:30.799495",
   "version": "2.6.0"
  }
 },
 "nbformat": 4,
 "nbformat_minor": 5
}
