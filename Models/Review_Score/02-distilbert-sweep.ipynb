{
 "cells": [
  {
   "cell_type": "markdown",
   "metadata": {
    "_cell_guid": "1b0b5684-b33b-4f80-9dac-27e0c7f4a9db",
    "_uuid": "1bbc9b16-4799-463e-a94d-7bccaefa8fd7",
    "collapsed": false,
    "jupyter": {
     "outputs_hidden": false
    },
    "trusted": true
   },
   "source": [
    "# **02 - DistilBERT Sweep**"
   ]
  },
  {
   "cell_type": "code",
   "execution_count": null,
   "metadata": {
    "_cell_guid": "26ac5cb9-928b-4a01-9db8-e16b2c4e1db5",
    "_uuid": "a0fc077a-d91f-4a9b-8a57-578b2f8eb720",
    "collapsed": false,
    "execution": {
     "iopub.execute_input": "2025-06-19T18:37:43.826633Z",
     "iopub.status.busy": "2025-06-19T18:37:43.826208Z",
     "iopub.status.idle": "2025-06-19T18:37:50.214724Z",
     "shell.execute_reply": "2025-06-19T18:37:50.214049Z",
     "shell.execute_reply.started": "2025-06-19T18:37:43.826610Z"
    },
    "jupyter": {
     "outputs_hidden": false
    },
    "trusted": true
   },
   "outputs": [],
   "source": [
    "pip install langdetect"
   ]
  },
  {
   "cell_type": "code",
   "execution_count": null,
   "metadata": {
    "_cell_guid": "0ce2c934-cff1-4be0-a379-88571bda0129",
    "_uuid": "0f9392ea-2bcb-4487-974c-cb825e04154c",
    "collapsed": false,
    "execution": {
     "iopub.execute_input": "2025-06-19T18:37:50.216389Z",
     "iopub.status.busy": "2025-06-19T18:37:50.216181Z",
     "iopub.status.idle": "2025-06-19T18:38:18.961778Z",
     "shell.execute_reply": "2025-06-19T18:38:18.961019Z",
     "shell.execute_reply.started": "2025-06-19T18:37:50.216369Z"
    },
    "jupyter": {
     "outputs_hidden": false
    },
    "trusted": true
   },
   "outputs": [],
   "source": [
    "# Imports & reproducibility\n",
    "import os\n",
    "import random\n",
    "import shutil\n",
    "import gc\n",
    "\n",
    "import numpy as np\n",
    "import pandas as pd\n",
    "import torch\n",
    "import joblib\n",
    "\n",
    "from transformers import (\n",
    "    DistilBertTokenizerFast as DistilBertTokenizer,\n",
    "    DistilBertForSequenceClassification,\n",
    "    DistilBertConfig,\n",
    "    Trainer,\n",
    "    TrainingArguments,\n",
    "    EarlyStoppingCallback\n",
    ")\n",
    "from sklearn.metrics import accuracy_score, f1_score\n",
    "from sklearn.model_selection import StratifiedShuffleSplit, train_test_split\n",
    "from langdetect import DetectorFactory\n",
    "\n",
    "# seeds\n",
    "RANDOM_SEED = 42\n",
    "np.random.seed(RANDOM_SEED)\n",
    "random.seed(RANDOM_SEED)\n",
    "torch.manual_seed(RANDOM_SEED)\n",
    "DetectorFactory.seed = RANDOM_SEED"
   ]
  },
  {
   "cell_type": "code",
   "execution_count": null,
   "metadata": {
    "_cell_guid": "39fdb289-5c44-4cef-b837-9a150ae72636",
    "_uuid": "a021ab8b-b4c8-4110-9df6-82d6ae678461",
    "collapsed": false,
    "execution": {
     "iopub.execute_input": "2025-06-19T18:38:18.963152Z",
     "iopub.status.busy": "2025-06-19T18:38:18.962585Z",
     "iopub.status.idle": "2025-06-19T18:38:18.966965Z",
     "shell.execute_reply": "2025-06-19T18:38:18.966208Z",
     "shell.execute_reply.started": "2025-06-19T18:38:18.963133Z"
    },
    "jupyter": {
     "outputs_hidden": false
    },
    "trusted": true
   },
   "outputs": [],
   "source": [
    "# Paths & constants\n",
    "BASE    = \"C:/Users/indur/OneDrive - University of Westminster/GitHub/FYP_Project/Models/Review_Score/OutPuts\"\n",
    "TRAIN_P = f\"{BASE}/train_df.pkl\"\n",
    "OUTPUT  = f\"{BASE}/sweep_ckpt\"\n",
    "NUM_L   = 5"
   ]
  },
  {
   "cell_type": "code",
   "execution_count": null,
   "metadata": {
    "_cell_guid": "80deb70d-c937-4e44-88ed-1de69ae2324a",
    "_uuid": "634dc43c-1dc3-48ff-9909-4b17102e939c",
    "collapsed": false,
    "execution": {
     "iopub.execute_input": "2025-06-19T18:38:18.968089Z",
     "iopub.status.busy": "2025-06-19T18:38:18.967802Z",
     "iopub.status.idle": "2025-06-19T18:38:18.995881Z",
     "shell.execute_reply": "2025-06-19T18:38:18.995290Z",
     "shell.execute_reply.started": "2025-06-19T18:38:18.968046Z"
    },
    "jupyter": {
     "outputs_hidden": false
    },
    "trusted": true
   },
   "outputs": [],
   "source": [
    "# Hyperparameter grid\n",
    "bert_param_grid = [\n",
    "    {\"learning_rate\": 2e-5, \"weight_decay\": 0.01, \"classifier_dropout\": 0.2, \"freeze_layers\": \"first2\"},\n",
    "    {\"learning_rate\": 2e-5, \"weight_decay\": 0.01, \"classifier_dropout\": 0.3, \"freeze_layers\": \"first1\"},\n",
    "    {\"learning_rate\": 3e-5, \"weight_decay\": 0.00, \"classifier_dropout\": 0.1, \"freeze_layers\": \"none\"},\n",
    "    {\"learning_rate\": 5e-5, \"weight_decay\": 0.00, \"classifier_dropout\": 0.1, \"freeze_layers\": \"none\"},\n",
    "    {\"learning_rate\": 3e-5, \"weight_decay\": 0.01, \"classifier_dropout\": 0.2, \"freeze_layers\": \"first1\"}\n",
    "]"
   ]
  },
  {
   "cell_type": "code",
   "execution_count": null,
   "metadata": {
    "_cell_guid": "0c057f91-39bb-44c4-994e-3f89687e066d",
    "_uuid": "41bdcc06-d68b-44b5-9252-d04521910d13",
    "collapsed": false,
    "execution": {
     "iopub.execute_input": "2025-06-19T18:38:18.997473Z",
     "iopub.status.busy": "2025-06-19T18:38:18.997262Z",
     "iopub.status.idle": "2025-06-19T18:38:19.258028Z",
     "shell.execute_reply": "2025-06-19T18:38:19.257502Z",
     "shell.execute_reply.started": "2025-06-19T18:38:18.997457Z"
    },
    "jupyter": {
     "outputs_hidden": false
    },
    "trusted": true
   },
   "outputs": [],
   "source": [
    "# Load & subsample data\n",
    "df     = joblib.load(TRAIN_P)\n",
    "texts  = df.text.tolist()\n",
    "labels = df.label.tolist()\n",
    "\n",
    "sss = StratifiedShuffleSplit(n_splits=1, train_size=0.2, random_state=RANDOM_SEED)\n",
    "sub_idx, _ = next(sss.split(texts, labels))\n",
    "xsmall = [texts[i] for i in sub_idx]\n",
    "ysmall = [labels[i] for i in sub_idx]\n",
    "\n",
    "x_tr, x_val, y_tr, y_val = train_test_split(\n",
    "    xsmall, ysmall, test_size=0.2, stratify=ysmall, random_state=RANDOM_SEED\n",
    ")"
   ]
  },
  {
   "cell_type": "code",
   "execution_count": null,
   "metadata": {
    "_cell_guid": "d97b0c99-345d-4c16-b30d-28085b1efc1a",
    "_uuid": "8b9f9546-19ae-447b-973a-b130fe09bcee",
    "collapsed": false,
    "execution": {
     "iopub.execute_input": "2025-06-19T18:38:19.258870Z",
     "iopub.status.busy": "2025-06-19T18:38:19.258688Z",
     "iopub.status.idle": "2025-06-19T18:38:20.239878Z",
     "shell.execute_reply": "2025-06-19T18:38:20.239375Z",
     "shell.execute_reply.started": "2025-06-19T18:38:19.258855Z"
    },
    "jupyter": {
     "outputs_hidden": false
    },
    "trusted": true
   },
   "outputs": [],
   "source": [
    "# Tokenizer & device\n",
    "tokenizer = DistilBertTokenizer.from_pretrained(\"distilbert-base-uncased\")\n",
    "device    = torch.device(\"cuda\" if torch.cuda.is_available() else \"cpu\")"
   ]
  },
  {
   "cell_type": "code",
   "execution_count": null,
   "metadata": {
    "_cell_guid": "007d299d-efc0-4ff4-a2fc-a8773705311e",
    "_uuid": "8df37e63-cdf2-4fef-b916-fcf8e627d99d",
    "collapsed": false,
    "execution": {
     "iopub.execute_input": "2025-06-19T18:38:20.240693Z",
     "iopub.status.busy": "2025-06-19T18:38:20.240518Z",
     "iopub.status.idle": "2025-06-19T18:38:20.245453Z",
     "shell.execute_reply": "2025-06-19T18:38:20.244839Z",
     "shell.execute_reply.started": "2025-06-19T18:38:20.240679Z"
    },
    "jupyter": {
     "outputs_hidden": false
    },
    "trusted": true
   },
   "outputs": [],
   "source": [
    "# Dataset wrapper\n",
    "class TxtDS(torch.utils.data.Dataset):\n",
    "    def __init__(self, encodings, labels):\n",
    "        self.encodings = encodings\n",
    "        self.labels    = labels\n",
    "    def __len__(self):\n",
    "        return len(self.labels)\n",
    "    def __getitem__(self, idx):\n",
    "        item = {k: v[idx] for k, v in self.encodings.items()}\n",
    "        item[\"labels\"] = torch.tensor(self.labels[idx])\n",
    "        return item"
   ]
  },
  {
   "cell_type": "code",
   "execution_count": null,
   "metadata": {
    "_cell_guid": "35f17ea9-d5d9-49a3-9b02-85aa4a9ebc94",
    "_uuid": "35361af4-081f-4fc9-bd5f-fe1a053f8153",
    "collapsed": false,
    "execution": {
     "iopub.execute_input": "2025-06-19T18:38:20.246628Z",
     "iopub.status.busy": "2025-06-19T18:38:20.246334Z"
    },
    "jupyter": {
     "outputs_hidden": false
    },
    "trusted": true
   },
   "outputs": [],
   "source": [
    "# Hyperparameter sweep\n",
    "best_f1, best_cfg, best_model = 0.0, None, None\n",
    "\n",
    "for cfg in bert_param_grid:\n",
    "    # a) Build & (optionally) freeze\n",
    "    config = DistilBertConfig.from_pretrained(\n",
    "        \"distilbert-base-uncased\",\n",
    "        dropout=cfg[\"classifier_dropout\"],\n",
    "        num_labels=NUM_L\n",
    "    )\n",
    "    model = DistilBertForSequenceClassification.from_pretrained(\n",
    "        \"distilbert-base-uncased\", config=config\n",
    "    ).to(device)\n",
    "\n",
    "    if cfg[\"freeze_layers\"] == \"first2\":\n",
    "        for p in model.distilbert.transformer.layer[:2].parameters(): p.requires_grad = False\n",
    "    elif cfg[\"freeze_layers\"] == \"first1\":\n",
    "        for p in model.distilbert.transformer.layer[:1].parameters(): p.requires_grad = False\n",
    "\n",
    "    # b) Tokenize\n",
    "    def enc(xs):\n",
    "        return tokenizer(xs, padding=\"max_length\", truncation=True,\n",
    "                         max_length=256, return_tensors=\"pt\")\n",
    "    tr_ds = TxtDS(enc(x_tr), y_tr)\n",
    "    vl_ds = TxtDS(enc(x_val), y_val)\n",
    "\n",
    "    # c) TrainingArguments\n",
    "    if os.path.isdir(OUTPUT): shutil.rmtree(OUTPUT)\n",
    "    args = TrainingArguments(\n",
    "        output_dir=OUTPUT,\n",
    "        num_train_epochs= 20,\n",
    "        per_device_train_batch_size= 16 ,\n",
    "        per_device_eval_batch_size= 32,\n",
    "        eval_strategy=\"epoch\",\n",
    "        save_strategy=\"epoch\",\n",
    "        save_total_limit=1,\n",
    "        load_best_model_at_end=True,\n",
    "        metric_for_best_model=\"f1\",\n",
    "        learning_rate=cfg[\"learning_rate\"],\n",
    "        weight_decay=cfg[\"weight_decay\"],\n",
    "        logging_steps=50,\n",
    "        report_to=[]\n",
    "    )\n",
    "\n",
    "    # d) Trainer\n",
    "    trainer = Trainer(\n",
    "        model=model,\n",
    "        args=args,\n",
    "        train_dataset=tr_ds,\n",
    "        eval_dataset=vl_ds,\n",
    "        compute_metrics=lambda p: {\n",
    "            \"accuracy\": accuracy_score(p.label_ids, p.predictions.argmax(-1)),\n",
    "            \"f1\":       f1_score(p.label_ids, p.predictions.argmax(-1), average=\"weighted\")\n",
    "        },\n",
    "        callbacks=[EarlyStoppingCallback(early_stopping_patience=3)]\n",
    "    )\n",
    "\n",
    "    # e) Train & eval\n",
    "    trainer.train()\n",
    "    metrics = trainer.evaluate()\n",
    "    f = metrics[\"eval_f1\"]\n",
    "    print(f\"Config {cfg} → eval_f1 = {f:.4f}\")\n",
    "\n",
    "    if f > best_f1:\n",
    "        best_f1, best_cfg, best_model = f, cfg.copy(), trainer.model\n",
    "\n",
    "    # f) Cleanup  \n",
    "    del model, trainer\n",
    "    gc.collect()\n",
    "    torch.cuda.empty_cache()"
   ]
  },
  {
   "cell_type": "code",
   "execution_count": null,
   "metadata": {
    "_cell_guid": "cb3e3d67-e81b-48bd-8b6b-a04b6a0790de",
    "_uuid": "0bcb6b79-99c0-4b68-96a8-35dc96a6570f",
    "collapsed": false,
    "jupyter": {
     "outputs_hidden": false
    },
    "trusted": true
   },
   "outputs": [],
   "source": [
    "# Report & save best\n",
    "print(\"\\nBest F1:\", best_f1)\n",
    "print(\"Best cfg:\", best_cfg)\n",
    "best_model.save_pretrained(f\"{BASE}/best_distilbert_model\")\n",
    "tokenizer.save_pretrained(f\"{BASE}/best_distilbert_tokenizer\")\n",
    "joblib.dump(best_cfg, f\"{BASE}/best_bert_cfg.pkl\")"
   ]
  }
 ],
 "metadata": {
  "kaggle": {
   "accelerator": "nvidiaTeslaT4",
   "dataSources": [
    {
     "sourceId": 246376615,
     "sourceType": "kernelVersion"
    }
   ],
   "dockerImageVersionId": 31041,
   "isGpuEnabled": true,
   "isInternetEnabled": true,
   "language": "python",
   "sourceType": "notebook"
  },
  "kernelspec": {
   "display_name": "Python 3",
   "language": "python",
   "name": "python3"
  },
  "language_info": {
   "codemirror_mode": {
    "name": "ipython",
    "version": 3
   },
   "file_extension": ".py",
   "mimetype": "text/x-python",
   "name": "python",
   "nbconvert_exporter": "python",
   "pygments_lexer": "ipython3",
   "version": "3.11.11"
  }
 },
 "nbformat": 4,
 "nbformat_minor": 4
}
