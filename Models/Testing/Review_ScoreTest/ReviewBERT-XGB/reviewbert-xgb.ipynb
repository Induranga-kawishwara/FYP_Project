{
 "cells": [
  {
   "cell_type": "markdown",
   "id": "8a9530a5",
   "metadata": {
    "_cell_guid": "8785fd0f-d5a6-43fc-8b7a-bc12e6568518",
    "_uuid": "05eb034a-1b9a-4246-9577-06269b793c76",
    "collapsed": false,
    "jupyter": {
     "outputs_hidden": false
    },
    "papermill": {
     "duration": 0.006978,
     "end_time": "2025-06-04T15:06:10.573319",
     "exception": false,
     "start_time": "2025-06-04T15:06:10.566341",
     "status": "completed"
    },
    "tags": []
   },
   "source": [
    "# 1) Install dependencies"
   ]
  },
  {
   "cell_type": "code",
   "execution_count": null,
   "id": "35c15cff",
   "metadata": {
    "_cell_guid": "5d6c8563-ed2a-4892-8810-fa9f8ee71d87",
    "_uuid": "b562b1db-45cb-47d4-8ed1-40a5bc3c9412",
    "collapsed": false,
    "execution": {
     "iopub.execute_input": "2025-06-04T15:06:10.587447Z",
     "iopub.status.busy": "2025-06-04T15:06:10.587239Z",
     "iopub.status.idle": "2025-06-04T15:06:17.310155Z",
     "shell.execute_reply": "2025-06-04T15:06:17.309114Z"
    },
    "jupyter": {
     "outputs_hidden": false
    },
    "papermill": {
     "duration": 6.731167,
     "end_time": "2025-06-04T15:06:17.311930",
     "exception": false,
     "start_time": "2025-06-04T15:06:10.580763",
     "status": "completed"
    },
    "tags": []
   },
   "outputs": [],
   "source": [
    "%pip install transformers torch scikit-learn pandas xgboost joblib tqdm matplotlib wordcloud langdetect --quiet"
   ]
  },
  {
   "cell_type": "markdown",
   "id": "682a7278",
   "metadata": {
    "_cell_guid": "618738d3-712d-4065-a9ae-2480612a42ed",
    "_uuid": "2d91fb3b-7247-43c6-acae-2f60fb333485",
    "collapsed": false,
    "jupyter": {
     "outputs_hidden": false
    },
    "papermill": {
     "duration": 0.006082,
     "end_time": "2025-06-04T15:06:17.325207",
     "exception": false,
     "start_time": "2025-06-04T15:06:17.319125",
     "status": "completed"
    },
    "tags": []
   },
   "source": [
    "# 2) Imports & setup"
   ]
  },
  {
   "cell_type": "code",
   "execution_count": null,
   "id": "69813b6d",
   "metadata": {
    "_cell_guid": "6d29c3aa-68d0-426a-8a0c-707287e20968",
    "_uuid": "883ffa15-b2fd-4f28-b7d9-17433e83e01f",
    "collapsed": false,
    "execution": {
     "iopub.execute_input": "2025-06-04T15:06:17.338876Z",
     "iopub.status.busy": "2025-06-04T15:06:17.338589Z",
     "iopub.status.idle": "2025-06-04T15:06:41.621609Z",
     "shell.execute_reply": "2025-06-04T15:06:41.620650Z"
    },
    "jupyter": {
     "outputs_hidden": false
    },
    "papermill": {
     "duration": 24.291565,
     "end_time": "2025-06-04T15:06:41.623046",
     "exception": false,
     "start_time": "2025-06-04T15:06:17.331481",
     "status": "completed"
    },
    "tags": []
   },
   "outputs": [],
   "source": [
    "import os\n",
    "import json\n",
    "import gc\n",
    "import re\n",
    "import numpy as np\n",
    "import pandas as pd\n",
    "import torch\n",
    "import joblib\n",
    "import matplotlib.pyplot as plt\n",
    "import xgboost as xgb\n",
    "from wordcloud import WordCloud\n",
    "from tqdm import tqdm\n",
    "\n",
    "from sklearn.model_selection import (\n",
    "    train_test_split,\n",
    "    StratifiedShuffleSplit,\n",
    "    cross_val_score\n",
    ")\n",
    "from sklearn.preprocessing import LabelEncoder\n",
    "\n",
    "from sklearn.experimental import enable_halving_search_cv  # noqa\n",
    "from sklearn.model_selection import HalvingRandomSearchCV\n",
    "from sklearn.feature_extraction.text import TfidfVectorizer\n",
    "from sklearn.metrics import (\n",
    "    accuracy_score,\n",
    "    f1_score,\n",
    "    confusion_matrix,\n",
    "    ConfusionMatrixDisplay,\n",
    "    classification_report\n",
    ")\n",
    "from sklearn.preprocessing import label_binarize\n",
    "from sklearn.manifold import TSNE\n",
    "from sklearn.decomposition import PCA\n",
    "from sklearn.utils.class_weight import compute_class_weight\n",
    "\n",
    "from transformers import (\n",
    "    DistilBertTokenizer,\n",
    "    DistilBertForSequenceClassification,\n",
    "    Trainer,\n",
    "    TrainingArguments,\n",
    "    EarlyStoppingCallback\n",
    ")\n",
    "from langdetect import detect\n",
    "\n",
    "# reproducibility\n",
    "RANDOM_SEED = 42\n",
    "np.random.seed(RANDOM_SEED)\n",
    "torch.manual_seed(RANDOM_SEED)\n",
    "\n",
    "# device\n",
    "device = torch.device(\"cuda\" if torch.cuda.is_available() else \"cpu\")\n",
    "print(\"Using device:\", device)"
   ]
  },
  {
   "cell_type": "markdown",
   "id": "18f69cb3",
   "metadata": {
    "_cell_guid": "62becf0b-8b4a-4a06-b65b-530a53df3c01",
    "_uuid": "a093262b-9512-4ee9-8808-7afea2aa38dc",
    "collapsed": false,
    "jupyter": {
     "outputs_hidden": false
    },
    "papermill": {
     "duration": 0.006099,
     "end_time": "2025-06-04T15:06:41.635903",
     "exception": false,
     "start_time": "2025-06-04T15:06:41.629804",
     "status": "completed"
    },
    "tags": []
   },
   "source": [
    "# 3) Config & Paths"
   ]
  },
  {
   "cell_type": "code",
   "execution_count": null,
   "id": "71dadbd8",
   "metadata": {
    "_cell_guid": "8c12ed22-085d-4c03-a454-23d8ea4d9eab",
    "_uuid": "64b70ad9-8cf0-4f68-b38d-8e5e25754ef7",
    "collapsed": false,
    "execution": {
     "iopub.execute_input": "2025-06-04T15:06:41.649525Z",
     "iopub.status.busy": "2025-06-04T15:06:41.649004Z",
     "iopub.status.idle": "2025-06-04T15:06:41.653094Z",
     "shell.execute_reply": "2025-06-04T15:06:41.652244Z"
    },
    "jupyter": {
     "outputs_hidden": false
    },
    "papermill": {
     "duration": 0.012173,
     "end_time": "2025-06-04T15:06:41.654331",
     "exception": false,
     "start_time": "2025-06-04T15:06:41.642158",
     "status": "completed"
    },
    "tags": []
   },
   "outputs": [],
   "source": [
    "file_path = \"C:/Users/indur/OneDrive - University of Westminster/GitHub/FYP_Project/Models/Review_Score/Dataset/correct_reviews_balanced.json\"\n",
    "Base = \"C:/Users/indur/OneDrive - University of Westminster/GitHub/FYP_Project/Models/Testing/Review_ScoreTest/ReviewBERT-XGB\"\n",
    "distilbert_dir = f\"{Base}/distilbert_model\"\n",
    "tfidf_path     = f\"{Base}/tfidf_vectorizer.pkl\"\n",
    "xgb_model_path = f\"{Base}/xgb_hybrid.pkl\"\n",
    "\n",
    "# model/data params\n",
    "NUM_LABELS     = 5      \n",
    "EMB_BATCH      = 32\n",
    "NUM_EPOCHS     = 20     # for demonstration; increase as needed\n",
    "TFIDF_MAX_FEAT = 10000"
   ]
  },
  {
   "cell_type": "markdown",
   "id": "64807bdb",
   "metadata": {
    "_cell_guid": "67aab959-f882-4c15-a827-0543027f38e5",
    "_uuid": "5a96fb14-d517-4a9f-83bf-ab3827052746",
    "collapsed": false,
    "jupyter": {
     "outputs_hidden": false
    },
    "papermill": {
     "duration": 0.006108,
     "end_time": "2025-06-04T15:06:41.666785",
     "exception": false,
     "start_time": "2025-06-04T15:06:41.660677",
     "status": "completed"
    },
    "tags": []
   },
   "source": [
    "# 4) Load & preprocess the entire JSON dataset"
   ]
  },
  {
   "cell_type": "code",
   "execution_count": null,
   "id": "b9cc8d2d",
   "metadata": {
    "_cell_guid": "53d9c976-60a1-4595-8cde-fc1108208065",
    "_uuid": "5cf6b207-8496-4fb1-b014-5e0854050c4b",
    "collapsed": false,
    "execution": {
     "iopub.execute_input": "2025-06-04T15:06:41.679823Z",
     "iopub.status.busy": "2025-06-04T15:06:41.679569Z",
     "iopub.status.idle": "2025-06-04T15:06:43.157493Z",
     "shell.execute_reply": "2025-06-04T15:06:43.156345Z"
    },
    "jupyter": {
     "outputs_hidden": false
    },
    "papermill": {
     "duration": 1.486608,
     "end_time": "2025-06-04T15:06:43.159539",
     "exception": false,
     "start_time": "2025-06-04T15:06:41.672931",
     "status": "completed"
    },
    "tags": []
   },
   "outputs": [],
   "source": [
    "# Load JSON\n",
    "with open(file_path, \"r\") as f:\n",
    "    payload = json.load(f)\n",
    "\n",
    "# Handle both possible structures:\n",
    "if isinstance(payload, dict):\n",
    "    shops = payload.get(\"root\", [])\n",
    "elif isinstance(payload, list):\n",
    "    shops = payload\n",
    "else:\n",
    "    raise ValueError(f\"Unexpected JSON structure: {type(payload)}\")\n",
    "\n",
    "# Flatten reviews\n",
    "records = []\n",
    "for shop in shops:\n",
    "    for rev in shop.get(\"reviews\", []):\n",
    "        text   = rev.get(\"text\", \"\").strip()\n",
    "        source = rev.get(\"source\", \"\").upper()\n",
    "        stars  = float(rev.get(\"rating\", \"0.0\").split()[0])\n",
    "        label  = int(stars) - 1\n",
    "        if not text:\n",
    "            continue\n",
    "        records.append({\n",
    "            \"text\": text,\n",
    "            \"label\": label,\n",
    "            \"source\": source\n",
    "        })\n",
    "\n",
    "df = pd.DataFrame(records)\n",
    "print(f\"Loaded total reviews: {len(df)}\")\n",
    "\n",
    "# Remove exact duplicates\n",
    "dups = df.duplicated(subset=[\"text\"]).sum()\n",
    "df.drop_duplicates(subset=[\"text\"], inplace=True)\n",
    "\n",
    "print(f\"Dropped {dups} duplicates -> {len(df)} remaining\")"
   ]
  },
  {
   "cell_type": "markdown",
   "id": "90a61d23",
   "metadata": {
    "_cell_guid": "6e103a62-2d5c-43c8-80d8-680929ab8df7",
    "_uuid": "18391420-685d-49a8-8914-3e0ad49747d6",
    "collapsed": false,
    "jupyter": {
     "outputs_hidden": false
    },
    "papermill": {
     "duration": 0.007095,
     "end_time": "2025-06-04T15:06:43.176667",
     "exception": false,
     "start_time": "2025-06-04T15:06:43.169572",
     "status": "completed"
    },
    "tags": []
   },
   "source": [
    "# 5) Filter non-English & low-quality reviews"
   ]
  },
  {
   "cell_type": "code",
   "execution_count": null,
   "id": "437fe3ce",
   "metadata": {
    "_cell_guid": "19727715-f7d4-4b16-b1aa-a9d051eb63d9",
    "_uuid": "3b4132dc-25c1-4342-87b0-cbc10a68518f",
    "collapsed": false,
    "execution": {
     "iopub.execute_input": "2025-06-04T15:06:43.192018Z",
     "iopub.status.busy": "2025-06-04T15:06:43.191724Z",
     "iopub.status.idle": "2025-06-04T15:13:24.031832Z",
     "shell.execute_reply": "2025-06-04T15:13:24.030862Z"
    },
    "jupyter": {
     "outputs_hidden": false
    },
    "papermill": {
     "duration": 400.856915,
     "end_time": "2025-06-04T15:13:24.040383",
     "exception": false,
     "start_time": "2025-06-04T15:06:43.183468",
     "status": "completed"
    },
    "tags": []
   },
   "outputs": [],
   "source": [
    "def is_english(text):\n",
    "    try:\n",
    "        return detect(text) == 'en'\n",
    "    except:\n",
    "        return False\n",
    "\n",
    "def is_valid_review(text):\n",
    "    return len(text.split()) >= 5 and bool(re.search(r'[A-Za-z0-9]', text))\n",
    "\n",
    "mask = df['text'].apply(is_english) & df['text'].apply(is_valid_review)\n",
    "df = df[mask].reset_index(drop=True)\n",
    "print(f\"After filtering: {len(df)} reviews\")\n",
    "\n",
    "# Show label distribution\n",
    "print(\"Label distribution:\")\n",
    "print(df[\"label\"].value_counts().sort_index())\n",
    "\n",
    "# Count SL vs USA reviews\n",
    "counts = df['source'].value_counts()\n",
    "sl_count  = counts.get('SL', 0)\n",
    "usa_count = counts.get('USA', 0)\n",
    "print(f\"SL reviews:  {sl_count}\")\n",
    "print(f\"USA reviews: {usa_count}\")"
   ]
  },
  {
   "cell_type": "markdown",
   "id": "f9c21d25",
   "metadata": {
    "_cell_guid": "c6aeccf3-22b6-4860-8581-731c4dbb5bdf",
    "_uuid": "32317b77-7baf-4f39-9c78-a00b8b1921dd",
    "collapsed": false,
    "jupyter": {
     "outputs_hidden": false
    },
    "papermill": {
     "duration": 0.006688,
     "end_time": "2025-06-04T15:13:24.054025",
     "exception": false,
     "start_time": "2025-06-04T15:13:24.047337",
     "status": "completed"
    },
    "tags": []
   },
   "source": [
    "# 6) Set optimal BERT_MAX_LEN (95th percentile)"
   ]
  },
  {
   "cell_type": "code",
   "execution_count": null,
   "id": "3dcf2a44",
   "metadata": {
    "_cell_guid": "1f8106f7-83f9-44a8-b596-e115529c1f45",
    "_uuid": "76541653-ff1f-4435-97ed-3f00053f4889",
    "collapsed": false,
    "execution": {
     "iopub.execute_input": "2025-06-04T15:13:24.067655Z",
     "iopub.status.busy": "2025-06-04T15:13:24.067397Z",
     "iopub.status.idle": "2025-06-04T15:14:26.375714Z",
     "shell.execute_reply": "2025-06-04T15:14:26.374707Z"
    },
    "jupyter": {
     "outputs_hidden": false
    },
    "papermill": {
     "duration": 62.316745,
     "end_time": "2025-06-04T15:14:26.377150",
     "exception": false,
     "start_time": "2025-06-04T15:13:24.060405",
     "status": "completed"
    },
    "tags": []
   },
   "outputs": [],
   "source": [
    "tokenizer = DistilBertTokenizer.from_pretrained(\"distilbert-base-uncased\")\n",
    "lengths = [\n",
    "    len(tokenizer.encode(t, add_special_tokens=True))\n",
    "    for t in tqdm(df[\"text\"], desc=\"Token lengths\")\n",
    "]\n",
    "BERT_MAX_LEN = min(512, int(np.percentile(lengths, 95)))\n",
    "print(f\"Set BERT_MAX_LEN = {BERT_MAX_LEN}\")"
   ]
  },
  {
   "cell_type": "markdown",
   "id": "07a9f575",
   "metadata": {
    "_cell_guid": "33117a4b-580c-44e2-b54e-cb2ba13a399b",
    "_uuid": "126440b8-a73d-4b2e-b149-b32919ba8741",
    "collapsed": false,
    "jupyter": {
     "outputs_hidden": false
    },
    "papermill": {
     "duration": 0.030959,
     "end_time": "2025-06-04T15:14:26.439742",
     "exception": false,
     "start_time": "2025-06-04T15:14:26.408783",
     "status": "completed"
    },
    "tags": []
   },
   "source": [
    "# 7) Stratified Train/Test split"
   ]
  },
  {
   "cell_type": "code",
   "execution_count": null,
   "id": "9ee0c879",
   "metadata": {
    "_cell_guid": "5e1b2f9a-59ae-44c3-8d8d-7f7c5ff4c11c",
    "_uuid": "8fd7fb11-6d9c-44e1-8a08-c74b17b4a3f3",
    "collapsed": false,
    "execution": {
     "iopub.execute_input": "2025-06-04T15:14:26.503188Z",
     "iopub.status.busy": "2025-06-04T15:14:26.502859Z",
     "iopub.status.idle": "2025-06-04T15:14:26.928844Z",
     "shell.execute_reply": "2025-06-04T15:14:26.927984Z"
    },
    "jupyter": {
     "outputs_hidden": false
    },
    "papermill": {
     "duration": 0.459055,
     "end_time": "2025-06-04T15:14:26.930358",
     "exception": false,
     "start_time": "2025-06-04T15:14:26.471303",
     "status": "completed"
    },
    "tags": []
   },
   "outputs": [],
   "source": [
    "# Split dataframe while preserving stratification\n",
    "df_train, df_test = train_test_split(df, test_size=0.2, random_state=RANDOM_SEED, stratify=df[\"label\"])\n",
    "\n",
    "# Extract text, labels, and sources\n",
    "train_texts = df_train[\"text\"].tolist()\n",
    "train_labels = df_train[\"label\"].tolist()\n",
    "train_sources = df_train[\"source\"].tolist()\n",
    "\n",
    "test_texts = df_test[\"text\"].tolist()\n",
    "test_labels = df_test[\"label\"].tolist()\n",
    "test_sources = df_test[\"source\"].tolist()\n",
    "\n",
    "print(f\"Train: {len(train_texts)}   Test: {len(test_texts)}\")\n",
    "\n",
    "# Free memory\n",
    "del df\n",
    "gc.collect()"
   ]
  },
  {
   "cell_type": "markdown",
   "id": "39145a76",
   "metadata": {
    "_cell_guid": "2a29dd7b-a3b5-4c3c-bc08-b92fd8a841cb",
    "_uuid": "ee0b1e94-8c78-4e34-9f0e-4d50911e1940",
    "collapsed": false,
    "jupyter": {
     "outputs_hidden": false
    },
    "papermill": {
     "duration": 0.031133,
     "end_time": "2025-06-04T15:14:26.993555",
     "exception": false,
     "start_time": "2025-06-04T15:14:26.962422",
     "status": "completed"
    },
    "tags": []
   },
   "source": [
    "# 8) Tokenization helper"
   ]
  },
  {
   "cell_type": "code",
   "execution_count": null,
   "id": "ee467a8b",
   "metadata": {
    "_cell_guid": "4d702b16-2d8a-47a2-ad06-eacae0257f47",
    "_uuid": "9db81be2-17d0-40e2-84d5-960e046bc07e",
    "collapsed": false,
    "execution": {
     "iopub.execute_input": "2025-06-04T15:14:27.055962Z",
     "iopub.status.busy": "2025-06-04T15:14:27.055685Z",
     "iopub.status.idle": "2025-06-04T15:14:27.059777Z",
     "shell.execute_reply": "2025-06-04T15:14:27.059197Z"
    },
    "jupyter": {
     "outputs_hidden": false
    },
    "papermill": {
     "duration": 0.036954,
     "end_time": "2025-06-04T15:14:27.061112",
     "exception": false,
     "start_time": "2025-06-04T15:14:27.024158",
     "status": "completed"
    },
    "tags": []
   },
   "outputs": [],
   "source": [
    "def batch_tokenize(texts, tokenizer, max_length, batch_size=10000):\n",
    "    ids, masks = [], []\n",
    "    for i in tqdm(range(0, len(texts), batch_size), desc=\"Tokenizing\"):\n",
    "        enc = tokenizer(\n",
    "            texts[i:i+batch_size],\n",
    "            truncation=True,\n",
    "            padding=\"max_length\",\n",
    "            max_length=max_length,\n",
    "            return_attention_mask=True\n",
    "        )\n",
    "        ids.extend(enc[\"input_ids\"])\n",
    "        masks.extend(enc[\"attention_mask\"])\n",
    "    return {\"input_ids\": ids, \"attention_mask\": masks}"
   ]
  },
  {
   "cell_type": "markdown",
   "id": "5ca07616",
   "metadata": {
    "_cell_guid": "9b829a1d-59fb-4c0f-b710-8f4294c5c73b",
    "_uuid": "5e576f17-bbb1-4962-8da3-c5d7ea980806",
    "collapsed": false,
    "jupyter": {
     "outputs_hidden": false
    },
    "papermill": {
     "duration": 0.030591,
     "end_time": "2025-06-04T15:14:27.122625",
     "exception": false,
     "start_time": "2025-06-04T15:14:27.092034",
     "status": "completed"
    },
    "tags": []
   },
   "source": [
    "# 9) Tokenize all texts"
   ]
  },
  {
   "cell_type": "code",
   "execution_count": null,
   "id": "ec0b7897",
   "metadata": {
    "_cell_guid": "bc455fdb-20ca-4378-bcf9-3f0f7a41b780",
    "_uuid": "cbb9c5e0-8d4d-4883-b0bd-56b1010014b9",
    "collapsed": false,
    "execution": {
     "iopub.execute_input": "2025-06-04T15:14:27.185244Z",
     "iopub.status.busy": "2025-06-04T15:14:27.185034Z",
     "iopub.status.idle": "2025-06-04T15:15:25.203583Z",
     "shell.execute_reply": "2025-06-04T15:15:25.202443Z"
    },
    "jupyter": {
     "outputs_hidden": false
    },
    "papermill": {
     "duration": 58.051726,
     "end_time": "2025-06-04T15:15:25.205192",
     "exception": false,
     "start_time": "2025-06-04T15:14:27.153466",
     "status": "completed"
    },
    "tags": []
   },
   "outputs": [],
   "source": [
    "train_enc = batch_tokenize(train_texts, tokenizer, BERT_MAX_LEN)\n",
    "test_enc  = batch_tokenize(test_texts,  tokenizer, BERT_MAX_LEN)\n",
    "print(\"Tokenization complete\")"
   ]
  },
  {
   "cell_type": "markdown",
   "id": "155ecb47",
   "metadata": {
    "_cell_guid": "fcfe2bad-6da8-4732-9df2-a6a067303724",
    "_uuid": "58e06630-a6eb-4bab-bbd3-67802e39f2ab",
    "collapsed": false,
    "jupyter": {
     "outputs_hidden": false
    },
    "papermill": {
     "duration": 0.072379,
     "end_time": "2025-06-04T15:15:25.312267",
     "exception": false,
     "start_time": "2025-06-04T15:15:25.239888",
     "status": "completed"
    },
    "tags": []
   },
   "source": [
    "# 10) Build PyTorch datasets"
   ]
  },
  {
   "cell_type": "code",
   "execution_count": null,
   "id": "743202f6",
   "metadata": {
    "_cell_guid": "6469ca2c-1e99-4ebb-b037-63ee2037b5cf",
    "_uuid": "9a82ff01-60fd-4273-8558-8ac23267806a",
    "collapsed": false,
    "execution": {
     "iopub.execute_input": "2025-06-04T15:15:25.377006Z",
     "iopub.status.busy": "2025-06-04T15:15:25.376632Z",
     "iopub.status.idle": "2025-06-04T15:15:28.764214Z",
     "shell.execute_reply": "2025-06-04T15:15:28.763480Z"
    },
    "jupyter": {
     "outputs_hidden": false
    },
    "papermill": {
     "duration": 3.421352,
     "end_time": "2025-06-04T15:15:28.765669",
     "exception": false,
     "start_time": "2025-06-04T15:15:25.344317",
     "status": "completed"
    },
    "tags": []
   },
   "outputs": [],
   "source": [
    "class ReviewDataset(torch.utils.data.Dataset):\n",
    "    def __init__(self, enc, labels):\n",
    "        self.ids    = torch.tensor(enc[\"input_ids\"])\n",
    "        self.mask   = torch.tensor(enc[\"attention_mask\"])\n",
    "        self.labels = torch.tensor(labels)\n",
    "\n",
    "    def __len__(self):\n",
    "        return len(self.labels)\n",
    "\n",
    "    def __getitem__(self, idx):\n",
    "        return {\n",
    "            \"input_ids\":      self.ids[idx],\n",
    "            \"attention_mask\": self.mask[idx],\n",
    "            \"labels\":         self.labels[idx]\n",
    "        }\n",
    "\n",
    "train_ds = ReviewDataset(train_enc, train_labels)\n",
    "test_ds  = ReviewDataset(test_enc,  test_labels)\n",
    "\n",
    "del train_enc, test_enc\n",
    "gc.collect()"
   ]
  },
  {
   "cell_type": "markdown",
   "id": "1520f098",
   "metadata": {
    "_cell_guid": "9163b194-80b5-428e-ad14-5749848f0624",
    "_uuid": "ce783840-9bc5-47eb-b019-f33d48de9fa9",
    "collapsed": false,
    "jupyter": {
     "outputs_hidden": false
    },
    "papermill": {
     "duration": 0.03142,
     "end_time": "2025-06-04T15:15:28.830141",
     "exception": false,
     "start_time": "2025-06-04T15:15:28.798721",
     "status": "completed"
    },
    "tags": []
   },
   "source": [
    "# 11) Fine-tune DistilBERT with Early Stopping (patience=3)"
   ]
  },
  {
   "cell_type": "code",
   "execution_count": null,
   "id": "f4b63c20",
   "metadata": {
    "_cell_guid": "e8951b00-a90c-4eb7-bc64-2aaf659f7a18",
    "_uuid": "8cf699f3-835c-40af-8482-c185e5107667",
    "collapsed": false,
    "execution": {
     "iopub.execute_input": "2025-06-04T15:15:28.894590Z",
     "iopub.status.busy": "2025-06-04T15:15:28.894359Z",
     "iopub.status.idle": "2025-06-04T16:17:12.031433Z",
     "shell.execute_reply": "2025-06-04T16:17:12.030396Z"
    },
    "jupyter": {
     "outputs_hidden": false
    },
    "papermill": {
     "duration": 3703.171435,
     "end_time": "2025-06-04T16:17:12.033015",
     "exception": false,
     "start_time": "2025-06-04T15:15:28.861580",
     "status": "completed"
    },
    "tags": []
   },
   "outputs": [],
   "source": [
    "model = DistilBertForSequenceClassification.from_pretrained(\n",
    "    \"distilbert-base-uncased\",\n",
    "    num_labels=NUM_LABELS\n",
    ").to(device)\n",
    "\n",
    "training_args = TrainingArguments(\n",
    "    output_dir=distilbert_dir,\n",
    "    learning_rate=5e-5,\n",
    "    num_train_epochs=NUM_EPOCHS,\n",
    "    per_device_train_batch_size=8,\n",
    "    per_device_eval_batch_size=8,\n",
    "    evaluation_strategy=\"epoch\",\n",
    "    save_strategy=\"epoch\",\n",
    "    load_best_model_at_end=True,\n",
    "    metric_for_best_model=\"eval_f1\",\n",
    "    greater_is_better=True,\n",
    "    seed=RANDOM_SEED,\n",
    "    logging_steps=50,\n",
    "    report_to=[]\n",
    ")\n",
    "\n",
    "def compute_metrics(p):\n",
    "    preds = np.argmax(p.predictions, axis=1)\n",
    "    return {\n",
    "        \"accuracy\": accuracy_score(p.label_ids, preds),\n",
    "        \"f1\":       f1_score(p.label_ids, preds, average=\"weighted\")\n",
    "    }\n",
    "\n",
    "trainer = Trainer(\n",
    "    model=model,\n",
    "    args=training_args,\n",
    "    train_dataset=train_ds,\n",
    "    eval_dataset=test_ds,\n",
    "    compute_metrics=compute_metrics,\n",
    "    callbacks=[EarlyStoppingCallback(early_stopping_patience=3)]\n",
    ")\n",
    "\n",
    "trainer.train()\n",
    "trainer.save_model(distilbert_dir)\n",
    "tokenizer.save_pretrained(distilbert_dir)\n",
    "print(\"BERT fine-tuning done\")"
   ]
  },
  {
   "cell_type": "markdown",
   "id": "f53d5b66",
   "metadata": {
    "_cell_guid": "c0038635-0ba9-4b4c-82be-0cfa0342fc02",
    "_uuid": "966879b0-64db-434c-8de9-9787a3d70078",
    "collapsed": false,
    "jupyter": {
     "outputs_hidden": false
    },
    "papermill": {
     "duration": 0.032293,
     "end_time": "2025-06-04T16:17:12.098897",
     "exception": false,
     "start_time": "2025-06-04T16:17:12.066604",
     "status": "completed"
    },
    "tags": []
   },
   "source": [
    "# 12) Extract CLS embeddings for every review"
   ]
  },
  {
   "cell_type": "code",
   "execution_count": null,
   "id": "42cd93a9",
   "metadata": {
    "_cell_guid": "6fc31dbe-6ab5-4d6a-8846-d336253817f0",
    "_uuid": "623b4697-311a-4d1c-bbbe-cfb53738e34a",
    "collapsed": false,
    "execution": {
     "iopub.execute_input": "2025-06-04T16:17:12.166296Z",
     "iopub.status.busy": "2025-06-04T16:17:12.166047Z",
     "iopub.status.idle": "2025-06-04T16:22:02.523306Z",
     "shell.execute_reply": "2025-06-04T16:22:02.522289Z"
    },
    "jupyter": {
     "outputs_hidden": false
    },
    "papermill": {
     "duration": 290.392281,
     "end_time": "2025-06-04T16:22:02.524768",
     "exception": false,
     "start_time": "2025-06-04T16:17:12.132487",
     "status": "completed"
    },
    "tags": []
   },
   "outputs": [],
   "source": [
    "model = DistilBertForSequenceClassification.from_pretrained(distilbert_dir).to(device)\n",
    "model.eval()\n",
    "\n",
    "def get_cls_embeddings(texts):\n",
    "    embs = []\n",
    "    for i in tqdm(range(0, len(texts), EMB_BATCH), desc=\"Embedding\"):\n",
    "        toks = tokenizer(\n",
    "            texts[i:i+EMB_BATCH],\n",
    "            truncation=True,\n",
    "            padding=\"max_length\",\n",
    "            max_length=BERT_MAX_LEN,\n",
    "            return_tensors=\"pt\"\n",
    "        ).to(device)\n",
    "        with torch.no_grad():\n",
    "            out = model(**toks, output_hidden_states=True, return_dict=True)\n",
    "            cls = out.hidden_states[-1][:,0,:].cpu().numpy()\n",
    "        embs.append(cls)\n",
    "    return np.vstack(embs)\n",
    "\n",
    "train_emb = get_cls_embeddings(train_texts)\n",
    "test_emb  = get_cls_embeddings(test_texts)\n",
    "print(\"Embeddings shapes:\", train_emb.shape, test_emb.shape)"
   ]
  },
  {
   "cell_type": "markdown",
   "id": "df9e4a26",
   "metadata": {
    "_cell_guid": "2a91645a-5b77-44a1-9527-43724682a326",
    "_uuid": "57a5c2ad-db9c-4619-80a4-5eddaf8ca5ab",
    "collapsed": false,
    "jupyter": {
     "outputs_hidden": false
    },
    "papermill": {
     "duration": 0.140983,
     "end_time": "2025-06-04T16:22:02.813030",
     "exception": false,
     "start_time": "2025-06-04T16:22:02.672047",
     "status": "completed"
    },
    "tags": []
   },
   "source": [
    "# 13) TF-IDF vectors with enhanced config"
   ]
  },
  {
   "cell_type": "code",
   "execution_count": null,
   "id": "901a6d57",
   "metadata": {
    "_cell_guid": "c48d62bc-3241-4b82-a6f3-2a221ec38fa0",
    "_uuid": "bf4f2a1f-ae42-4369-bf28-72f4ff27b91b",
    "collapsed": false,
    "execution": {
     "iopub.execute_input": "2025-06-04T16:22:03.145033Z",
     "iopub.status.busy": "2025-06-04T16:22:03.144686Z",
     "iopub.status.idle": "2025-06-04T16:22:13.206648Z",
     "shell.execute_reply": "2025-06-04T16:22:13.205620Z"
    },
    "jupyter": {
     "outputs_hidden": false
    },
    "papermill": {
     "duration": 10.206246,
     "end_time": "2025-06-04T16:22:13.208126",
     "exception": false,
     "start_time": "2025-06-04T16:22:03.001880",
     "status": "completed"
    },
    "tags": []
   },
   "outputs": [],
   "source": [
    "vectorizer = TfidfVectorizer(\n",
    "    max_features=TFIDF_MAX_FEAT,\n",
    "    stop_words='english',\n",
    "    lowercase=True,\n",
    "    ngram_range=(1,2)  # Include bigrams\n",
    ")\n",
    "X_train_tfidf = vectorizer.fit_transform(train_texts).toarray()\n",
    "X_test_tfidf = vectorizer.transform(test_texts).toarray()\n",
    "joblib.dump(vectorizer, tfidf_path)\n",
    "print(\"TF-IDF shapes:\", X_train_tfidf.shape, X_test_tfidf.shape)\n",
    "\n",
    "# Encode sources\n",
    "le = LabelEncoder()\n",
    "le.fit([\"SL\", \"USA\"])  # Assuming only these two sources\n",
    "\n",
    "train_sources_encoded = le.transform(train_sources).reshape(-1, 1)\n",
    "test_sources_encoded = le.transform(test_sources).reshape(-1, 1)"
   ]
  },
  {
   "cell_type": "markdown",
   "id": "88e5ac89",
   "metadata": {
    "_cell_guid": "b9cfae47-aef9-4341-aaa7-cdc1480b104c",
    "_uuid": "9181f8c3-6086-4459-a99c-94c4e0b5fd3e",
    "collapsed": false,
    "jupyter": {
     "outputs_hidden": false
    },
    "papermill": {
     "duration": 0.142375,
     "end_time": "2025-06-04T16:22:13.495520",
     "exception": false,
     "start_time": "2025-06-04T16:22:13.353145",
     "status": "completed"
    },
    "tags": []
   },
   "source": [
    "# 14) Combine features and apply PCA"
   ]
  },
  {
   "cell_type": "code",
   "execution_count": null,
   "id": "86baebcb",
   "metadata": {
    "_cell_guid": "2d126e8b-d9ec-4317-aeb6-5e8978f8ace2",
    "_uuid": "4b6157b5-ecf7-4147-b731-c6c5260faacf",
    "collapsed": false,
    "execution": {
     "iopub.execute_input": "2025-06-04T16:22:13.779701Z",
     "iopub.status.busy": "2025-06-04T16:22:13.779393Z",
     "iopub.status.idle": "2025-06-04T16:25:49.864154Z",
     "shell.execute_reply": "2025-06-04T16:25:49.863158Z"
    },
    "jupyter": {
     "outputs_hidden": false
    },
    "papermill": {
     "duration": 216.370406,
     "end_time": "2025-06-04T16:25:50.009984",
     "exception": false,
     "start_time": "2025-06-04T16:22:13.639578",
     "status": "completed"
    },
    "tags": []
   },
   "outputs": [],
   "source": [
    "X_train = np.hstack([train_emb, X_train_tfidf, train_sources_encoded])\n",
    "X_test = np.hstack([test_emb, X_test_tfidf, test_sources_encoded])\n",
    "print(\"Combined dims before PCA:\", X_train.shape, X_test.shape)\n",
    "\n",
    "pca = PCA(n_components=1000, random_state=RANDOM_SEED)\n",
    "X_train = pca.fit_transform(X_train)\n",
    "X_test = pca.transform(X_test)\n",
    "print(\"Dims after PCA:\", X_train.shape, X_test.shape)\n",
    "\n",
    "y_train = np.array(train_labels)\n",
    "y_test = np.array(test_labels)"
   ]
  },
  {
   "cell_type": "markdown",
   "id": "bfac1bd2",
   "metadata": {
    "_cell_guid": "c32141da-6b07-4a3b-826f-398a080eb53a",
    "_uuid": "e4ff1483-dd41-4dc0-996a-fa609d840d74",
    "collapsed": false,
    "jupyter": {
     "outputs_hidden": false
    },
    "papermill": {
     "duration": 0.140712,
     "end_time": "2025-06-04T16:25:50.291553",
     "exception": false,
     "start_time": "2025-06-04T16:25:50.150841",
     "status": "completed"
    },
    "tags": []
   },
   "source": [
    "# 15) Compute sample weights for class imbalance"
   ]
  },
  {
   "cell_type": "code",
   "execution_count": null,
   "id": "e55cecfd",
   "metadata": {
    "_cell_guid": "bb33a811-82a8-49bf-8fe4-a87dd010208c",
    "_uuid": "0416ebb4-0ed8-4125-bc91-1d46b81e2176",
    "collapsed": false,
    "execution": {
     "iopub.execute_input": "2025-06-04T16:25:50.578092Z",
     "iopub.status.busy": "2025-06-04T16:25:50.577764Z",
     "iopub.status.idle": "2025-06-04T16:25:50.604174Z",
     "shell.execute_reply": "2025-06-04T16:25:50.603319Z"
    },
    "jupyter": {
     "outputs_hidden": false
    },
    "papermill": {
     "duration": 0.170268,
     "end_time": "2025-06-04T16:25:50.605508",
     "exception": false,
     "start_time": "2025-06-04T16:25:50.435240",
     "status": "completed"
    },
    "tags": []
   },
   "outputs": [],
   "source": [
    "classes = np.unique(y_train)\n",
    "class_weights = compute_class_weight('balanced', classes=classes, y=y_train)\n",
    "# Increase weight for Class 2 (label 1, corresponding to 3 stars)\n",
    "class_weights[1] *= 3\n",
    "sample_weights = np.array([class_weights[l] for l in y_train])"
   ]
  },
  {
   "cell_type": "markdown",
   "id": "60341e3e",
   "metadata": {
    "_cell_guid": "8e0de8b4-3e89-4a0b-a921-788d12f7f950",
    "_uuid": "cf353d4a-f812-42a0-8567-5a2443d140ca",
    "collapsed": false,
    "jupyter": {
     "outputs_hidden": false
    },
    "papermill": {
     "duration": 0.14222,
     "end_time": "2025-06-04T16:25:50.936879",
     "exception": false,
     "start_time": "2025-06-04T16:25:50.794659",
     "status": "completed"
    },
    "tags": []
   },
   "source": [
    "# 16) Subsample 20% for hyperparameter search & perform Successive Halving"
   ]
  },
  {
   "cell_type": "code",
   "execution_count": null,
   "id": "7076bbd8",
   "metadata": {
    "_cell_guid": "b64f3798-a10a-4bc9-abc1-2c3899688445",
    "_uuid": "db911dc1-5f85-4aa7-a572-5ba46f457198",
    "collapsed": false,
    "execution": {
     "iopub.execute_input": "2025-06-04T16:25:51.221685Z",
     "iopub.status.busy": "2025-06-04T16:25:51.221383Z",
     "iopub.status.idle": "2025-06-04T16:27:53.042436Z",
     "shell.execute_reply": "2025-06-04T16:27:53.041272Z"
    },
    "jupyter": {
     "outputs_hidden": false
    },
    "papermill": {
     "duration": 122.113693,
     "end_time": "2025-06-04T16:27:53.192490",
     "exception": false,
     "start_time": "2025-06-04T16:25:51.078797",
     "status": "completed"
    },
    "tags": []
   },
   "outputs": [],
   "source": [
    "sss = StratifiedShuffleSplit(n_splits=1, train_size=0.2, random_state=RANDOM_SEED)\n",
    "sub_idx, _ = next(sss.split(X_train, y_train))\n",
    "X_small = X_train[sub_idx]\n",
    "y_small = y_train[sub_idx]\n",
    "sw_small = sample_weights[sub_idx]\n",
    "\n",
    "print(f\"Full-train subsample: X_small shape = {X_small.shape}, y_small shape = {y_small.shape}\")\n",
    "\n",
    "# Split X_small into subtrain and validation\n",
    "X_subtrain, X_val, y_subtrain, y_val, sw_subtrain, sw_val = train_test_split(\n",
    "    X_small,\n",
    "    y_small,\n",
    "    sw_small,\n",
    "    test_size=0.2,\n",
    "    stratify=y_small,\n",
    "    random_state=RANDOM_SEED\n",
    ")\n",
    "\n",
    "print(f\"X_subtrain: {X_subtrain.shape}, y_subtrain: {y_subtrain.shape}\")\n",
    "print(f\"X_val: {X_val.shape}, y_val: {y_val.shape}\")\n",
    "\n",
    "# Define base XGBClassifier\n",
    "xgb_clf = xgb.XGBClassifier(\n",
    "    objective=\"multi:softprob\",\n",
    "    num_class=NUM_LABELS,\n",
    "    seed=RANDOM_SEED,\n",
    "    use_label_encoder=False,\n",
    "    eval_metric=\"mlogloss\",\n",
    "    tree_method=\"hist\",\n",
    "    device=\"cuda\"\n",
    ")\n",
    "\n",
    "# Hyperparameter grid\n",
    "param_grid = {\n",
    "    \"learning_rate\": [0.01, 0.05, 0.1],\n",
    "    \"max_depth\": [3, 5, 7],\n",
    "    \"subsample\": [0.6, 0.8, 1.0],\n",
    "    \"colsample_bytree\": [0.6, 0.8, 1.0]\n",
    "}\n",
    "\n",
    "# Set up HalvingRandomSearchCV\n",
    "halving_search = HalvingRandomSearchCV(\n",
    "    estimator=xgb_clf,\n",
    "    param_distributions=param_grid,\n",
    "    n_candidates=\"exhaust\",\n",
    "    factor=3,\n",
    "    resource=\"n_estimators\",\n",
    "    min_resources=50,\n",
    "    max_resources=200,\n",
    "    cv=3,\n",
    "    scoring='f1_weighted',  # Optimize for weighted F1-score\n",
    "    random_state=RANDOM_SEED,\n",
    "    n_jobs=-1,\n",
    "    verbose=2\n",
    ")\n",
    "\n",
    "print(\"\\nStarting HalvingRandomSearchCV on 20% subset …\")\n",
    "halving_search.fit(\n",
    "    X_subtrain,\n",
    "    y_subtrain,\n",
    "    sample_weight=sw_subtrain,\n",
    "    eval_set=[(X_val, y_val)],\n",
    "    verbose=False\n",
    ")\n",
    "\n",
    "best_params = halving_search.best_params_\n",
    "print(\"\\nSubset Best Params:\", best_params)"
   ]
  },
  {
   "cell_type": "markdown",
   "id": "b3e6fb48",
   "metadata": {
    "_cell_guid": "30d81715-9feb-4e30-8643-5be0211efd68",
    "_uuid": "f6f51511-58ba-4572-a1de-38c73ad9f40a",
    "collapsed": false,
    "jupyter": {
     "outputs_hidden": false
    },
    "papermill": {
     "duration": 0.14238,
     "end_time": "2025-06-04T16:27:53.479332",
     "exception": false,
     "start_time": "2025-06-04T16:27:53.336952",
     "status": "completed"
    },
    "tags": []
   },
   "source": [
    "# 17) Retrain best XGB model on 100% of data & save"
   ]
  },
  {
   "cell_type": "code",
   "execution_count": null,
   "id": "e9f73cba",
   "metadata": {
    "_cell_guid": "060453fe-d18e-421a-9cb9-f2c1f6c69aa5",
    "_uuid": "725f0b7f-2c7f-4d80-adc4-87d3094c6a2c",
    "collapsed": false,
    "execution": {
     "iopub.execute_input": "2025-06-04T16:27:53.823358Z",
     "iopub.status.busy": "2025-06-04T16:27:53.822977Z",
     "iopub.status.idle": "2025-06-04T16:28:16.229554Z",
     "shell.execute_reply": "2025-06-04T16:28:16.228516Z"
    },
    "jupyter": {
     "outputs_hidden": false
    },
    "papermill": {
     "duration": 22.610447,
     "end_time": "2025-06-04T16:28:16.231054",
     "exception": false,
     "start_time": "2025-06-04T16:27:53.620607",
     "status": "completed"
    },
    "tags": []
   },
   "outputs": [],
   "source": [
    "\n",
    "best_xgb = xgb.XGBClassifier(\n",
    "    **best_params,\n",
    "    objective=\"multi:softprob\",\n",
    "    num_class=NUM_LABELS,\n",
    "    seed=RANDOM_SEED,\n",
    "    use_label_encoder=False,\n",
    "    eval_metric=\"mlogloss\",\n",
    "    tree_method=\"hist\",\n",
    "    device=\"cuda\"\n",
    ")\n",
    "\n",
    "# Split X_train into training and validation sets for early stopping, \n",
    "X_train_final, X_val_final, y_train_final, y_val_final, sw_train_final, sw_val_final = train_test_split(\n",
    "    X_train, y_train, sample_weights,\n",
    "    test_size=0.1,\n",
    "    random_state=RANDOM_SEED,\n",
    "    stratify=y_train\n",
    ")\n",
    "\n",
    "# Train with early stopping\n",
    "print(\"Retraining best model on training subset with early stopping…\")\n",
    "best_xgb.fit(\n",
    "    X_train_final,\n",
    "    y_train_final,\n",
    "    sample_weight=sw_train_final,\n",
    "    eval_set=[(X_val_final, y_val_final)],\n",
    "    early_stopping_rounds=10,\n",
    "    verbose=True\n",
    ")\n",
    "\n",
    "# Save the model\n",
    "joblib.dump(best_xgb, xgb_model_path)\n",
    "print(\"XGB model saved with best subset params.\")"
   ]
  },
  {
   "cell_type": "markdown",
   "id": "70b641ab",
   "metadata": {
    "_cell_guid": "4c2246df-4adb-4242-bd3d-791d8f29604f",
    "_uuid": "f1c48ec9-52ee-4c0d-aab6-9b46f27689d8",
    "collapsed": false,
    "jupyter": {
     "outputs_hidden": false
    },
    "papermill": {
     "duration": 0.151575,
     "end_time": "2025-06-04T16:28:16.537583",
     "exception": false,
     "start_time": "2025-06-04T16:28:16.386008",
     "status": "completed"
    },
    "tags": []
   },
   "source": [
    "# 18) Evaluate & classification report"
   ]
  },
  {
   "cell_type": "code",
   "execution_count": null,
   "id": "fcf42f68",
   "metadata": {
    "_cell_guid": "b5f1d8f4-3012-41ac-885e-533f75585762",
    "_uuid": "edb6d388-8dc7-4b02-a01b-fd7dfad86879",
    "collapsed": false,
    "execution": {
     "iopub.execute_input": "2025-06-04T16:28:16.837646Z",
     "iopub.status.busy": "2025-06-04T16:28:16.837359Z",
     "iopub.status.idle": "2025-06-04T16:30:07.272433Z",
     "shell.execute_reply": "2025-06-04T16:30:07.270867Z"
    },
    "jupyter": {
     "outputs_hidden": false
    },
    "papermill": {
     "duration": 110.588323,
     "end_time": "2025-06-04T16:30:07.274210",
     "exception": false,
     "start_time": "2025-06-04T16:28:16.685887",
     "status": "completed"
    },
    "tags": []
   },
   "outputs": [],
   "source": [
    "# 18) Evaluate & classification report\n",
    "\n",
    "y_pred = best_xgb.predict(X_test)\n",
    "acc = accuracy_score(y_test, y_pred)\n",
    "f1  = f1_score(y_test, y_pred, average=\"weighted\")\n",
    "print(f\"Accuracy: {acc:.4f}   F1: {f1:.4f}\\n\")\n",
    "print(\"Classification Report:\")\n",
    "print(classification_report(y_test, y_pred, target_names=[f\"{i+1}\" for i in range(NUM_LABELS)]))\n",
    "\n",
    "# 5-fold cross-validation on training set:\n",
    "# Create a separate XGB classifier for CV\n",
    "print(\"Performing 5-fold cross-validation\")\n",
    "cv_scores = cross_val_score(best_xgb, X_train, y_train, cv=5, scoring='accuracy', n_jobs=-1)\n",
    "print(f\"CV Accuracy: {cv_scores.mean():.4f} + {cv_scores.std():.4f}\")"
   ]
  },
  {
   "cell_type": "markdown",
   "id": "c38d5442",
   "metadata": {
    "_cell_guid": "99349bc4-4163-4b9a-a165-d70ba627445d",
    "_uuid": "839f20ad-0c56-4379-b36b-13731af94189",
    "collapsed": false,
    "jupyter": {
     "outputs_hidden": false
    },
    "papermill": {
     "duration": 0.154584,
     "end_time": "2025-06-04T16:30:07.590576",
     "exception": false,
     "start_time": "2025-06-04T16:30:07.435992",
     "status": "completed"
    },
    "tags": []
   },
   "source": [
    "# 19) Confusion matrix"
   ]
  },
  {
   "cell_type": "code",
   "execution_count": null,
   "id": "753cc967",
   "metadata": {
    "_cell_guid": "7b08d784-702e-41a5-aed8-418b288abee4",
    "_uuid": "5515818a-357c-452c-a2ea-e7ebb0d4554d",
    "collapsed": false,
    "execution": {
     "iopub.execute_input": "2025-06-04T16:30:07.890280Z",
     "iopub.status.busy": "2025-06-04T16:30:07.889876Z",
     "iopub.status.idle": "2025-06-04T16:30:08.194332Z",
     "shell.execute_reply": "2025-06-04T16:30:08.193549Z"
    },
    "jupyter": {
     "outputs_hidden": false
    },
    "papermill": {
     "duration": 0.455259,
     "end_time": "2025-06-04T16:30:08.195719",
     "exception": false,
     "start_time": "2025-06-04T16:30:07.740460",
     "status": "completed"
    },
    "tags": []
   },
   "outputs": [],
   "source": [
    "# Generate confusion matrix\n",
    "cm = confusion_matrix(y_test, y_pred)\n",
    "disp = ConfusionMatrixDisplay(cm, display_labels=[f\"{i+1}\" for i in range(NUM_LABELS)])\n",
    "disp.plot(cmap=plt.cm.Blues, xticks_rotation=\"vertical\")\n",
    "plt.title(\"Confusion Matrix\")\n",
    "plt.tight_layout()\n",
    "plt.show()"
   ]
  }
 ],
 "metadata": {
  "kaggle": {
   "accelerator": "nvidiaTeslaT4",
   "dataSources": [
    {
     "datasetId": 7554306,
     "sourceId": 12051490,
     "sourceType": "datasetVersion"
    }
   ],
   "dockerImageVersionId": 30918,
   "isGpuEnabled": true,
   "isInternetEnabled": true,
   "language": "python",
   "sourceType": "notebook"
  },
  "kernelspec": {
   "display_name": "Python 3",
   "language": "python",
   "name": "python3"
  },
  "language_info": {
   "codemirror_mode": {
    "name": "ipython",
    "version": 3
   },
   "file_extension": ".py",
   "mimetype": "text/x-python",
   "name": "python",
   "nbconvert_exporter": "python",
   "pygments_lexer": "ipython3",
   "version": "3.13.1"
  },
  "papermill": {
   "default_parameters": {},
   "duration": 5767.202437,
   "end_time": "2025-06-04T16:42:15.220449",
   "environment_variables": {},
   "exception": null,
   "input_path": "__notebook__.ipynb",
   "output_path": "__notebook__.ipynb",
   "parameters": {},
   "start_time": "2025-06-04T15:06:08.018012",
   "version": "2.6.0"
  },
  "widgets": {
   "application/vnd.jupyter.widget-state+json": {
    "state": {
     "003cd5230d35402fa1f293947f6db88d": {
      "model_module": "@jupyter-widgets/controls",
      "model_module_version": "2.0.0",
      "model_name": "HTMLModel",
      "state": {
       "_dom_classes": [],
       "_model_module": "@jupyter-widgets/controls",
       "_model_module_version": "2.0.0",
       "_model_name": "HTMLModel",
       "_view_count": null,
       "_view_module": "@jupyter-widgets/controls",
       "_view_module_version": "2.0.0",
       "_view_name": "HTMLView",
       "description": "",
       "description_allow_html": false,
       "layout": "IPY_MODEL_efc60cf5a36f4e2abdfd08eb9cb58d1f",
       "placeholder": "​",
       "style": "IPY_MODEL_443deb55573c48dfb26e71f88da52a2c",
       "tabbable": null,
       "tooltip": null,
       "value": " 48.0/48.0 [00:00&lt;00:00, 4.24kB/s]"
      }
     },
     "02b12c77182842fb8daa0c6caca12f02": {
      "model_module": "@jupyter-widgets/controls",
      "model_module_version": "2.0.0",
      "model_name": "FloatProgressModel",
      "state": {
       "_dom_classes": [],
       "_model_module": "@jupyter-widgets/controls",
       "_model_module_version": "2.0.0",
       "_model_name": "FloatProgressModel",
       "_view_count": null,
       "_view_module": "@jupyter-widgets/controls",
       "_view_module_version": "2.0.0",
       "_view_name": "ProgressView",
       "bar_style": "success",
       "description": "",
       "description_allow_html": false,
       "layout": "IPY_MODEL_fc77170062464ec59821728677b91de7",
       "max": 267954768,
       "min": 0,
       "orientation": "horizontal",
       "style": "IPY_MODEL_a5bdad4948a243ccb7c2afff2f43fc94",
       "tabbable": null,
       "tooltip": null,
       "value": 267954768
      }
     },
     "0495dbe3984d41fb956d243343e7eb98": {
      "model_module": "@jupyter-widgets/controls",
      "model_module_version": "2.0.0",
      "model_name": "FloatProgressModel",
      "state": {
       "_dom_classes": [],
       "_model_module": "@jupyter-widgets/controls",
       "_model_module_version": "2.0.0",
       "_model_name": "FloatProgressModel",
       "_view_count": null,
       "_view_module": "@jupyter-widgets/controls",
       "_view_module_version": "2.0.0",
       "_view_name": "ProgressView",
       "bar_style": "success",
       "description": "",
       "description_allow_html": false,
       "layout": "IPY_MODEL_5a6e572d346240a7a2c4e29490292560",
       "max": 48,
       "min": 0,
       "orientation": "horizontal",
       "style": "IPY_MODEL_bd9270d426e748bdaa3a5df341686100",
       "tabbable": null,
       "tooltip": null,
       "value": 48
      }
     },
     "097d216c997a4d8e99d4ee4b080ab183": {
      "model_module": "@jupyter-widgets/base",
      "model_module_version": "2.0.0",
      "model_name": "LayoutModel",
      "state": {
       "_model_module": "@jupyter-widgets/base",
       "_model_module_version": "2.0.0",
       "_model_name": "LayoutModel",
       "_view_count": null,
       "_view_module": "@jupyter-widgets/base",
       "_view_module_version": "2.0.0",
       "_view_name": "LayoutView",
       "align_content": null,
       "align_items": null,
       "align_self": null,
       "border_bottom": null,
       "border_left": null,
       "border_right": null,
       "border_top": null,
       "bottom": null,
       "display": null,
       "flex": null,
       "flex_flow": null,
       "grid_area": null,
       "grid_auto_columns": null,
       "grid_auto_flow": null,
       "grid_auto_rows": null,
       "grid_column": null,
       "grid_gap": null,
       "grid_row": null,
       "grid_template_areas": null,
       "grid_template_columns": null,
       "grid_template_rows": null,
       "height": null,
       "justify_content": null,
       "justify_items": null,
       "left": null,
       "margin": null,
       "max_height": null,
       "max_width": null,
       "min_height": null,
       "min_width": null,
       "object_fit": null,
       "object_position": null,
       "order": null,
       "overflow": null,
       "padding": null,
       "right": null,
       "top": null,
       "visibility": null,
       "width": null
      }
     },
     "157b7c88874c435797b19b69e437db6e": {
      "model_module": "@jupyter-widgets/controls",
      "model_module_version": "2.0.0",
      "model_name": "HTMLModel",
      "state": {
       "_dom_classes": [],
       "_model_module": "@jupyter-widgets/controls",
       "_model_module_version": "2.0.0",
       "_model_name": "HTMLModel",
       "_view_count": null,
       "_view_module": "@jupyter-widgets/controls",
       "_view_module_version": "2.0.0",
       "_view_name": "HTMLView",
       "description": "",
       "description_allow_html": false,
       "layout": "IPY_MODEL_b087c42414164e75948cd371cff3c33a",
       "placeholder": "​",
       "style": "IPY_MODEL_6d6e5a30aa5b4ea08fb1bf50c167acea",
       "tabbable": null,
       "tooltip": null,
       "value": "config.json: 100%"
      }
     },
     "15ec4bbd381642358a613db2bb7bd7eb": {
      "model_module": "@jupyter-widgets/controls",
      "model_module_version": "2.0.0",
      "model_name": "HBoxModel",
      "state": {
       "_dom_classes": [],
       "_model_module": "@jupyter-widgets/controls",
       "_model_module_version": "2.0.0",
       "_model_name": "HBoxModel",
       "_view_count": null,
       "_view_module": "@jupyter-widgets/controls",
       "_view_module_version": "2.0.0",
       "_view_name": "HBoxView",
       "box_style": "",
       "children": [
        "IPY_MODEL_628521f010174e93883767673dffca2b",
        "IPY_MODEL_62d50fc0bbd94e5fb44f808ee0fde730",
        "IPY_MODEL_90b37212ad4b4fd29471aacfd3a68545"
       ],
       "layout": "IPY_MODEL_b33e11d1c798431a98aa0bc2cf6949fa",
       "tabbable": null,
       "tooltip": null
      }
     },
     "1a77748963514bcc905e150c9395b0af": {
      "model_module": "@jupyter-widgets/controls",
      "model_module_version": "2.0.0",
      "model_name": "HTMLModel",
      "state": {
       "_dom_classes": [],
       "_model_module": "@jupyter-widgets/controls",
       "_model_module_version": "2.0.0",
       "_model_name": "HTMLModel",
       "_view_count": null,
       "_view_module": "@jupyter-widgets/controls",
       "_view_module_version": "2.0.0",
       "_view_name": "HTMLView",
       "description": "",
       "description_allow_html": false,
       "layout": "IPY_MODEL_25db29cd75de4ea8bc27df288cf79321",
       "placeholder": "​",
       "style": "IPY_MODEL_5a01f17647264e1e9d67b3fb31854e2b",
       "tabbable": null,
       "tooltip": null,
       "value": " 466k/466k [00:00&lt;00:00, 3.68MB/s]"
      }
     },
     "1c075573cd53430bb1a5b22bd66d6a0b": {
      "model_module": "@jupyter-widgets/controls",
      "model_module_version": "2.0.0",
      "model_name": "FloatProgressModel",
      "state": {
       "_dom_classes": [],
       "_model_module": "@jupyter-widgets/controls",
       "_model_module_version": "2.0.0",
       "_model_name": "FloatProgressModel",
       "_view_count": null,
       "_view_module": "@jupyter-widgets/controls",
       "_view_module_version": "2.0.0",
       "_view_name": "ProgressView",
       "bar_style": "success",
       "description": "",
       "description_allow_html": false,
       "layout": "IPY_MODEL_2eb3229dfc8d4393867627389a713a3c",
       "max": 466062,
       "min": 0,
       "orientation": "horizontal",
       "style": "IPY_MODEL_8a48250e83a74f73a367864cd51e5688",
       "tabbable": null,
       "tooltip": null,
       "value": 466062
      }
     },
     "25db29cd75de4ea8bc27df288cf79321": {
      "model_module": "@jupyter-widgets/base",
      "model_module_version": "2.0.0",
      "model_name": "LayoutModel",
      "state": {
       "_model_module": "@jupyter-widgets/base",
       "_model_module_version": "2.0.0",
       "_model_name": "LayoutModel",
       "_view_count": null,
       "_view_module": "@jupyter-widgets/base",
       "_view_module_version": "2.0.0",
       "_view_name": "LayoutView",
       "align_content": null,
       "align_items": null,
       "align_self": null,
       "border_bottom": null,
       "border_left": null,
       "border_right": null,
       "border_top": null,
       "bottom": null,
       "display": null,
       "flex": null,
       "flex_flow": null,
       "grid_area": null,
       "grid_auto_columns": null,
       "grid_auto_flow": null,
       "grid_auto_rows": null,
       "grid_column": null,
       "grid_gap": null,
       "grid_row": null,
       "grid_template_areas": null,
       "grid_template_columns": null,
       "grid_template_rows": null,
       "height": null,
       "justify_content": null,
       "justify_items": null,
       "left": null,
       "margin": null,
       "max_height": null,
       "max_width": null,
       "min_height": null,
       "min_width": null,
       "object_fit": null,
       "object_position": null,
       "order": null,
       "overflow": null,
       "padding": null,
       "right": null,
       "top": null,
       "visibility": null,
       "width": null
      }
     },
     "25efb546566941bb8266492cf24087b9": {
      "model_module": "@jupyter-widgets/base",
      "model_module_version": "2.0.0",
      "model_name": "LayoutModel",
      "state": {
       "_model_module": "@jupyter-widgets/base",
       "_model_module_version": "2.0.0",
       "_model_name": "LayoutModel",
       "_view_count": null,
       "_view_module": "@jupyter-widgets/base",
       "_view_module_version": "2.0.0",
       "_view_name": "LayoutView",
       "align_content": null,
       "align_items": null,
       "align_self": null,
       "border_bottom": null,
       "border_left": null,
       "border_right": null,
       "border_top": null,
       "bottom": null,
       "display": null,
       "flex": null,
       "flex_flow": null,
       "grid_area": null,
       "grid_auto_columns": null,
       "grid_auto_flow": null,
       "grid_auto_rows": null,
       "grid_column": null,
       "grid_gap": null,
       "grid_row": null,
       "grid_template_areas": null,
       "grid_template_columns": null,
       "grid_template_rows": null,
       "height": null,
       "justify_content": null,
       "justify_items": null,
       "left": null,
       "margin": null,
       "max_height": null,
       "max_width": null,
       "min_height": null,
       "min_width": null,
       "object_fit": null,
       "object_position": null,
       "order": null,
       "overflow": null,
       "padding": null,
       "right": null,
       "top": null,
       "visibility": null,
       "width": null
      }
     },
     "28ba2fee2bbc46edab17285d0252d780": {
      "model_module": "@jupyter-widgets/base",
      "model_module_version": "2.0.0",
      "model_name": "LayoutModel",
      "state": {
       "_model_module": "@jupyter-widgets/base",
       "_model_module_version": "2.0.0",
       "_model_name": "LayoutModel",
       "_view_count": null,
       "_view_module": "@jupyter-widgets/base",
       "_view_module_version": "2.0.0",
       "_view_name": "LayoutView",
       "align_content": null,
       "align_items": null,
       "align_self": null,
       "border_bottom": null,
       "border_left": null,
       "border_right": null,
       "border_top": null,
       "bottom": null,
       "display": null,
       "flex": null,
       "flex_flow": null,
       "grid_area": null,
       "grid_auto_columns": null,
       "grid_auto_flow": null,
       "grid_auto_rows": null,
       "grid_column": null,
       "grid_gap": null,
       "grid_row": null,
       "grid_template_areas": null,
       "grid_template_columns": null,
       "grid_template_rows": null,
       "height": null,
       "justify_content": null,
       "justify_items": null,
       "left": null,
       "margin": null,
       "max_height": null,
       "max_width": null,
       "min_height": null,
       "min_width": null,
       "object_fit": null,
       "object_position": null,
       "order": null,
       "overflow": null,
       "padding": null,
       "right": null,
       "top": null,
       "visibility": null,
       "width": null
      }
     },
     "2eb3229dfc8d4393867627389a713a3c": {
      "model_module": "@jupyter-widgets/base",
      "model_module_version": "2.0.0",
      "model_name": "LayoutModel",
      "state": {
       "_model_module": "@jupyter-widgets/base",
       "_model_module_version": "2.0.0",
       "_model_name": "LayoutModel",
       "_view_count": null,
       "_view_module": "@jupyter-widgets/base",
       "_view_module_version": "2.0.0",
       "_view_name": "LayoutView",
       "align_content": null,
       "align_items": null,
       "align_self": null,
       "border_bottom": null,
       "border_left": null,
       "border_right": null,
       "border_top": null,
       "bottom": null,
       "display": null,
       "flex": null,
       "flex_flow": null,
       "grid_area": null,
       "grid_auto_columns": null,
       "grid_auto_flow": null,
       "grid_auto_rows": null,
       "grid_column": null,
       "grid_gap": null,
       "grid_row": null,
       "grid_template_areas": null,
       "grid_template_columns": null,
       "grid_template_rows": null,
       "height": null,
       "justify_content": null,
       "justify_items": null,
       "left": null,
       "margin": null,
       "max_height": null,
       "max_width": null,
       "min_height": null,
       "min_width": null,
       "object_fit": null,
       "object_position": null,
       "order": null,
       "overflow": null,
       "padding": null,
       "right": null,
       "top": null,
       "visibility": null,
       "width": null
      }
     },
     "34ad697a347f4c688ecb0850c9e37b77": {
      "model_module": "@jupyter-widgets/controls",
      "model_module_version": "2.0.0",
      "model_name": "HTMLStyleModel",
      "state": {
       "_model_module": "@jupyter-widgets/controls",
       "_model_module_version": "2.0.0",
       "_model_name": "HTMLStyleModel",
       "_view_count": null,
       "_view_module": "@jupyter-widgets/base",
       "_view_module_version": "2.0.0",
       "_view_name": "StyleView",
       "background": null,
       "description_width": "",
       "font_size": null,
       "text_color": null
      }
     },
     "36cee4a29cd0423c8e2176000201b29e": {
      "model_module": "@jupyter-widgets/base",
      "model_module_version": "2.0.0",
      "model_name": "LayoutModel",
      "state": {
       "_model_module": "@jupyter-widgets/base",
       "_model_module_version": "2.0.0",
       "_model_name": "LayoutModel",
       "_view_count": null,
       "_view_module": "@jupyter-widgets/base",
       "_view_module_version": "2.0.0",
       "_view_name": "LayoutView",
       "align_content": null,
       "align_items": null,
       "align_self": null,
       "border_bottom": null,
       "border_left": null,
       "border_right": null,
       "border_top": null,
       "bottom": null,
       "display": null,
       "flex": null,
       "flex_flow": null,
       "grid_area": null,
       "grid_auto_columns": null,
       "grid_auto_flow": null,
       "grid_auto_rows": null,
       "grid_column": null,
       "grid_gap": null,
       "grid_row": null,
       "grid_template_areas": null,
       "grid_template_columns": null,
       "grid_template_rows": null,
       "height": null,
       "justify_content": null,
       "justify_items": null,
       "left": null,
       "margin": null,
       "max_height": null,
       "max_width": null,
       "min_height": null,
       "min_width": null,
       "object_fit": null,
       "object_position": null,
       "order": null,
       "overflow": null,
       "padding": null,
       "right": null,
       "top": null,
       "visibility": null,
       "width": null
      }
     },
     "3f21d8c7d9a64a8fb2e722ff8968f4f2": {
      "model_module": "@jupyter-widgets/controls",
      "model_module_version": "2.0.0",
      "model_name": "HTMLStyleModel",
      "state": {
       "_model_module": "@jupyter-widgets/controls",
       "_model_module_version": "2.0.0",
       "_model_name": "HTMLStyleModel",
       "_view_count": null,
       "_view_module": "@jupyter-widgets/base",
       "_view_module_version": "2.0.0",
       "_view_name": "StyleView",
       "background": null,
       "description_width": "",
       "font_size": null,
       "text_color": null
      }
     },
     "443deb55573c48dfb26e71f88da52a2c": {
      "model_module": "@jupyter-widgets/controls",
      "model_module_version": "2.0.0",
      "model_name": "HTMLStyleModel",
      "state": {
       "_model_module": "@jupyter-widgets/controls",
       "_model_module_version": "2.0.0",
       "_model_name": "HTMLStyleModel",
       "_view_count": null,
       "_view_module": "@jupyter-widgets/base",
       "_view_module_version": "2.0.0",
       "_view_name": "StyleView",
       "background": null,
       "description_width": "",
       "font_size": null,
       "text_color": null
      }
     },
     "47b7473fd7ba49adb06f1d16b2b39cc7": {
      "model_module": "@jupyter-widgets/controls",
      "model_module_version": "2.0.0",
      "model_name": "HBoxModel",
      "state": {
       "_dom_classes": [],
       "_model_module": "@jupyter-widgets/controls",
       "_model_module_version": "2.0.0",
       "_model_name": "HBoxModel",
       "_view_count": null,
       "_view_module": "@jupyter-widgets/controls",
       "_view_module_version": "2.0.0",
       "_view_name": "HBoxView",
       "box_style": "",
       "children": [
        "IPY_MODEL_ff534cad6ac94f80a90a633285bc2a70",
        "IPY_MODEL_02b12c77182842fb8daa0c6caca12f02",
        "IPY_MODEL_dd4f4295a52a46e3afc0efdc29956ff8"
       ],
       "layout": "IPY_MODEL_36cee4a29cd0423c8e2176000201b29e",
       "tabbable": null,
       "tooltip": null
      }
     },
     "4a956eddf8294c8da82269fd7ec1273b": {
      "model_module": "@jupyter-widgets/controls",
      "model_module_version": "2.0.0",
      "model_name": "HBoxModel",
      "state": {
       "_dom_classes": [],
       "_model_module": "@jupyter-widgets/controls",
       "_model_module_version": "2.0.0",
       "_model_name": "HBoxModel",
       "_view_count": null,
       "_view_module": "@jupyter-widgets/controls",
       "_view_module_version": "2.0.0",
       "_view_name": "HBoxView",
       "box_style": "",
       "children": [
        "IPY_MODEL_c433d363baa641b6bb8d75e9c1cf8b70",
        "IPY_MODEL_1c075573cd53430bb1a5b22bd66d6a0b",
        "IPY_MODEL_1a77748963514bcc905e150c9395b0af"
       ],
       "layout": "IPY_MODEL_28ba2fee2bbc46edab17285d0252d780",
       "tabbable": null,
       "tooltip": null
      }
     },
     "5118dd7015304f05a9515e460c2034c3": {
      "model_module": "@jupyter-widgets/base",
      "model_module_version": "2.0.0",
      "model_name": "LayoutModel",
      "state": {
       "_model_module": "@jupyter-widgets/base",
       "_model_module_version": "2.0.0",
       "_model_name": "LayoutModel",
       "_view_count": null,
       "_view_module": "@jupyter-widgets/base",
       "_view_module_version": "2.0.0",
       "_view_name": "LayoutView",
       "align_content": null,
       "align_items": null,
       "align_self": null,
       "border_bottom": null,
       "border_left": null,
       "border_right": null,
       "border_top": null,
       "bottom": null,
       "display": null,
       "flex": null,
       "flex_flow": null,
       "grid_area": null,
       "grid_auto_columns": null,
       "grid_auto_flow": null,
       "grid_auto_rows": null,
       "grid_column": null,
       "grid_gap": null,
       "grid_row": null,
       "grid_template_areas": null,
       "grid_template_columns": null,
       "grid_template_rows": null,
       "height": null,
       "justify_content": null,
       "justify_items": null,
       "left": null,
       "margin": null,
       "max_height": null,
       "max_width": null,
       "min_height": null,
       "min_width": null,
       "object_fit": null,
       "object_position": null,
       "order": null,
       "overflow": null,
       "padding": null,
       "right": null,
       "top": null,
       "visibility": null,
       "width": null
      }
     },
     "5257bc3dd8e14407bd0dbb6fb88a02bf": {
      "model_module": "@jupyter-widgets/controls",
      "model_module_version": "2.0.0",
      "model_name": "FloatProgressModel",
      "state": {
       "_dom_classes": [],
       "_model_module": "@jupyter-widgets/controls",
       "_model_module_version": "2.0.0",
       "_model_name": "FloatProgressModel",
       "_view_count": null,
       "_view_module": "@jupyter-widgets/controls",
       "_view_module_version": "2.0.0",
       "_view_name": "ProgressView",
       "bar_style": "success",
       "description": "",
       "description_allow_html": false,
       "layout": "IPY_MODEL_5118dd7015304f05a9515e460c2034c3",
       "max": 483,
       "min": 0,
       "orientation": "horizontal",
       "style": "IPY_MODEL_a8851342eeb440fc91b48274f081f792",
       "tabbable": null,
       "tooltip": null,
       "value": 483
      }
     },
     "5a01f17647264e1e9d67b3fb31854e2b": {
      "model_module": "@jupyter-widgets/controls",
      "model_module_version": "2.0.0",
      "model_name": "HTMLStyleModel",
      "state": {
       "_model_module": "@jupyter-widgets/controls",
       "_model_module_version": "2.0.0",
       "_model_name": "HTMLStyleModel",
       "_view_count": null,
       "_view_module": "@jupyter-widgets/base",
       "_view_module_version": "2.0.0",
       "_view_name": "StyleView",
       "background": null,
       "description_width": "",
       "font_size": null,
       "text_color": null
      }
     },
     "5a6e572d346240a7a2c4e29490292560": {
      "model_module": "@jupyter-widgets/base",
      "model_module_version": "2.0.0",
      "model_name": "LayoutModel",
      "state": {
       "_model_module": "@jupyter-widgets/base",
       "_model_module_version": "2.0.0",
       "_model_name": "LayoutModel",
       "_view_count": null,
       "_view_module": "@jupyter-widgets/base",
       "_view_module_version": "2.0.0",
       "_view_name": "LayoutView",
       "align_content": null,
       "align_items": null,
       "align_self": null,
       "border_bottom": null,
       "border_left": null,
       "border_right": null,
       "border_top": null,
       "bottom": null,
       "display": null,
       "flex": null,
       "flex_flow": null,
       "grid_area": null,
       "grid_auto_columns": null,
       "grid_auto_flow": null,
       "grid_auto_rows": null,
       "grid_column": null,
       "grid_gap": null,
       "grid_row": null,
       "grid_template_areas": null,
       "grid_template_columns": null,
       "grid_template_rows": null,
       "height": null,
       "justify_content": null,
       "justify_items": null,
       "left": null,
       "margin": null,
       "max_height": null,
       "max_width": null,
       "min_height": null,
       "min_width": null,
       "object_fit": null,
       "object_position": null,
       "order": null,
       "overflow": null,
       "padding": null,
       "right": null,
       "top": null,
       "visibility": null,
       "width": null
      }
     },
     "628521f010174e93883767673dffca2b": {
      "model_module": "@jupyter-widgets/controls",
      "model_module_version": "2.0.0",
      "model_name": "HTMLModel",
      "state": {
       "_dom_classes": [],
       "_model_module": "@jupyter-widgets/controls",
       "_model_module_version": "2.0.0",
       "_model_name": "HTMLModel",
       "_view_count": null,
       "_view_module": "@jupyter-widgets/controls",
       "_view_module_version": "2.0.0",
       "_view_name": "HTMLView",
       "description": "",
       "description_allow_html": false,
       "layout": "IPY_MODEL_097d216c997a4d8e99d4ee4b080ab183",
       "placeholder": "​",
       "style": "IPY_MODEL_3f21d8c7d9a64a8fb2e722ff8968f4f2",
       "tabbable": null,
       "tooltip": null,
       "value": "vocab.txt: 100%"
      }
     },
     "62d50fc0bbd94e5fb44f808ee0fde730": {
      "model_module": "@jupyter-widgets/controls",
      "model_module_version": "2.0.0",
      "model_name": "FloatProgressModel",
      "state": {
       "_dom_classes": [],
       "_model_module": "@jupyter-widgets/controls",
       "_model_module_version": "2.0.0",
       "_model_name": "FloatProgressModel",
       "_view_count": null,
       "_view_module": "@jupyter-widgets/controls",
       "_view_module_version": "2.0.0",
       "_view_name": "ProgressView",
       "bar_style": "success",
       "description": "",
       "description_allow_html": false,
       "layout": "IPY_MODEL_6dd61dc87dd54aafba07e0cf8a2cfb2b",
       "max": 231508,
       "min": 0,
       "orientation": "horizontal",
       "style": "IPY_MODEL_692f92f48e414232bad7a062370c4a01",
       "tabbable": null,
       "tooltip": null,
       "value": 231508
      }
     },
     "692f92f48e414232bad7a062370c4a01": {
      "model_module": "@jupyter-widgets/controls",
      "model_module_version": "2.0.0",
      "model_name": "ProgressStyleModel",
      "state": {
       "_model_module": "@jupyter-widgets/controls",
       "_model_module_version": "2.0.0",
       "_model_name": "ProgressStyleModel",
       "_view_count": null,
       "_view_module": "@jupyter-widgets/base",
       "_view_module_version": "2.0.0",
       "_view_name": "StyleView",
       "bar_color": null,
       "description_width": ""
      }
     },
     "6d6e5a30aa5b4ea08fb1bf50c167acea": {
      "model_module": "@jupyter-widgets/controls",
      "model_module_version": "2.0.0",
      "model_name": "HTMLStyleModel",
      "state": {
       "_model_module": "@jupyter-widgets/controls",
       "_model_module_version": "2.0.0",
       "_model_name": "HTMLStyleModel",
       "_view_count": null,
       "_view_module": "@jupyter-widgets/base",
       "_view_module_version": "2.0.0",
       "_view_name": "StyleView",
       "background": null,
       "description_width": "",
       "font_size": null,
       "text_color": null
      }
     },
     "6dd61dc87dd54aafba07e0cf8a2cfb2b": {
      "model_module": "@jupyter-widgets/base",
      "model_module_version": "2.0.0",
      "model_name": "LayoutModel",
      "state": {
       "_model_module": "@jupyter-widgets/base",
       "_model_module_version": "2.0.0",
       "_model_name": "LayoutModel",
       "_view_count": null,
       "_view_module": "@jupyter-widgets/base",
       "_view_module_version": "2.0.0",
       "_view_name": "LayoutView",
       "align_content": null,
       "align_items": null,
       "align_self": null,
       "border_bottom": null,
       "border_left": null,
       "border_right": null,
       "border_top": null,
       "bottom": null,
       "display": null,
       "flex": null,
       "flex_flow": null,
       "grid_area": null,
       "grid_auto_columns": null,
       "grid_auto_flow": null,
       "grid_auto_rows": null,
       "grid_column": null,
       "grid_gap": null,
       "grid_row": null,
       "grid_template_areas": null,
       "grid_template_columns": null,
       "grid_template_rows": null,
       "height": null,
       "justify_content": null,
       "justify_items": null,
       "left": null,
       "margin": null,
       "max_height": null,
       "max_width": null,
       "min_height": null,
       "min_width": null,
       "object_fit": null,
       "object_position": null,
       "order": null,
       "overflow": null,
       "padding": null,
       "right": null,
       "top": null,
       "visibility": null,
       "width": null
      }
     },
     "7f3648b5f643445dae90c6127a49a0d5": {
      "model_module": "@jupyter-widgets/controls",
      "model_module_version": "2.0.0",
      "model_name": "HTMLStyleModel",
      "state": {
       "_model_module": "@jupyter-widgets/controls",
       "_model_module_version": "2.0.0",
       "_model_name": "HTMLStyleModel",
       "_view_count": null,
       "_view_module": "@jupyter-widgets/base",
       "_view_module_version": "2.0.0",
       "_view_name": "StyleView",
       "background": null,
       "description_width": "",
       "font_size": null,
       "text_color": null
      }
     },
     "85ae68f644854a32b02d0dcdeaad4b7b": {
      "model_module": "@jupyter-widgets/base",
      "model_module_version": "2.0.0",
      "model_name": "LayoutModel",
      "state": {
       "_model_module": "@jupyter-widgets/base",
       "_model_module_version": "2.0.0",
       "_model_name": "LayoutModel",
       "_view_count": null,
       "_view_module": "@jupyter-widgets/base",
       "_view_module_version": "2.0.0",
       "_view_name": "LayoutView",
       "align_content": null,
       "align_items": null,
       "align_self": null,
       "border_bottom": null,
       "border_left": null,
       "border_right": null,
       "border_top": null,
       "bottom": null,
       "display": null,
       "flex": null,
       "flex_flow": null,
       "grid_area": null,
       "grid_auto_columns": null,
       "grid_auto_flow": null,
       "grid_auto_rows": null,
       "grid_column": null,
       "grid_gap": null,
       "grid_row": null,
       "grid_template_areas": null,
       "grid_template_columns": null,
       "grid_template_rows": null,
       "height": null,
       "justify_content": null,
       "justify_items": null,
       "left": null,
       "margin": null,
       "max_height": null,
       "max_width": null,
       "min_height": null,
       "min_width": null,
       "object_fit": null,
       "object_position": null,
       "order": null,
       "overflow": null,
       "padding": null,
       "right": null,
       "top": null,
       "visibility": null,
       "width": null
      }
     },
     "86cc696bfdb0451f8e7ac69b4617cef9": {
      "model_module": "@jupyter-widgets/base",
      "model_module_version": "2.0.0",
      "model_name": "LayoutModel",
      "state": {
       "_model_module": "@jupyter-widgets/base",
       "_model_module_version": "2.0.0",
       "_model_name": "LayoutModel",
       "_view_count": null,
       "_view_module": "@jupyter-widgets/base",
       "_view_module_version": "2.0.0",
       "_view_name": "LayoutView",
       "align_content": null,
       "align_items": null,
       "align_self": null,
       "border_bottom": null,
       "border_left": null,
       "border_right": null,
       "border_top": null,
       "bottom": null,
       "display": null,
       "flex": null,
       "flex_flow": null,
       "grid_area": null,
       "grid_auto_columns": null,
       "grid_auto_flow": null,
       "grid_auto_rows": null,
       "grid_column": null,
       "grid_gap": null,
       "grid_row": null,
       "grid_template_areas": null,
       "grid_template_columns": null,
       "grid_template_rows": null,
       "height": null,
       "justify_content": null,
       "justify_items": null,
       "left": null,
       "margin": null,
       "max_height": null,
       "max_width": null,
       "min_height": null,
       "min_width": null,
       "object_fit": null,
       "object_position": null,
       "order": null,
       "overflow": null,
       "padding": null,
       "right": null,
       "top": null,
       "visibility": null,
       "width": null
      }
     },
     "891b057a802b4b9a85ca19e69f4e95d4": {
      "model_module": "@jupyter-widgets/controls",
      "model_module_version": "2.0.0",
      "model_name": "HBoxModel",
      "state": {
       "_dom_classes": [],
       "_model_module": "@jupyter-widgets/controls",
       "_model_module_version": "2.0.0",
       "_model_name": "HBoxModel",
       "_view_count": null,
       "_view_module": "@jupyter-widgets/controls",
       "_view_module_version": "2.0.0",
       "_view_name": "HBoxView",
       "box_style": "",
       "children": [
        "IPY_MODEL_157b7c88874c435797b19b69e437db6e",
        "IPY_MODEL_5257bc3dd8e14407bd0dbb6fb88a02bf",
        "IPY_MODEL_e88e747c952c4781bcd0980444fd9849"
       ],
       "layout": "IPY_MODEL_9497587bdfd948abb1d131478e85214a",
       "tabbable": null,
       "tooltip": null
      }
     },
     "8a48250e83a74f73a367864cd51e5688": {
      "model_module": "@jupyter-widgets/controls",
      "model_module_version": "2.0.0",
      "model_name": "ProgressStyleModel",
      "state": {
       "_model_module": "@jupyter-widgets/controls",
       "_model_module_version": "2.0.0",
       "_model_name": "ProgressStyleModel",
       "_view_count": null,
       "_view_module": "@jupyter-widgets/base",
       "_view_module_version": "2.0.0",
       "_view_name": "StyleView",
       "bar_color": null,
       "description_width": ""
      }
     },
     "8f744bb726224abf94ff35c3650e1f83": {
      "model_module": "@jupyter-widgets/base",
      "model_module_version": "2.0.0",
      "model_name": "LayoutModel",
      "state": {
       "_model_module": "@jupyter-widgets/base",
       "_model_module_version": "2.0.0",
       "_model_name": "LayoutModel",
       "_view_count": null,
       "_view_module": "@jupyter-widgets/base",
       "_view_module_version": "2.0.0",
       "_view_name": "LayoutView",
       "align_content": null,
       "align_items": null,
       "align_self": null,
       "border_bottom": null,
       "border_left": null,
       "border_right": null,
       "border_top": null,
       "bottom": null,
       "display": null,
       "flex": null,
       "flex_flow": null,
       "grid_area": null,
       "grid_auto_columns": null,
       "grid_auto_flow": null,
       "grid_auto_rows": null,
       "grid_column": null,
       "grid_gap": null,
       "grid_row": null,
       "grid_template_areas": null,
       "grid_template_columns": null,
       "grid_template_rows": null,
       "height": null,
       "justify_content": null,
       "justify_items": null,
       "left": null,
       "margin": null,
       "max_height": null,
       "max_width": null,
       "min_height": null,
       "min_width": null,
       "object_fit": null,
       "object_position": null,
       "order": null,
       "overflow": null,
       "padding": null,
       "right": null,
       "top": null,
       "visibility": null,
       "width": null
      }
     },
     "90b37212ad4b4fd29471aacfd3a68545": {
      "model_module": "@jupyter-widgets/controls",
      "model_module_version": "2.0.0",
      "model_name": "HTMLModel",
      "state": {
       "_dom_classes": [],
       "_model_module": "@jupyter-widgets/controls",
       "_model_module_version": "2.0.0",
       "_model_name": "HTMLModel",
       "_view_count": null,
       "_view_module": "@jupyter-widgets/controls",
       "_view_module_version": "2.0.0",
       "_view_name": "HTMLView",
       "description": "",
       "description_allow_html": false,
       "layout": "IPY_MODEL_db22fb5825024565a091798d39af12b7",
       "placeholder": "​",
       "style": "IPY_MODEL_fc656fcf5b074157847ad1d65ec12beb",
       "tabbable": null,
       "tooltip": null,
       "value": " 232k/232k [00:00&lt;00:00, 3.47MB/s]"
      }
     },
     "9228069c153b412c961698e9a14ffc7f": {
      "model_module": "@jupyter-widgets/controls",
      "model_module_version": "2.0.0",
      "model_name": "HTMLStyleModel",
      "state": {
       "_model_module": "@jupyter-widgets/controls",
       "_model_module_version": "2.0.0",
       "_model_name": "HTMLStyleModel",
       "_view_count": null,
       "_view_module": "@jupyter-widgets/base",
       "_view_module_version": "2.0.0",
       "_view_name": "StyleView",
       "background": null,
       "description_width": "",
       "font_size": null,
       "text_color": null
      }
     },
     "9497587bdfd948abb1d131478e85214a": {
      "model_module": "@jupyter-widgets/base",
      "model_module_version": "2.0.0",
      "model_name": "LayoutModel",
      "state": {
       "_model_module": "@jupyter-widgets/base",
       "_model_module_version": "2.0.0",
       "_model_name": "LayoutModel",
       "_view_count": null,
       "_view_module": "@jupyter-widgets/base",
       "_view_module_version": "2.0.0",
       "_view_name": "LayoutView",
       "align_content": null,
       "align_items": null,
       "align_self": null,
       "border_bottom": null,
       "border_left": null,
       "border_right": null,
       "border_top": null,
       "bottom": null,
       "display": null,
       "flex": null,
       "flex_flow": null,
       "grid_area": null,
       "grid_auto_columns": null,
       "grid_auto_flow": null,
       "grid_auto_rows": null,
       "grid_column": null,
       "grid_gap": null,
       "grid_row": null,
       "grid_template_areas": null,
       "grid_template_columns": null,
       "grid_template_rows": null,
       "height": null,
       "justify_content": null,
       "justify_items": null,
       "left": null,
       "margin": null,
       "max_height": null,
       "max_width": null,
       "min_height": null,
       "min_width": null,
       "object_fit": null,
       "object_position": null,
       "order": null,
       "overflow": null,
       "padding": null,
       "right": null,
       "top": null,
       "visibility": null,
       "width": null
      }
     },
     "9f79025fd06e49788c5a08a409b54890": {
      "model_module": "@jupyter-widgets/controls",
      "model_module_version": "2.0.0",
      "model_name": "HTMLStyleModel",
      "state": {
       "_model_module": "@jupyter-widgets/controls",
       "_model_module_version": "2.0.0",
       "_model_name": "HTMLStyleModel",
       "_view_count": null,
       "_view_module": "@jupyter-widgets/base",
       "_view_module_version": "2.0.0",
       "_view_name": "StyleView",
       "background": null,
       "description_width": "",
       "font_size": null,
       "text_color": null
      }
     },
     "a5bdad4948a243ccb7c2afff2f43fc94": {
      "model_module": "@jupyter-widgets/controls",
      "model_module_version": "2.0.0",
      "model_name": "ProgressStyleModel",
      "state": {
       "_model_module": "@jupyter-widgets/controls",
       "_model_module_version": "2.0.0",
       "_model_name": "ProgressStyleModel",
       "_view_count": null,
       "_view_module": "@jupyter-widgets/base",
       "_view_module_version": "2.0.0",
       "_view_name": "StyleView",
       "bar_color": null,
       "description_width": ""
      }
     },
     "a8851342eeb440fc91b48274f081f792": {
      "model_module": "@jupyter-widgets/controls",
      "model_module_version": "2.0.0",
      "model_name": "ProgressStyleModel",
      "state": {
       "_model_module": "@jupyter-widgets/controls",
       "_model_module_version": "2.0.0",
       "_model_name": "ProgressStyleModel",
       "_view_count": null,
       "_view_module": "@jupyter-widgets/base",
       "_view_module_version": "2.0.0",
       "_view_name": "StyleView",
       "bar_color": null,
       "description_width": ""
      }
     },
     "b087c42414164e75948cd371cff3c33a": {
      "model_module": "@jupyter-widgets/base",
      "model_module_version": "2.0.0",
      "model_name": "LayoutModel",
      "state": {
       "_model_module": "@jupyter-widgets/base",
       "_model_module_version": "2.0.0",
       "_model_name": "LayoutModel",
       "_view_count": null,
       "_view_module": "@jupyter-widgets/base",
       "_view_module_version": "2.0.0",
       "_view_name": "LayoutView",
       "align_content": null,
       "align_items": null,
       "align_self": null,
       "border_bottom": null,
       "border_left": null,
       "border_right": null,
       "border_top": null,
       "bottom": null,
       "display": null,
       "flex": null,
       "flex_flow": null,
       "grid_area": null,
       "grid_auto_columns": null,
       "grid_auto_flow": null,
       "grid_auto_rows": null,
       "grid_column": null,
       "grid_gap": null,
       "grid_row": null,
       "grid_template_areas": null,
       "grid_template_columns": null,
       "grid_template_rows": null,
       "height": null,
       "justify_content": null,
       "justify_items": null,
       "left": null,
       "margin": null,
       "max_height": null,
       "max_width": null,
       "min_height": null,
       "min_width": null,
       "object_fit": null,
       "object_position": null,
       "order": null,
       "overflow": null,
       "padding": null,
       "right": null,
       "top": null,
       "visibility": null,
       "width": null
      }
     },
     "b088fe66481d41d2a4772f869ebab65b": {
      "model_module": "@jupyter-widgets/controls",
      "model_module_version": "2.0.0",
      "model_name": "HTMLModel",
      "state": {
       "_dom_classes": [],
       "_model_module": "@jupyter-widgets/controls",
       "_model_module_version": "2.0.0",
       "_model_name": "HTMLModel",
       "_view_count": null,
       "_view_module": "@jupyter-widgets/controls",
       "_view_module_version": "2.0.0",
       "_view_name": "HTMLView",
       "description": "",
       "description_allow_html": false,
       "layout": "IPY_MODEL_e45eb2127e8d443194844110dbd42d20",
       "placeholder": "​",
       "style": "IPY_MODEL_7f3648b5f643445dae90c6127a49a0d5",
       "tabbable": null,
       "tooltip": null,
       "value": "tokenizer_config.json: 100%"
      }
     },
     "b33e11d1c798431a98aa0bc2cf6949fa": {
      "model_module": "@jupyter-widgets/base",
      "model_module_version": "2.0.0",
      "model_name": "LayoutModel",
      "state": {
       "_model_module": "@jupyter-widgets/base",
       "_model_module_version": "2.0.0",
       "_model_name": "LayoutModel",
       "_view_count": null,
       "_view_module": "@jupyter-widgets/base",
       "_view_module_version": "2.0.0",
       "_view_name": "LayoutView",
       "align_content": null,
       "align_items": null,
       "align_self": null,
       "border_bottom": null,
       "border_left": null,
       "border_right": null,
       "border_top": null,
       "bottom": null,
       "display": null,
       "flex": null,
       "flex_flow": null,
       "grid_area": null,
       "grid_auto_columns": null,
       "grid_auto_flow": null,
       "grid_auto_rows": null,
       "grid_column": null,
       "grid_gap": null,
       "grid_row": null,
       "grid_template_areas": null,
       "grid_template_columns": null,
       "grid_template_rows": null,
       "height": null,
       "justify_content": null,
       "justify_items": null,
       "left": null,
       "margin": null,
       "max_height": null,
       "max_width": null,
       "min_height": null,
       "min_width": null,
       "object_fit": null,
       "object_position": null,
       "order": null,
       "overflow": null,
       "padding": null,
       "right": null,
       "top": null,
       "visibility": null,
       "width": null
      }
     },
     "bd9270d426e748bdaa3a5df341686100": {
      "model_module": "@jupyter-widgets/controls",
      "model_module_version": "2.0.0",
      "model_name": "ProgressStyleModel",
      "state": {
       "_model_module": "@jupyter-widgets/controls",
       "_model_module_version": "2.0.0",
       "_model_name": "ProgressStyleModel",
       "_view_count": null,
       "_view_module": "@jupyter-widgets/base",
       "_view_module_version": "2.0.0",
       "_view_name": "StyleView",
       "bar_color": null,
       "description_width": ""
      }
     },
     "c433d363baa641b6bb8d75e9c1cf8b70": {
      "model_module": "@jupyter-widgets/controls",
      "model_module_version": "2.0.0",
      "model_name": "HTMLModel",
      "state": {
       "_dom_classes": [],
       "_model_module": "@jupyter-widgets/controls",
       "_model_module_version": "2.0.0",
       "_model_name": "HTMLModel",
       "_view_count": null,
       "_view_module": "@jupyter-widgets/controls",
       "_view_module_version": "2.0.0",
       "_view_name": "HTMLView",
       "description": "",
       "description_allow_html": false,
       "layout": "IPY_MODEL_85ae68f644854a32b02d0dcdeaad4b7b",
       "placeholder": "​",
       "style": "IPY_MODEL_34ad697a347f4c688ecb0850c9e37b77",
       "tabbable": null,
       "tooltip": null,
       "value": "tokenizer.json: 100%"
      }
     },
     "db22fb5825024565a091798d39af12b7": {
      "model_module": "@jupyter-widgets/base",
      "model_module_version": "2.0.0",
      "model_name": "LayoutModel",
      "state": {
       "_model_module": "@jupyter-widgets/base",
       "_model_module_version": "2.0.0",
       "_model_name": "LayoutModel",
       "_view_count": null,
       "_view_module": "@jupyter-widgets/base",
       "_view_module_version": "2.0.0",
       "_view_name": "LayoutView",
       "align_content": null,
       "align_items": null,
       "align_self": null,
       "border_bottom": null,
       "border_left": null,
       "border_right": null,
       "border_top": null,
       "bottom": null,
       "display": null,
       "flex": null,
       "flex_flow": null,
       "grid_area": null,
       "grid_auto_columns": null,
       "grid_auto_flow": null,
       "grid_auto_rows": null,
       "grid_column": null,
       "grid_gap": null,
       "grid_row": null,
       "grid_template_areas": null,
       "grid_template_columns": null,
       "grid_template_rows": null,
       "height": null,
       "justify_content": null,
       "justify_items": null,
       "left": null,
       "margin": null,
       "max_height": null,
       "max_width": null,
       "min_height": null,
       "min_width": null,
       "object_fit": null,
       "object_position": null,
       "order": null,
       "overflow": null,
       "padding": null,
       "right": null,
       "top": null,
       "visibility": null,
       "width": null
      }
     },
     "dd4f4295a52a46e3afc0efdc29956ff8": {
      "model_module": "@jupyter-widgets/controls",
      "model_module_version": "2.0.0",
      "model_name": "HTMLModel",
      "state": {
       "_dom_classes": [],
       "_model_module": "@jupyter-widgets/controls",
       "_model_module_version": "2.0.0",
       "_model_name": "HTMLModel",
       "_view_count": null,
       "_view_module": "@jupyter-widgets/controls",
       "_view_module_version": "2.0.0",
       "_view_name": "HTMLView",
       "description": "",
       "description_allow_html": false,
       "layout": "IPY_MODEL_8f744bb726224abf94ff35c3650e1f83",
       "placeholder": "​",
       "style": "IPY_MODEL_9228069c153b412c961698e9a14ffc7f",
       "tabbable": null,
       "tooltip": null,
       "value": " 268M/268M [00:00&lt;00:00, 300MB/s]"
      }
     },
     "e08ad0d7200047d5b6cfee79b07b7201": {
      "model_module": "@jupyter-widgets/controls",
      "model_module_version": "2.0.0",
      "model_name": "HBoxModel",
      "state": {
       "_dom_classes": [],
       "_model_module": "@jupyter-widgets/controls",
       "_model_module_version": "2.0.0",
       "_model_name": "HBoxModel",
       "_view_count": null,
       "_view_module": "@jupyter-widgets/controls",
       "_view_module_version": "2.0.0",
       "_view_name": "HBoxView",
       "box_style": "",
       "children": [
        "IPY_MODEL_b088fe66481d41d2a4772f869ebab65b",
        "IPY_MODEL_0495dbe3984d41fb956d243343e7eb98",
        "IPY_MODEL_003cd5230d35402fa1f293947f6db88d"
       ],
       "layout": "IPY_MODEL_86cc696bfdb0451f8e7ac69b4617cef9",
       "tabbable": null,
       "tooltip": null
      }
     },
     "e45eb2127e8d443194844110dbd42d20": {
      "model_module": "@jupyter-widgets/base",
      "model_module_version": "2.0.0",
      "model_name": "LayoutModel",
      "state": {
       "_model_module": "@jupyter-widgets/base",
       "_model_module_version": "2.0.0",
       "_model_name": "LayoutModel",
       "_view_count": null,
       "_view_module": "@jupyter-widgets/base",
       "_view_module_version": "2.0.0",
       "_view_name": "LayoutView",
       "align_content": null,
       "align_items": null,
       "align_self": null,
       "border_bottom": null,
       "border_left": null,
       "border_right": null,
       "border_top": null,
       "bottom": null,
       "display": null,
       "flex": null,
       "flex_flow": null,
       "grid_area": null,
       "grid_auto_columns": null,
       "grid_auto_flow": null,
       "grid_auto_rows": null,
       "grid_column": null,
       "grid_gap": null,
       "grid_row": null,
       "grid_template_areas": null,
       "grid_template_columns": null,
       "grid_template_rows": null,
       "height": null,
       "justify_content": null,
       "justify_items": null,
       "left": null,
       "margin": null,
       "max_height": null,
       "max_width": null,
       "min_height": null,
       "min_width": null,
       "object_fit": null,
       "object_position": null,
       "order": null,
       "overflow": null,
       "padding": null,
       "right": null,
       "top": null,
       "visibility": null,
       "width": null
      }
     },
     "e47054f2c30643cf9b0b0fb94a0bd27c": {
      "model_module": "@jupyter-widgets/base",
      "model_module_version": "2.0.0",
      "model_name": "LayoutModel",
      "state": {
       "_model_module": "@jupyter-widgets/base",
       "_model_module_version": "2.0.0",
       "_model_name": "LayoutModel",
       "_view_count": null,
       "_view_module": "@jupyter-widgets/base",
       "_view_module_version": "2.0.0",
       "_view_name": "LayoutView",
       "align_content": null,
       "align_items": null,
       "align_self": null,
       "border_bottom": null,
       "border_left": null,
       "border_right": null,
       "border_top": null,
       "bottom": null,
       "display": null,
       "flex": null,
       "flex_flow": null,
       "grid_area": null,
       "grid_auto_columns": null,
       "grid_auto_flow": null,
       "grid_auto_rows": null,
       "grid_column": null,
       "grid_gap": null,
       "grid_row": null,
       "grid_template_areas": null,
       "grid_template_columns": null,
       "grid_template_rows": null,
       "height": null,
       "justify_content": null,
       "justify_items": null,
       "left": null,
       "margin": null,
       "max_height": null,
       "max_width": null,
       "min_height": null,
       "min_width": null,
       "object_fit": null,
       "object_position": null,
       "order": null,
       "overflow": null,
       "padding": null,
       "right": null,
       "top": null,
       "visibility": null,
       "width": null
      }
     },
     "e88e747c952c4781bcd0980444fd9849": {
      "model_module": "@jupyter-widgets/controls",
      "model_module_version": "2.0.0",
      "model_name": "HTMLModel",
      "state": {
       "_dom_classes": [],
       "_model_module": "@jupyter-widgets/controls",
       "_model_module_version": "2.0.0",
       "_model_name": "HTMLModel",
       "_view_count": null,
       "_view_module": "@jupyter-widgets/controls",
       "_view_module_version": "2.0.0",
       "_view_name": "HTMLView",
       "description": "",
       "description_allow_html": false,
       "layout": "IPY_MODEL_e47054f2c30643cf9b0b0fb94a0bd27c",
       "placeholder": "​",
       "style": "IPY_MODEL_fa612dc63a1442658fbc4b70ea568e1d",
       "tabbable": null,
       "tooltip": null,
       "value": " 483/483 [00:00&lt;00:00, 46.8kB/s]"
      }
     },
     "efc60cf5a36f4e2abdfd08eb9cb58d1f": {
      "model_module": "@jupyter-widgets/base",
      "model_module_version": "2.0.0",
      "model_name": "LayoutModel",
      "state": {
       "_model_module": "@jupyter-widgets/base",
       "_model_module_version": "2.0.0",
       "_model_name": "LayoutModel",
       "_view_count": null,
       "_view_module": "@jupyter-widgets/base",
       "_view_module_version": "2.0.0",
       "_view_name": "LayoutView",
       "align_content": null,
       "align_items": null,
       "align_self": null,
       "border_bottom": null,
       "border_left": null,
       "border_right": null,
       "border_top": null,
       "bottom": null,
       "display": null,
       "flex": null,
       "flex_flow": null,
       "grid_area": null,
       "grid_auto_columns": null,
       "grid_auto_flow": null,
       "grid_auto_rows": null,
       "grid_column": null,
       "grid_gap": null,
       "grid_row": null,
       "grid_template_areas": null,
       "grid_template_columns": null,
       "grid_template_rows": null,
       "height": null,
       "justify_content": null,
       "justify_items": null,
       "left": null,
       "margin": null,
       "max_height": null,
       "max_width": null,
       "min_height": null,
       "min_width": null,
       "object_fit": null,
       "object_position": null,
       "order": null,
       "overflow": null,
       "padding": null,
       "right": null,
       "top": null,
       "visibility": null,
       "width": null
      }
     },
     "fa612dc63a1442658fbc4b70ea568e1d": {
      "model_module": "@jupyter-widgets/controls",
      "model_module_version": "2.0.0",
      "model_name": "HTMLStyleModel",
      "state": {
       "_model_module": "@jupyter-widgets/controls",
       "_model_module_version": "2.0.0",
       "_model_name": "HTMLStyleModel",
       "_view_count": null,
       "_view_module": "@jupyter-widgets/base",
       "_view_module_version": "2.0.0",
       "_view_name": "StyleView",
       "background": null,
       "description_width": "",
       "font_size": null,
       "text_color": null
      }
     },
     "fc656fcf5b074157847ad1d65ec12beb": {
      "model_module": "@jupyter-widgets/controls",
      "model_module_version": "2.0.0",
      "model_name": "HTMLStyleModel",
      "state": {
       "_model_module": "@jupyter-widgets/controls",
       "_model_module_version": "2.0.0",
       "_model_name": "HTMLStyleModel",
       "_view_count": null,
       "_view_module": "@jupyter-widgets/base",
       "_view_module_version": "2.0.0",
       "_view_name": "StyleView",
       "background": null,
       "description_width": "",
       "font_size": null,
       "text_color": null
      }
     },
     "fc77170062464ec59821728677b91de7": {
      "model_module": "@jupyter-widgets/base",
      "model_module_version": "2.0.0",
      "model_name": "LayoutModel",
      "state": {
       "_model_module": "@jupyter-widgets/base",
       "_model_module_version": "2.0.0",
       "_model_name": "LayoutModel",
       "_view_count": null,
       "_view_module": "@jupyter-widgets/base",
       "_view_module_version": "2.0.0",
       "_view_name": "LayoutView",
       "align_content": null,
       "align_items": null,
       "align_self": null,
       "border_bottom": null,
       "border_left": null,
       "border_right": null,
       "border_top": null,
       "bottom": null,
       "display": null,
       "flex": null,
       "flex_flow": null,
       "grid_area": null,
       "grid_auto_columns": null,
       "grid_auto_flow": null,
       "grid_auto_rows": null,
       "grid_column": null,
       "grid_gap": null,
       "grid_row": null,
       "grid_template_areas": null,
       "grid_template_columns": null,
       "grid_template_rows": null,
       "height": null,
       "justify_content": null,
       "justify_items": null,
       "left": null,
       "margin": null,
       "max_height": null,
       "max_width": null,
       "min_height": null,
       "min_width": null,
       "object_fit": null,
       "object_position": null,
       "order": null,
       "overflow": null,
       "padding": null,
       "right": null,
       "top": null,
       "visibility": null,
       "width": null
      }
     },
     "ff534cad6ac94f80a90a633285bc2a70": {
      "model_module": "@jupyter-widgets/controls",
      "model_module_version": "2.0.0",
      "model_name": "HTMLModel",
      "state": {
       "_dom_classes": [],
       "_model_module": "@jupyter-widgets/controls",
       "_model_module_version": "2.0.0",
       "_model_name": "HTMLModel",
       "_view_count": null,
       "_view_module": "@jupyter-widgets/controls",
       "_view_module_version": "2.0.0",
       "_view_name": "HTMLView",
       "description": "",
       "description_allow_html": false,
       "layout": "IPY_MODEL_25efb546566941bb8266492cf24087b9",
       "placeholder": "​",
       "style": "IPY_MODEL_9f79025fd06e49788c5a08a409b54890",
       "tabbable": null,
       "tooltip": null,
       "value": "model.safetensors: 100%"
      }
     }
    },
    "version_major": 2,
    "version_minor": 0
   }
  }
 },
 "nbformat": 4,
 "nbformat_minor": 5
}
