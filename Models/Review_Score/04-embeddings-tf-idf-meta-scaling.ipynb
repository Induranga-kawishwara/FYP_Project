{
 "cells": [
  {
   "cell_type": "markdown",
   "metadata": {
    "_cell_guid": "b4f1d786-5ca8-4894-b8d3-ff644faeda77",
    "_uuid": "2fe49bf1-b13d-4c22-b61c-bd366fc11488",
    "collapsed": false,
    "jupyter": {
     "outputs_hidden": false
    },
    "trusted": true
   },
   "source": [
    "# 04 - Embeddings + TF-IDF + Meta Scaling"
   ]
  },
  {
   "cell_type": "code",
   "execution_count": null,
   "metadata": {
    "_cell_guid": "f39d4eee-ace5-4d7c-972b-ae8623979329",
    "_uuid": "e3f31528-36c3-4ace-acf7-4f6f0d9e1f62",
    "collapsed": false,
    "execution": {
     "iopub.execute_input": "2025-06-20T06:54:42.019559Z",
     "iopub.status.busy": "2025-06-20T06:54:42.018959Z",
     "iopub.status.idle": "2025-06-20T06:54:45.872160Z",
     "shell.execute_reply": "2025-06-20T06:54:45.871487Z",
     "shell.execute_reply.started": "2025-06-20T06:54:42.019533Z"
    },
    "jupyter": {
     "outputs_hidden": false
    },
    "trusted": true
   },
   "outputs": [],
   "source": [
    "pip install transformers scikit-learn"
   ]
  },
  {
   "cell_type": "code",
   "execution_count": null,
   "metadata": {
    "_cell_guid": "8ac09f9f-f04e-4fa9-b740-a5212f76e502",
    "_uuid": "3c2fd7d7-14b4-40c1-86ca-73d881062248",
    "collapsed": false,
    "execution": {
     "iopub.execute_input": "2025-06-20T06:54:45.873872Z",
     "iopub.status.busy": "2025-06-20T06:54:45.873571Z"
    },
    "jupyter": {
     "outputs_hidden": false
    },
    "trusted": true
   },
   "outputs": [],
   "source": [
    "import os\n",
    "import joblib\n",
    "import numpy as np\n",
    "import torch\n",
    "\n",
    "from transformers import DistilBertTokenizerFast, DistilBertForSequenceClassification\n",
    "from sklearn.utils import resample\n",
    "from sklearn.feature_extraction.text import TfidfVectorizer\n",
    "from sklearn.preprocessing import StandardScaler"
   ]
  },
  {
   "cell_type": "code",
   "execution_count": null,
   "metadata": {
    "_cell_guid": "21a5bb9a-4673-4b74-8817-8dd92d618947",
    "_uuid": "e2b3b080-8e86-42ef-a512-4aac84e777f4",
    "collapsed": false,
    "jupyter": {
     "outputs_hidden": false
    },
    "trusted": true
   },
   "outputs": [],
   "source": [
    "# paths\n",
    "PREPRO_DIR   = \"C:/Users/indur/OneDrive - University of Westminster/GitHub/FYP_Project/Models/Review_Score/OutPuts\"\n",
    "TRAIN_PKL    = f\"{PREPRO_DIR}/train_df.pkl\"\n",
    "VAL_PKL      = f\"{PREPRO_DIR}/val_df.pkl\"\n",
    "TEST_PKL     = f\"{PREPRO_DIR}/test_df.pkl\"\n",
    "\n",
    "MODEL_DIR    = f\"{PREPRO_DIR}/distilbert_model\"\n",
    "OUTPUT_XY    = f\"{PREPRO_DIR}/Xy_data.pkl\"\n",
    "OUTPUT_VECT  = f\"{PREPRO_DIR}/tfidf_vect_refit.pkl\"\n",
    "OUTPUT_SCAL  = f\"{PREPRO_DIR}/scaler_refit.pkl\"\n",
    "OUTPUT_PROBS = f\"{PREPRO_DIR}/test_probs.pkl\""
   ]
  },
  {
   "cell_type": "code",
   "execution_count": null,
   "metadata": {
    "_cell_guid": "3dc1a095-8f7c-4cf4-89ae-caebc907b30a",
    "_uuid": "378a99bd-3718-469d-808c-b52ed01e8a36",
    "collapsed": false,
    "jupyter": {
     "outputs_hidden": false
    },
    "trusted": true
   },
   "outputs": [],
   "source": [
    "# load splits\n",
    "train_df = joblib.load(TRAIN_PKL)\n",
    "val_df   = joblib.load(VAL_PKL)\n",
    "test_df  = joblib.load(TEST_PKL)\n",
    "\n",
    "\n",
    "# texts & labels\n",
    "texts_tr, labels_tr   = train_df.text.tolist(), train_df.label.values\n",
    "texts_val, labels_val = val_df.text.tolist(),   val_df.label.values\n",
    "texts_te, labels_te   = test_df.text.tolist(),  test_df.label.values"
   ]
  },
  {
   "cell_type": "code",
   "execution_count": null,
   "metadata": {
    "_cell_guid": "dbff8c0c-a5f6-4814-bc52-e208e7631037",
    "_uuid": "abde8d56-842b-426c-beae-ca2d8b29a80c",
    "collapsed": false,
    "jupyter": {
     "outputs_hidden": false
    },
    "trusted": true
   },
   "outputs": [],
   "source": [
    "# load DistilBERT\n",
    "device    = torch.device(\"cuda\" if torch.cuda.is_available() else \"cpu\")\n",
    "model     = DistilBertForSequenceClassification.from_pretrained(MODEL_DIR).to(device)\n",
    "tokenizer = DistilBertTokenizerFast.from_pretrained(MODEL_DIR)\n",
    "model.eval()\n",
    "\n",
    "# helper: extract CLS embeddings + predicted probs\n",
    "def extract(texts, batch_size=32, max_length=256):\n",
    "    embs, probs = [], []\n",
    "    for i in range(0, len(texts), batch_size):\n",
    "        chunk = texts[i: i + batch_size]\n",
    "        enc = tokenizer(\n",
    "            chunk,\n",
    "            padding=\"max_length\",\n",
    "            truncation=True,\n",
    "            max_length=max_length,\n",
    "            return_tensors=\"pt\"\n",
    "        ).to(device)\n",
    "        with torch.no_grad():\n",
    "            out = model(**enc, output_hidden_states=True)\n",
    "            embs.append(out.hidden_states[-1][:, 0, :].cpu().numpy())\n",
    "            probs.append(torch.softmax(out.logits, dim=-1).cpu().numpy())\n",
    "    return np.vstack(embs), np.vstack(probs)"
   ]
  },
  {
   "cell_type": "code",
   "execution_count": null,
   "metadata": {
    "_cell_guid": "5ff47e32-1bd9-48f5-b0e9-1a305ee62d0c",
    "_uuid": "0c344335-3587-492d-9c9a-19265e57515b",
    "collapsed": false,
    "jupyter": {
     "outputs_hidden": false
    },
    "trusted": true
   },
   "outputs": [],
   "source": [
    "# 1) extract for train/val/test\n",
    "emb_tr, prob_tr     = extract(texts_tr)\n",
    "emb_val, prob_val   = extract(texts_val)\n",
    "emb_te, prob_te     = extract(texts_te)\n",
    "\n",
    "# Persist just the test-set DistilBERT probabilities for Hybrid 06\n",
    "joblib.dump(prob_te, OUTPUT_PROBS)\n",
    "print(\"Saved DistilBERT test-set probs to\", OUTPUT_PROBS)"
   ]
  },
  {
   "cell_type": "code",
   "execution_count": null,
   "metadata": {
    "_cell_guid": "3b27c03d-ad1f-4a17-8c23-b70eaac18de1",
    "_uuid": "ae00cd6d-6b00-4bc7-b1fd-a13c94db79f6",
    "collapsed": false,
    "jupyter": {
     "outputs_hidden": false
    },
    "trusted": true
   },
   "outputs": [],
   "source": [
    "# 2) TF-IDF: refit on train, transform val & test\n",
    "vect    = TfidfVectorizer(\n",
    "    max_features=15000,\n",
    "    stop_words=\"english\",\n",
    "    ngram_range=(1, 3)\n",
    ")\n",
    "Xtf_tr  = vect.fit_transform(texts_tr).toarray().astype(np.float32)\n",
    "Xtf_val = vect.transform(texts_val).toarray().astype(np.float32)\n",
    "Xtf_te  = vect.transform(texts_te).toarray().astype(np.float32)\n",
    "joblib.dump(vect, OUTPUT_VECT)\n",
    "print(\"Saved TF-IDF vectorizer to\", OUTPUT_VECT)"
   ]
  },
  {
   "cell_type": "code",
   "execution_count": null,
   "metadata": {
    "_cell_guid": "dff0f1ce-ffea-412a-b9db-9e17e40f1db0",
    "_uuid": "b25d4ec2-f653-48e5-892e-1b276d6e817a",
    "collapsed": false,
    "jupyter": {
     "outputs_hidden": false
    },
    "trusted": true
   },
   "outputs": [],
   "source": [
    "# 3) Meta-feature scaling\n",
    "meta_cols = [\n",
    "    \"num_words\",\n",
    "    \"num_exclaims\",\n",
    "    \"num_questions\",\n",
    "    \"vader_compound\",\n",
    "    \"num_adjectives\",\n",
    "    \"afinn_score\"\n",
    "]\n",
    "ms    = StandardScaler()\n",
    "Mtr   = train_df[meta_cols].values\n",
    "Mval  = val_df[meta_cols].values\n",
    "Mte   = test_df[meta_cols].values\n",
    "\n",
    "Ms_tr  = ms.fit_transform(Mtr)\n",
    "Ms_val = ms.transform(Mval)\n",
    "Ms_te  = ms.transform(Mte)\n",
    "joblib.dump(ms, OUTPUT_SCAL)\n",
    "print(\"Saved meta-feature scaler to\", OUTPUT_SCAL)"
   ]
  },
  {
   "cell_type": "code",
   "execution_count": null,
   "metadata": {
    "_cell_guid": "dbbeb692-afec-4073-95aa-9115ab43c7e7",
    "_uuid": "107e7b18-ff00-4551-9ef1-b0384adaa1d8",
    "collapsed": false,
    "jupyter": {
     "outputs_hidden": false
    },
    "trusted": true
   },
   "outputs": [],
   "source": [
    "# 4) Encode source\n",
    "src_tr  = train_df.source.factorize()[0].reshape(-1, 1)\n",
    "src_val = val_df.source.factorize()[0].reshape(-1, 1)\n",
    "src_te  = test_df.source.factorize()[0].reshape(-1, 1)"
   ]
  },
  {
   "cell_type": "code",
   "execution_count": null,
   "metadata": {
    "_cell_guid": "f7e6c4ad-f09e-4c87-9703-9f67296fc22b",
    "_uuid": "6567ad3e-ea42-4587-90c6-208567dedf85",
    "collapsed": false,
    "jupyter": {
     "outputs_hidden": false
    },
    "trusted": true
   },
   "outputs": [],
   "source": [
    "# 5) Assemble final feature matrices\n",
    "X_train = np.hstack([emb_tr,   prob_tr,   Xtf_tr,   src_tr,   Ms_tr])\n",
    "X_val   = np.hstack([emb_val,  prob_val,  Xtf_val,  src_val,  Ms_val])\n",
    "X_test  = np.hstack([emb_te,   prob_te,   Xtf_te,   src_te,   Ms_te])\n",
    "\n",
    "y_train, y_val, y_test = labels_tr, labels_val, labels_te"
   ]
  },
  {
   "cell_type": "code",
   "execution_count": null,
   "metadata": {
    "_cell_guid": "fd35f3e9-a96b-4000-bd07-269e5ca50250",
    "_uuid": "b3409286-d48b-490d-b485-44a7dbdd1ea0",
    "collapsed": false,
    "jupyter": {
     "outputs_hidden": false
    },
    "trusted": true
   },
   "outputs": [],
   "source": [
    "# 6) Persist everything\n",
    "joblib.dump((X_train, y_train, X_val, y_val, X_test, y_test), OUTPUT_XY)\n",
    "print(\"Saved feature arrays to\", OUTPUT_XY)"
   ]
  }
 ],
 "metadata": {
  "kaggle": {
   "accelerator": "nvidiaTeslaT4",
   "dataSources": [],
   "dockerImageVersionId": 31041,
   "isGpuEnabled": true,
   "isInternetEnabled": true,
   "language": "python",
   "sourceType": "notebook"
  },
  "kernelspec": {
   "display_name": "Python 3",
   "language": "python",
   "name": "python3"
  },
  "language_info": {
   "codemirror_mode": {
    "name": "ipython",
    "version": 3
   },
   "file_extension": ".py",
   "mimetype": "text/x-python",
   "name": "python",
   "nbconvert_exporter": "python",
   "pygments_lexer": "ipython3",
   "version": "3.11.11"
  }
 },
 "nbformat": 4,
 "nbformat_minor": 4
}
