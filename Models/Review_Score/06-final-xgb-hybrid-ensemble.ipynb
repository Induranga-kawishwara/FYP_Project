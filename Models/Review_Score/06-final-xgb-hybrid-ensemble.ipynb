{
 "cells": [
  {
   "cell_type": "markdown",
   "metadata": {
    "_cell_guid": "6982ff9a-7f1a-41bc-ac75-3ddf8a5d5723",
    "_uuid": "adf9882c-256c-47c1-8b09-6738e6117eff",
    "collapsed": false,
    "jupyter": {
     "outputs_hidden": false
    },
    "trusted": true
   },
   "source": [
    "# 06 – Final XGB & Hybrid Ensemble"
   ]
  },
  {
   "cell_type": "code",
   "execution_count": null,
   "metadata": {
    "_cell_guid": "03e8eb4b-275c-4fc1-a38b-df8d381363b5",
    "_uuid": "682b0e9f-9323-4701-8a0d-de0d51f047be",
    "collapsed": false,
    "execution": {
     "iopub.execute_input": "2025-07-05T18:02:03.302185Z",
     "iopub.status.busy": "2025-07-05T18:02:03.301538Z",
     "iopub.status.idle": "2025-07-05T18:02:06.527689Z",
     "shell.execute_reply": "2025-07-05T18:02:06.526655Z",
     "shell.execute_reply.started": "2025-07-05T18:02:03.302157Z"
    },
    "jupyter": {
     "outputs_hidden": false
    },
    "trusted": true
   },
   "outputs": [],
   "source": [
    "pip install xgboost scikit-learn tqdm matplotlib torch"
   ]
  },
  {
   "cell_type": "code",
   "execution_count": null,
   "metadata": {
    "_cell_guid": "5e476f6f-53b8-452a-9c29-d7aebce49fcf",
    "_uuid": "d80e9855-fe37-49da-b93b-4a7948705c8b",
    "collapsed": false,
    "execution": {
     "iopub.execute_input": "2025-07-05T18:02:06.529730Z",
     "iopub.status.busy": "2025-07-05T18:02:06.529446Z",
     "iopub.status.idle": "2025-07-05T18:02:06.536746Z",
     "shell.execute_reply": "2025-07-05T18:02:06.536101Z",
     "shell.execute_reply.started": "2025-07-05T18:02:06.529703Z"
    },
    "jupyter": {
     "outputs_hidden": false
    },
    "trusted": true
   },
   "outputs": [],
   "source": [
    "import os\n",
    "import joblib\n",
    "import numpy as np\n",
    "import torch\n",
    "import matplotlib.pyplot as plt\n",
    "import gc\n",
    "import xgboost\n",
    "\n",
    "from xgboost import XGBClassifier, plot_importance\n",
    "from sklearn.metrics import (\n",
    "    accuracy_score, f1_score, classification_report,\n",
    "    confusion_matrix, ConfusionMatrixDisplay\n",
    ")\n",
    "from scipy.sparse import issparse, csr_matrix, vstack\n",
    "\n",
    "%matplotlib inline"
   ]
  },
  {
   "cell_type": "code",
   "execution_count": null,
   "metadata": {
    "_cell_guid": "f6715c89-a762-473b-9bc5-721173e05429",
    "_uuid": "8de9b0c7-7b5e-4f27-9261-4cdc3c46bb52",
    "collapsed": false,
    "execution": {
     "iopub.execute_input": "2025-07-05T18:02:06.537749Z",
     "iopub.status.busy": "2025-07-05T18:02:06.537493Z",
     "iopub.status.idle": "2025-07-05T18:02:06.560336Z",
     "shell.execute_reply": "2025-07-05T18:02:06.559609Z",
     "shell.execute_reply.started": "2025-07-05T18:02:06.537726Z"
    },
    "jupyter": {
     "outputs_hidden": false
    },
    "trusted": true
   },
   "outputs": [],
   "source": [
    "print(f\"XGBoost version: {xgboost.__version__}\")"
   ]
  },
  {
   "cell_type": "code",
   "execution_count": null,
   "metadata": {
    "_cell_guid": "8e220a92-126e-4b86-9b34-3019bc9d03b8",
    "_uuid": "d895c346-eceb-4149-84d0-5e72d8411c2c",
    "collapsed": false,
    "execution": {
     "iopub.execute_input": "2025-07-05T18:02:06.562607Z",
     "iopub.status.busy": "2025-07-05T18:02:06.562331Z",
     "iopub.status.idle": "2025-07-05T18:02:06.577615Z",
     "shell.execute_reply": "2025-07-05T18:02:06.576820Z",
     "shell.execute_reply.started": "2025-07-05T18:02:06.562586Z"
    },
    "jupyter": {
     "outputs_hidden": false
    },
    "trusted": true
   },
   "outputs": [],
   "source": [
    "# Paths\n",
    "BASE_DIR = \"C:/Users/indur/OneDrive - University of Westminster/GitHub/FYP_Project/Models/Review_Score/OutPuts\"\n",
    "XY_P = f\"{BASE}/Xy_data.pkl\"\n",
    "BEST_XGB_P = f\"{BASE}/best_xgb_params.pkl\"\n",
    "TEST_PROB_P = f\"{BASE}/test_probs.pkl\"\n",
    "MODEL_P = os.path.join(BASE_DIR, \"xgb_hybrid_final.pkl\")\n",
    "\n",
    "os.makedirs(BASE_DIR, exist_ok=True)"
   ]
  },
  {
   "cell_type": "code",
   "execution_count": null,
   "metadata": {
    "_cell_guid": "2a15acf5-9e2d-4a35-835a-945946e12ac2",
    "_uuid": "eb116568-6522-4b7a-9f59-dac0ab00f6c5",
    "collapsed": false,
    "execution": {
     "iopub.execute_input": "2025-07-05T18:02:06.578673Z",
     "iopub.status.busy": "2025-07-05T18:02:06.578361Z"
    },
    "jupyter": {
     "outputs_hidden": false
    },
    "trusted": true
   },
   "outputs": [],
   "source": [
    "# Load Data\n",
    "X_train, y_train, X_val, y_val, X_test, y_test = joblib.load(XY_P)\n",
    "best_params = joblib.load(BEST_XGB_P)\n",
    "test_probs = joblib.load(TEST_PROB_P)\n",
    "\n",
    "# Convert to sparse if not already\n",
    "if not issparse(X_train):\n",
    "    X_train = csr_matrix(X_train)\n",
    "    X_val = csr_matrix(X_val)\n",
    "    X_test = csr_matrix(X_test)\n",
    "\n",
    "X_full = vstack([X_train, X_val])\n",
    "y_full = np.concatenate([y_train, y_val])\n",
    "\n",
    "print(f\"Training samples: {X_full.shape[0]}, Features: {X_full.shape[1]}\")\n",
    "print(f\"Test samples: {X_test.shape[0]}\")\n",
    "print(f\"X_train is {'sparse' if issparse(X_train) else 'dense'}\")\n",
    "\n",
    "gc.collect()"
   ]
  },
  {
   "cell_type": "code",
   "execution_count": null,
   "metadata": {
    "_cell_guid": "8f229e16-934f-49e1-83e5-641feed8a082",
    "_uuid": "bcb8f425-419c-4464-ae9e-f109bb964d9f",
    "collapsed": false,
    "jupyter": {
     "outputs_hidden": false
    },
    "trusted": true
   },
   "outputs": [],
   "source": [
    "# Check for GPU\n",
    "gpu_available = torch.cuda.is_available()\n",
    "tree_method = \"gpu_hist\" if gpu_available else \"hist\"\n",
    "predictor = \"gpu_predictor\" if gpu_available else \"cpu_predictor\"\n",
    "print(f\"Using {'GPU' if gpu_available else 'CPU'}, tree_method={tree_method}, predictor={predictor}\")"
   ]
  },
  {
   "cell_type": "code",
   "execution_count": null,
   "metadata": {
    "_cell_guid": "72b75798-27dd-45ab-aaaf-e423e72709b1",
    "_uuid": "6e5daa73-08ad-4065-bed9-76c2b0d2d6e6",
    "collapsed": false,
    "jupyter": {
     "outputs_hidden": false
    },
    "trusted": true
   },
   "outputs": [],
   "source": [
    "# Early Stopping Training\n",
    "early_stopping_model = XGBClassifier(\n",
    "    **best_params,\n",
    "    objective=\"multi:softprob\",\n",
    "    num_class=len(np.unique(y_train)),\n",
    "    use_label_encoder=False,\n",
    "    eval_metric=[\"mlogloss\", \"merror\"],\n",
    "    tree_method=tree_method,\n",
    "    predictor=predictor,\n",
    "    seed=42,\n",
    "    n_estimators=100\n",
    ")\n",
    "\n",
    "early_stopping_model.fit(\n",
    "    X_train, y_train,\n",
    "    eval_set=[(X_val, y_val)],\n",
    "    early_stopping_rounds=10,\n",
    "    verbose=True\n",
    ")\n",
    "\n",
    "best_iteration = early_stopping_model.best_iteration\n",
    "print(f\"Best iteration: {best_iteration}\")\n",
    "results = early_stopping_model.evals_result_"
   ]
  },
  {
   "cell_type": "code",
   "execution_count": null,
   "metadata": {
    "_cell_guid": "3e28accb-5fc1-47a4-b864-d5e375c6e892",
    "_uuid": "e9dfab18-7364-4edc-a89c-e77747c56c96",
    "collapsed": false,
    "jupyter": {
     "outputs_hidden": false
    },
    "trusted": true
   },
   "outputs": [],
   "source": [
    "# Plot Validation Metrics\n",
    "plt.figure(figsize=(10, 6))\n",
    "plt.plot(results['validation_0']['mlogloss'], label='Validation Log Loss')\n",
    "plt.plot(results['validation_0']['merror'], label='Validation Error')\n",
    "plt.axvline(x=best_iteration, color='r', linestyle='--', label=f'Best Iteration ({best_iteration})')\n",
    "plt.xlabel('Iteration')\n",
    "plt.ylabel('Metric')\n",
    "plt.title('Validation Metrics')\n",
    "plt.legend()\n",
    "plt.grid(True)\n",
    "plt.tight_layout()\n",
    "plt.show()\n",
    "del early_stopping_model, results\n",
    "gc.collect()"
   ]
  },
  {
   "cell_type": "code",
   "execution_count": null,
   "metadata": {
    "_cell_guid": "2252d885-6ff0-480f-9a42-47421b579426",
    "_uuid": "2282d7c0-44ba-4add-bff3-8786c922436f",
    "collapsed": false,
    "jupyter": {
     "outputs_hidden": false
    },
    "trusted": true
   },
   "outputs": [],
   "source": [
    "# Train Final Model\n",
    "final_model = XGBClassifier(\n",
    "    **best_params,\n",
    "    objective=\"multi:softprob\",\n",
    "    num_class=len(np.unique(y_full)),\n",
    "    use_label_encoder=False,\n",
    "    eval_metric=\"mlogloss\",\n",
    "    tree_method=tree_method,\n",
    "    predictor=predictor,\n",
    "    seed=42,\n",
    "    n_estimators=best_iteration\n",
    ")\n",
    "\n",
    "final_model.fit(X_full, y_full, verbose=False)\n",
    "joblib.dump(final_model, MODEL_P)\n",
    "print(f\"Final model saved to: {MODEL_P}\")\n",
    "print(f\"Boosted rounds: {final_model.get_booster().num_boosted_rounds()}\")\n",
    "\n",
    "del X_full, y_full\n",
    "gc.collect()"
   ]
  },
  {
   "cell_type": "code",
   "execution_count": null,
   "metadata": {
    "_cell_guid": "bebccdc3-68df-46e2-8dfd-1fe22da71626",
    "_uuid": "005af992-b7d1-49ba-908f-c6cfe0f709e1",
    "collapsed": false,
    "jupyter": {
     "outputs_hidden": false
    },
    "trusted": true
   },
   "outputs": [],
   "source": [
    "# Ensemble Prediction\n",
    "batch_size = 1000\n",
    "xgb_probs = np.zeros((X_test.shape[0], len(np.unique(y_test))))\n",
    "for i in range(0, X_test.shape[0], batch_size):\n",
    "    end = min(i + batch_size, X_test.shape[0])\n",
    "    xgb_probs[i:end] = final_model.predict_proba(X_test[i:end])\n",
    "\n",
    "alpha = 0.6\n",
    "final_probs = alpha * test_probs + (1 - alpha) * xgb_probs\n",
    "y_pred = final_probs.argmax(axis=1)\n",
    "\n",
    "# Evaluation\n",
    "accuracy = accuracy_score(y_test, y_pred)\n",
    "f1 = f1_score(y_test, y_pred, average=\"weighted\")\n",
    "print(f\"Test Accuracy: {accuracy:.4f}\")\n",
    "print(f\"Test F1 Score (weighted): {f1:.4f}\")\n",
    "print(\"\\nClassification Report:\\n\", classification_report(y_test, y_pred, zero_division=0))"
   ]
  },
  {
   "cell_type": "code",
   "execution_count": null,
   "metadata": {},
   "outputs": [],
   "source": [
    "roc_auc = roc_auc_score(y_test, final_probs[:, 1])           \n",
    "print(f\"Test ROC AUC: {roc_auc:.4f}\")"
   ]
  },
  {
   "cell_type": "code",
   "execution_count": null,
   "metadata": {
    "_cell_guid": "8cfea28d-450e-43f1-8083-300002feab2e",
    "_uuid": "7fc6ef6e-2df7-4ac1-8a1e-6304a429fa17",
    "collapsed": false,
    "jupyter": {
     "outputs_hidden": false
    },
    "trusted": true
   },
   "outputs": [],
   "source": [
    "# Confusion Matrix\n",
    "cm = confusion_matrix(y_test, y_pred, labels=final_model.classes_)\n",
    "disp = ConfusionMatrixDisplay(cm, display_labels=final_model.classes_)\n",
    "disp.plot(cmap=plt.cm.Blues)\n",
    "plt.title(\"Confusion Matrix\")\n",
    "plt.tight_layout()\n",
    "plt.show()"
   ]
  }
 ],
 "metadata": {
  "kaggle": {
   "accelerator": "nvidiaTeslaT4",
   "dataSources": [
    {
     "sourceId": 246453326,
     "sourceType": "kernelVersion"
    },
    {
     "sourceId": 246461935,
     "sourceType": "kernelVersion"
    }
   ],
   "dockerImageVersionId": 31041,
   "isGpuEnabled": true,
   "isInternetEnabled": true,
   "language": "python",
   "sourceType": "notebook"
  },
  "kernelspec": {
   "display_name": "Python 3",
   "language": "python",
   "name": "python3"
  },
  "language_info": {
   "codemirror_mode": {
    "name": "ipython",
    "version": 3
   },
   "file_extension": ".py",
   "mimetype": "text/x-python",
   "name": "python",
   "nbconvert_exporter": "python",
   "pygments_lexer": "ipython3",
   "version": "3.11.11"
  }
 },
 "nbformat": 4,
 "nbformat_minor": 4
}
