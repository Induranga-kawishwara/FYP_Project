{
 "cells": [
  {
   "cell_type": "markdown",
   "metadata": {
    "_cell_guid": "ad5ffd64-e4da-462d-9ded-8922d165c5b5",
    "_uuid": "af2025ca-6634-4e0d-a6eb-3fe7845cf502",
    "collapsed": false,
    "jupyter": {
     "outputs_hidden": false
    },
    "trusted": true
   },
   "source": [
    "# 01 - Data Loading & Preprocessing"
   ]
  },
  {
   "cell_type": "code",
   "execution_count": null,
   "metadata": {
    "_cell_guid": "57989f86-2460-4032-8313-b2f8f157628e",
    "_uuid": "87d3576e-035c-45fa-a862-0b9e239db6da",
    "collapsed": false,
    "execution": {
     "iopub.execute_input": "2025-06-19T17:20:22.317330Z",
     "iopub.status.busy": "2025-06-19T17:20:22.316983Z",
     "iopub.status.idle": "2025-06-19T17:20:40.143872Z",
     "shell.execute_reply": "2025-06-19T17:20:40.142240Z",
     "shell.execute_reply.started": "2025-06-19T17:20:22.317279Z"
    },
    "jupyter": {
     "outputs_hidden": false
    },
    "trusted": true
   },
   "outputs": [],
   "source": [
    "# 1) Installs \n",
    "%pip install langdetect nltk afinn imbalanced-learn pandas scikit-learn joblib"
   ]
  },
  {
   "cell_type": "code",
   "execution_count": null,
   "metadata": {
    "_cell_guid": "e0f236d5-66de-4704-a2ea-06f2dafb1759",
    "_uuid": "67b529e5-5275-4f7e-943d-86125b48b8ba",
    "collapsed": false,
    "execution": {
     "iopub.execute_input": "2025-06-19T17:20:40.147189Z",
     "iopub.status.busy": "2025-06-19T17:20:40.146857Z",
     "iopub.status.idle": "2025-06-19T17:20:51.119448Z",
     "shell.execute_reply": "2025-06-19T17:20:51.118011Z",
     "shell.execute_reply.started": "2025-06-19T17:20:40.147157Z"
    },
    "jupyter": {
     "outputs_hidden": false
    },
    "trusted": true
   },
   "outputs": [],
   "source": [
    "# 2) Imports & reproducibility\n",
    "import os, random, json\n",
    "import numpy as np, pandas as pd, torch, joblib\n",
    "from langdetect import detect, DetectorFactory, LangDetectException\n",
    "from nltk.sentiment.vader import SentimentIntensityAnalyzer\n",
    "from afinn import Afinn\n",
    "import nltk\n",
    "from sklearn.model_selection import train_test_split\n",
    "from sklearn.feature_extraction.text import TfidfVectorizer\n",
    "from imblearn.over_sampling import SMOTE\n",
    "\n",
    "# Download any missing NLTK data\n",
    "nltk.download(\"vader_lexicon\")\n",
    "nltk.download(\"averaged_perceptron_tagger_eng\")\n",
    "\n",
    "# fix randomness\n",
    "RANDOM_SEED = 42\n",
    "np.random.seed(RANDOM_SEED)\n",
    "torch.manual_seed(RANDOM_SEED)\n",
    "random.seed(RANDOM_SEED)\n",
    "DetectorFactory.seed = RANDOM_SEED"
   ]
  },
  {
   "cell_type": "code",
   "execution_count": null,
   "metadata": {
    "_cell_guid": "525b83af-dd22-465a-a3f9-89c086e8fb55",
    "_uuid": "94708588-8a21-4360-9411-cd1fe4bd0fe9",
    "collapsed": false,
    "execution": {
     "iopub.execute_input": "2025-06-19T17:20:51.121474Z",
     "iopub.status.busy": "2025-06-19T17:20:51.120895Z",
     "iopub.status.idle": "2025-06-19T17:20:51.131249Z",
     "shell.execute_reply": "2025-06-19T17:20:51.129999Z",
     "shell.execute_reply.started": "2025-06-19T17:20:51.121447Z"
    },
    "jupyter": {
     "outputs_hidden": false
    },
    "trusted": true
   },
   "outputs": [],
   "source": [
    "# 3) Paths & meta-feature list\n",
    "BASE_DIR      = \"C:/Users/indur/OneDrive - University of Westminster/GitHub/FYP_Project/Models/Review_Score/OutPuts\"\n",
    "DATA_PATH     = \"C:/Users/indur/OneDrive - University of Westminster/GitHub/FYP_Project/Models/Review_Score/Dataset/correct_reviews_balanced.json\"\n",
    "TRAIN_PKL     = f\"{BASE_DIR}/train_df.pkl\"\n",
    "VAL_PKL       = f\"{BASE_DIR}/val_df.pkl\"\n",
    "TEST_PKL      = f\"{BASE_DIR}/test_df.pkl\"\n",
    "VECT_PKL      = f\"{BASE_DIR}/tfidf_vect.pkl\"\n",
    "\n",
    "META_FEATURES = [\"num_words\", \"num_exclaims\", \"num_questions\",\n",
    "                 \"vader_compound\", \"num_adjectives\", \"afinn_score\"]\n",
    "\n",
    "os.makedirs(BASE_DIR, exist_ok=True)"
   ]
  },
  {
   "cell_type": "code",
   "execution_count": null,
   "metadata": {
    "_cell_guid": "02b38339-8a46-4e98-85ad-7a47084dfd06",
    "_uuid": "c4342753-dfd4-4725-9b17-e94f58b60660",
    "collapsed": false,
    "execution": {
     "iopub.execute_input": "2025-06-19T17:20:51.132967Z",
     "iopub.status.busy": "2025-06-19T17:20:51.132420Z",
     "iopub.status.idle": "2025-06-19T17:20:52.831886Z",
     "shell.execute_reply": "2025-06-19T17:20:52.830815Z",
     "shell.execute_reply.started": "2025-06-19T17:20:51.132930Z"
    },
    "jupyter": {
     "outputs_hidden": false
    },
    "trusted": true
   },
   "outputs": [],
   "source": [
    "# 4) Load & flatten JSON\n",
    "with open(DATA_PATH, \"r\", encoding=\"utf-8\") as f:\n",
    "    payload = json.load(f)\n",
    "\n",
    "records = []\n",
    "for shop in payload:\n",
    "    for rev in shop.get(\"reviews\", []):\n",
    "        text = rev.get(\"text\", \"\").strip()\n",
    "        rating_str = rev.get(\"rating\", \"\").split()[0]\n",
    "        try:\n",
    "            rating = float(rating_str)\n",
    "        except ValueError:\n",
    "            continue\n",
    "        if text and 1 <= rating <= 5:\n",
    "            records.append({\n",
    "                \"text\": text,\n",
    "                \"label\": int(rating) - 1,\n",
    "                \"source\": rev.get(\"source\", \"UNK\").upper()\n",
    "            })\n",
    "\n",
    "df = pd.DataFrame(records).drop_duplicates(\"text\")\n",
    "print(f\"Raw rows: {len(df)}\")"
   ]
  },
  {
   "cell_type": "code",
   "execution_count": null,
   "metadata": {
    "_cell_guid": "6d8c3aa0-448b-4e2a-8bd2-9b381fda2bbd",
    "_uuid": "3b7719f6-29dd-4939-b3be-0666912c2078",
    "collapsed": false,
    "execution": {
     "iopub.execute_input": "2025-06-19T17:20:52.834110Z",
     "iopub.status.busy": "2025-06-19T17:20:52.833812Z"
    },
    "jupyter": {
     "outputs_hidden": false
    },
    "trusted": true
   },
   "outputs": [],
   "source": [
    "# 5) Filter non-English / too-short & compute meta-features\n",
    "sia = SentimentIntensityAnalyzer()\n",
    "af  = Afinn()\n",
    "\n",
    "def compute_meta(text):\n",
    "    tokens = text.split()\n",
    "    return {\n",
    "        \"num_words\":      len(tokens),\n",
    "        \"num_exclaims\":   text.count(\"!\"),\n",
    "        \"num_questions\":  text.count(\"?\"),\n",
    "        \"vader_compound\": sia.polarity_scores(text)[\"compound\"],\n",
    "        \"num_adjectives\": sum(tag.startswith(\"JJ\") for _, tag in nltk.pos_tag(tokens)),\n",
    "        \"afinn_score\":    af.score(text)\n",
    "    }\n",
    "\n",
    "def is_english_and_long_enough(text, min_words=5):\n",
    "    if not text or len(text.split()) < min_words:\n",
    "        return False\n",
    "    try:\n",
    "        return detect(text) == \"en\"\n",
    "    except LangDetectException:\n",
    "        return False\n",
    "\n",
    "mask = df.text.apply(is_english_and_long_enough)\n",
    "df   = df[mask].reset_index(drop=True)\n",
    "meta = pd.DataFrame(df.text.apply(compute_meta).tolist())\n",
    "df   = pd.concat([df, meta], axis=1)\n",
    "print(f\"After filtering: {len(df)}\")"
   ]
  },
  {
   "cell_type": "code",
   "execution_count": null,
   "metadata": {
    "_cell_guid": "b02014b5-3ded-43ea-affd-33d3eb5b7be3",
    "_uuid": "8266872c-a95f-4cc6-8104-a77ebd5e4fe2",
    "collapsed": false,
    "jupyter": {
     "outputs_hidden": false
    },
    "trusted": true
   },
   "outputs": [],
   "source": [
    "\n",
    "trainval_df, test_df = train_test_split(\n",
    "    df,\n",
    "    test_size=0.20,\n",
    "    stratify=df.label,\n",
    "    random_state=RANDOM_SEED\n",
    ")\n",
    "\n",
    "train_df, val_df = train_test_split(\n",
    "    trainval_df,\n",
    "    test_size=0.125,           \n",
    "    stratify=trainval_df.label,\n",
    "    random_state=RANDOM_SEED\n",
    ")\n",
    "\n",
    "print(f\"Train: {len(train_df)}, Val: {len(val_df)}, Test: {len(test_df)}\")"
   ]
  },
  {
   "cell_type": "code",
   "execution_count": null,
   "metadata": {
    "_cell_guid": "08e777fc-c9cd-414e-ac05-1357269216e8",
    "_uuid": "076ba746-53f0-4be4-a641-74f8ca6be57b",
    "collapsed": false,
    "jupyter": {
     "outputs_hidden": false
    },
    "trusted": true
   },
   "outputs": [],
   "source": [
    "# 7) Balance ONLY the training set via SMOTE\n",
    "vect = TfidfVectorizer(max_features=1000)\n",
    "X_train_text = vect.fit_transform(train_df.text).toarray()\n",
    "F_train      = np.hstack([X_train_text, train_df[META_FEATURES].values])\n",
    "\n",
    "sm    = SMOTE(random_state=RANDOM_SEED)\n",
    "F_res, y_res = sm.fit_resample(F_train, train_df.label)\n",
    "\n",
    "# Find, for each synthetic sample, its nearest original index\n",
    "idxs = []\n",
    "for i in range(len(y_res)):\n",
    "    if i < len(train_df):\n",
    "        idxs.append(i)\n",
    "    else:\n",
    "        # map to nearest neighbor in the original train set\n",
    "        dists = np.linalg.norm(F_train - F_res[i], axis=1)\n",
    "        idxs.append(int(np.argmin(dists)))\n",
    "\n",
    "train_df = train_df.iloc[idxs].reset_index(drop=True)\n",
    "print(f\"After SMOTE, Train: {len(train_df)} (balanced across {train_df.label.nunique()} classes)\")"
   ]
  },
  {
   "cell_type": "code",
   "execution_count": null,
   "metadata": {
    "_cell_guid": "422dec72-cb31-4215-b63f-c1bcccd0d31f",
    "_uuid": "397cedc4-2276-468b-9070-5d3cfccc6455",
    "collapsed": false,
    "jupyter": {
     "outputs_hidden": false
    },
    "trusted": true
   },
   "outputs": [],
   "source": [
    "# 8) Persist splits and vectorizer\n",
    "joblib.dump(train_df, TRAIN_PKL)\n",
    "joblib.dump(val_df,   VAL_PKL)\n",
    "joblib.dump(test_df,  TEST_PKL)\n",
    "joblib.dump(vect,     VECT_PKL)\n",
    "\n",
    "print(\"Saved train/val/test splits and TF-IDF vectorizer.\")"
   ]
  }
 ],
 "metadata": {
  "kaggle": {
   "accelerator": "none",
   "dataSources": [
    {
     "datasetId": 7554306,
     "sourceId": 12069189,
     "sourceType": "datasetVersion"
    }
   ],
   "dockerImageVersionId": 31040,
   "isGpuEnabled": false,
   "isInternetEnabled": true,
   "language": "python",
   "sourceType": "notebook"
  },
  "kernelspec": {
   "display_name": "Python 3",
   "language": "python",
   "name": "python3"
  },
  "language_info": {
   "codemirror_mode": {
    "name": "ipython",
    "version": 3
   },
   "file_extension": ".py",
   "mimetype": "text/x-python",
   "name": "python",
   "nbconvert_exporter": "python",
   "pygments_lexer": "ipython3",
   "version": "3.11.11"
  }
 },
 "nbformat": 4,
 "nbformat_minor": 4
}
