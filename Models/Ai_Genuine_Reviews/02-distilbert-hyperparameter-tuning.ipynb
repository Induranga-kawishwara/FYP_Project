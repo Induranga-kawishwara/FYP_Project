{
 "cells": [
  {
   "cell_type": "markdown",
   "metadata": {
    "_cell_guid": "ae58e6a2-724d-408b-90e2-215f22ac2249",
    "_uuid": "5512bf9e-56c6-494d-8dc8-ab994797cac9",
    "collapsed": false,
    "jupyter": {
     "outputs_hidden": false
    },
    "trusted": true
   },
   "source": [
    "# Hyperparameter Tuning for DistilBERT (30% Subset)"
   ]
  },
  {
   "cell_type": "code",
   "execution_count": null,
   "metadata": {
    "_cell_guid": "3d48c443-4945-49dc-87be-b87ba4777842",
    "_uuid": "4dc09585-9038-47e0-9673-cc74b7cf2bdf",
    "collapsed": false,
    "execution": {
     "iopub.execute_input": "2025-06-20T12:22:23.852726Z",
     "iopub.status.busy": "2025-06-20T12:22:23.852468Z",
     "iopub.status.idle": "2025-06-20T12:22:36.769937Z",
     "shell.execute_reply": "2025-06-20T12:22:36.768986Z",
     "shell.execute_reply.started": "2025-06-20T12:22:23.852704Z"
    },
    "jupyter": {
     "outputs_hidden": false
    },
    "trusted": true
   },
   "outputs": [],
   "source": [
    "# Install required packages\n",
    "%pip install --quiet --upgrade optuna transformers>=4.3.0"
   ]
  },
  {
   "cell_type": "markdown",
   "metadata": {
    "_cell_guid": "79491c01-2ecf-409d-8fd6-27392dc9943e",
    "_uuid": "7b97838c-95ea-49af-98cc-b3f56ebf0af9",
    "collapsed": false,
    "jupyter": {
     "outputs_hidden": false
    },
    "trusted": true
   },
   "source": [
    "## 1. Imports and Configuration"
   ]
  },
  {
   "cell_type": "code",
   "execution_count": null,
   "metadata": {
    "_cell_guid": "1766739a-1175-47ad-9449-457372283ea7",
    "_uuid": "d8dd04e1-2bbb-4320-885c-e726551b6365",
    "collapsed": false,
    "execution": {
     "iopub.execute_input": "2025-06-20T12:22:36.772182Z",
     "iopub.status.busy": "2025-06-20T12:22:36.771882Z",
     "iopub.status.idle": "2025-06-20T12:23:02.980406Z",
     "shell.execute_reply": "2025-06-20T12:23:02.979846Z",
     "shell.execute_reply.started": "2025-06-20T12:22:36.772159Z"
    },
    "jupyter": {
     "outputs_hidden": false
    },
    "trusted": true
   },
   "outputs": [],
   "source": [
    "import os\n",
    "import json\n",
    "import numpy as np\n",
    "import pandas as pd\n",
    "import torch\n",
    "import optuna\n",
    "\n",
    "from sklearn.metrics import accuracy_score, f1_score\n",
    "from transformers import (\n",
    "    DistilBertTokenizerFast,\n",
    "    DistilBertForSequenceClassification,\n",
    "    Trainer,\n",
    "    TrainingArguments,\n",
    "    DataCollatorWithPadding,\n",
    "    EarlyStoppingCallback,\n",
    ")\n",
    "from sklearn.model_selection import train_test_split\n",
    "\n",
    "# Reproducibility\n",
    "SEED = 42\n",
    "np.random.seed(SEED)\n",
    "torch.manual_seed(SEED)\n",
    "\n",
    "# Paths\n",
    "SPLITS_DIR = \"C:/Users/indur/OneDrive - University of Westminster/GitHub/FYP_Project/Models/Ai_Genuine_Reviews/FinalDataSet\"\n",
    "HPO_OUTPUT_DIR = \"C:/Users/indur/OneDrive - University of Westminster/GitHub/FYP_Project/Models/Ai_Genuine_Reviews/OutPuts\"\n",
    "os.makedirs(HPO_OUTPUT_DIR, exist_ok=True)\n",
    "\n",
    "# HPO settings\n",
    "MAX_LENGTH = 256\n",
    "N_TRIALS = 5\n",
    "PATIENCE = 3"
   ]
  },
  {
   "cell_type": "markdown",
   "metadata": {
    "_cell_guid": "9c09e98c-a571-439d-9fb6-23985a1d8bf9",
    "_uuid": "5e6793d8-7700-4237-9105-8b20dbfc83de",
    "collapsed": false,
    "jupyter": {
     "outputs_hidden": false
    },
    "trusted": true
   },
   "source": [
    "## 2. Load & Sample Data"
   ]
  },
  {
   "cell_type": "code",
   "execution_count": null,
   "metadata": {
    "_cell_guid": "cbd1b050-b496-4138-80a3-816143e415cd",
    "_uuid": "1233d802-57cb-4801-a120-de16839fd28c",
    "collapsed": false,
    "execution": {
     "iopub.execute_input": "2025-06-20T12:23:02.981690Z",
     "iopub.status.busy": "2025-06-20T12:23:02.981165Z",
     "iopub.status.idle": "2025-06-20T12:23:03.857515Z",
     "shell.execute_reply": "2025-06-20T12:23:03.856920Z",
     "shell.execute_reply.started": "2025-06-20T12:23:02.981669Z"
    },
    "jupyter": {
     "outputs_hidden": false
    },
    "trusted": true
   },
   "outputs": [],
   "source": [
    "# Load full splits\n",
    "train_df = pd.read_csv(os.path.join(SPLITS_DIR, \"train.csv\"))\n",
    "val_df = pd.read_csv(os.path.join(SPLITS_DIR, \"val.csv\"))\n",
    "\n",
    "# Stratified 30% sampling\n",
    "train_df, _ = train_test_split(\n",
    "    train_df,\n",
    "    train_size=0.3,\n",
    "    stratify=train_df.label,\n",
    "    random_state=SEED\n",
    ")\n",
    "val_df, _ = train_test_split(\n",
    "    val_df,\n",
    "    train_size=0.3,\n",
    "    stratify=val_df.label,\n",
    "    random_state=SEED\n",
    ")\n",
    "\n",
    "# Reset indices\n",
    "train_df = train_df.reset_index(drop=True)\n",
    "val_df = val_df.reset_index(drop=True)\n",
    "\n",
    "print(f\"Using {len(train_df)} train / {len(val_df)} val (stratified 30%)\")"
   ]
  },
  {
   "cell_type": "markdown",
   "metadata": {
    "_cell_guid": "8f15269c-b2e0-44b5-98c6-c1bb669b88f0",
    "_uuid": "9c654f71-9787-4263-92a1-ebea0c6e65df",
    "collapsed": false,
    "jupyter": {
     "outputs_hidden": false
    },
    "trusted": true
   },
   "source": [
    "## 3. Tokenizer"
   ]
  },
  {
   "cell_type": "code",
   "execution_count": null,
   "metadata": {
    "_cell_guid": "42f776c5-a293-4cf0-89e2-0e489d4c5fcc",
    "_uuid": "0e30cfa5-5ff3-4593-88ec-f37085358390",
    "collapsed": false,
    "execution": {
     "iopub.execute_input": "2025-06-20T12:23:03.858380Z",
     "iopub.status.busy": "2025-06-20T12:23:03.858179Z",
     "iopub.status.idle": "2025-06-20T12:23:04.608479Z",
     "shell.execute_reply": "2025-06-20T12:23:04.607930Z",
     "shell.execute_reply.started": "2025-06-20T12:23:03.858363Z"
    },
    "jupyter": {
     "outputs_hidden": false
    },
    "trusted": true
   },
   "outputs": [],
   "source": [
    "tokenizer = DistilBertTokenizerFast.from_pretrained(\"distilbert-base-uncased\")"
   ]
  },
  {
   "cell_type": "markdown",
   "metadata": {
    "_cell_guid": "f9901954-2d1a-4092-b685-e22f5a5ef0f0",
    "_uuid": "06c0045e-add9-4a02-96b1-129b718bcdda",
    "collapsed": false,
    "jupyter": {
     "outputs_hidden": false
    },
    "trusted": true
   },
   "source": [
    "## 4. Dataset Definition"
   ]
  },
  {
   "cell_type": "code",
   "execution_count": null,
   "metadata": {
    "_cell_guid": "9c80bc2d-b600-4ce3-921d-368da4e8098c",
    "_uuid": "2494bf3f-9f36-4067-abd6-ab95b13424d5",
    "collapsed": false,
    "execution": {
     "iopub.execute_input": "2025-06-20T12:23:04.610518Z",
     "iopub.status.busy": "2025-06-20T12:23:04.610305Z",
     "iopub.status.idle": "2025-06-20T12:23:08.491793Z",
     "shell.execute_reply": "2025-06-20T12:23:08.491236Z",
     "shell.execute_reply.started": "2025-06-20T12:23:04.610502Z"
    },
    "jupyter": {
     "outputs_hidden": false
    },
    "trusted": true
   },
   "outputs": [],
   "source": [
    "class ReviewDataset(torch.utils.data.Dataset):\n",
    "    def __init__(self, texts, labels, tokenizer):\n",
    "        enc = tokenizer(\n",
    "            texts.tolist(),\n",
    "            padding=\"max_length\",\n",
    "            truncation=True,\n",
    "            max_length=MAX_LENGTH,\n",
    "            return_tensors=\"pt\",\n",
    "        )\n",
    "        self.input_ids = enc.input_ids\n",
    "        self.attention_mask = enc.attention_mask\n",
    "        self.labels = torch.tensor(labels.values, dtype=torch.long)\n",
    "\n",
    "    def __len__(self):\n",
    "        return len(self.labels)\n",
    "\n",
    "    def __getitem__(self, idx):\n",
    "        return {\n",
    "            \"input_ids\": self.input_ids[idx],\n",
    "            \"attention_mask\": self.attention_mask[idx],\n",
    "            \"labels\": self.labels[idx],\n",
    "        }\n",
    "\n",
    "train_ds = ReviewDataset(train_df.clean_review, train_df.label, tokenizer)\n",
    "val_ds = ReviewDataset(val_df.clean_review, val_df.label, tokenizer)"
   ]
  },
  {
   "cell_type": "markdown",
   "metadata": {
    "_cell_guid": "f3586ea7-d221-490f-9ce7-743304ba7c26",
    "_uuid": "698d033b-ef4a-40e8-8ef9-c598b8d48d77",
    "collapsed": false,
    "jupyter": {
     "outputs_hidden": false
    },
    "trusted": true
   },
   "source": [
    "## 5. Metrics"
   ]
  },
  {
   "cell_type": "code",
   "execution_count": null,
   "metadata": {
    "_cell_guid": "1919dce5-10e8-4b89-b8b5-c998f72e82c9",
    "_uuid": "c577406d-e196-424e-aea7-8c3b01b72f93",
    "collapsed": false,
    "execution": {
     "iopub.execute_input": "2025-06-20T12:23:08.492645Z",
     "iopub.status.busy": "2025-06-20T12:23:08.492461Z",
     "iopub.status.idle": "2025-06-20T12:23:08.496795Z",
     "shell.execute_reply": "2025-06-20T12:23:08.496027Z",
     "shell.execute_reply.started": "2025-06-20T12:23:08.492631Z"
    },
    "jupyter": {
     "outputs_hidden": false
    },
    "trusted": true
   },
   "outputs": [],
   "source": [
    "def compute_metrics(eval_pred):\n",
    "    logits, labels = eval_pred\n",
    "    preds = np.argmax(logits, axis=-1)\n",
    "    return {\n",
    "        \"accuracy\": accuracy_score(labels, preds),\n",
    "        \"f1\": f1_score(labels, preds),\n",
    "    }"
   ]
  },
  {
   "cell_type": "markdown",
   "metadata": {
    "_cell_guid": "87d2dacd-c245-4642-9f48-d176f72d67bc",
    "_uuid": "69f5894b-cd9d-402e-a387-12f55344e0a9",
    "collapsed": false,
    "jupyter": {
     "outputs_hidden": false
    },
    "trusted": true
   },
   "source": [
    "## 6. Trainer Base Arguments"
   ]
  },
  {
   "cell_type": "code",
   "execution_count": null,
   "metadata": {
    "_cell_guid": "c4871b75-424d-4a70-b2c7-e185d3178f21",
    "_uuid": "e645718a-2dc7-4988-a3eb-9b180f18a456",
    "collapsed": false,
    "execution": {
     "iopub.execute_input": "2025-06-20T12:23:08.497769Z",
     "iopub.status.busy": "2025-06-20T12:23:08.497532Z",
     "iopub.status.idle": "2025-06-20T12:23:08.538461Z",
     "shell.execute_reply": "2025-06-20T12:23:08.538008Z",
     "shell.execute_reply.started": "2025-06-20T12:23:08.497753Z"
    },
    "jupyter": {
     "outputs_hidden": false
    },
    "trusted": true
   },
   "outputs": [],
   "source": [
    "base_args = TrainingArguments(\n",
    "    output_dir=HPO_OUTPUT_DIR,\n",
    "    do_train=True,\n",
    "    do_eval=True,\n",
    "    eval_strategy=\"epoch\",\n",
    "    save_strategy=\"no\",            \n",
    "    per_device_eval_batch_size=32,\n",
    "    fp16=torch.cuda.is_available(),\n",
    "    num_train_epochs = 10,\n",
    "    seed=SEED,\n",
    "    report_to=\"none\",\n",
    "    metric_for_best_model=\"f1\",    \n",
    "    greater_is_better=True,        \n",
    "    load_best_model_at_end=False,  \n",
    ")"
   ]
  },
  {
   "cell_type": "markdown",
   "metadata": {
    "_cell_guid": "153c2154-1d67-43e5-8151-6b0d7ee20050",
    "_uuid": "2ab16349-2d14-4006-8161-31f2b413287a",
    "collapsed": false,
    "jupyter": {
     "outputs_hidden": false
    },
    "trusted": true
   },
   "source": [
    "## 7. Model Initialization"
   ]
  },
  {
   "cell_type": "code",
   "execution_count": null,
   "metadata": {
    "_cell_guid": "c0aa5e68-7762-4ef9-b5cb-2b25024e1595",
    "_uuid": "7182b326-7aaf-4eb0-8c7d-24e26a39828e",
    "collapsed": false,
    "execution": {
     "iopub.execute_input": "2025-06-20T12:23:08.539305Z",
     "iopub.status.busy": "2025-06-20T12:23:08.539055Z",
     "iopub.status.idle": "2025-06-20T12:23:08.543199Z",
     "shell.execute_reply": "2025-06-20T12:23:08.542445Z",
     "shell.execute_reply.started": "2025-06-20T12:23:08.539280Z"
    },
    "jupyter": {
     "outputs_hidden": false
    },
    "trusted": true
   },
   "outputs": [],
   "source": [
    "def model_init():\n",
    "    return DistilBertForSequenceClassification.from_pretrained(\n",
    "        \"distilbert-base-uncased\",\n",
    "        num_labels=2\n",
    "    )"
   ]
  },
  {
   "cell_type": "markdown",
   "metadata": {
    "_cell_guid": "ba1022aa-7a7e-4e5e-ba71-e7419f4cf6c2",
    "_uuid": "3021712e-fd19-4394-a4b8-652a6005b546",
    "collapsed": false,
    "jupyter": {
     "outputs_hidden": false
    },
    "trusted": true
   },
   "source": [
    "## 8. Hyperparameter Search Space"
   ]
  },
  {
   "cell_type": "code",
   "execution_count": null,
   "metadata": {
    "_cell_guid": "35a295ad-4ddd-4e51-8861-df235d2bada9",
    "_uuid": "bd924d30-959f-4334-b25a-77652eb30675",
    "collapsed": false,
    "execution": {
     "iopub.execute_input": "2025-06-20T12:23:08.544325Z",
     "iopub.status.busy": "2025-06-20T12:23:08.544069Z",
     "iopub.status.idle": "2025-06-20T12:23:08.555661Z",
     "shell.execute_reply": "2025-06-20T12:23:08.554942Z",
     "shell.execute_reply.started": "2025-06-20T12:23:08.544305Z"
    },
    "jupyter": {
     "outputs_hidden": false
    },
    "trusted": true
   },
   "outputs": [],
   "source": [
    "def hp_space(trial):\n",
    "    return {\n",
    "        \"learning_rate\": trial.suggest_float(\"learning_rate\", 1e-6, 1e-4, log=True),\n",
    "        \"per_device_train_batch_size\": trial.suggest_categorical(\"per_device_train_batch_size\", [8, 16, 32]),\n",
    "        \"weight_decay\": trial.suggest_float(\"weight_decay\", 0.0, 0.3), \n",
    "        \"warmup_steps\": trial.suggest_int(\"warmup_steps\", 0, 500),     \n",
    "    }"
   ]
  },
  {
   "cell_type": "markdown",
   "metadata": {
    "_cell_guid": "ff14b78c-29b4-4129-bfce-e7a4632daed4",
    "_uuid": "5520a101-6362-4ae6-b6f4-3ecce96840eb",
    "collapsed": false,
    "jupyter": {
     "outputs_hidden": false
    },
    "trusted": true
   },
   "source": [
    "## 9. Initialize Trainer"
   ]
  },
  {
   "cell_type": "code",
   "execution_count": null,
   "metadata": {
    "_cell_guid": "656e605e-4651-49aa-984d-a32c9164af7e",
    "_uuid": "15eb94e4-7cad-43a5-b319-3f38519e9914",
    "collapsed": false,
    "execution": {
     "iopub.execute_input": "2025-06-20T12:23:08.556618Z",
     "iopub.status.busy": "2025-06-20T12:23:08.556383Z",
     "iopub.status.idle": "2025-06-20T12:23:11.533260Z",
     "shell.execute_reply": "2025-06-20T12:23:11.532703Z",
     "shell.execute_reply.started": "2025-06-20T12:23:08.556598Z"
    },
    "jupyter": {
     "outputs_hidden": false
    },
    "trusted": true
   },
   "outputs": [],
   "source": [
    "trainer = Trainer(\n",
    "    model_init=model_init,\n",
    "    args=base_args,\n",
    "    train_dataset=train_ds,\n",
    "    eval_dataset=val_ds,\n",
    "    tokenizer=tokenizer,\n",
    "    data_collator=DataCollatorWithPadding(tokenizer),\n",
    "    compute_metrics=compute_metrics,\n",
    "    callbacks=[EarlyStoppingCallback(early_stopping_patience=PATIENCE)],\n",
    ")"
   ]
  },
  {
   "cell_type": "markdown",
   "metadata": {
    "_cell_guid": "85e9ed62-2357-40bc-b324-af84cee082fa",
    "_uuid": "c25a74e0-7633-4de5-96ac-a707f12ad527",
    "collapsed": false,
    "jupyter": {
     "outputs_hidden": false
    },
    "trusted": true
   },
   "source": [
    "## 10. Run Hyperparameter Search"
   ]
  },
  {
   "cell_type": "code",
   "execution_count": null,
   "metadata": {
    "_cell_guid": "d3f7f1c8-5fa6-4bdc-afae-6e669d62ea80",
    "_uuid": "def5a119-e7e0-4d9b-baa2-efd7a458432b",
    "collapsed": false,
    "execution": {
     "iopub.execute_input": "2025-06-20T12:23:11.534167Z",
     "iopub.status.busy": "2025-06-20T12:23:11.533922Z"
    },
    "jupyter": {
     "outputs_hidden": false
    },
    "trusted": true
   },
   "outputs": [],
   "source": [
    "best_run = trainer.hyperparameter_search(\n",
    "    hp_space=hp_space,\n",
    "    direction=\"maximize\",\n",
    "    backend=\"optuna\",\n",
    "    n_trials=N_TRIALS,\n",
    "    compute_objective=lambda metrics: metrics[\"eval_f1\"],\n",
    ")"
   ]
  },
  {
   "cell_type": "markdown",
   "metadata": {
    "_cell_guid": "4b9080fb-68fc-40e2-885b-20aa803ee9b5",
    "_uuid": "f5b08112-f80c-422c-a17b-332941f780a4",
    "collapsed": false,
    "jupyter": {
     "outputs_hidden": false
    },
    "trusted": true
   },
   "source": [
    "## 11. Save Best Parameters"
   ]
  },
  {
   "cell_type": "code",
   "execution_count": null,
   "metadata": {
    "_cell_guid": "9cdb6fea-a466-489a-9501-e51db800ae07",
    "_uuid": "7ef95b9a-f615-4c66-af29-dca4a65c5968",
    "collapsed": false,
    "jupyter": {
     "outputs_hidden": false
    },
    "trusted": true
   },
   "outputs": [],
   "source": [
    "print(\"Best hyperparameters:\", best_run.hyperparameters)\n",
    "with open(os.path.join(HPO_OUTPUT_DIR, \"best_params.json\"), \"w\") as f:\n",
    "    json.dump(best_run.hyperparameters, f, indent=2)"
   ]
  }
 ],
 "metadata": {
  "kaggle": {
   "accelerator": "none",
   "dataSources": [],
   "dockerImageVersionId": 31041,
   "isGpuEnabled": false,
   "isInternetEnabled": true,
   "language": "python",
   "sourceType": "notebook"
  },
  "kernelspec": {
   "display_name": "Python 3",
   "language": "python",
   "name": "python3"
  },
  "language_info": {
   "codemirror_mode": {
    "name": "ipython",
    "version": 3
   },
   "file_extension": ".py",
   "mimetype": "text/x-python",
   "name": "python",
   "nbconvert_exporter": "python",
   "pygments_lexer": "ipython3",
   "version": "3.11.11"
  }
 },
 "nbformat": 4,
 "nbformat_minor": 4
}
